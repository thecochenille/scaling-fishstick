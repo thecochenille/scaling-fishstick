{
 "cells": [
  {
   "cell_type": "markdown",
   "metadata": {},
   "source": [
    "# Sparkify Project Workspace\n",
    "This workspace contains a tiny subset (128MB) of the full dataset available (12GB). Feel free to use this workspace to build your project, or to explore a smaller subset with Spark before deploying your cluster on the cloud. Instructions for setting up your Spark cluster is included in the last lesson of the Extracurricular Spark Course content.\n",
    "\n",
    "You can follow the steps below to guide your data analysis and model building portion of this project."
   ]
  },
  {
   "cell_type": "code",
   "execution_count": 1,
   "metadata": {},
   "outputs": [],
   "source": [
    "# import libraries\n",
    "import pyspark\n",
    "from pyspark import SparkConf\n",
    "from pyspark.sql import SparkSession\n",
    "\n",
    "from pyspark.sql.types import StringType\n",
    "from pyspark.sql.types import IntegerType\n",
    "from pyspark.sql.types import TimestampType\n",
    "\n",
    "\n",
    "from pyspark.sql.functions import isnan, count, when, col, desc, udf, col, sort_array, asc, desc, countDistinct, first\n",
    "from pyspark.sql.functions import udf, trim,expr\n",
    "from pyspark.sql.functions import to_date, year, month, dayofmonth, dayofweek, hour, date_format, substring,datediff\n",
    "from pyspark.sql.functions import sum as spark_sum, avg as spark_avg\n",
    "\n",
    "\n",
    "\n",
    "import datetime\n",
    "\n",
    "import numpy as np\n",
    "import pandas as pd\n",
    "%matplotlib inline\n",
    "import matplotlib.pyplot as plt\n",
    "import seaborn as sns\n"
   ]
  },
  {
   "cell_type": "code",
   "execution_count": 2,
   "metadata": {},
   "outputs": [],
   "source": [
    "# create a Spark session\n",
    "spark = SparkSession \\\n",
    "    .builder \\\n",
    "    .appName(\"Sparkify Data Exploration\") \\\n",
    "    .getOrCreate()"
   ]
  },
  {
   "cell_type": "code",
   "execution_count": 3,
   "metadata": {},
   "outputs": [
    {
     "data": {
      "text/plain": [
       "[('spark.driver.port', '46307'),\n",
       " ('spark.rdd.compress', 'True'),\n",
       " ('spark.serializer.objectStreamReset', '100'),\n",
       " ('spark.driver.host',\n",
       "  '5863f353be737fc38d9029e58da34b2002b1ee70-65ff8bd67b-znxcq'),\n",
       " ('spark.master', 'local[*]'),\n",
       " ('spark.executor.id', 'driver'),\n",
       " ('spark.app.name', 'Sparkify Data Exploration'),\n",
       " ('spark.submit.deployMode', 'client'),\n",
       " ('spark.app.id', 'local-1701295677884'),\n",
       " ('spark.ui.showConsoleProgress', 'true')]"
      ]
     },
     "execution_count": 3,
     "metadata": {},
     "output_type": "execute_result"
    }
   ],
   "source": [
    "spark.sparkContext.getConf().getAll()"
   ]
  },
  {
   "cell_type": "code",
   "execution_count": 4,
   "metadata": {},
   "outputs": [
    {
     "data": {
      "text/html": [
       "\n",
       "            <div>\n",
       "                <p><b>SparkSession - in-memory</b></p>\n",
       "                \n",
       "        <div>\n",
       "            <p><b>SparkContext</b></p>\n",
       "\n",
       "            <p><a href=\"http://5863f353be737fc38d9029e58da34b2002b1ee70-65ff8bd67b-znxcq:4040\">Spark UI</a></p>\n",
       "\n",
       "            <dl>\n",
       "              <dt>Version</dt>\n",
       "                <dd><code>v2.4.3</code></dd>\n",
       "              <dt>Master</dt>\n",
       "                <dd><code>local[*]</code></dd>\n",
       "              <dt>AppName</dt>\n",
       "                <dd><code>Sparkify Data Exploration</code></dd>\n",
       "            </dl>\n",
       "        </div>\n",
       "        \n",
       "            </div>\n",
       "        "
      ],
      "text/plain": [
       "<pyspark.sql.session.SparkSession at 0x7f9247630400>"
      ]
     },
     "execution_count": 4,
     "metadata": {},
     "output_type": "execute_result"
    }
   ],
   "source": [
    "spark"
   ]
  },
  {
   "cell_type": "markdown",
   "metadata": {},
   "source": [
    "# Load and Clean Dataset\n",
    "In this workspace, the mini-dataset file is `mini_sparkify_event_data.json`. Load and clean the dataset, checking for invalid or missing data - for example, records without userids or sessionids. "
   ]
  },
  {
   "cell_type": "code",
   "execution_count": 5,
   "metadata": {},
   "outputs": [],
   "source": [
    "path = \"mini_sparkify_event_data.json\"\n",
    "user_log = spark.read.json(path)"
   ]
  },
  {
   "cell_type": "code",
   "execution_count": 6,
   "metadata": {},
   "outputs": [
    {
     "name": "stdout",
     "output_type": "stream",
     "text": [
      "root\n",
      " |-- artist: string (nullable = true)\n",
      " |-- auth: string (nullable = true)\n",
      " |-- firstName: string (nullable = true)\n",
      " |-- gender: string (nullable = true)\n",
      " |-- itemInSession: long (nullable = true)\n",
      " |-- lastName: string (nullable = true)\n",
      " |-- length: double (nullable = true)\n",
      " |-- level: string (nullable = true)\n",
      " |-- location: string (nullable = true)\n",
      " |-- method: string (nullable = true)\n",
      " |-- page: string (nullable = true)\n",
      " |-- registration: long (nullable = true)\n",
      " |-- sessionId: long (nullable = true)\n",
      " |-- song: string (nullable = true)\n",
      " |-- status: long (nullable = true)\n",
      " |-- ts: long (nullable = true)\n",
      " |-- userAgent: string (nullable = true)\n",
      " |-- userId: string (nullable = true)\n",
      "\n"
     ]
    }
   ],
   "source": [
    "# printing out header\n",
    "user_log.printSchema()"
   ]
  },
  {
   "cell_type": "code",
   "execution_count": 7,
   "metadata": {},
   "outputs": [
    {
     "data": {
      "text/plain": [
       "[Row(artist='Martha Tilston', auth='Logged In', firstName='Colin', gender='M', itemInSession=50, lastName='Freeman', length=277.89016, level='paid', location='Bakersfield, CA', method='PUT', page='NextSong', registration=1538173362000, sessionId=29, song='Rockpools', status=200, ts=1538352117000, userAgent='Mozilla/5.0 (Windows NT 6.1; WOW64; rv:31.0) Gecko/20100101 Firefox/31.0', userId='30')]"
      ]
     },
     "execution_count": 7,
     "metadata": {},
     "output_type": "execute_result"
    }
   ],
   "source": [
    "# print out the first record\n",
    "user_log.take(1)"
   ]
  },
  {
   "cell_type": "markdown",
   "metadata": {},
   "source": [
    "It looks like one row is a record of a song played, so we have the artist name and the song name, as well as the length of the session. "
   ]
  },
  {
   "cell_type": "code",
   "execution_count": 8,
   "metadata": {},
   "outputs": [],
   "source": [
    "#user_log.filter(col(\"page\") == \"Cancel\").take(1)"
   ]
  },
  {
   "cell_type": "markdown",
   "metadata": {},
   "source": [
    "When the user is in a page without song playing, length it None, so length correspond to the length of the song played."
   ]
  },
  {
   "cell_type": "markdown",
   "metadata": {},
   "source": [
    "## Missing data and invalid data"
   ]
  },
  {
   "cell_type": "markdown",
   "metadata": {},
   "source": [
    "We will start exploring the data using SQL, so we need to create a temporary view."
   ]
  },
  {
   "cell_type": "code",
   "execution_count": 9,
   "metadata": {},
   "outputs": [
    {
     "name": "stdout",
     "output_type": "stream",
     "text": [
      "+-------------+---------+-------+\n",
      "|     col_name|data_type|comment|\n",
      "+-------------+---------+-------+\n",
      "|       artist|   string|   null|\n",
      "|         auth|   string|   null|\n",
      "|    firstName|   string|   null|\n",
      "|       gender|   string|   null|\n",
      "|itemInSession|   bigint|   null|\n",
      "|     lastName|   string|   null|\n",
      "|       length|   double|   null|\n",
      "|        level|   string|   null|\n",
      "|     location|   string|   null|\n",
      "|       method|   string|   null|\n",
      "|         page|   string|   null|\n",
      "| registration|   bigint|   null|\n",
      "|    sessionId|   bigint|   null|\n",
      "|         song|   string|   null|\n",
      "|       status|   bigint|   null|\n",
      "|           ts|   bigint|   null|\n",
      "|    userAgent|   string|   null|\n",
      "|       userId|   string|   null|\n",
      "+-------------+---------+-------+\n",
      "\n"
     ]
    }
   ],
   "source": [
    "user_log.createOrReplaceTempView(\"user_log_table\")\n",
    "spark.sql('DESC user_log_table\\\n",
    "          ').show()"
   ]
  },
  {
   "cell_type": "markdown",
   "metadata": {},
   "source": [
    "As suggested let's see if userId has any missing data or sessionId"
   ]
  },
  {
   "cell_type": "code",
   "execution_count": 10,
   "metadata": {},
   "outputs": [
    {
     "name": "stdout",
     "output_type": "stream",
     "text": [
      "+------+----+---------+------+-------------+--------+------+-----+--------+------+----+------------+---------+----+------+---+---------+------+\n",
      "|artist|auth|firstName|gender|itemInSession|lastName|length|level|location|method|page|registration|sessionId|song|status| ts|userAgent|userId|\n",
      "+------+----+---------+------+-------------+--------+------+-----+--------+------+----+------------+---------+----+------+---+---------+------+\n",
      "+------+----+---------+------+-------------+--------+------+-----+--------+------+----+------------+---------+----+------+---+---------+------+\n",
      "\n"
     ]
    }
   ],
   "source": [
    "### Missing or invalid data in userids or sessionid\n",
    "spark.sql('SELECT * \\\n",
    "           FROM user_log_table \\\n",
    "           WHERE userId IS NULL \\\n",
    "            ').show()"
   ]
  },
  {
   "cell_type": "code",
   "execution_count": 11,
   "metadata": {},
   "outputs": [
    {
     "name": "stdout",
     "output_type": "stream",
     "text": [
      "+------+----+---------+------+-------------+--------+------+-----+--------+------+----+------------+---------+----+------+---+---------+------+\n",
      "|artist|auth|firstName|gender|itemInSession|lastName|length|level|location|method|page|registration|sessionId|song|status| ts|userAgent|userId|\n",
      "+------+----+---------+------+-------------+--------+------+-----+--------+------+----+------------+---------+----+------+---+---------+------+\n",
      "+------+----+---------+------+-------------+--------+------+-----+--------+------+----+------------+---------+----+------+---+---------+------+\n",
      "\n"
     ]
    }
   ],
   "source": [
    "spark.sql('SELECT * \\\n",
    "           FROM user_log_table \\\n",
    "           WHERE sessionId IS NULL \\\n",
    "            ').show()"
   ]
  },
  {
   "cell_type": "markdown",
   "metadata": {},
   "source": [
    "There is no null values for both userId or sessionId. Maybe missing data is coded differently. Let's look at the userId list."
   ]
  },
  {
   "cell_type": "code",
   "execution_count": 12,
   "metadata": {},
   "outputs": [
    {
     "name": "stdout",
     "output_type": "stream",
     "text": [
      "+------+\n",
      "|userId|\n",
      "+------+\n",
      "|      |\n",
      "|    10|\n",
      "|   100|\n",
      "|100001|\n",
      "|100002|\n",
      "|100003|\n",
      "|100004|\n",
      "|100005|\n",
      "|100006|\n",
      "|100007|\n",
      "|100008|\n",
      "|100009|\n",
      "|100010|\n",
      "|100011|\n",
      "|100012|\n",
      "|100013|\n",
      "|100014|\n",
      "|100015|\n",
      "|100016|\n",
      "|100017|\n",
      "+------+\n",
      "only showing top 20 rows\n",
      "\n"
     ]
    }
   ],
   "source": [
    "spark.sql('SELECT DISTINCT userId \\\n",
    "           FROM user_log_table \\\n",
    "           ORDER BY userId \\\n",
    "            ').show()"
   ]
  },
  {
   "cell_type": "code",
   "execution_count": 13,
   "metadata": {},
   "outputs": [
    {
     "name": "stdout",
     "output_type": "stream",
     "text": [
      "+---------+\n",
      "|sessionId|\n",
      "+---------+\n",
      "|        1|\n",
      "|        2|\n",
      "|        3|\n",
      "|        4|\n",
      "|        5|\n",
      "|        6|\n",
      "|        7|\n",
      "|        8|\n",
      "|        9|\n",
      "|       10|\n",
      "|       11|\n",
      "|       12|\n",
      "|       13|\n",
      "|       15|\n",
      "|       16|\n",
      "|       17|\n",
      "|       18|\n",
      "|       19|\n",
      "|       20|\n",
      "|       21|\n",
      "+---------+\n",
      "only showing top 20 rows\n",
      "\n"
     ]
    }
   ],
   "source": [
    "spark.sql('SELECT DISTINCT sessionId \\\n",
    "           FROM user_log_table \\\n",
    "           ORDER BY sessionId \\\n",
    "            ').show()"
   ]
  },
  {
   "cell_type": "markdown",
   "metadata": {},
   "source": [
    "There are userids that have empty strings. Who are these users?\n",
    "Since we don't know if this is the same user or multiple users, we are going to remove all userid with empty strings. We know that in auth, there is a guest value, let's check if the empty string userid are those who are guest so they did not register to the platform."
   ]
  },
  {
   "cell_type": "code",
   "execution_count": 14,
   "metadata": {},
   "outputs": [
    {
     "name": "stdout",
     "output_type": "stream",
     "text": [
      "+-----------------------+\n",
      "|empty_strings_in_userid|\n",
      "+-----------------------+\n",
      "|                   8346|\n",
      "+-----------------------+\n",
      "\n"
     ]
    }
   ],
   "source": [
    "spark.sql('SELECT COUNT(userId) AS empty_strings_in_userid \\\n",
    "           FROM user_log_table \\\n",
    "           WHERE userId = \"\" \\\n",
    "            ').show()"
   ]
  },
  {
   "cell_type": "code",
   "execution_count": 15,
   "metadata": {},
   "outputs": [
    {
     "name": "stdout",
     "output_type": "stream",
     "text": [
      "+----------+\n",
      "|      auth|\n",
      "+----------+\n",
      "|Logged Out|\n",
      "|     Guest|\n",
      "+----------+\n",
      "\n"
     ]
    }
   ],
   "source": [
    "spark.sql('SELECT DISTINCT auth\\\n",
    "           FROM user_log_table \\\n",
    "           WHERE userId = \"\" \\\n",
    "          ').show()"
   ]
  },
  {
   "cell_type": "markdown",
   "metadata": {},
   "source": [
    "We see that both logged out and guests do not have a userId, so it makes sense to remove them, since we cannot associated them with any user."
   ]
  },
  {
   "cell_type": "code",
   "execution_count": 16,
   "metadata": {},
   "outputs": [],
   "source": [
    "#filtering out rows with '' for userId\n",
    "condition = user_log.userId != ''\n",
    "user_log_filtered= user_log.filter(condition)"
   ]
  },
  {
   "cell_type": "code",
   "execution_count": 17,
   "metadata": {},
   "outputs": [],
   "source": [
    "#rebuild database view\n",
    "user_log_filtered.createOrReplaceTempView(\"user_log_table_filtered\")\n"
   ]
  },
  {
   "cell_type": "code",
   "execution_count": 18,
   "metadata": {
    "scrolled": true
   },
   "outputs": [
    {
     "name": "stdout",
     "output_type": "stream",
     "text": [
      "+---------------------------+\n",
      "|num_records_after_filtering|\n",
      "+---------------------------+\n",
      "|                     278154|\n",
      "+---------------------------+\n",
      "\n"
     ]
    }
   ],
   "source": [
    "spark.sql('SELECT COUNT(*) num_records_after_filtering\\\n",
    "           FROM user_log_table_filtered\\\n",
    "           ').show()"
   ]
  },
  {
   "cell_type": "code",
   "execution_count": 19,
   "metadata": {},
   "outputs": [
    {
     "name": "stdout",
     "output_type": "stream",
     "text": [
      "+------------+\n",
      "|userId_count|\n",
      "+------------+\n",
      "|         225|\n",
      "+------------+\n",
      "\n"
     ]
    }
   ],
   "source": [
    "spark.sql('SELECT COUNT(DISTINCT userId) AS userId_count\\\n",
    "           FROM user_log_table_filtered\\\n",
    "           ').show()"
   ]
  },
  {
   "cell_type": "markdown",
   "metadata": {},
   "source": [
    "We have 278154 remaining records and 225 users. (which makes sense since userid with empty strings counted as 1)."
   ]
  },
  {
   "cell_type": "markdown",
   "metadata": {},
   "source": [
    "Let's continue with the user_log_filtered df"
   ]
  },
  {
   "cell_type": "code",
   "execution_count": null,
   "metadata": {},
   "outputs": [],
   "source": []
  },
  {
   "cell_type": "code",
   "execution_count": 20,
   "metadata": {},
   "outputs": [
    {
     "name": "stdout",
     "output_type": "stream",
     "text": [
      "+--------------------+-------------+\n",
      "|                page|number_visits|\n",
      "+--------------------+-------------+\n",
      "|               About|          495|\n",
      "|          Add Friend|         4277|\n",
      "|     Add to Playlist|         6526|\n",
      "|              Cancel|           52|\n",
      "|Cancellation Conf...|           52|\n",
      "|           Downgrade|         2055|\n",
      "|               Error|          252|\n",
      "|                Help|         1454|\n",
      "|                Home|        10082|\n",
      "|              Logout|         3226|\n",
      "|            NextSong|       228108|\n",
      "|         Roll Advert|         3933|\n",
      "|       Save Settings|          310|\n",
      "|            Settings|         1514|\n",
      "|    Submit Downgrade|           63|\n",
      "|      Submit Upgrade|          159|\n",
      "|         Thumbs Down|         2546|\n",
      "|           Thumbs Up|        12551|\n",
      "|             Upgrade|          499|\n",
      "+--------------------+-------------+\n",
      "\n"
     ]
    }
   ],
   "source": [
    "spark.sql('SELECT page, COUNT(*) AS number_visits\\\n",
    "            FROM user_log_table_filtered\\\n",
    "            GROUP BY page\\\n",
    "            ORDER BY page').show()"
   ]
  },
  {
   "cell_type": "code",
   "execution_count": null,
   "metadata": {},
   "outputs": [],
   "source": []
  },
  {
   "cell_type": "code",
   "execution_count": 21,
   "metadata": {
    "scrolled": true
   },
   "outputs": [
    {
     "name": "stdout",
     "output_type": "stream",
     "text": [
      "+---------+-----+\n",
      "|     auth|count|\n",
      "+---------+-----+\n",
      "|Cancelled|   52|\n",
      "|Logged In|  225|\n",
      "+---------+-----+\n",
      "\n"
     ]
    }
   ],
   "source": [
    "#checking unique values in auth\n",
    "spark.sql('SELECT DISTINCT auth, COUNT (DISTINCT userId) AS count\\\n",
    "            FROM user_log_table_filtered \\\n",
    "            GROUP BY auth\\\n",
    "            ').show()\n",
    "#auth show the status of the user when they are using the platform\n",
    "#NB: check the number of unique users using the platform as cancelled and see if it matched with churn users"
   ]
  },
  {
   "cell_type": "markdown",
   "metadata": {},
   "source": [
    "This look right, there are a total of 225 unique users who at some point had auth= logged in and the 52 users among these who cancelled.\n",
    "Since this will represent churn too, I will drop auth."
   ]
  },
  {
   "cell_type": "code",
   "execution_count": 22,
   "metadata": {},
   "outputs": [
    {
     "name": "stdout",
     "output_type": "stream",
     "text": [
      "+------+\n",
      "|status|\n",
      "+------+\n",
      "|   307|\n",
      "|   404|\n",
      "|   200|\n",
      "+------+\n",
      "\n"
     ]
    }
   ],
   "source": [
    "#checking unique values in status\n",
    "spark.sql('SELECT DISTINCT status\\\n",
    "            FROM user_log_table_filtered\\\n",
    "            ').show()\n"
   ]
  },
  {
   "cell_type": "code",
   "execution_count": 23,
   "metadata": {},
   "outputs": [
    {
     "name": "stdout",
     "output_type": "stream",
     "text": [
      "+------+\n",
      "|method|\n",
      "+------+\n",
      "|   PUT|\n",
      "|   GET|\n",
      "+------+\n",
      "\n"
     ]
    }
   ],
   "source": [
    "#checking unique values in method\n",
    "spark.sql('SELECT DISTINCT method\\\n",
    "            FROM user_log_table_filtered\\\n",
    "            ').show()\n"
   ]
  },
  {
   "cell_type": "code",
   "execution_count": 24,
   "metadata": {},
   "outputs": [
    {
     "name": "stdout",
     "output_type": "stream",
     "text": [
      "+--------------------+\n",
      "|                page|\n",
      "+--------------------+\n",
      "|              Cancel|\n",
      "|    Submit Downgrade|\n",
      "|         Thumbs Down|\n",
      "|                Home|\n",
      "|           Downgrade|\n",
      "|         Roll Advert|\n",
      "|              Logout|\n",
      "|       Save Settings|\n",
      "|Cancellation Conf...|\n",
      "|               About|\n",
      "|            Settings|\n",
      "|     Add to Playlist|\n",
      "|          Add Friend|\n",
      "|            NextSong|\n",
      "|           Thumbs Up|\n",
      "|                Help|\n",
      "|             Upgrade|\n",
      "|               Error|\n",
      "|      Submit Upgrade|\n",
      "+--------------------+\n",
      "\n"
     ]
    }
   ],
   "source": [
    "spark.sql('SELECT DISTINCT page\\\n",
    "          FROM user_log_table_filtered').show()"
   ]
  },
  {
   "cell_type": "code",
   "execution_count": 25,
   "metadata": {},
   "outputs": [
    {
     "name": "stdout",
     "output_type": "stream",
     "text": [
      "+-----------+\n",
      "|number_rows|\n",
      "+-----------+\n",
      "|     278154|\n",
      "+-----------+\n",
      "\n"
     ]
    }
   ],
   "source": [
    "#How many records does the dataset have?\n",
    "spark.sql('SELECT COUNT(*) AS number_rows\\\n",
    "            FROM user_log_table_filtered').show()"
   ]
  },
  {
   "cell_type": "code",
   "execution_count": 26,
   "metadata": {},
   "outputs": [
    {
     "name": "stdout",
     "output_type": "stream",
     "text": [
      "+------------+\n",
      "|unique_users|\n",
      "+------------+\n",
      "|         225|\n",
      "+------------+\n",
      "\n"
     ]
    }
   ],
   "source": [
    "#How many distint users?\n",
    "spark.sql('SELECT COUNT(DISTINCT userid) AS unique_users\\\n",
    "            FROM user_log_table_filtered\\\n",
    "            ').show()"
   ]
  },
  {
   "cell_type": "markdown",
   "metadata": {},
   "source": [
    "In this dataset there are 225 unique users"
   ]
  },
  {
   "cell_type": "code",
   "execution_count": 27,
   "metadata": {},
   "outputs": [
    {
     "name": "stdout",
     "output_type": "stream",
     "text": [
      "+---------+\n",
      "|paid_free|\n",
      "+---------+\n",
      "|      195|\n",
      "|      165|\n",
      "+---------+\n",
      "\n"
     ]
    }
   ],
   "source": [
    "# how many paid and free users?\n",
    "spark.sql('SELECT COUNT(DISTINCT userid) AS paid_free\\\n",
    "            FROM user_log_table_filtered\\\n",
    "            GROUP BY level').show()"
   ]
  },
  {
   "cell_type": "markdown",
   "metadata": {},
   "source": [
    "This doesn't sum up so it means that at some point, some users went from paid to free, or vice versa"
   ]
  },
  {
   "cell_type": "markdown",
   "metadata": {},
   "source": [
    "The churn column will be create using Cancellation Confirmation, which is the same number as Cancel. We can quickly check if the userId who went on cancel are the same as those who went to Cancellation confirmation"
   ]
  },
  {
   "cell_type": "markdown",
   "metadata": {},
   "source": [
    "#### Feature documentation and decision "
   ]
  },
  {
   "cell_type": "markdown",
   "metadata": {},
   "source": [
    "The data includes the following columns:\n",
    "- artist (string) : artist/singer name - keep\n",
    "- auth (string): user status - **drop as redundant with churn**\n",
    "- firstName (string) : user first name - **drop as redundant with userid**\n",
    "- gender (string): user's gender (female or male) - keep - can be changed to categorical\n",
    "- itemInSession (long): number of events during the current session - keep\n",
    "- lastName (string) : user's lastname - **drop as redundant with userid**\n",
    "- length (double): duration of song played - keep \n",
    "- level (string): subscription level (paid or free) - keep - can be changed to categorical.\n",
    "- location (string): user's location format city, state (in the USA) - keep- can be engineered by separating state\n",
    "- method (string): (put or get) - **drop**\n",
    "- page (string): page where the user is - keep\n",
    "- registration (long): timestamp of when the user registered. - keep - change time format, and check if there is any data for guests.\n",
    "- sessionId (long): unique Id for the session the user is in ***drop***\n",
    "- song (string): song playing - keep\n",
    "- status (long): looks like page error status\n",
    "- ts (long): timestamp , must be time when the user started the session \n",
    "- userAgent ( string ) : browser keep and change to categorical\n",
    "- userId ( string) unique Id per user - keep \n",
    "\n",
    "#### Features to drop\n",
    "- firstname, lastname, method, auth"
   ]
  },
  {
   "cell_type": "code",
   "execution_count": 28,
   "metadata": {},
   "outputs": [
    {
     "name": "stdout",
     "output_type": "stream",
     "text": [
      "root\n",
      " |-- artist: string (nullable = true)\n",
      " |-- gender: string (nullable = true)\n",
      " |-- itemInSession: long (nullable = true)\n",
      " |-- length: double (nullable = true)\n",
      " |-- level: string (nullable = true)\n",
      " |-- location: string (nullable = true)\n",
      " |-- page: string (nullable = true)\n",
      " |-- registration: long (nullable = true)\n",
      " |-- sessionId: long (nullable = true)\n",
      " |-- song: string (nullable = true)\n",
      " |-- status: long (nullable = true)\n",
      " |-- ts: long (nullable = true)\n",
      " |-- userAgent: string (nullable = true)\n",
      " |-- userId: string (nullable = true)\n",
      "\n"
     ]
    }
   ],
   "source": [
    "cols = (\"firstname\",\"lastname\",\"method\",\"auth\")\n",
    "user_log = user_log_filtered.drop(*cols)\n",
    "user_log.printSchema()  "
   ]
  },
  {
   "cell_type": "code",
   "execution_count": 29,
   "metadata": {},
   "outputs": [
    {
     "name": "stdout",
     "output_type": "stream",
     "text": [
      "+-------------+---------+-------+\n",
      "|     col_name|data_type|comment|\n",
      "+-------------+---------+-------+\n",
      "|       artist|   string|   null|\n",
      "|       gender|   string|   null|\n",
      "|itemInSession|   bigint|   null|\n",
      "|       length|   double|   null|\n",
      "|        level|   string|   null|\n",
      "|     location|   string|   null|\n",
      "|         page|   string|   null|\n",
      "| registration|   bigint|   null|\n",
      "|    sessionId|   bigint|   null|\n",
      "|         song|   string|   null|\n",
      "|       status|   bigint|   null|\n",
      "|           ts|   bigint|   null|\n",
      "|    userAgent|   string|   null|\n",
      "|       userId|   string|   null|\n",
      "+-------------+---------+-------+\n",
      "\n"
     ]
    }
   ],
   "source": [
    "user_log.createOrReplaceTempView(\"user_log_table\")\n",
    "spark.sql('DESC user_log_table\\\n",
    "          ').show()"
   ]
  },
  {
   "cell_type": "markdown",
   "metadata": {},
   "source": [
    "# Feature engineering\n",
    "This will include:\n",
    "- taking care of any time related features: ts and registration\n",
    "- creating new features using time related features: registration month etc..\n",
    "- identifying missing data and make a decision on these\n",
    "- finalizing features selected and check their type (categorical binary etc.)"
   ]
  },
  {
   "cell_type": "markdown",
   "metadata": {},
   "source": [
    "## Reformating time features into date"
   ]
  },
  {
   "cell_type": "code",
   "execution_count": 30,
   "metadata": {},
   "outputs": [
    {
     "name": "stdout",
     "output_type": "stream",
     "text": [
      "+-------------+-------------+\n",
      "|           ts| registration|\n",
      "+-------------+-------------+\n",
      "|1538352117000|1538173362000|\n",
      "|1538352180000|1538331630000|\n",
      "|1538352394000|1538173362000|\n",
      "|1538352416000|1538331630000|\n",
      "|1538352676000|1538173362000|\n",
      "|1538352678000|1538331630000|\n",
      "|1538352886000|1538331630000|\n",
      "|1538352899000|1538173362000|\n",
      "|1538352905000|1538173362000|\n",
      "|1538353084000|1538173362000|\n",
      "+-------------+-------------+\n",
      "\n"
     ]
    }
   ],
   "source": [
    "# these two columns have timestamps so they will be engineered to extract data on time (day, month, year)\n",
    "spark.sql('SELECT ts, registration \\\n",
    "          FROM user_log_table\\\n",
    "          LIMIT 10 ').show()"
   ]
  },
  {
   "cell_type": "markdown",
   "metadata": {},
   "source": [
    "ts and registration are timestamps so we will convert into readable time"
   ]
  },
  {
   "cell_type": "code",
   "execution_count": 31,
   "metadata": {},
   "outputs": [],
   "source": [
    "user_log = user_log.withColumn('ts_ts', (col('ts') / 1000.0).cast(TimestampType()))"
   ]
  },
  {
   "cell_type": "code",
   "execution_count": 32,
   "metadata": {},
   "outputs": [],
   "source": [
    "user_log = user_log.withColumn('ts_todate', to_date('ts_ts'))"
   ]
  },
  {
   "cell_type": "code",
   "execution_count": 33,
   "metadata": {},
   "outputs": [],
   "source": [
    "user_log = user_log.withColumn('registration_ts', (col('registration') / 1000.0).cast(TimestampType()))"
   ]
  },
  {
   "cell_type": "code",
   "execution_count": 34,
   "metadata": {},
   "outputs": [],
   "source": [
    "user_log = user_log.withColumn('registration_todate', to_date('registration_ts'))"
   ]
  },
  {
   "cell_type": "code",
   "execution_count": 35,
   "metadata": {},
   "outputs": [],
   "source": [
    "cols = (\"ts\",\"registration\",\"ts_ts\",\"registration_ts\")\n",
    "user_log = user_log.drop(*cols)"
   ]
  },
  {
   "cell_type": "code",
   "execution_count": 36,
   "metadata": {},
   "outputs": [
    {
     "name": "stdout",
     "output_type": "stream",
     "text": [
      "+-------------------+---------+-------+\n",
      "|           col_name|data_type|comment|\n",
      "+-------------------+---------+-------+\n",
      "|             artist|   string|   null|\n",
      "|             gender|   string|   null|\n",
      "|      itemInSession|   bigint|   null|\n",
      "|             length|   double|   null|\n",
      "|              level|   string|   null|\n",
      "|           location|   string|   null|\n",
      "|               page|   string|   null|\n",
      "|          sessionId|   bigint|   null|\n",
      "|               song|   string|   null|\n",
      "|             status|   bigint|   null|\n",
      "|          userAgent|   string|   null|\n",
      "|             userId|   string|   null|\n",
      "|          ts_todate|     date|   null|\n",
      "|registration_todate|     date|   null|\n",
      "+-------------------+---------+-------+\n",
      "\n"
     ]
    }
   ],
   "source": [
    "#recreate sql view\n",
    "user_log.createOrReplaceTempView(\"user_log_table\")\n",
    "spark.sql('DESC user_log_table').show()"
   ]
  },
  {
   "cell_type": "markdown",
   "metadata": {},
   "source": [
    "#### ts and registration were reformated and are now dates. Let's take a look"
   ]
  },
  {
   "cell_type": "code",
   "execution_count": 37,
   "metadata": {},
   "outputs": [
    {
     "name": "stdout",
     "output_type": "stream",
     "text": [
      "+----------+-------------------+\n",
      "| ts_todate|registration_todate|\n",
      "+----------+-------------------+\n",
      "|2018-10-01|         2018-09-28|\n",
      "|2018-10-01|         2018-09-30|\n",
      "|2018-10-01|         2018-09-28|\n",
      "|2018-10-01|         2018-09-30|\n",
      "|2018-10-01|         2018-09-28|\n",
      "|2018-10-01|         2018-09-30|\n",
      "|2018-10-01|         2018-09-30|\n",
      "|2018-10-01|         2018-09-28|\n",
      "|2018-10-01|         2018-09-28|\n",
      "|2018-10-01|         2018-09-28|\n",
      "|2018-10-01|         2018-09-30|\n",
      "|2018-10-01|         2018-09-30|\n",
      "|2018-10-01|         2018-09-28|\n",
      "|2018-10-01|         2018-09-30|\n",
      "|2018-10-01|         2018-09-30|\n",
      "|2018-10-01|         2018-09-28|\n",
      "|2018-10-01|         2018-09-30|\n",
      "|2018-10-01|         2018-09-19|\n",
      "|2018-10-01|         2018-09-28|\n",
      "|2018-10-01|         2018-09-30|\n",
      "+----------+-------------------+\n",
      "only showing top 20 rows\n",
      "\n"
     ]
    }
   ],
   "source": [
    "spark.sql('SELECT ts_todate, registration_todate\\\n",
    "           FROM user_log_table').show()"
   ]
  },
  {
   "cell_type": "code",
   "execution_count": null,
   "metadata": {},
   "outputs": [],
   "source": []
  },
  {
   "cell_type": "code",
   "execution_count": 38,
   "metadata": {},
   "outputs": [
    {
     "name": "stdout",
     "output_type": "stream",
     "text": [
      "+--------------+--------------+\n",
      "|min(ts_todate)|max(ts_todate)|\n",
      "+--------------+--------------+\n",
      "|    2018-10-01|    2018-12-03|\n",
      "+--------------+--------------+\n",
      "\n"
     ]
    }
   ],
   "source": [
    "# what time interval are the records of this subset?\n",
    "spark.sql('SELECT MIN(ts_todate), MAX(ts_todate)\\\n",
    "           FROM user_log_table\\\n",
    "          ').show()"
   ]
  },
  {
   "cell_type": "markdown",
   "metadata": {},
   "source": [
    "The data examined here are records ranging from Oct 01 2018 to Dec 03 2018."
   ]
  },
  {
   "cell_type": "markdown",
   "metadata": {},
   "source": [
    "# Exploratory Data Analysis\n",
    "When you're working with the full dataset, perform EDA by loading a small subset of the data and doing basic manipulations within Spark. In this workspace, you are already provided a small subset of data you can explore.\n",
    "\n",
    "### Define Churn\n",
    "\n",
    "Once you've done some preliminary analysis, create a column `Churn` to use as the label for your model. I suggest using the `Cancellation Confirmation` events to define your churn, which happen for both paid and free users. As a bonus task, you can also look into the `Downgrade` events."
   ]
  },
  {
   "cell_type": "code",
   "execution_count": 39,
   "metadata": {},
   "outputs": [
    {
     "name": "stdout",
     "output_type": "stream",
     "text": [
      "+----------------------+\n",
      "|count(DISTINCT userid)|\n",
      "+----------------------+\n",
      "|                    52|\n",
      "+----------------------+\n",
      "\n"
     ]
    }
   ],
   "source": [
    "spark.sql('SELECT COUNT(DISTINCT userid)\\\n",
    "           FROM user_log_table\\\n",
    "           WHERE page = \"Cancellation Confirmation\"\\\n",
    "          ').show()"
   ]
  },
  {
   "cell_type": "code",
   "execution_count": 40,
   "metadata": {},
   "outputs": [
    {
     "data": {
      "text/plain": [
       "23.11111111111111"
      ]
     },
     "execution_count": 40,
     "metadata": {},
     "output_type": "execute_result"
    }
   ],
   "source": [
    "52/225*100"
   ]
  },
  {
   "cell_type": "markdown",
   "metadata": {},
   "source": [
    "In the small dataset has 52 churning users which makes 23% rate on this data set. Let's check over what timeframe the dataset includes sessions.\n",
    "\n",
    "Let's use Cancellation Confirmation to create the churn label."
   ]
  },
  {
   "cell_type": "code",
   "execution_count": 41,
   "metadata": {},
   "outputs": [],
   "source": [
    "#function to create the churn label\n",
    "create_churn = udf(lambda x: 1 if x ==\"Cancellation Confirmation\" else 0, IntegerType())\n",
    "\n",
    "user_log_clean = user_log.withColumn('churn_lab', create_churn('page'))"
   ]
  },
  {
   "cell_type": "code",
   "execution_count": 42,
   "metadata": {},
   "outputs": [
    {
     "data": {
      "text/plain": [
       "[Row(artist='Martha Tilston', gender='M', itemInSession=50, length=277.89016, level='paid', location='Bakersfield, CA', page='NextSong', sessionId=29, song='Rockpools', status=200, userAgent='Mozilla/5.0 (Windows NT 6.1; WOW64; rv:31.0) Gecko/20100101 Firefox/31.0', userId='30', ts_todate=datetime.date(2018, 10, 1), registration_todate=datetime.date(2018, 9, 28), churn_lab=0)]"
      ]
     },
     "execution_count": 42,
     "metadata": {},
     "output_type": "execute_result"
    }
   ],
   "source": [
    "user_log_clean.take(1)"
   ]
  },
  {
   "cell_type": "markdown",
   "metadata": {},
   "source": [
    "Since we only defined churn binary coding based on 'page', and that the whole dataset is based on sessionid, we are going to have users that churned but with a 0 label for all the pages they have been to that are not cancellation confirmation.\n",
    "\n",
    "Now let's replace all the 0 of churn users to 1.\n",
    "\n"
   ]
  },
  {
   "cell_type": "code",
   "execution_count": 43,
   "metadata": {},
   "outputs": [
    {
     "data": {
      "text/plain": [
       "52"
      ]
     },
     "execution_count": 43,
     "metadata": {},
     "output_type": "execute_result"
    }
   ],
   "source": [
    "# collect all the users with 1 for churn_lab\n",
    "churn_userid = user_log_clean.select('userId').where(col('churn_lab')==1).groupby('userId').count()\n",
    "churn_userid_list = [row['userId'] for row in churn_userid.collect()]\n",
    "len(churn_userid_list)"
   ]
  },
  {
   "cell_type": "code",
   "execution_count": 44,
   "metadata": {},
   "outputs": [],
   "source": [
    "user_log_clean = user_log_clean.withColumn('churn_lab2', when((user_log_clean.userId).isin(churn_userid_list), 1).otherwise(0))"
   ]
  },
  {
   "cell_type": "code",
   "execution_count": 45,
   "metadata": {},
   "outputs": [
    {
     "data": {
      "text/plain": [
       "[Row(artist='Martha Tilston', gender='M', itemInSession=50, length=277.89016, level='paid', location='Bakersfield, CA', page='NextSong', sessionId=29, song='Rockpools', status=200, userAgent='Mozilla/5.0 (Windows NT 6.1; WOW64; rv:31.0) Gecko/20100101 Firefox/31.0', userId='30', ts_todate=datetime.date(2018, 10, 1), registration_todate=datetime.date(2018, 9, 28), churn_lab=0, churn_lab2=0)]"
      ]
     },
     "execution_count": 45,
     "metadata": {},
     "output_type": "execute_result"
    }
   ],
   "source": [
    "user_log_clean.take(1)"
   ]
  },
  {
   "cell_type": "code",
   "execution_count": 46,
   "metadata": {},
   "outputs": [],
   "source": [
    "user_log_clean.createOrReplaceTempView(\"user_log_table_clean\")\n"
   ]
  },
  {
   "cell_type": "code",
   "execution_count": 47,
   "metadata": {},
   "outputs": [
    {
     "name": "stdout",
     "output_type": "stream",
     "text": [
      "+------+---------+----------+\n",
      "|userId|churn_lab|churn_lab2|\n",
      "+------+---------+----------+\n",
      "|    54|        0|         1|\n",
      "|    54|        0|         1|\n",
      "|    54|        0|         1|\n",
      "|    54|        0|         1|\n",
      "|    54|        0|         1|\n",
      "|    54|        0|         1|\n",
      "|    54|        0|         1|\n",
      "|    54|        0|         1|\n",
      "|   101|        0|         1|\n",
      "|   101|        0|         1|\n",
      "|   101|        0|         1|\n",
      "|   101|        0|         1|\n",
      "|   101|        0|         1|\n",
      "|   101|        0|         1|\n",
      "|   101|        0|         1|\n",
      "|   101|        0|         1|\n",
      "|   101|        0|         1|\n",
      "|   101|        0|         1|\n",
      "|   101|        0|         1|\n",
      "|   101|        0|         1|\n",
      "+------+---------+----------+\n",
      "only showing top 20 rows\n",
      "\n"
     ]
    }
   ],
   "source": [
    "spark.sql('SELECT userId, churn_lab, churn_lab2\\\n",
    "           FROM user_log_table_clean \\\n",
    "           WHERE churn_lab2 = 1').show()"
   ]
  },
  {
   "cell_type": "code",
   "execution_count": 48,
   "metadata": {},
   "outputs": [
    {
     "data": {
      "text/plain": [
       "[Row(artist='Martha Tilston', gender='M', itemInSession=50, length=277.89016, level='paid', location='Bakersfield, CA', page='NextSong', sessionId=29, song='Rockpools', status=200, userAgent='Mozilla/5.0 (Windows NT 6.1; WOW64; rv:31.0) Gecko/20100101 Firefox/31.0', userId='30', ts_todate=datetime.date(2018, 10, 1), registration_todate=datetime.date(2018, 9, 28), churn_lab2=0)]"
      ]
     },
     "execution_count": 48,
     "metadata": {},
     "output_type": "execute_result"
    }
   ],
   "source": [
    "user_log_clean = user_log_clean.drop(\"churn_lab\")\n",
    "user_log_clean.take(1)"
   ]
  },
  {
   "cell_type": "markdown",
   "metadata": {},
   "source": [
    "### Function for churn labeling"
   ]
  },
  {
   "cell_type": "code",
   "execution_count": 49,
   "metadata": {},
   "outputs": [],
   "source": [
    "# function for churn labeling\n",
    "def create_churn_label(df):\n",
    "    ''' This function takes a dataframe and creates churn labels based on the \n",
    "    churn definition: Cancellation Confirmation value in 'pages' is considered churn.\n",
    "    \n",
    "    Input = Spark dataframe\n",
    "    \n",
    "    Output = Spark dataframe with new column 'churn_lab' for each user who churned\n",
    "    '''\n",
    "    #labeling all 'pages' with Cancellation Confirmation\n",
    "    create_churn = udf(lambda x: 1 if x ==\"Cancellation Confirmation\" else 0, IntegerType())\n",
    "    df = df.withColumn('churn_lab_temp', create_churn('page'))\n",
    "    \n",
    "    #extract a list of churn users from the new df\n",
    "    churn_userid = df.select('userId').where(col('churn_lab_temp')==1).groupby('userId').count()\n",
    "    churn_userid_list = [row['userId'] for row in churn_userid.collect()]\n",
    "    \n",
    "    #new column based on the churn list\n",
    "    df = df.withColumn('churn_lab', when((user_log_clean.userId).isin(churn_userid_list), 1).otherwise(0))\n",
    "    \n",
    "    #dropping column\n",
    "    df = df.drop('churn_lab_temp')\n",
    "    \n",
    "    return df   "
   ]
  },
  {
   "cell_type": "code",
   "execution_count": 50,
   "metadata": {},
   "outputs": [],
   "source": [
    "#let's test the function on a copy of the dataframe\n",
    "user_log_test = user_log"
   ]
  },
  {
   "cell_type": "code",
   "execution_count": 51,
   "metadata": {},
   "outputs": [],
   "source": [
    "user_log_test_churn = create_churn_label(user_log_test)"
   ]
  },
  {
   "cell_type": "code",
   "execution_count": 52,
   "metadata": {},
   "outputs": [
    {
     "data": {
      "text/plain": [
       "[Row(artist='Martha Tilston', gender='M', itemInSession=50, length=277.89016, level='paid', location='Bakersfield, CA', page='NextSong', sessionId=29, song='Rockpools', status=200, userAgent='Mozilla/5.0 (Windows NT 6.1; WOW64; rv:31.0) Gecko/20100101 Firefox/31.0', userId='30', ts_todate=datetime.date(2018, 10, 1), registration_todate=datetime.date(2018, 9, 28), churn_lab=0)]"
      ]
     },
     "execution_count": 52,
     "metadata": {},
     "output_type": "execute_result"
    }
   ],
   "source": [
    "user_log_test_churn.take(1)"
   ]
  },
  {
   "cell_type": "code",
   "execution_count": 53,
   "metadata": {},
   "outputs": [
    {
     "name": "stdout",
     "output_type": "stream",
     "text": [
      "+---------+------+\n",
      "|churn_lab| count|\n",
      "+---------+------+\n",
      "|        1| 44864|\n",
      "|        0|233290|\n",
      "+---------+------+\n",
      "\n"
     ]
    }
   ],
   "source": [
    "user_log_test_churn.select('churn_lab').groupby('churn_lab').count().show()"
   ]
  },
  {
   "cell_type": "markdown",
   "metadata": {},
   "source": [
    "The function works and will be added into the python script."
   ]
  },
  {
   "cell_type": "markdown",
   "metadata": {},
   "source": [
    "\n",
    "\n",
    "\n",
    "### Explore Data\n",
    "Once you've defined churn, perform some exploratory data analysis to observe the behavior for users who stayed vs users who churned. You can start by exploring aggregates on these two groups of users, observing how much of a specific action they experienced per a certain time unit or number of songs played."
   ]
  },
  {
   "cell_type": "code",
   "execution_count": 54,
   "metadata": {},
   "outputs": [],
   "source": [
    "#using the dataset created from the churn function\n",
    "user_log_clean_churn = user_log_test_churn"
   ]
  },
  {
   "cell_type": "code",
   "execution_count": 55,
   "metadata": {},
   "outputs": [],
   "source": [
    "#clean data sql view\n",
    "user_log_clean_churn.createOrReplaceTempView(\"user_log_clean_churn_table\")"
   ]
  },
  {
   "cell_type": "code",
   "execution_count": 56,
   "metadata": {},
   "outputs": [
    {
     "name": "stdout",
     "output_type": "stream",
     "text": [
      "+-------------------+---------+-------+\n",
      "|           col_name|data_type|comment|\n",
      "+-------------------+---------+-------+\n",
      "|             artist|   string|   null|\n",
      "|             gender|   string|   null|\n",
      "|      itemInSession|   bigint|   null|\n",
      "|             length|   double|   null|\n",
      "|              level|   string|   null|\n",
      "|           location|   string|   null|\n",
      "|               page|   string|   null|\n",
      "|          sessionId|   bigint|   null|\n",
      "|               song|   string|   null|\n",
      "|             status|   bigint|   null|\n",
      "|          userAgent|   string|   null|\n",
      "|             userId|   string|   null|\n",
      "|          ts_todate|     date|   null|\n",
      "|registration_todate|     date|   null|\n",
      "|          churn_lab|      int|   null|\n",
      "+-------------------+---------+-------+\n",
      "\n"
     ]
    }
   ],
   "source": [
    "spark.sql('DESC user_log_clean_churn_table').show()"
   ]
  },
  {
   "cell_type": "markdown",
   "metadata": {},
   "source": [
    "- Session count : Do users who did not churn use Sparkify more often than users who churned?"
   ]
  },
  {
   "cell_type": "code",
   "execution_count": 57,
   "metadata": {},
   "outputs": [],
   "source": [
    "# how many sessions did each userId create?\n",
    "session_count_by_churn = user_log_clean_churn.groupby('userId','churn_lab').agg(count(\"*\").alias(\"count\")).toPandas()"
   ]
  },
  {
   "cell_type": "code",
   "execution_count": 162,
   "metadata": {},
   "outputs": [
    {
     "data": {
      "text/plain": [
       "<matplotlib.axes._subplots.AxesSubplot at 0x7f92333fc6a0>"
      ]
     },
     "execution_count": 162,
     "metadata": {},
     "output_type": "execute_result"
    },
    {
     "data": {
      "image/png": "[encoded data removed]",
      "text/plain": [
       "<matplotlib.figure.Figure at 0x7f92333fc4e0>"
      ]
     },
     "metadata": {},
     "output_type": "display_data"
    }
   ],
   "source": [
    "#plot of session count for each user.\n",
    "plt.figure(figsize=(18, 6))\n",
    "sns.barplot(data=session_count_by_churn, x='userId', y='count', hue='churn_lab')\n"
   ]
  },
  {
   "cell_type": "code",
   "execution_count": 161,
   "metadata": {},
   "outputs": [
    {
     "data": {
      "image/png": "[encoded data removed]",
      "text/plain": [
       "<matplotlib.figure.Figure at 0x7f92333e1e48>"
      ]
     },
     "metadata": {},
     "output_type": "display_data"
    }
   ],
   "source": [
    "plt.figure(figsize=(4, 6))\n",
    "sns.boxplot(x=\"churn_lab\", y=\"count\", data=session_count_by_churn)\n",
    "\n",
    "# Labels and Title\n",
    "plt.xlabel('Churn Label')\n",
    "plt.ylabel('Session Counts')\n",
    "plt.title('Box Plot of Session Count by Churn Label')\n",
    "\n",
    "# Show the plot\n",
    "plt.show()\n"
   ]
  },
  {
   "cell_type": "markdown",
   "metadata": {},
   "source": [
    "Answer: yes.\n",
    "Decision: we will create a feature counting the number of sessions for each user."
   ]
  },
  {
   "cell_type": "markdown",
   "metadata": {},
   "source": [
    "- artist"
   ]
  },
  {
   "cell_type": "code",
   "execution_count": 60,
   "metadata": {},
   "outputs": [],
   "source": [
    "artist_by_churn = user_log_clean_churn.groupby('artist','churn_lab').agg(count(\"*\").alias(\"count\")).toPandas().sort_values(by=['count'], ascending = False)"
   ]
  },
  {
   "cell_type": "code",
   "execution_count": 61,
   "metadata": {},
   "outputs": [
    {
     "data": {
      "text/html": [
       "<div>\n",
       "<style scoped>\n",
       "    .dataframe tbody tr th:only-of-type {\n",
       "        vertical-align: middle;\n",
       "    }\n",
       "\n",
       "    .dataframe tbody tr th {\n",
       "        vertical-align: top;\n",
       "    }\n",
       "\n",
       "    .dataframe thead th {\n",
       "        text-align: right;\n",
       "    }\n",
       "</style>\n",
       "<table border=\"1\" class=\"dataframe\">\n",
       "  <thead>\n",
       "    <tr style=\"text-align: right;\">\n",
       "      <th></th>\n",
       "      <th>artist</th>\n",
       "      <th>churn_lab</th>\n",
       "      <th>count</th>\n",
       "    </tr>\n",
       "  </thead>\n",
       "  <tbody>\n",
       "    <tr>\n",
       "      <th>23847</th>\n",
       "      <td>None</td>\n",
       "      <td>0</td>\n",
       "      <td>41576</td>\n",
       "    </tr>\n",
       "    <tr>\n",
       "      <th>5385</th>\n",
       "      <td>None</td>\n",
       "      <td>1</td>\n",
       "      <td>8470</td>\n",
       "    </tr>\n",
       "    <tr>\n",
       "      <th>18309</th>\n",
       "      <td>Coldplay</td>\n",
       "      <td>0</td>\n",
       "      <td>1552</td>\n",
       "    </tr>\n",
       "    <tr>\n",
       "      <th>21567</th>\n",
       "      <td>Kings Of Leon</td>\n",
       "      <td>0</td>\n",
       "      <td>1542</td>\n",
       "    </tr>\n",
       "    <tr>\n",
       "      <th>13150</th>\n",
       "      <td>Florence + The Machine</td>\n",
       "      <td>0</td>\n",
       "      <td>1048</td>\n",
       "    </tr>\n",
       "  </tbody>\n",
       "</table>\n",
       "</div>"
      ],
      "text/plain": [
       "                       artist  churn_lab  count\n",
       "23847                    None          0  41576\n",
       "5385                     None          1   8470\n",
       "18309                Coldplay          0   1552\n",
       "21567           Kings Of Leon          0   1542\n",
       "13150  Florence + The Machine          0   1048"
      ]
     },
     "execution_count": 61,
     "metadata": {},
     "output_type": "execute_result"
    }
   ],
   "source": [
    "artist_by_churn.head()"
   ]
  },
  {
   "cell_type": "code",
   "execution_count": null,
   "metadata": {},
   "outputs": [],
   "source": []
  },
  {
   "cell_type": "markdown",
   "metadata": {},
   "source": [
    "We see that the most played artist is coldplay with no churn, and over 40000 sessions did not play any songs. These sessions are the pages where there is no active song being played."
   ]
  },
  {
   "cell_type": "markdown",
   "metadata": {},
   "source": [
    "#### count of unique artists listen to by churn group\n"
   ]
  },
  {
   "cell_type": "code",
   "execution_count": 62,
   "metadata": {},
   "outputs": [],
   "source": [
    "count_artist_by_user_churn = user_log_clean_churn.groupby('churn_lab','userId').agg(countDistinct(\"artist\").alias(\"count\")).toPandas().sort_values(by=['count'], ascending = False)"
   ]
  },
  {
   "cell_type": "code",
   "execution_count": 63,
   "metadata": {},
   "outputs": [
    {
     "data": {
      "text/html": [
       "<div>\n",
       "<style scoped>\n",
       "    .dataframe tbody tr th:only-of-type {\n",
       "        vertical-align: middle;\n",
       "    }\n",
       "\n",
       "    .dataframe tbody tr th {\n",
       "        vertical-align: top;\n",
       "    }\n",
       "\n",
       "    .dataframe thead th {\n",
       "        text-align: right;\n",
       "    }\n",
       "</style>\n",
       "<table border=\"1\" class=\"dataframe\">\n",
       "  <thead>\n",
       "    <tr style=\"text-align: right;\">\n",
       "      <th></th>\n",
       "      <th>churn_lab</th>\n",
       "      <th>userId</th>\n",
       "      <th>count</th>\n",
       "    </tr>\n",
       "  </thead>\n",
       "  <tbody>\n",
       "    <tr>\n",
       "      <th>1</th>\n",
       "      <td>0</td>\n",
       "      <td>39</td>\n",
       "      <td>3544</td>\n",
       "    </tr>\n",
       "    <tr>\n",
       "      <th>182</th>\n",
       "      <td>0</td>\n",
       "      <td>92</td>\n",
       "      <td>2904</td>\n",
       "    </tr>\n",
       "    <tr>\n",
       "      <th>83</th>\n",
       "      <td>0</td>\n",
       "      <td>140</td>\n",
       "      <td>2819</td>\n",
       "    </tr>\n",
       "    <tr>\n",
       "      <th>158</th>\n",
       "      <td>0</td>\n",
       "      <td>300011</td>\n",
       "      <td>2491</td>\n",
       "    </tr>\n",
       "    <tr>\n",
       "      <th>149</th>\n",
       "      <td>0</td>\n",
       "      <td>124</td>\n",
       "      <td>2232</td>\n",
       "    </tr>\n",
       "  </tbody>\n",
       "</table>\n",
       "</div>"
      ],
      "text/plain": [
       "     churn_lab  userId  count\n",
       "1            0      39   3544\n",
       "182          0      92   2904\n",
       "83           0     140   2819\n",
       "158          0  300011   2491\n",
       "149          0     124   2232"
      ]
     },
     "execution_count": 63,
     "metadata": {},
     "output_type": "execute_result"
    }
   ],
   "source": [
    "count_artist_by_user_churn.head()"
   ]
  },
  {
   "cell_type": "code",
   "execution_count": 64,
   "metadata": {},
   "outputs": [
    {
     "data": {
      "image/png": "[encoded data removed]",
      "text/plain": [
       "<matplotlib.figure.Figure at 0x7f92792dffd0>"
      ]
     },
     "metadata": {},
     "output_type": "display_data"
    }
   ],
   "source": [
    "sns.set(style=\"whitegrid\")\n",
    "plt.figure(figsize=(16, 8))\n",
    "plot = sns.barplot(x=\"userId\", y=\"count\", hue=\"churn_lab\", data=count_artist_by_user_churn)\n",
    "\n",
    "# Rotate x-axis labels\n",
    "plot.set_xticklabels(plot.get_xticklabels(), rotation=45, horizontalalignment='right')\n",
    "\n",
    "plt.title(\"Artist Counts per User and by churn\")\n",
    "plt.xlabel(\"Artist\")\n",
    "plt.ylabel(\"Count\")\n",
    "plt.show()"
   ]
  },
  {
   "cell_type": "code",
   "execution_count": 160,
   "metadata": {},
   "outputs": [
    {
     "data": {
      "image/png": "[encoded data removed]",
      "text/plain": [
       "<matplotlib.figure.Figure at 0x7f9233559438>"
      ]
     },
     "metadata": {},
     "output_type": "display_data"
    }
   ],
   "source": [
    "sns.set(style=\"whitegrid\")\n",
    "plt.figure(figsize=(4, 6))\n",
    "plot = sns.boxplot(y=\"count\", x=\"churn_lab\", data=count_artist_by_user_churn)\n",
    "\n",
    "# Rotate x-axis labels\n",
    "plot.set_xticklabels(plot.get_xticklabels(), rotation=45, horizontalalignment='right')\n",
    "\n",
    "plt.title(\"Artist Counts per User and by churn\")\n",
    "plt.xlabel(\"Artist\")\n",
    "plt.ylabel(\"Count\")\n",
    "plt.show()"
   ]
  },
  {
   "cell_type": "markdown",
   "metadata": {},
   "source": [
    "- Gender"
   ]
  },
  {
   "cell_type": "code",
   "execution_count": 66,
   "metadata": {},
   "outputs": [
    {
     "data": {
      "text/html": [
       "<div>\n",
       "<style scoped>\n",
       "    .dataframe tbody tr th:only-of-type {\n",
       "        vertical-align: middle;\n",
       "    }\n",
       "\n",
       "    .dataframe tbody tr th {\n",
       "        vertical-align: top;\n",
       "    }\n",
       "\n",
       "    .dataframe thead th {\n",
       "        text-align: right;\n",
       "    }\n",
       "</style>\n",
       "<table border=\"1\" class=\"dataframe\">\n",
       "  <thead>\n",
       "    <tr style=\"text-align: right;\">\n",
       "      <th></th>\n",
       "      <th>gender</th>\n",
       "      <th>churn_lab</th>\n",
       "      <th>user_count</th>\n",
       "    </tr>\n",
       "  </thead>\n",
       "  <tbody>\n",
       "    <tr>\n",
       "      <th>0</th>\n",
       "      <td>M</td>\n",
       "      <td>1</td>\n",
       "      <td>32</td>\n",
       "    </tr>\n",
       "    <tr>\n",
       "      <th>1</th>\n",
       "      <td>F</td>\n",
       "      <td>0</td>\n",
       "      <td>84</td>\n",
       "    </tr>\n",
       "    <tr>\n",
       "      <th>2</th>\n",
       "      <td>F</td>\n",
       "      <td>1</td>\n",
       "      <td>20</td>\n",
       "    </tr>\n",
       "    <tr>\n",
       "      <th>3</th>\n",
       "      <td>M</td>\n",
       "      <td>0</td>\n",
       "      <td>89</td>\n",
       "    </tr>\n",
       "  </tbody>\n",
       "</table>\n",
       "</div>"
      ],
      "text/plain": [
       "  gender  churn_lab  user_count\n",
       "0      M          1          32\n",
       "1      F          0          84\n",
       "2      F          1          20\n",
       "3      M          0          89"
      ]
     },
     "execution_count": 66,
     "metadata": {},
     "output_type": "execute_result"
    }
   ],
   "source": [
    "# take all users, churn and gender, drop duplicate rows by users, \n",
    "gender_by_churn = user_log_clean_churn.dropDuplicates(['userId']).groupBy('gender','churn_lab').agg(count('*').alias('user_count')).toPandas()\n",
    "gender_by_churn.head()"
   ]
  },
  {
   "cell_type": "code",
   "execution_count": 67,
   "metadata": {},
   "outputs": [
    {
     "data": {
      "text/plain": [
       "<matplotlib.axes._subplots.AxesSubplot at 0x7f9245399ef0>"
      ]
     },
     "execution_count": 67,
     "metadata": {},
     "output_type": "execute_result"
    },
    {
     "data": {
      "image/png": "[encoded data removed]",
      "text/plain": [
       "<matplotlib.figure.Figure at 0x7f92454509b0>"
      ]
     },
     "metadata": {},
     "output_type": "display_data"
    }
   ],
   "source": [
    "sns.barplot(data=gender_by_churn, x='gender', y='user_count', hue='churn_lab')"
   ]
  },
  {
   "cell_type": "markdown",
   "metadata": {},
   "source": [
    "There were more male churners than female.\n",
    "Decision: keep gender information for the model."
   ]
  },
  {
   "cell_type": "code",
   "execution_count": null,
   "metadata": {
    "scrolled": false
   },
   "outputs": [],
   "source": []
  },
  {
   "cell_type": "markdown",
   "metadata": {},
   "source": [
    "- length"
   ]
  },
  {
   "cell_type": "code",
   "execution_count": 68,
   "metadata": {},
   "outputs": [
    {
     "data": {
      "text/plain": [
       "[Row(artist='Martha Tilston', gender='M', itemInSession=50, length=277.89016, level='paid', location='Bakersfield, CA', page='NextSong', sessionId=29, song='Rockpools', status=200, userAgent='Mozilla/5.0 (Windows NT 6.1; WOW64; rv:31.0) Gecko/20100101 Firefox/31.0', userId='30', ts_todate=datetime.date(2018, 10, 1), registration_todate=datetime.date(2018, 9, 28), churn_lab=0)]"
      ]
     },
     "execution_count": 68,
     "metadata": {},
     "output_type": "execute_result"
    }
   ],
   "source": [
    "user_log_clean_churn.take(1)"
   ]
  },
  {
   "cell_type": "code",
   "execution_count": 69,
   "metadata": {},
   "outputs": [],
   "source": [
    "# look at the average session length per user and churning\n",
    "columns = ['userId','length','churn_lab']\n",
    "user_log_clean_length_df = user_log_clean_churn.select(columns)"
   ]
  },
  {
   "cell_type": "code",
   "execution_count": 70,
   "metadata": {},
   "outputs": [],
   "source": [
    "length_agg_df = user_log_clean_length_df.groupBy(\"userId\", \"churn_lab\").agg(\n",
    "                spark_sum(\"length\").alias(\"total_session_length\"),\n",
    "                spark_avg(\"length\").alias(\"avg_session_length\"))\n"
   ]
  },
  {
   "cell_type": "code",
   "execution_count": 71,
   "metadata": {},
   "outputs": [
    {
     "data": {
      "text/plain": [
       "[Row(userId='19', churn_lab=0, total_session_length=54480.933869999986, avg_session_length=252.22654569444438),\n",
       " Row(userId='100005', churn_lab=1, total_session_length=37037.12201000001, avg_session_length=240.50079227272732),\n",
       " Row(userId='200007', churn_lab=0, total_session_length=15739.869310000002, avg_session_length=242.15183553846157),\n",
       " Row(userId='300007', churn_lab=1, total_session_length=28028.71048000002, avg_session_length=252.5109052252254),\n",
       " Row(userId='50', churn_lab=0, total_session_length=122751.27560999998, avg_session_length=244.03832129224648),\n",
       " Row(userId='200002', churn_lab=0, total_session_length=94008.87593999997, avg_session_length=242.91699209302317),\n",
       " Row(userId='30', churn_lab=0, total_session_length=359808.2456400001, avg_session_length=253.92254455892737),\n",
       " Row(userId='8', churn_lab=0, total_session_length=63393.53190999998, avg_session_length=252.56387215139435),\n",
       " Row(userId='100011', churn_lab=1, total_session_length=2841.6995, avg_session_length=258.33631818181817),\n",
       " Row(userId='100012', churn_lab=1, total_session_length=115503.35311000001, avg_session_length=242.65410317226892)]"
      ]
     },
     "execution_count": 71,
     "metadata": {},
     "output_type": "execute_result"
    }
   ],
   "source": [
    "length_agg_df.take(10)"
   ]
  },
  {
   "cell_type": "code",
   "execution_count": 72,
   "metadata": {},
   "outputs": [],
   "source": [
    "length_agg_pd = length_agg_df.toPandas()\n"
   ]
  },
  {
   "cell_type": "code",
   "execution_count": 73,
   "metadata": {},
   "outputs": [
    {
     "data": {
      "text/html": [
       "<div>\n",
       "<style scoped>\n",
       "    .dataframe tbody tr th:only-of-type {\n",
       "        vertical-align: middle;\n",
       "    }\n",
       "\n",
       "    .dataframe tbody tr th {\n",
       "        vertical-align: top;\n",
       "    }\n",
       "\n",
       "    .dataframe thead th {\n",
       "        text-align: right;\n",
       "    }\n",
       "</style>\n",
       "<table border=\"1\" class=\"dataframe\">\n",
       "  <thead>\n",
       "    <tr style=\"text-align: right;\">\n",
       "      <th></th>\n",
       "      <th>userId</th>\n",
       "      <th>churn_lab</th>\n",
       "      <th>total_session_length</th>\n",
       "      <th>avg_session_length</th>\n",
       "    </tr>\n",
       "  </thead>\n",
       "  <tbody>\n",
       "    <tr>\n",
       "      <th>175</th>\n",
       "      <td>156</td>\n",
       "      <td>0</td>\n",
       "      <td>691.66884</td>\n",
       "      <td>230.556280</td>\n",
       "    </tr>\n",
       "    <tr>\n",
       "      <th>44</th>\n",
       "      <td>135</td>\n",
       "      <td>0</td>\n",
       "      <td>1596.44461</td>\n",
       "      <td>266.074102</td>\n",
       "    </tr>\n",
       "    <tr>\n",
       "      <th>42</th>\n",
       "      <td>125</td>\n",
       "      <td>1</td>\n",
       "      <td>2089.11310</td>\n",
       "      <td>261.139138</td>\n",
       "    </tr>\n",
       "    <tr>\n",
       "      <th>8</th>\n",
       "      <td>100011</td>\n",
       "      <td>1</td>\n",
       "      <td>2841.69950</td>\n",
       "      <td>258.336318</td>\n",
       "    </tr>\n",
       "    <tr>\n",
       "      <th>143</th>\n",
       "      <td>100024</td>\n",
       "      <td>1</td>\n",
       "      <td>5160.53207</td>\n",
       "      <td>234.569640</td>\n",
       "    </tr>\n",
       "    <tr>\n",
       "      <th>154</th>\n",
       "      <td>100006</td>\n",
       "      <td>1</td>\n",
       "      <td>5854.89105</td>\n",
       "      <td>225.188117</td>\n",
       "    </tr>\n",
       "    <tr>\n",
       "      <th>49</th>\n",
       "      <td>300003</td>\n",
       "      <td>0</td>\n",
       "      <td>6567.87674</td>\n",
       "      <td>243.254694</td>\n",
       "    </tr>\n",
       "    <tr>\n",
       "      <th>73</th>\n",
       "      <td>68</td>\n",
       "      <td>0</td>\n",
       "      <td>7079.69297</td>\n",
       "      <td>244.127344</td>\n",
       "    </tr>\n",
       "    <tr>\n",
       "      <th>134</th>\n",
       "      <td>22</td>\n",
       "      <td>0</td>\n",
       "      <td>7403.82080</td>\n",
       "      <td>264.422171</td>\n",
       "    </tr>\n",
       "    <tr>\n",
       "      <th>26</th>\n",
       "      <td>133</td>\n",
       "      <td>0</td>\n",
       "      <td>8029.16428</td>\n",
       "      <td>250.911384</td>\n",
       "    </tr>\n",
       "  </tbody>\n",
       "</table>\n",
       "</div>"
      ],
      "text/plain": [
       "     userId  churn_lab  total_session_length  avg_session_length\n",
       "175     156          0             691.66884          230.556280\n",
       "44      135          0            1596.44461          266.074102\n",
       "42      125          1            2089.11310          261.139138\n",
       "8    100011          1            2841.69950          258.336318\n",
       "143  100024          1            5160.53207          234.569640\n",
       "154  100006          1            5854.89105          225.188117\n",
       "49   300003          0            6567.87674          243.254694\n",
       "73       68          0            7079.69297          244.127344\n",
       "134      22          0            7403.82080          264.422171\n",
       "26      133          0            8029.16428          250.911384"
      ]
     },
     "execution_count": 73,
     "metadata": {},
     "output_type": "execute_result"
    }
   ],
   "source": [
    "length_agg_pd.sort_values(\"total_session_length\").head(10)"
   ]
  },
  {
   "cell_type": "code",
   "execution_count": 74,
   "metadata": {},
   "outputs": [
    {
     "data": {
      "text/plain": [
       "0"
      ]
     },
     "execution_count": 74,
     "metadata": {},
     "output_type": "execute_result"
    }
   ],
   "source": [
    "#check if I have teh same userid with 2 churnlab2\n",
    "length_agg_pd.duplicated(\"userId\").sum()"
   ]
  },
  {
   "cell_type": "code",
   "execution_count": 75,
   "metadata": {},
   "outputs": [],
   "source": [
    "length_agg_pd[\"userId\"]=length_agg_pd[\"userId\"].astype('category')"
   ]
  },
  {
   "cell_type": "code",
   "execution_count": 159,
   "metadata": {},
   "outputs": [
    {
     "data": {
      "image/png": "[encoded data removed]",
      "text/plain": [
       "<matplotlib.figure.Figure at 0x7f92353ea588>"
      ]
     },
     "metadata": {},
     "output_type": "display_data"
    }
   ],
   "source": [
    "sns.set(style=\"whitegrid\")\n",
    "\n",
    "plt.figure(figsize=(4, 6))\n",
    "sns.boxplot(x=\"churn_lab\", y=\"total_session_length\", data=length_agg_pd)\n",
    "\n",
    "plt.xlabel('Churn Label')\n",
    "plt.ylabel('Total Session Length')\n",
    "plt.title('Box Plot of Total Session Length by Churn Label')\n",
    "\n",
    "plt.show()"
   ]
  },
  {
   "cell_type": "code",
   "execution_count": 158,
   "metadata": {},
   "outputs": [
    {
     "data": {
      "image/png": "[encoded data removed]",
      "text/plain": [
       "<matplotlib.figure.Figure at 0x7f92353ea0f0>"
      ]
     },
     "metadata": {},
     "output_type": "display_data"
    }
   ],
   "source": [
    "plt.figure(figsize=(4, 6))\n",
    "sns.boxplot(x=\"churn_lab\", y=\"avg_session_length\", data=length_agg_pd)\n",
    "\n",
    "plt.xlabel('Churn Label')\n",
    "plt.ylabel('Average Session Length')\n",
    "plt.title('Box Plot of Average Session Length by Churn Label')\n",
    "\n",
    "plt.show()"
   ]
  },
  {
   "cell_type": "markdown",
   "metadata": {},
   "source": [
    "Even if the both churned customers and not churned have the same average session length, not churn customers have a short total session length.\n",
    "The average session is probably indicative of the an average song length. In churned users, there seems to be more variability than unchurned maybe because other pages than song playing are explored. Let's keep average session length as an engineered feature."
   ]
  },
  {
   "cell_type": "code",
   "execution_count": 78,
   "metadata": {},
   "outputs": [
    {
     "data": {
      "text/html": [
       "<div>\n",
       "<style scoped>\n",
       "    .dataframe tbody tr th:only-of-type {\n",
       "        vertical-align: middle;\n",
       "    }\n",
       "\n",
       "    .dataframe tbody tr th {\n",
       "        vertical-align: top;\n",
       "    }\n",
       "\n",
       "    .dataframe thead th {\n",
       "        text-align: right;\n",
       "    }\n",
       "</style>\n",
       "<table border=\"1\" class=\"dataframe\">\n",
       "  <thead>\n",
       "    <tr style=\"text-align: right;\">\n",
       "      <th></th>\n",
       "      <th>userId</th>\n",
       "      <th>churn_lab</th>\n",
       "      <th>total_session_length</th>\n",
       "      <th>avg_session_length</th>\n",
       "    </tr>\n",
       "  </thead>\n",
       "  <tbody>\n",
       "  </tbody>\n",
       "</table>\n",
       "</div>"
      ],
      "text/plain": [
       "Empty DataFrame\n",
       "Columns: [userId, churn_lab, total_session_length, avg_session_length]\n",
       "Index: []"
      ]
     },
     "execution_count": 78,
     "metadata": {},
     "output_type": "execute_result"
    }
   ],
   "source": [
    "length_agg_pd[length_agg_pd['total_session_length'].isnull()]"
   ]
  },
  {
   "cell_type": "markdown",
   "metadata": {},
   "source": [
    "- level"
   ]
  },
  {
   "cell_type": "code",
   "execution_count": 79,
   "metadata": {},
   "outputs": [
    {
     "name": "stdout",
     "output_type": "stream",
     "text": [
      "+-----+---------+-----+\n",
      "|level|churn_lab|count|\n",
      "+-----+---------+-----+\n",
      "| paid|        0|   40|\n",
      "| free|        0|  133|\n",
      "| paid|        1|    8|\n",
      "| free|        1|   44|\n",
      "+-----+---------+-----+\n",
      "\n"
     ]
    }
   ],
   "source": [
    "user_log_clean_churn.dropDuplicates(['userId']).select(['level','churn_lab']).groupby(['level','churn_lab']).count().show()"
   ]
  },
  {
   "cell_type": "markdown",
   "metadata": {},
   "source": [
    "this columns is related to the cancellation that I used for churn labeling so I am dropping it."
   ]
  },
  {
   "cell_type": "markdown",
   "metadata": {},
   "source": [
    "- location"
   ]
  },
  {
   "cell_type": "code",
   "execution_count": 80,
   "metadata": {},
   "outputs": [
    {
     "name": "stdout",
     "output_type": "stream",
     "text": [
      "+--------------------+-----+\n",
      "|            location|count|\n",
      "+--------------------+-----+\n",
      "|Atlantic City-Ham...|    1|\n",
      "|     Gainesville, FL|    1|\n",
      "|Deltona-Daytona B...|    1|\n",
      "|San Diego-Carlsba...|    3|\n",
      "|Cleveland-Elyria, OH|    1|\n",
      "|Kingsport-Bristol...|    1|\n",
      "|New Haven-Milford...|    3|\n",
      "|Birmingham-Hoover...|    1|\n",
      "|  Corpus Christi, TX|    1|\n",
      "|         Dubuque, IA|    1|\n",
      "|Las Vegas-Henders...|    3|\n",
      "|Indianapolis-Carm...|    2|\n",
      "|Seattle-Tacoma-Be...|    2|\n",
      "|          Albany, OR|    1|\n",
      "|   Winston-Salem, NC|    1|\n",
      "|Los Angeles-Long ...|   16|\n",
      "|     Bakersfield, CA|    1|\n",
      "|Minneapolis-St. P...|    2|\n",
      "|San Francisco-Oak...|    2|\n",
      "|Phoenix-Mesa-Scot...|    7|\n",
      "+--------------------+-----+\n",
      "only showing top 20 rows\n",
      "\n"
     ]
    }
   ],
   "source": [
    "user_log_clean_churn.dropDuplicates(['userId']).select('location').groupby('location').count().show()"
   ]
  },
  {
   "cell_type": "code",
   "execution_count": 81,
   "metadata": {},
   "outputs": [],
   "source": [
    "split_col = pyspark.sql.functions.split(user_log_clean_churn['location'], ', ')\n",
    "user_log_clean_churn = user_log_clean_churn.withColumn('city', split_col.getItem(0))\n",
    "user_log_clean_churn = user_log_clean_churn.withColumn('state', split_col.getItem(1))\n"
   ]
  },
  {
   "cell_type": "code",
   "execution_count": 82,
   "metadata": {},
   "outputs": [
    {
     "data": {
      "text/plain": [
       "[Row(artist='Martha Tilston', gender='M', itemInSession=50, length=277.89016, level='paid', location='Bakersfield, CA', page='NextSong', sessionId=29, song='Rockpools', status=200, userAgent='Mozilla/5.0 (Windows NT 6.1; WOW64; rv:31.0) Gecko/20100101 Firefox/31.0', userId='30', ts_todate=datetime.date(2018, 10, 1), registration_todate=datetime.date(2018, 9, 28), churn_lab=0, city='Bakersfield', state='CA'),\n",
       " Row(artist='Five Iron Frenzy', gender='M', itemInSession=79, length=236.09424, level='free', location='Boston-Cambridge-Newton, MA-NH', page='NextSong', sessionId=8, song='Canada', status=200, userAgent='\"Mozilla/5.0 (Windows NT 6.1; WOW64) AppleWebKit/537.36 (KHTML, like Gecko) Chrome/37.0.2062.103 Safari/537.36\"', userId='9', ts_todate=datetime.date(2018, 10, 1), registration_todate=datetime.date(2018, 9, 30), churn_lab=0, city='Boston-Cambridge-Newton', state='MA-NH'),\n",
       " Row(artist='Adam Lambert', gender='M', itemInSession=51, length=282.8273, level='paid', location='Bakersfield, CA', page='NextSong', sessionId=29, song='Time For Miracles', status=200, userAgent='Mozilla/5.0 (Windows NT 6.1; WOW64; rv:31.0) Gecko/20100101 Firefox/31.0', userId='30', ts_todate=datetime.date(2018, 10, 1), registration_todate=datetime.date(2018, 9, 28), churn_lab=0, city='Bakersfield', state='CA'),\n",
       " Row(artist='Enigma', gender='M', itemInSession=80, length=262.71302, level='free', location='Boston-Cambridge-Newton, MA-NH', page='NextSong', sessionId=8, song='Knocking On Forbidden Doors', status=200, userAgent='\"Mozilla/5.0 (Windows NT 6.1; WOW64) AppleWebKit/537.36 (KHTML, like Gecko) Chrome/37.0.2062.103 Safari/537.36\"', userId='9', ts_todate=datetime.date(2018, 10, 1), registration_todate=datetime.date(2018, 9, 30), churn_lab=0, city='Boston-Cambridge-Newton', state='MA-NH'),\n",
       " Row(artist='Daft Punk', gender='M', itemInSession=52, length=223.60771, level='paid', location='Bakersfield, CA', page='NextSong', sessionId=29, song='Harder Better Faster Stronger', status=200, userAgent='Mozilla/5.0 (Windows NT 6.1; WOW64; rv:31.0) Gecko/20100101 Firefox/31.0', userId='30', ts_todate=datetime.date(2018, 10, 1), registration_todate=datetime.date(2018, 9, 28), churn_lab=0, city='Bakersfield', state='CA')]"
      ]
     },
     "execution_count": 82,
     "metadata": {},
     "output_type": "execute_result"
    }
   ],
   "source": [
    "user_log_clean_churn.take(5)"
   ]
  },
  {
   "cell_type": "code",
   "execution_count": null,
   "metadata": {},
   "outputs": [],
   "source": []
  },
  {
   "cell_type": "code",
   "execution_count": 83,
   "metadata": {},
   "outputs": [
    {
     "data": {
      "text/html": [
       "<div>\n",
       "<style scoped>\n",
       "    .dataframe tbody tr th:only-of-type {\n",
       "        vertical-align: middle;\n",
       "    }\n",
       "\n",
       "    .dataframe tbody tr th {\n",
       "        vertical-align: top;\n",
       "    }\n",
       "\n",
       "    .dataframe thead th {\n",
       "        text-align: right;\n",
       "    }\n",
       "</style>\n",
       "<table border=\"1\" class=\"dataframe\">\n",
       "  <thead>\n",
       "    <tr style=\"text-align: right;\">\n",
       "      <th></th>\n",
       "      <th>artist</th>\n",
       "      <th>gender</th>\n",
       "      <th>itemInSession</th>\n",
       "      <th>length</th>\n",
       "      <th>level</th>\n",
       "      <th>location</th>\n",
       "      <th>page</th>\n",
       "      <th>sessionId</th>\n",
       "      <th>song</th>\n",
       "      <th>status</th>\n",
       "      <th>userAgent</th>\n",
       "      <th>userId</th>\n",
       "      <th>ts_todate</th>\n",
       "      <th>registration_todate</th>\n",
       "      <th>churn_lab</th>\n",
       "      <th>city</th>\n",
       "      <th>state</th>\n",
       "    </tr>\n",
       "  </thead>\n",
       "  <tbody>\n",
       "    <tr>\n",
       "      <th>0</th>\n",
       "      <td>Martha Tilston</td>\n",
       "      <td>M</td>\n",
       "      <td>50</td>\n",
       "      <td>277.89016</td>\n",
       "      <td>paid</td>\n",
       "      <td>Bakersfield, CA</td>\n",
       "      <td>NextSong</td>\n",
       "      <td>29</td>\n",
       "      <td>Rockpools</td>\n",
       "      <td>200</td>\n",
       "      <td>Mozilla/5.0 (Windows NT 6.1; WOW64; rv:31.0) G...</td>\n",
       "      <td>30</td>\n",
       "      <td>2018-10-01</td>\n",
       "      <td>2018-09-28</td>\n",
       "      <td>0</td>\n",
       "      <td>Bakersfield</td>\n",
       "      <td>CA</td>\n",
       "    </tr>\n",
       "    <tr>\n",
       "      <th>1</th>\n",
       "      <td>Five Iron Frenzy</td>\n",
       "      <td>M</td>\n",
       "      <td>79</td>\n",
       "      <td>236.09424</td>\n",
       "      <td>free</td>\n",
       "      <td>Boston-Cambridge-Newton, MA-NH</td>\n",
       "      <td>NextSong</td>\n",
       "      <td>8</td>\n",
       "      <td>Canada</td>\n",
       "      <td>200</td>\n",
       "      <td>\"Mozilla/5.0 (Windows NT 6.1; WOW64) AppleWebK...</td>\n",
       "      <td>9</td>\n",
       "      <td>2018-10-01</td>\n",
       "      <td>2018-09-30</td>\n",
       "      <td>0</td>\n",
       "      <td>Boston-Cambridge-Newton</td>\n",
       "      <td>MA-NH</td>\n",
       "    </tr>\n",
       "    <tr>\n",
       "      <th>2</th>\n",
       "      <td>Adam Lambert</td>\n",
       "      <td>M</td>\n",
       "      <td>51</td>\n",
       "      <td>282.82730</td>\n",
       "      <td>paid</td>\n",
       "      <td>Bakersfield, CA</td>\n",
       "      <td>NextSong</td>\n",
       "      <td>29</td>\n",
       "      <td>Time For Miracles</td>\n",
       "      <td>200</td>\n",
       "      <td>Mozilla/5.0 (Windows NT 6.1; WOW64; rv:31.0) G...</td>\n",
       "      <td>30</td>\n",
       "      <td>2018-10-01</td>\n",
       "      <td>2018-09-28</td>\n",
       "      <td>0</td>\n",
       "      <td>Bakersfield</td>\n",
       "      <td>CA</td>\n",
       "    </tr>\n",
       "    <tr>\n",
       "      <th>3</th>\n",
       "      <td>Enigma</td>\n",
       "      <td>M</td>\n",
       "      <td>80</td>\n",
       "      <td>262.71302</td>\n",
       "      <td>free</td>\n",
       "      <td>Boston-Cambridge-Newton, MA-NH</td>\n",
       "      <td>NextSong</td>\n",
       "      <td>8</td>\n",
       "      <td>Knocking On Forbidden Doors</td>\n",
       "      <td>200</td>\n",
       "      <td>\"Mozilla/5.0 (Windows NT 6.1; WOW64) AppleWebK...</td>\n",
       "      <td>9</td>\n",
       "      <td>2018-10-01</td>\n",
       "      <td>2018-09-30</td>\n",
       "      <td>0</td>\n",
       "      <td>Boston-Cambridge-Newton</td>\n",
       "      <td>MA-NH</td>\n",
       "    </tr>\n",
       "    <tr>\n",
       "      <th>4</th>\n",
       "      <td>Daft Punk</td>\n",
       "      <td>M</td>\n",
       "      <td>52</td>\n",
       "      <td>223.60771</td>\n",
       "      <td>paid</td>\n",
       "      <td>Bakersfield, CA</td>\n",
       "      <td>NextSong</td>\n",
       "      <td>29</td>\n",
       "      <td>Harder Better Faster Stronger</td>\n",
       "      <td>200</td>\n",
       "      <td>Mozilla/5.0 (Windows NT 6.1; WOW64; rv:31.0) G...</td>\n",
       "      <td>30</td>\n",
       "      <td>2018-10-01</td>\n",
       "      <td>2018-09-28</td>\n",
       "      <td>0</td>\n",
       "      <td>Bakersfield</td>\n",
       "      <td>CA</td>\n",
       "    </tr>\n",
       "  </tbody>\n",
       "</table>\n",
       "</div>"
      ],
      "text/plain": [
       "             artist gender  itemInSession     length level  \\\n",
       "0    Martha Tilston      M             50  277.89016  paid   \n",
       "1  Five Iron Frenzy      M             79  236.09424  free   \n",
       "2      Adam Lambert      M             51  282.82730  paid   \n",
       "3            Enigma      M             80  262.71302  free   \n",
       "4         Daft Punk      M             52  223.60771  paid   \n",
       "\n",
       "                         location      page  sessionId  \\\n",
       "0                 Bakersfield, CA  NextSong         29   \n",
       "1  Boston-Cambridge-Newton, MA-NH  NextSong          8   \n",
       "2                 Bakersfield, CA  NextSong         29   \n",
       "3  Boston-Cambridge-Newton, MA-NH  NextSong          8   \n",
       "4                 Bakersfield, CA  NextSong         29   \n",
       "\n",
       "                            song  status  \\\n",
       "0                      Rockpools     200   \n",
       "1                         Canada     200   \n",
       "2              Time For Miracles     200   \n",
       "3    Knocking On Forbidden Doors     200   \n",
       "4  Harder Better Faster Stronger     200   \n",
       "\n",
       "                                           userAgent userId   ts_todate  \\\n",
       "0  Mozilla/5.0 (Windows NT 6.1; WOW64; rv:31.0) G...     30  2018-10-01   \n",
       "1  \"Mozilla/5.0 (Windows NT 6.1; WOW64) AppleWebK...      9  2018-10-01   \n",
       "2  Mozilla/5.0 (Windows NT 6.1; WOW64; rv:31.0) G...     30  2018-10-01   \n",
       "3  \"Mozilla/5.0 (Windows NT 6.1; WOW64) AppleWebK...      9  2018-10-01   \n",
       "4  Mozilla/5.0 (Windows NT 6.1; WOW64; rv:31.0) G...     30  2018-10-01   \n",
       "\n",
       "  registration_todate  churn_lab                     city  state  \n",
       "0          2018-09-28          0              Bakersfield     CA  \n",
       "1          2018-09-30          0  Boston-Cambridge-Newton  MA-NH  \n",
       "2          2018-09-28          0              Bakersfield     CA  \n",
       "3          2018-09-30          0  Boston-Cambridge-Newton  MA-NH  \n",
       "4          2018-09-28          0              Bakersfield     CA  "
      ]
     },
     "execution_count": 83,
     "metadata": {},
     "output_type": "execute_result"
    }
   ],
   "source": [
    "user_log_clean_churn_df = user_log_clean_churn.toPandas()\n",
    "user_log_clean_churn_df.head()"
   ]
  },
  {
   "cell_type": "code",
   "execution_count": 84,
   "metadata": {},
   "outputs": [
    {
     "data": {
      "text/plain": [
       "array(['Bakersfield, CA', 'Boston-Cambridge-Newton, MA-NH',\n",
       "       'Tallahassee, FL', 'Spokane-Spokane Valley, WA',\n",
       "       'Baltimore-Columbia-Towson, MD', 'Denver-Aurora-Lakewood, CO',\n",
       "       'McAllen-Edinburg-Mission, TX', 'Columbus, GA-AL',\n",
       "       'Phoenix-Mesa-Scottsdale, AZ',\n",
       "       'Tampa-St. Petersburg-Clearwater, FL',\n",
       "       'New York-Newark-Jersey City, NY-NJ-PA',\n",
       "       'Philadelphia-Camden-Wilmington, PA-NJ-DE-MD',\n",
       "       'Atlanta-Sandy Springs-Roswell, GA',\n",
       "       'Los Angeles-Long Beach-Anaheim, CA', 'Quincy, IL-MO',\n",
       "       'New Philadelphia-Dover, OH', 'Kingsport-Bristol-Bristol, TN-VA',\n",
       "       'Myrtle Beach-Conway-North Myrtle Beach, SC-NC', 'Boulder, CO',\n",
       "       'Morgantown, WV', 'Minneapolis-St. Paul-Bloomington, MN-WI',\n",
       "       'Oklahoma City, OK', 'Hartford-West Hartford-East Hartford, CT',\n",
       "       'Lexington-Fayette, KY',\n",
       "       'Virginia Beach-Norfolk-Newport News, VA-NC',\n",
       "       'Louisville/Jefferson County, KY-IN',\n",
       "       'Houston-The Woodlands-Sugar Land, TX', 'Vineland-Bridgeton, NJ',\n",
       "       'Price, UT', 'Allentown-Bethlehem-Easton, PA-NJ',\n",
       "       'San Antonio-New Braunfels, TX', 'Omaha-Council Bluffs, NE-IA',\n",
       "       'Charlotte-Concord-Gastonia, NC-SC', 'Concord, NH', 'Jackson, MS',\n",
       "       'Danville, VA', 'Pittsburgh, PA', 'Selma, AL', 'Gainesville, FL',\n",
       "       'San Francisco-Oakland-Hayward, CA',\n",
       "       'Washington-Arlington-Alexandria, DC-VA-MD-WV',\n",
       "       'Dallas-Fort Worth-Arlington, TX',\n",
       "       'Sacramento--Roseville--Arden-Arcade, CA',\n",
       "       'Chicago-Naperville-Elgin, IL-IN-WI', 'Flint, MI',\n",
       "       'Oxnard-Thousand Oaks-Ventura, CA', 'Kansas City, MO-KS',\n",
       "       'Buffalo-Cheektowaga-Niagara Falls, NY',\n",
       "       'Indianapolis-Carmel-Anderson, IN', 'Atlantic City-Hammonton, NJ',\n",
       "       'Miami-Fort Lauderdale-West Palm Beach, FL',\n",
       "       'Las Vegas-Henderson-Paradise, NV', 'Bozeman, MT',\n",
       "       'Manchester-Nashua, NH', 'Albany-Schenectady-Troy, NY',\n",
       "       'Jacksonville, FL', 'Seattle-Tacoma-Bellevue, WA',\n",
       "       'Milwaukee-Waukesha-West Allis, WI', 'New Haven-Milford, CT',\n",
       "       'Winston-Salem, NC', 'Napa, CA', 'Dubuque, IA', 'Troy, AL',\n",
       "       'Memphis, TN-MS-AR', 'Fairbanks, AK', 'Detroit-Warren-Dearborn, MI',\n",
       "       'Muncie, IN', 'Anchorage, AK', 'Bridgeport-Stamford-Norwalk, CT',\n",
       "       'Providence-Warwick, RI-MA', 'Austin-Round Rock, TX',\n",
       "       'Billings, MT', 'Pontiac, IL',\n",
       "       'Riverside-San Bernardino-Ontario, CA', 'St. Louis, MO-IL',\n",
       "       'Laurel, MS', 'Raleigh, NC', 'Montgomery, AL', 'Syracuse, NY',\n",
       "       'Dayton, OH', 'Cincinnati, OH-KY-IN', 'Alexandria, LA',\n",
       "       'Deltona-Daytona Beach-Ormond Beach, FL', 'Corpus Christi, TX',\n",
       "       'San Diego-Carlsbad, CA', 'Stockton-Lodi, CA',\n",
       "       'Truckee-Grass Valley, CA', 'Kankakee, IL', 'Duluth, MN-WI',\n",
       "       'Port St. Lucie, FL', 'Greensboro-High Point, NC',\n",
       "       'Scranton--Wilkes-Barre--Hazleton, PA', 'Monroe, LA', 'Albany, OR',\n",
       "       'North Wilkesboro, NC', 'Little Rock-North Little Rock-Conway, AR',\n",
       "       'Cleveland-Elyria, OH', 'Greenville-Anderson-Mauldin, SC',\n",
       "       'Santa Maria-Santa Barbara, CA', 'Birmingham-Hoover, AL',\n",
       "       'Hagerstown-Martinsburg, MD-WV', 'Orlando-Kissimmee-Sanford, FL',\n",
       "       'Logan, UT-ID', 'Jacksonville, NC', 'London, KY', 'Sterling, IL',\n",
       "       'Salinas, CA', 'Portland-Vancouver-Hillsboro, OR-WA',\n",
       "       'Colorado Springs, CO', 'Ionia, MI', 'Cookeville, TN', 'Wilson, NC',\n",
       "       'San Jose-Sunnyvale-Santa Clara, CA', 'Roanoke, VA'], dtype=object)"
      ]
     },
     "execution_count": 84,
     "metadata": {},
     "output_type": "execute_result"
    }
   ],
   "source": [
    "user_log_clean_churn_df['location'].unique()"
   ]
  },
  {
   "cell_type": "code",
   "execution_count": 85,
   "metadata": {},
   "outputs": [],
   "source": [
    "split_col = pyspark.sql.functions.split(user_log_clean_churn['state'], '-')\n",
    "user_log_clean_churn = user_log_clean_churn.withColumn('state1', split_col.getItem(0))\n",
    "\n"
   ]
  },
  {
   "cell_type": "code",
   "execution_count": 86,
   "metadata": {},
   "outputs": [
    {
     "data": {
      "text/plain": [
       "[Row(artist='Martha Tilston', gender='M', itemInSession=50, length=277.89016, level='paid', location='Bakersfield, CA', page='NextSong', sessionId=29, song='Rockpools', status=200, userAgent='Mozilla/5.0 (Windows NT 6.1; WOW64; rv:31.0) Gecko/20100101 Firefox/31.0', userId='30', ts_todate=datetime.date(2018, 10, 1), registration_todate=datetime.date(2018, 9, 28), churn_lab=0, city='Bakersfield', state='CA', state1='CA'),\n",
       " Row(artist='Five Iron Frenzy', gender='M', itemInSession=79, length=236.09424, level='free', location='Boston-Cambridge-Newton, MA-NH', page='NextSong', sessionId=8, song='Canada', status=200, userAgent='\"Mozilla/5.0 (Windows NT 6.1; WOW64) AppleWebKit/537.36 (KHTML, like Gecko) Chrome/37.0.2062.103 Safari/537.36\"', userId='9', ts_todate=datetime.date(2018, 10, 1), registration_todate=datetime.date(2018, 9, 30), churn_lab=0, city='Boston-Cambridge-Newton', state='MA-NH', state1='MA'),\n",
       " Row(artist='Adam Lambert', gender='M', itemInSession=51, length=282.8273, level='paid', location='Bakersfield, CA', page='NextSong', sessionId=29, song='Time For Miracles', status=200, userAgent='Mozilla/5.0 (Windows NT 6.1; WOW64; rv:31.0) Gecko/20100101 Firefox/31.0', userId='30', ts_todate=datetime.date(2018, 10, 1), registration_todate=datetime.date(2018, 9, 28), churn_lab=0, city='Bakersfield', state='CA', state1='CA'),\n",
       " Row(artist='Enigma', gender='M', itemInSession=80, length=262.71302, level='free', location='Boston-Cambridge-Newton, MA-NH', page='NextSong', sessionId=8, song='Knocking On Forbidden Doors', status=200, userAgent='\"Mozilla/5.0 (Windows NT 6.1; WOW64) AppleWebKit/537.36 (KHTML, like Gecko) Chrome/37.0.2062.103 Safari/537.36\"', userId='9', ts_todate=datetime.date(2018, 10, 1), registration_todate=datetime.date(2018, 9, 30), churn_lab=0, city='Boston-Cambridge-Newton', state='MA-NH', state1='MA'),\n",
       " Row(artist='Daft Punk', gender='M', itemInSession=52, length=223.60771, level='paid', location='Bakersfield, CA', page='NextSong', sessionId=29, song='Harder Better Faster Stronger', status=200, userAgent='Mozilla/5.0 (Windows NT 6.1; WOW64; rv:31.0) Gecko/20100101 Firefox/31.0', userId='30', ts_todate=datetime.date(2018, 10, 1), registration_todate=datetime.date(2018, 9, 28), churn_lab=0, city='Bakersfield', state='CA', state1='CA')]"
      ]
     },
     "execution_count": 86,
     "metadata": {},
     "output_type": "execute_result"
    }
   ],
   "source": [
    "user_log_clean_churn.take(5)"
   ]
  },
  {
   "cell_type": "code",
   "execution_count": 87,
   "metadata": {},
   "outputs": [],
   "source": [
    "#group by state ''\n",
    "user_churn_state = user_log_clean_churn.dropDuplicates(['userId']).select('state1','churn_lab').groupby('state1','churn_lab').count()\n"
   ]
  },
  {
   "cell_type": "code",
   "execution_count": 88,
   "metadata": {},
   "outputs": [],
   "source": [
    "user_churn_state_df = user_churn_state.toPandas()"
   ]
  },
  {
   "cell_type": "code",
   "execution_count": 129,
   "metadata": {},
   "outputs": [
    {
     "data": {
      "text/plain": [
       "<matplotlib.axes._subplots.AxesSubplot at 0x7f92287175f8>"
      ]
     },
     "execution_count": 129,
     "metadata": {},
     "output_type": "execute_result"
    },
    {
     "data": {
      "image/png": "[encoded data removed]",
      "text/plain": [
       "<matplotlib.figure.Figure at 0x7f9244be11d0>"
      ]
     },
     "metadata": {},
     "output_type": "display_data"
    }
   ],
   "source": [
    "sns.set(style=\"whitegrid\")\n",
    "plt.figure(figsize=(16, 8))\n",
    "\n",
    "sns.barplot(data=user_churn_state_df, x='state1', y='count', hue='churn_lab')\n"
   ]
  },
  {
   "cell_type": "code",
   "execution_count": null,
   "metadata": {},
   "outputs": [],
   "source": []
  },
  {
   "cell_type": "code",
   "execution_count": null,
   "metadata": {},
   "outputs": [],
   "source": []
  },
  {
   "cell_type": "code",
   "execution_count": null,
   "metadata": {},
   "outputs": [],
   "source": []
  },
  {
   "cell_type": "markdown",
   "metadata": {},
   "source": [
    "- page"
   ]
  },
  {
   "cell_type": "code",
   "execution_count": 90,
   "metadata": {},
   "outputs": [],
   "source": [
    "unique_pages_userid = (\n",
    "    user_log_clean_churn.groupBy(\"userId\")\n",
    "    .agg(\n",
    "        countDistinct(\"page\").alias(\"UniquePages\"),\n",
    "        first(\"churn_lab\").alias(\"churn_lab\")  # Assuming it's a binary label (0 or 1)\n",
    "    )\n",
    ")"
   ]
  },
  {
   "cell_type": "code",
   "execution_count": 157,
   "metadata": {},
   "outputs": [
    {
     "data": {
      "image/png": "[encoded data removed]",
      "text/plain": [
       "<matplotlib.figure.Figure at 0x7f9233a3dc18>"
      ]
     },
     "metadata": {},
     "output_type": "display_data"
    }
   ],
   "source": [
    "sns.set(style=\"whitegrid\")\n",
    "\n",
    "plt.figure(figsize=(4, 6))\n",
    "sns.boxplot(x=\"churn_lab\", y=\"UniquePages\", data=unique_pages_userid.toPandas())\n",
    "\n",
    "plt.xlabel('Churn Label')\n",
    "plt.ylabel('Number of unique pages visited')\n",
    "plt.title('Box Plot of Unique Pages visited by Churn Label')\n",
    "\n",
    "plt.show()"
   ]
  },
  {
   "cell_type": "markdown",
   "metadata": {},
   "source": [
    "Decision: create a feature of number of unique pages visited by each user."
   ]
  },
  {
   "cell_type": "code",
   "execution_count": 92,
   "metadata": {},
   "outputs": [],
   "source": [
    "count_pages_userid = (\n",
    "    user_log_clean_churn.groupBy(\"userId\",\"page\")\n",
    "    .agg(\n",
    "        count(\"page\").alias(\"UniquePages\"),\n",
    "        first(\"churn_lab\").alias(\"churn_lab\")  # Assuming it's a binary label (0 or 1)\n",
    "    )\n",
    ")"
   ]
  },
  {
   "cell_type": "code",
   "execution_count": 93,
   "metadata": {},
   "outputs": [],
   "source": [
    "page_counts_per_user = user_log_clean_churn.select(\"userId\", \"page\",\"churn_lab\").groupBy(\"userId\", \"page\",\"churn_lab\").count()\n"
   ]
  },
  {
   "cell_type": "code",
   "execution_count": 94,
   "metadata": {},
   "outputs": [
    {
     "name": "stdout",
     "output_type": "stream",
     "text": [
      "+------+---------------+---------+-----+\n",
      "|userId|           page|churn_lab|count|\n",
      "+------+---------------+---------+-----+\n",
      "|    81|       NextSong|        0| 1974|\n",
      "|     9|          About|        0|    9|\n",
      "|    20|Add to Playlist|        0|   54|\n",
      "|   105|      Downgrade|        1|   10|\n",
      "|    91|     Add Friend|        0|   42|\n",
      "|    97|    Roll Advert|        0|   24|\n",
      "|   126|    Thumbs Down|        0|   21|\n",
      "|    55|      Thumbs Up|        0|   17|\n",
      "|    76|    Thumbs Down|        0|    2|\n",
      "|100007|         Cancel|        1|    1|\n",
      "|200011|Add to Playlist|        1|   18|\n",
      "|200016|    Thumbs Down|        1|    5|\n",
      "|300011|    Thumbs Down|        0|   41|\n",
      "|300018| Submit Upgrade|        0|    1|\n",
      "|    98|Add to Playlist|        0|   58|\n",
      "|    61|       Settings|        0|    9|\n",
      "|   105|         Logout|        1|   12|\n",
      "|    86|         Logout|        0|   12|\n",
      "|    97|       NextSong|        0| 1975|\n",
      "|    81|    Thumbs Down|        0|   14|\n",
      "+------+---------------+---------+-----+\n",
      "only showing top 20 rows\n",
      "\n"
     ]
    }
   ],
   "source": [
    "page_counts_per_user.show()"
   ]
  },
  {
   "cell_type": "code",
   "execution_count": 95,
   "metadata": {},
   "outputs": [
    {
     "data": {
      "image/png": "[encoded data removed]",
      "text/plain": [
       "<matplotlib.figure.Figure at 0x7f9234a6a7b8>"
      ]
     },
     "metadata": {},
     "output_type": "display_data"
    }
   ],
   "source": [
    "sns.set(style=\"whitegrid\")\n",
    "plt.figure(figsize=(12, 8))\n",
    "plot = sns.barplot(x=\"page\", y=\"count\", hue=\"churn_lab\", data=page_counts_per_user.toPandas())\n",
    "\n",
    "# Rotate x-axis labels\n",
    "plot.set_xticklabels(plot.get_xticklabels(), rotation=45, horizontalalignment='right')\n",
    "\n",
    "plt.title(\"Page Counts per User and by churn\")\n",
    "plt.xlabel(\"Page\")\n",
    "plt.ylabel(\"Count\")\n",
    "plt.show()"
   ]
  },
  {
   "cell_type": "code",
   "execution_count": 96,
   "metadata": {},
   "outputs": [],
   "source": [
    "pivoted_page_counts_per_user = page_counts_per_user.groupBy(\"userId\",\"churn_lab\").pivot(\"page\").sum(\"count\")\n"
   ]
  },
  {
   "cell_type": "code",
   "execution_count": 97,
   "metadata": {},
   "outputs": [
    {
     "name": "stdout",
     "output_type": "stream",
     "text": [
      "+------+---------+-----+----------+---------------+------+-------------------------+---------+-----+----+----+------+--------+-----------+-------------+--------+----------------+--------------+-----------+---------+-------+\n",
      "|userId|churn_lab|About|Add Friend|Add to Playlist|Cancel|Cancellation Confirmation|Downgrade|Error|Help|Home|Logout|NextSong|Roll Advert|Save Settings|Settings|Submit Downgrade|Submit Upgrade|Thumbs Down|Thumbs Up|Upgrade|\n",
      "+------+---------+-----+----------+---------------+------+-------------------------+---------+-----+----+----+------+--------+-----------+-------------+--------+----------------+--------------+-----------+---------+-------+\n",
      "|    19|        0|    2|         4|              8|  null|                     null|        2| null|null|  11|     8|     216|       null|         null|       1|            null|          null|          2|        5|   null|\n",
      "|200007|        0| null|         1|           null|  null|                     null|     null|    1|   2|   4|     1|      65|       null|         null|    null|            null|          null|       null|        2|   null|\n",
      "|100005|        1| null|         3|              3|     1|                        1|     null| null|   2|  15|     3|     154|         18|         null|       2|            null|          null|          3|        7|      4|\n",
      "|300007|        1| null|         4|              4|     1|                        1|        2| null|   1|   3|  null|     111|          2|            1|       1|            null|          null|          1|       11|   null|\n",
      "|200002|        0|    3|         4|              8|  null|                     null|        5| null|   2|  20|     5|     387|          7|         null|       3|            null|             1|          6|       21|      2|\n",
      "|    50|        0|    2|         9|             12|  null|                     null|        2|    2|   7|  25|     6|     503|         37|            3|       9|            null|             1|          3|       27|      3|\n",
      "|     8|        0|    1|         5|              6|  null|                     null|     null|    2|null|  21|     8|     251|         18|         null|    null|            null|          null|          3|       16|      3|\n",
      "|100012|        1|    1|         2|             12|     1|                        1|        4| null|   2|  27|     6|     476|         38|         null|    null|               1|             1|          9|       18|      1|\n",
      "|100011|        1| null|      null|              2|     1|                        1|     null| null|null|   4|  null|      11|          2|         null|       1|            null|          null|          1|     null|   null|\n",
      "|    30|        0|    3|        25|             47|  null|                     null|        6|    1|   5|  70|    20|    1417|         72|            1|      13|               1|             1|         17|       62|     14|\n",
      "+------+---------+-----+----------+---------------+------+-------------------------+---------+-----+----+----+------+--------+-----------+-------------+--------+----------------+--------------+-----------+---------+-------+\n",
      "only showing top 10 rows\n",
      "\n"
     ]
    }
   ],
   "source": [
    "pivoted_page_counts_per_user.show(10)"
   ]
  },
  {
   "cell_type": "code",
   "execution_count": 98,
   "metadata": {},
   "outputs": [],
   "source": [
    "pivoted_page_counts_per_user = pivoted_page_counts_per_user.na.fill(0)\n"
   ]
  },
  {
   "cell_type": "code",
   "execution_count": 99,
   "metadata": {},
   "outputs": [
    {
     "name": "stdout",
     "output_type": "stream",
     "text": [
      "+------+---------+-----+----------+---------------+------+-------------------------+---------+-----+----+----+------+--------+-----------+-------------+--------+----------------+--------------+-----------+---------+-------+\n",
      "|userId|churn_lab|About|Add Friend|Add to Playlist|Cancel|Cancellation Confirmation|Downgrade|Error|Help|Home|Logout|NextSong|Roll Advert|Save Settings|Settings|Submit Downgrade|Submit Upgrade|Thumbs Down|Thumbs Up|Upgrade|\n",
      "+------+---------+-----+----------+---------------+------+-------------------------+---------+-----+----+----+------+--------+-----------+-------------+--------+----------------+--------------+-----------+---------+-------+\n",
      "|    19|        0|    2|         4|              8|     0|                        0|        2|    0|   0|  11|     8|     216|          0|            0|       1|               0|             0|          2|        5|      0|\n",
      "|200007|        0|    0|         1|              0|     0|                        0|        0|    1|   2|   4|     1|      65|          0|            0|       0|               0|             0|          0|        2|      0|\n",
      "|100005|        1|    0|         3|              3|     1|                        1|        0|    0|   2|  15|     3|     154|         18|            0|       2|               0|             0|          3|        7|      4|\n",
      "|300007|        1|    0|         4|              4|     1|                        1|        2|    0|   1|   3|     0|     111|          2|            1|       1|               0|             0|          1|       11|      0|\n",
      "|200002|        0|    3|         4|              8|     0|                        0|        5|    0|   2|  20|     5|     387|          7|            0|       3|               0|             1|          6|       21|      2|\n",
      "|    50|        0|    2|         9|             12|     0|                        0|        2|    2|   7|  25|     6|     503|         37|            3|       9|               0|             1|          3|       27|      3|\n",
      "|     8|        0|    1|         5|              6|     0|                        0|        0|    2|   0|  21|     8|     251|         18|            0|       0|               0|             0|          3|       16|      3|\n",
      "|100012|        1|    1|         2|             12|     1|                        1|        4|    0|   2|  27|     6|     476|         38|            0|       0|               1|             1|          9|       18|      1|\n",
      "|100011|        1|    0|         0|              2|     1|                        1|        0|    0|   0|   4|     0|      11|          2|            0|       1|               0|             0|          1|        0|      0|\n",
      "|    30|        0|    3|        25|             47|     0|                        0|        6|    1|   5|  70|    20|    1417|         72|            1|      13|               1|             1|         17|       62|     14|\n",
      "+------+---------+-----+----------+---------------+------+-------------------------+---------+-----+----+----+------+--------+-----------+-------------+--------+----------------+--------------+-----------+---------+-------+\n",
      "only showing top 10 rows\n",
      "\n"
     ]
    }
   ],
   "source": [
    "pivoted_page_counts_per_user.show(10)"
   ]
  },
  {
   "cell_type": "code",
   "execution_count": null,
   "metadata": {},
   "outputs": [],
   "source": []
  },
  {
   "cell_type": "code",
   "execution_count": null,
   "metadata": {},
   "outputs": [],
   "source": []
  },
  {
   "cell_type": "code",
   "execution_count": null,
   "metadata": {},
   "outputs": [],
   "source": []
  },
  {
   "cell_type": "code",
   "execution_count": null,
   "metadata": {},
   "outputs": [],
   "source": []
  },
  {
   "cell_type": "code",
   "execution_count": null,
   "metadata": {},
   "outputs": [],
   "source": []
  },
  {
   "cell_type": "markdown",
   "metadata": {},
   "source": [
    "- song"
   ]
  },
  {
   "cell_type": "code",
   "execution_count": 100,
   "metadata": {},
   "outputs": [],
   "source": [
    "unique_song_userid = (\n",
    "    user_log_clean_churn.groupBy(\"userId\")\n",
    "    .agg(\n",
    "        countDistinct(\"song\").alias(\"UniqueSongs\"),\n",
    "        first(\"churn_lab\").alias(\"churn_lab\")  # Assuming it's a binary label (0 or 1)\n",
    "    )\n",
    ")"
   ]
  },
  {
   "cell_type": "code",
   "execution_count": 156,
   "metadata": {},
   "outputs": [
    {
     "data": {
      "image/png": "[encoded data removed]",
      "text/plain": [
       "<matplotlib.figure.Figure at 0x7f92344fe5c0>"
      ]
     },
     "metadata": {},
     "output_type": "display_data"
    }
   ],
   "source": [
    "sns.set(style=\"whitegrid\")\n",
    "\n",
    "plt.figure(figsize=(4, 6))\n",
    "sns.boxplot(x=\"churn_lab\", y=\"UniqueSongs\", data=unique_song_userid.toPandas())\n",
    "\n",
    "plt.xlabel('Churn Label')\n",
    "plt.ylabel('Number of unique songs listened to')\n",
    "plt.title('Box Plot Unique Songs by Churn Label')\n",
    "\n",
    "plt.show()"
   ]
  },
  {
   "cell_type": "markdown",
   "metadata": {},
   "source": [
    "status"
   ]
  },
  {
   "cell_type": "code",
   "execution_count": 102,
   "metadata": {},
   "outputs": [
    {
     "name": "stdout",
     "output_type": "stream",
     "text": [
      "+------+------+\n",
      "|status| count|\n",
      "+------+------+\n",
      "|   307| 23184|\n",
      "|   404|   252|\n",
      "|   200|254718|\n",
      "+------+------+\n",
      "\n"
     ]
    }
   ],
   "source": [
    "spark.sql('SELECT status, COUNT(status) AS count\\\n",
    "           FROM user_log_table_clean\\\n",
    "           GROUP BY status').show()"
   ]
  },
  {
   "cell_type": "markdown",
   "metadata": {},
   "source": [
    "dropping this column"
   ]
  },
  {
   "cell_type": "markdown",
   "metadata": {},
   "source": [
    "- itemInSession"
   ]
  },
  {
   "cell_type": "code",
   "execution_count": 103,
   "metadata": {},
   "outputs": [],
   "source": [
    "itemsession_per_user = user_log_clean_churn.select('itemInSession','userId','churn_lab').groupBy('userId','churn_lab').agg(spark_sum('itemInSession').alias('total_items'))"
   ]
  },
  {
   "cell_type": "code",
   "execution_count": 104,
   "metadata": {},
   "outputs": [
    {
     "name": "stdout",
     "output_type": "stream",
     "text": [
      "+------+---------+-----------+\n",
      "|userId|churn_lab|total_items|\n",
      "+------+---------+-----------+\n",
      "|    19|        0|      35787|\n",
      "|100005|        1|       6396|\n",
      "|200007|        0|       1517|\n",
      "|300007|        1|      10153|\n",
      "|    50|        0|      38269|\n",
      "|200002|        0|      28714|\n",
      "|    30|        0|     153981|\n",
      "|     8|        0|      16650|\n",
      "|100011|        1|        253|\n",
      "|100012|        1|      43338|\n",
      "|     4|        0|     371556|\n",
      "|    65|        0|     257775|\n",
      "|   101|        1|     558026|\n",
      "|    13|        0|     122176|\n",
      "|   153|        0|     159616|\n",
      "|    42|        0|     346961|\n",
      "|100014|        1|      10707|\n",
      "|    94|        0|       4593|\n",
      "|    62|        0|     374198|\n",
      "|   114|        0|     122924|\n",
      "+------+---------+-----------+\n",
      "only showing top 20 rows\n",
      "\n"
     ]
    }
   ],
   "source": [
    "itemsession_per_user.show()"
   ]
  },
  {
   "cell_type": "code",
   "execution_count": 155,
   "metadata": {},
   "outputs": [
    {
     "data": {
      "image/png": "[encoded data removed]",
      "text/plain": [
       "<matplotlib.figure.Figure at 0x7f92348ef6a0>"
      ]
     },
     "metadata": {},
     "output_type": "display_data"
    }
   ],
   "source": [
    "sns.set(style=\"whitegrid\")\n",
    "\n",
    "plt.figure(figsize=(4, 6))\n",
    "sns.boxplot(x=\"churn_lab\", y=\"total_items\", data=itemsession_per_user.toPandas())\n",
    "\n",
    "plt.xlabel('Churn Label')\n",
    "plt.ylabel('Number of days since registration')\n",
    "plt.title('Number of days since registration by churn')\n",
    "\n",
    "plt.show()"
   ]
  },
  {
   "cell_type": "markdown",
   "metadata": {},
   "source": [
    "userAgent"
   ]
  },
  {
   "cell_type": "code",
   "execution_count": null,
   "metadata": {},
   "outputs": [],
   "source": []
  },
  {
   "cell_type": "code",
   "execution_count": 106,
   "metadata": {},
   "outputs": [
    {
     "data": {
      "text/plain": [
       "[Row(artist='Martha Tilston', gender='M', itemInSession=50, length=277.89016, level='paid', location='Bakersfield, CA', page='NextSong', sessionId=29, song='Rockpools', status=200, userAgent='Mozilla/5.0 (Windows NT 6.1; WOW64; rv:31.0) Gecko/20100101 Firefox/31.0', userId='30', ts_todate=datetime.date(2018, 10, 1), registration_todate=datetime.date(2018, 9, 28), churn_lab=0, city='Bakersfield', state='CA', state1='CA')]"
      ]
     },
     "execution_count": 106,
     "metadata": {},
     "output_type": "execute_result"
    }
   ],
   "source": [
    "user_log_clean_churn.take(1)"
   ]
  },
  {
   "cell_type": "code",
   "execution_count": 107,
   "metadata": {},
   "outputs": [],
   "source": [
    "userAgent_userid = (\n",
    "    user_log_clean_churn.groupBy(\"userId\")\n",
    "    .agg(first(\"userAgent\").alias(\"userAgent\"),\n",
    "        first(\"churn_lab\").alias(\"churn_lab\")  # Assuming it's a binary label (0 or 1)\n",
    "    )\n",
    ")"
   ]
  },
  {
   "cell_type": "code",
   "execution_count": 108,
   "metadata": {},
   "outputs": [
    {
     "data": {
      "text/plain": [
       "array([ '\"Mozilla/5.0 (iPhone; CPU iPhone OS 7_1_2 like Mac OS X) AppleWebKit/537.51.2 (KHTML, like Gecko) Version/7.0 Mobile/11D257 Safari/9537.53\"',\n",
       "       '\"Mozilla/5.0 (iPhone; CPU iPhone OS 7_1 like Mac OS X) AppleWebKit/537.51.2 (KHTML, like Gecko) Version/7.0 Mobile/11D167 Safari/9537.53\"',\n",
       "       '\"Mozilla/5.0 (Macintosh; Intel Mac OS X 10_9_4) AppleWebKit/537.36 (KHTML, like Gecko) Chrome/36.0.1985.125 Safari/537.36\"',\n",
       "       '\"Mozilla/5.0 (Macintosh; Intel Mac OS X 10_9_4) AppleWebKit/537.36 (KHTML, like Gecko) Chrome/36.0.1985.143 Safari/537.36\"',\n",
       "       '\"Mozilla/5.0 (Windows NT 6.1; WOW64) AppleWebKit/537.36 (KHTML, like Gecko) Chrome/36.0.1985.143 Safari/537.36\"',\n",
       "       'Mozilla/5.0 (Windows NT 6.1; rv:31.0) Gecko/20100101 Firefox/31.0',\n",
       "       'Mozilla/5.0 (Windows NT 6.1; WOW64; rv:32.0) Gecko/20100101 Firefox/32.0',\n",
       "       '\"Mozilla/5.0 (Macintosh; Intel Mac OS X 10_9_4) AppleWebKit/537.77.4 (KHTML, like Gecko) Version/7.0.5 Safari/537.77.4\"',\n",
       "       'Mozilla/5.0 (Windows NT 6.2; WOW64; rv:31.0) Gecko/20100101 Firefox/31.0',\n",
       "       'Mozilla/5.0 (Windows NT 6.1; WOW64; Trident/7.0; rv:11.0) like Gecko',\n",
       "       '\"Mozilla/5.0 (iPad; CPU OS 7_1_1 like Mac OS X) AppleWebKit/537.51.2 (KHTML, like Gecko) Version/7.0 Mobile/11D201 Safari/9537.53\"',\n",
       "       '\"Mozilla/5.0 (Macintosh; Intel Mac OS X 10_10) AppleWebKit/600.1.8 (KHTML, like Gecko) Version/8.0 Safari/600.1.8\"',\n",
       "       '\"Mozilla/5.0 (Macintosh; Intel Mac OS X 10_9_4) AppleWebKit/537.78.2 (KHTML, like Gecko) Version/7.0.6 Safari/537.78.2\"',\n",
       "       'Mozilla/5.0 (Windows NT 6.1; WOW64; rv:31.0) Gecko/20100101 Firefox/31.0',\n",
       "       '\"Mozilla/5.0 (Windows NT 6.1) AppleWebKit/537.36 (KHTML, like Gecko) Chrome/36.0.1985.143 Safari/537.36\"',\n",
       "       'Mozilla/5.0 (X11; Ubuntu; Linux x86_64; rv:31.0) Gecko/20100101 Firefox/31.0',\n",
       "       '\"Mozilla/5.0 (Macintosh; Intel Mac OS X 10_9_4) AppleWebKit/537.36 (KHTML, like Gecko) Chrome/37.0.2062.94 Safari/537.36\"',\n",
       "       '\"Mozilla/5.0 (Windows NT 6.3; WOW64) AppleWebKit/537.36 (KHTML, like Gecko) Chrome/36.0.1985.143 Safari/537.36\"',\n",
       "       '\"Mozilla/5.0 (Windows NT 5.1) AppleWebKit/537.36 (KHTML, like Gecko) Chrome/36.0.1985.143 Safari/537.36\"',\n",
       "       'Mozilla/5.0 (Macintosh; Intel Mac OS X 10.9; rv:31.0) Gecko/20100101 Firefox/31.0',\n",
       "       '\"Mozilla/5.0 (X11; Linux x86_64) AppleWebKit/537.36 (KHTML, like Gecko) Chrome/36.0.1985.143 Safari/537.36\"',\n",
       "       'Mozilla/5.0 (Macintosh; Intel Mac OS X 10.7; rv:31.0) Gecko/20100101 Firefox/31.0',\n",
       "       'Mozilla/5.0 (Macintosh; Intel Mac OS X 10.6; rv:31.0) Gecko/20100101 Firefox/31.0',\n",
       "       '\"Mozilla/5.0 (Macintosh; Intel Mac OS X 10_9_4) AppleWebKit/537.36 (KHTML, like Gecko) Chrome/35.0.1916.153 Safari/537.36\"',\n",
       "       '\"Mozilla/5.0 (Macintosh; Intel Mac OS X 10_8_5) AppleWebKit/537.36 (KHTML, like Gecko) Chrome/37.0.2062.94 Safari/537.36\"',\n",
       "       '\"Mozilla/5.0 (Macintosh; Intel Mac OS X 10_7_5) AppleWebKit/537.36 (KHTML, like Gecko) Chrome/36.0.1985.125 Safari/537.36\"',\n",
       "       '\"Mozilla/5.0 (X11; Linux x86_64) AppleWebKit/537.36 (KHTML, like Gecko) Chrome/36.0.1985.125 Safari/537.36\"',\n",
       "       '\"Mozilla/5.0 (Macintosh; Intel Mac OS X 10_8_5) AppleWebKit/537.36 (KHTML, like Gecko) Chrome/36.0.1985.143 Safari/537.36\"',\n",
       "       'Mozilla/5.0 (Windows NT 6.1; WOW64; rv:30.0) Gecko/20100101 Firefox/30.0',\n",
       "       '\"Mozilla/5.0 (Windows NT 6.1; WOW64) AppleWebKit/537.36 (KHTML, like Gecko) Chrome/37.0.2062.103 Safari/537.36\"',\n",
       "       '\"Mozilla/5.0 (iPhone; CPU iPhone OS 7_1_1 like Mac OS X) AppleWebKit/537.51.2 (KHTML, like Gecko) Version/7.0 Mobile/11D201 Safari/9537.53\"',\n",
       "       '\"Mozilla/5.0 (Windows NT 6.1; WOW64) AppleWebKit/537.36 (KHTML, like Gecko) Chrome/37.0.2062.94 Safari/537.36\"',\n",
       "       '\"Mozilla/5.0 (Windows NT 6.1; WOW64) AppleWebKit/537.36 (KHTML, like Gecko) Chrome/36.0.1985.125 Safari/537.36\"',\n",
       "       'Mozilla/5.0 (Windows NT 6.1; WOW64; rv:24.0) Gecko/20100101 Firefox/24.0',\n",
       "       '\"Mozilla/5.0 (Windows NT 6.3; WOW64) AppleWebKit/537.36 (KHTML, like Gecko) Chrome/36.0.1985.125 Safari/537.36\"',\n",
       "       'Mozilla/5.0 (compatible; MSIE 9.0; Windows NT 6.1; WOW64; Trident/5.0)',\n",
       "       '\"Mozilla/5.0 (Windows NT 5.1) AppleWebKit/537.36 (KHTML, like Gecko) Chrome/36.0.1985.125 Safari/537.36\"',\n",
       "       '\"Mozilla/5.0 (Windows NT 6.2; WOW64) AppleWebKit/537.36 (KHTML, like Gecko) Chrome/36.0.1985.125 Safari/537.36\"',\n",
       "       '\"Mozilla/5.0 (Windows NT 6.1; WOW64) AppleWebKit/537.36 (KHTML, like Gecko) Chrome/35.0.1916.153 Safari/537.36\"',\n",
       "       'Mozilla/5.0 (compatible; MSIE 9.0; Windows NT 6.1; Trident/5.0)',\n",
       "       '\"Mozilla/5.0 (Windows NT 6.1) AppleWebKit/537.36 (KHTML, like Gecko) Chrome/36.0.1985.125 Safari/537.36\"',\n",
       "       'Mozilla/5.0 (Macintosh; Intel Mac OS X 10.8; rv:31.0) Gecko/20100101 Firefox/31.0',\n",
       "       '\"Mozilla/5.0 (Macintosh; Intel Mac OS X 10_9_3) AppleWebKit/537.76.4 (KHTML, like Gecko) Version/7.0.4 Safari/537.76.4\"',\n",
       "       'Mozilla/5.0 (compatible; MSIE 10.0; Windows NT 6.1; WOW64; Trident/6.0)',\n",
       "       'Mozilla/5.0 (Windows NT 6.3; WOW64; rv:31.0) Gecko/20100101 Firefox/31.0',\n",
       "       '\"Mozilla/5.0 (Macintosh; Intel Mac OS X 10_9_2) AppleWebKit/537.75.14 (KHTML, like Gecko) Version/7.0.3 Safari/537.75.14\"',\n",
       "       '\"Mozilla/5.0 (Macintosh; Intel Mac OS X 10_9_2) AppleWebKit/537.36 (KHTML, like Gecko) Chrome/36.0.1985.125 Safari/537.36\"',\n",
       "       '\"Mozilla/5.0 (iPad; CPU OS 7_1_2 like Mac OS X) AppleWebKit/537.51.2 (KHTML, like Gecko) Version/7.0 Mobile/11D257 Safari/9537.53\"',\n",
       "       'Mozilla/5.0 (X11; Ubuntu; Linux i686; rv:31.0) Gecko/20100101 Firefox/31.0',\n",
       "       '\"Mozilla/5.0 (Macintosh; Intel Mac OS X 10_9_2) AppleWebKit/537.74.9 (KHTML, like Gecko) Version/7.0.2 Safari/537.74.9\"',\n",
       "       '\"Mozilla/5.0 (Macintosh; Intel Mac OS X 10_10) AppleWebKit/600.1.3 (KHTML, like Gecko) Version/8.0 Safari/600.1.3\"',\n",
       "       'Mozilla/5.0 (X11; Linux x86_64; rv:31.0) Gecko/20100101 Firefox/31.0',\n",
       "       'Mozilla/5.0 (Windows NT 6.0; rv:31.0) Gecko/20100101 Firefox/31.0',\n",
       "       '\"Mozilla/5.0 (Macintosh; Intel Mac OS X 10_7_5) AppleWebKit/537.77.4 (KHTML, like Gecko) Version/6.1.5 Safari/537.77.4\"',\n",
       "       '\"Mozilla/5.0 (Windows NT 6.2; WOW64) AppleWebKit/537.36 (KHTML, like Gecko) Chrome/36.0.1985.143 Safari/537.36\"',\n",
       "       '\"Mozilla/5.0 (Macintosh; Intel Mac OS X 10_6_8) AppleWebKit/537.36 (KHTML, like Gecko) Chrome/36.0.1985.143 Safari/537.36\"'], dtype=object)"
      ]
     },
     "execution_count": 108,
     "metadata": {},
     "output_type": "execute_result"
    }
   ],
   "source": [
    "userAgent_userid.toPandas()['userAgent'].unique()"
   ]
  },
  {
   "cell_type": "markdown",
   "metadata": {},
   "source": [
    "there is a lot of information in this column. It is diffidult to understand why there are so many platforms for each user so I will drop userAgent for now."
   ]
  },
  {
   "cell_type": "markdown",
   "metadata": {},
   "source": [
    "- ts_todate"
   ]
  },
  {
   "cell_type": "code",
   "execution_count": 109,
   "metadata": {},
   "outputs": [
    {
     "data": {
      "text/plain": [
       "[Row(artist='Martha Tilston', gender='M', itemInSession=50, length=277.89016, level='paid', location='Bakersfield, CA', page='NextSong', sessionId=29, song='Rockpools', status=200, userAgent='Mozilla/5.0 (Windows NT 6.1; WOW64; rv:31.0) Gecko/20100101 Firefox/31.0', userId='30', ts_todate=datetime.date(2018, 10, 1), registration_todate=datetime.date(2018, 9, 28), churn_lab=0, city='Bakersfield', state='CA', state1='CA')]"
      ]
     },
     "execution_count": 109,
     "metadata": {},
     "output_type": "execute_result"
    }
   ],
   "source": [
    "user_log_clean_churn.take(1)"
   ]
  },
  {
   "cell_type": "code",
   "execution_count": 110,
   "metadata": {},
   "outputs": [],
   "source": [
    "#isolate userid and dates\n",
    "columns=['userId', 'ts_todate','registration_todate','churn_lab']\n",
    "dates_df = user_log_clean_churn.select(columns)\n"
   ]
  },
  {
   "cell_type": "code",
   "execution_count": 111,
   "metadata": {},
   "outputs": [],
   "source": [
    "dates_df= dates_df.withColumn(\"RegistrationDate\", col(\"registration_todate\").cast(\"date\"))\n",
    "dates_df = dates_df.withColumn(\"SessionDate\", col(\"ts_todate\").cast(\"date\"))\n"
   ]
  },
  {
   "cell_type": "code",
   "execution_count": 112,
   "metadata": {},
   "outputs": [
    {
     "data": {
      "text/plain": [
       "[Row(userId='30', ts_todate=datetime.date(2018, 10, 1), registration_todate=datetime.date(2018, 9, 28), churn_lab=0, RegistrationDate=datetime.date(2018, 9, 28), SessionDate=datetime.date(2018, 10, 1))]"
      ]
     },
     "execution_count": 112,
     "metadata": {},
     "output_type": "execute_result"
    }
   ],
   "source": [
    "dates_df.take(1)"
   ]
  },
  {
   "cell_type": "code",
   "execution_count": 113,
   "metadata": {},
   "outputs": [],
   "source": [
    "dates_df = dates_df.withColumn(\"NumDaysSinceRegistration\", datediff(col(\"SessionDate\"), col(\"RegistrationDate\")))\n"
   ]
  },
  {
   "cell_type": "code",
   "execution_count": 114,
   "metadata": {},
   "outputs": [
    {
     "data": {
      "text/plain": [
       "[Row(userId='30', ts_todate=datetime.date(2018, 10, 1), registration_todate=datetime.date(2018, 9, 28), churn_lab=0, RegistrationDate=datetime.date(2018, 9, 28), SessionDate=datetime.date(2018, 10, 1), NumDaysSinceRegistration=3)]"
      ]
     },
     "execution_count": 114,
     "metadata": {},
     "output_type": "execute_result"
    }
   ],
   "source": [
    "dates_df.take(1)"
   ]
  },
  {
   "cell_type": "code",
   "execution_count": 115,
   "metadata": {},
   "outputs": [],
   "source": [
    "dates_df = dates_df.groupBy(\"userId\").agg(\n",
    "    first(\"churn_lab\").alias(\"churn_lab\"),\n",
    "    first(\"NumDaysSinceRegistration\").alias(\"NumDaysSinceRegistration\")\n",
    ")"
   ]
  },
  {
   "cell_type": "code",
   "execution_count": 116,
   "metadata": {
    "scrolled": true
   },
   "outputs": [
    {
     "name": "stdout",
     "output_type": "stream",
     "text": [
      "+------+---------+------------------------+\n",
      "|userId|churn_lab|NumDaysSinceRegistration|\n",
      "+------+---------+------------------------+\n",
      "|100010|        0|                      11|\n",
      "|200002|        0|                      25|\n",
      "|   125|        1|                      72|\n",
      "|    51|        1|                       4|\n",
      "|   124|        0|                      71|\n",
      "|     7|        0|                      22|\n",
      "|    54|        1|                      68|\n",
      "|    15|        0|                       2|\n",
      "|   155|        0|                      -2|\n",
      "|   132|        0|                      17|\n",
      "|   154|        0|                      -1|\n",
      "|100014|        1|                      44|\n",
      "|   101|        1|                      39|\n",
      "|    11|        0|                      72|\n",
      "|   138|        0|                      10|\n",
      "|300017|        0|                      15|\n",
      "|    29|        1|                      16|\n",
      "|    69|        0|                      20|\n",
      "|100021|        1|                      20|\n",
      "|    42|        0|                       7|\n",
      "+------+---------+------------------------+\n",
      "only showing top 20 rows\n",
      "\n"
     ]
    }
   ],
   "source": [
    "dates_df.show()"
   ]
  },
  {
   "cell_type": "code",
   "execution_count": 154,
   "metadata": {},
   "outputs": [
    {
     "data": {
      "image/png": "[encoded data removed]",
      "text/plain": [
       "<matplotlib.figure.Figure at 0x7f9234c4a7f0>"
      ]
     },
     "metadata": {},
     "output_type": "display_data"
    }
   ],
   "source": [
    "sns.set(style=\"whitegrid\")\n",
    "\n",
    "plt.figure(figsize=(4, 6))\n",
    "sns.boxplot(x=\"churn_lab\", y=\"NumDaysSinceRegistration\", data=dates_df.toPandas())\n",
    "\n",
    "plt.xlabel('Churn Label')\n",
    "plt.ylabel('Number of days since registration')\n",
    "plt.title('Number of days since registration by churn')\n",
    "\n",
    "plt.show()"
   ]
  },
  {
   "cell_type": "markdown",
   "metadata": {},
   "source": [
    "More features with time\n",
    "- average number of sessions per day\n",
    "- average number of sessions per month\n",
    "- average number of items per day\n",
    "- average number of items per month"
   ]
  },
  {
   "cell_type": "code",
   "execution_count": 126,
   "metadata": {},
   "outputs": [
    {
     "data": {
      "text/plain": [
       "[Row(artist='Martha Tilston', gender='M', itemInSession=50, length=277.89016, level='paid', location='Bakersfield, CA', page='NextSong', sessionId=29, song='Rockpools', status=200, userAgent='Mozilla/5.0 (Windows NT 6.1; WOW64; rv:31.0) Gecko/20100101 Firefox/31.0', userId='30', ts_todate=datetime.date(2018, 10, 1), registration_todate=datetime.date(2018, 9, 28), churn_lab=0, city='Bakersfield', state='CA', state1='CA')]"
      ]
     },
     "execution_count": 126,
     "metadata": {},
     "output_type": "execute_result"
    }
   ],
   "source": [
    "user_log_clean_churn.take(1)"
   ]
  },
  {
   "cell_type": "code",
   "execution_count": 127,
   "metadata": {},
   "outputs": [],
   "source": [
    "user_log_clean_churn = user_log_clean_churn.withColumn('month', month('ts_todate'))\n"
   ]
  },
  {
   "cell_type": "code",
   "execution_count": 128,
   "metadata": {},
   "outputs": [
    {
     "data": {
      "text/plain": [
       "[Row(artist='Martha Tilston', gender='M', itemInSession=50, length=277.89016, level='paid', location='Bakersfield, CA', page='NextSong', sessionId=29, song='Rockpools', status=200, userAgent='Mozilla/5.0 (Windows NT 6.1; WOW64; rv:31.0) Gecko/20100101 Firefox/31.0', userId='30', ts_todate=datetime.date(2018, 10, 1), registration_todate=datetime.date(2018, 9, 28), churn_lab=0, city='Bakersfield', state='CA', state1='CA', month=10)]"
      ]
     },
     "execution_count": 128,
     "metadata": {},
     "output_type": "execute_result"
    }
   ],
   "source": [
    "user_log_clean_churn.take(1)"
   ]
  },
  {
   "cell_type": "code",
   "execution_count": 135,
   "metadata": {},
   "outputs": [],
   "source": [
    "sessions_month = user_log_clean_churn.groupBy('userId','month','churn_lab').agg(count('*').alias('sessions_month'))"
   ]
  },
  {
   "cell_type": "code",
   "execution_count": 140,
   "metadata": {},
   "outputs": [],
   "source": [
    "avg_session_month = sessions_month.groupBy('userID','churn_lab').agg(spark_avg('sessions_month').alias('avg_session_month'))"
   ]
  },
  {
   "cell_type": "code",
   "execution_count": 153,
   "metadata": {},
   "outputs": [
    {
     "data": {
      "image/png": "[encoded data removed]",
      "text/plain": [
       "<matplotlib.figure.Figure at 0x7f92349d20b8>"
      ]
     },
     "metadata": {},
     "output_type": "display_data"
    }
   ],
   "source": [
    "sns.set(style=\"whitegrid\")\n",
    "\n",
    "plt.figure(figsize=(4, 6))\n",
    "sns.boxplot(x=\"churn_lab\", y=\"avg_session_month\", data=avg_session_month.toPandas())\n",
    "\n",
    "plt.xlabel('Churn Label')\n",
    "plt.ylabel('Average number of sessions per month')\n",
    "plt.title('Average number of sessions per by churn')\n",
    "\n",
    "plt.show()"
   ]
  },
  {
   "cell_type": "code",
   "execution_count": 142,
   "metadata": {},
   "outputs": [],
   "source": [
    "sessions_day = user_log_clean_churn.groupBy('userId','ts_todate','churn_lab').agg(count('*').alias('sessions_day'))"
   ]
  },
  {
   "cell_type": "code",
   "execution_count": 144,
   "metadata": {},
   "outputs": [
    {
     "name": "stdout",
     "output_type": "stream",
     "text": [
      "+------+----------+---------+------------+\n",
      "|userId| ts_todate|churn_lab|sessions_day|\n",
      "+------+----------+---------+------------+\n",
      "|   111|2018-10-04|        0|          19|\n",
      "|    12|2018-10-09|        1|          39|\n",
      "|   124|2018-10-10|        0|          18|\n",
      "|     4|2018-10-21|        0|          36|\n",
      "|   136|2018-10-24|        0|         140|\n",
      "|   118|2018-10-25|        0|          42|\n",
      "|     9|2018-10-31|        0|         133|\n",
      "|   147|2018-10-31|        0|          90|\n",
      "|    22|2018-11-08|        0|           5|\n",
      "|   153|2018-11-12|        0|          74|\n",
      "|    53|2018-11-14|        1|         110|\n",
      "|     9|2018-11-14|        0|         121|\n",
      "|    39|2018-11-15|        0|         261|\n",
      "|    37|2018-11-23|        0|          36|\n",
      "|   142|2018-11-27|        0|          59|\n",
      "|   136|2018-11-28|        0|         398|\n",
      "|100024|2018-10-04|        1|          36|\n",
      "|100015|2018-11-07|        1|          80|\n",
      "|200023|2018-10-15|        0|           7|\n",
      "|200015|2018-10-25|        1|           1|\n",
      "+------+----------+---------+------------+\n",
      "only showing top 20 rows\n",
      "\n"
     ]
    }
   ],
   "source": [
    "sessions_day.show()"
   ]
  },
  {
   "cell_type": "code",
   "execution_count": 146,
   "metadata": {},
   "outputs": [],
   "source": [
    "avg_session_day = sessions_day.groupBy('userID','churn_lab').agg(spark_avg('sessions_day').alias('avg_session_day'))"
   ]
  },
  {
   "cell_type": "code",
   "execution_count": 152,
   "metadata": {},
   "outputs": [
    {
     "data": {
      "image/png": "[encoded data removed]",
      "text/plain": [
       "<matplotlib.figure.Figure at 0x7f9234aa4c18>"
      ]
     },
     "metadata": {},
     "output_type": "display_data"
    }
   ],
   "source": [
    "sns.set(style=\"whitegrid\")\n",
    "\n",
    "plt.figure(figsize=(4, 6))\n",
    "sns.boxplot(x=\"churn_lab\", y=\"avg_session_day\", data=avg_session_day.toPandas())\n",
    "\n",
    "plt.xlabel('Churn Label')\n",
    "plt.ylabel('Average number of sessions per day')\n",
    "plt.title('Average number of sessions per day by churn')\n",
    "\n",
    "plt.show()"
   ]
  },
  {
   "cell_type": "code",
   "execution_count": null,
   "metadata": {},
   "outputs": [],
   "source": []
  },
  {
   "cell_type": "markdown",
   "metadata": {},
   "source": [
    "# Feature Engineering\n",
    "Once you've familiarized yourself with the data, build out the features you find promising to train your model on. To work with the full dataset, you can follow the following steps.\n",
    "- Write a script to extract the necessary features from the smaller subset of data\n",
    "- Ensure that your script is scalable, using the best practices discussed in Lesson 3\n",
    "- Try your script on the full data set, debugging your script if necessary\n",
    "\n",
    "If you are working in the classroom workspace, you can just extract features based on the small subset of data contained here. Be sure to transfer over this work to the larger dataset when you work on your Spark cluster."
   ]
  },
  {
   "cell_type": "code",
   "execution_count": null,
   "metadata": {},
   "outputs": [],
   "source": [
    "#let's take a look at the schema again\n",
    "user_log_clean_churn.printSchema()  "
   ]
  },
  {
   "cell_type": "markdown",
   "metadata": {},
   "source": [
    "## Final check and decision for each feature\n",
    "\n",
    " |-- artist: string (nullable = true) -> 1 col with count of unique artists per user\n",
    " |-- gender: string (nullable = true) -> 1 col with gender per user\n",
    " |-- itemInSession: long (nullable = true) -> 1 col with\n",
    " |-- length: double (nullable = true) -> 2 cols avg and session total length\n",
    " |-- level: string (nullable = true)  -> drop\n",
    " |-- location: string (nullable = true) -> 1 col first state per user\n",
    " |-- page: string (nullable = true) -> 1 col of number of unique pages visited by user + count of each page visited by user (+19)\n",
    " |-- sessionId: long (nullable = true) -> drop\n",
    " |-- song: string (nullable = true) -> 1 col count of unique songs per user\n",
    " |-- status: long (nullable = true) -> drop\n",
    " |-- userAgent: string (nullable = true) -> drop\n",
    " |-- userId: string (nullable = true) -> 1 col as is\n",
    " |-- ts_todate: date (nullable = true) -> \n",
    " |-- registration_todate: date (nullable = true)-> 1 col of number of days after registration\n",
    " |-- churn_lab: integer (nullable = false) -> 1 col churn type per user\n",
    " |-- city: string (nullable = true) -> drop\n",
    " |-- state: string (nullable = true) -> drop\n",
    " |-- state1: string (nullable = true) -> keep for 1 col state by user (see location)"
   ]
  },
  {
   "cell_type": "markdown",
   "metadata": {},
   "source": [
    "- select features to keep\n",
    "- define what features need to be engineered and what to do\n",
    "-- timestamp\n",
    "\n",
    "#create udf functions using lambda\n",
    "function_name = udf(lambda x: action(, x), IntegerType())\n",
    "\n",
    "#to create new columns\n",
    "df.withColumn(\"newcolname\",function(df.oldcolname))"
   ]
  },
  {
   "cell_type": "code",
   "execution_count": null,
   "metadata": {},
   "outputs": [],
   "source": [
    "user_log_clean_churn.take(1)"
   ]
  },
  {
   "cell_type": "code",
   "execution_count": null,
   "metadata": {},
   "outputs": [],
   "source": [
    "def prepare_data(df):\n",
    "    '''This function takes a the spark dataframe and executes the following main steps:\n",
    "    - checking and removing missing data in userId\n",
    "    - drops all features that won't be used in the model\n",
    "    - churn labeling\n",
    "    - reformat timestamp to dates\n",
    "    - from here, aggregation by userid\n",
    "    - create new features: avg_song_length, avg_session_length, duration_registered, session_count, count_by_page_type\n",
    "    - \n",
    "    \n",
    "    Input: spark dataframe\n",
    "    Output: clean spark dataframe including one row per userId and new features'''\n",
    "    \n",
    "    #removing rows for all missing userId\n",
    "    condition = user_log.userId != ''\n",
    "    df= df.filter(condition)\n",
    "    \n",
    "    #feature drop\n",
    "    cols_to_drop = ('firstname','lastname','method','auth','level','sessionId','status','userAgent')\n",
    "    df = df.drop(*cols)\n",
    "    \n",
    "    #churn labeling\n",
    "    #use function created earlier\n",
    "    df = create_churn_label(df)\n",
    "    \n",
    "    #formatting datetime for ts and registration\n",
    "    \n",
    "    #split location info to retrieve state\n",
    "    \n",
    "    \n",
    "    \n",
    "    #new features and aggregation by feature\n",
    "    #allows to aggregate many features in one step\n",
    "    agg_df1 = df.groupBy(\"userId\").agg(\n",
    "                              first(\"gender\").alias(\"gender\"), \n",
    "                              artist\n",
    "                              first(\"state\").alias(\"state\"),\n",
    "                              spark_sum(\"length\").alias(\"total_session_length\"),\n",
    "                              spark_avg(\"length\").alias(\"avg_session_length\"),\n",
    "                              first(\"churn_lab\").alias(\"churn_label\"),\n",
    "        \n",
    "        \n",
    "    )\n",
    "    \n",
    "    #aggregate by month\n",
    "    agg_df1 = df.groupBy(\"userId\").agg(\n",
    "                              first(\"gender\").alias(\"gender\"), \n",
    "                              artist\n",
    "                              first(\"state\").alias(\"state\"),\n",
    "                              spark_sum(\"length\").alias(\"total_session_length\"),\n",
    "                              spark_avg(\"length\").alias(\"avg_session_length\"),\n",
    "                              first(\"churn_lab\").alias(\"churn_label\"),\n",
    "        \n",
    "        \n",
    "    )\n",
    "    \n",
    "    #aggregate by day\n",
    "\n",
    "    \n",
    "    \n",
    "    \n",
    "    #join all agg_df\n",
    "   \n",
    "    \n",
    "    \n",
    "    \n",
    "    \n",
    "    return agg_df"
   ]
  },
  {
   "cell_type": "markdown",
   "metadata": {},
   "source": [
    "# Modeling\n",
    "Split the full dataset into train, test, and validation sets. Test out several of the machine learning methods you learned. Evaluate the accuracy of the various models, tuning parameters as necessary. Determine your winning model based on test accuracy and report results on the validation set. Since the churned users are a fairly small subset, I suggest using F1 score as the metric to optimize."
   ]
  },
  {
   "cell_type": "code",
   "execution_count": null,
   "metadata": {},
   "outputs": [],
   "source": [
    "# splitting data\n",
    "train, test = df.randomSplit(weights=[0.8,0.2], seed=200)\n"
   ]
  },
  {
   "cell_type": "code",
   "execution_count": null,
   "metadata": {},
   "outputs": [],
   "source": [
    "# give the model accuracy\n",
    "lr.Model2.summary.accuracy"
   ]
  },
  {
   "cell_type": "code",
   "execution_count": null,
   "metadata": {},
   "outputs": [],
   "source": [
    "#pipeline - create a variable for each model and then use the function Pipeline\n",
    "\n",
    "\n",
    "model1 =\n",
    "model2 = \n",
    "\n",
    "pipeline = Pipeline(stages=[model,model2])\n"
   ]
  },
  {
   "cell_type": "code",
   "execution_count": null,
   "metadata": {},
   "outputs": [],
   "source": [
    "plrModel = pipeline.fit(train) #trains the model"
   ]
  },
  {
   "cell_type": "code",
   "execution_count": null,
   "metadata": {},
   "outputs": [],
   "source": [
    "test_predictions = plrModel.transform(test) #predicts"
   ]
  },
  {
   "cell_type": "markdown",
   "metadata": {},
   "source": [
    "# Final Steps\n",
    "Clean up your code, adding comments and renaming variables to make the code easier to read and maintain. Refer to the Spark Project Overview page and Data Scientist Capstone Project Rubric to make sure you are including all components of the capstone project and meet all expectations. Remember, this includes thorough documentation in a README file in a Github repository, as well as a web app or blog post."
   ]
  },
  {
   "cell_type": "code",
   "execution_count": null,
   "metadata": {},
   "outputs": [],
   "source": []
  }
 ],
 "metadata": {
  "kernelspec": {
   "display_name": "Python 3",
   "language": "python",
   "name": "python3"
  },
  "language_info": {
   "codemirror_mode": {
    "name": "ipython",
    "version": 3
   },
   "file_extension": ".py",
   "mimetype": "text/x-python",
   "name": "python",
   "nbconvert_exporter": "python",
   "pygments_lexer": "ipython3",
   "version": "3.6.3"
  }
 },
 "nbformat": 4,
 "nbformat_minor": 2
}
