{
 "cells": [
  {
   "cell_type": "markdown",
   "metadata": {},
   "source": [
    "# Sparkify Project Workspace\n",
    "This workspace contains a tiny subset (128MB) of the full dataset available (12GB). Feel free to use this workspace to build your project, or to explore a smaller subset with Spark before deploying your cluster on the cloud. Instructions for setting up your Spark cluster is included in the last lesson of the Extracurricular Spark Course content.\n",
    "\n",
    "You can follow the steps below to guide your data analysis and model building portion of this project."
   ]
  },
  {
   "cell_type": "code",
   "execution_count": 1,
   "metadata": {},
   "outputs": [
    {
     "name": "stdout",
     "output_type": "stream",
     "text": [
      "Python Version: 3.12.0 | packaged by conda-forge | (main, Oct  3 2023, 08:43:38) [Clang 15.0.7 ]\n"
     ]
    }
   ],
   "source": [
    "import sys\n",
    "print(\"Python Version:\", sys.version)\n"
   ]
  },
  {
   "cell_type": "code",
   "execution_count": 2,
   "metadata": {},
   "outputs": [],
   "source": [
    "# import libraries\n",
    "import pyspark\n",
    "from pyspark import SparkConf\n",
    "from pyspark import SparkFiles\n",
    "\n",
    "from pyspark.sql import SparkSession\n",
    "\n",
    "from pyspark.sql.types import StringType\n",
    "from pyspark.sql.types import IntegerType\n",
    "from pyspark.sql.types import TimestampType\n",
    "\n",
    "\n",
    "from pyspark.sql.functions import isnan, count, when, col, desc, udf, col, sort_array, asc, desc, countDistinct, first\n",
    "from pyspark.sql.functions import udf, trim,expr\n",
    "from pyspark.sql.functions import to_date, year, month, dayofmonth, dayofweek, hour, date_format, substring,datediff\n",
    "from pyspark.sql.functions import sum as spark_sum, avg as spark_avg\n",
    "\n",
    "from pyspark.ml.feature import StringIndexer, OneHotEncoder, VectorAssembler, MinMaxScaler, StandardScaler\n",
    "from pyspark.ml import Pipeline\n",
    "\n",
    "from pyspark.ml.classification import LogisticRegression, RandomForestClassifier, GBTClassifier\n",
    "\n",
    "from pyspark.ml.evaluation import BinaryClassificationEvaluator, MulticlassClassificationEvaluator\n",
    "\n",
    "from pyspark.ml.tuning import ParamGridBuilder, CrossValidator\n",
    "\n",
    "from pyspark.sql import Row\n",
    "from tabulate import tabulate\n",
    "\n",
    "import pickle\n",
    "\n",
    "\n",
    "\n",
    "import datetime\n",
    "\n",
    "import numpy as np\n",
    "import pandas as pd\n",
    "%matplotlib inline\n",
    "import matplotlib.pyplot as plt\n",
    "import seaborn as sns\n"
   ]
  },
  {
   "cell_type": "code",
   "execution_count": 3,
   "metadata": {},
   "outputs": [
    {
     "name": "stderr",
     "output_type": "stream",
     "text": [
      "Setting default log level to \"WARN\".\n",
      "To adjust logging level use sc.setLogLevel(newLevel). For SparkR, use setLogLevel(newLevel).\n",
      "24/02/29 09:07:39 WARN NativeCodeLoader: Unable to load native-hadoop library for your platform... using builtin-java classes where applicable\n"
     ]
    }
   ],
   "source": [
    "# create a Spark session\n",
    "spark = SparkSession \\\n",
    "    .builder \\\n",
    "    .appName(\"Sparkify Data Exploration\") \\\n",
    "    .getOrCreate()"
   ]
  },
  {
   "cell_type": "code",
   "execution_count": 4,
   "metadata": {},
   "outputs": [
    {
     "data": {
      "text/html": [
       "\n",
       "            <div>\n",
       "                <p><b>SparkSession - in-memory</b></p>\n",
       "                \n",
       "        <div>\n",
       "            <p><b>SparkContext</b></p>\n",
       "\n",
       "            <p><a href=\"http://isabelles-air.lan:4040\">Spark UI</a></p>\n",
       "\n",
       "            <dl>\n",
       "              <dt>Version</dt>\n",
       "                <dd><code>v3.5.0</code></dd>\n",
       "              <dt>Master</dt>\n",
       "                <dd><code>local[*]</code></dd>\n",
       "              <dt>AppName</dt>\n",
       "                <dd><code>Sparkify Data Exploration</code></dd>\n",
       "            </dl>\n",
       "        </div>\n",
       "        \n",
       "            </div>\n",
       "        "
      ],
      "text/plain": [
       "<pyspark.sql.session.SparkSession at 0x14d359dc0>"
      ]
     },
     "execution_count": 4,
     "metadata": {},
     "output_type": "execute_result"
    }
   ],
   "source": [
    "spark"
   ]
  },
  {
   "cell_type": "code",
   "execution_count": 5,
   "metadata": {},
   "outputs": [
    {
     "data": {
      "text/plain": [
       "[('spark.app.id', 'local-1709219259887'),\n",
       " ('spark.executor.id', 'driver'),\n",
       " ('spark.driver.host', 'isabelles-air.lan'),\n",
       " ('spark.driver.port', '65494'),\n",
       " ('spark.app.startTime', '1709219259057'),\n",
       " ('spark.app.submitTime', '1709219258915'),\n",
       " ('spark.driver.extraJavaOptions',\n",
       "  '-Djava.net.preferIPv6Addresses=false -XX:+IgnoreUnrecognizedVMOptions --add-opens=java.base/java.lang=ALL-UNNAMED --add-opens=java.base/java.lang.invoke=ALL-UNNAMED --add-opens=java.base/java.lang.reflect=ALL-UNNAMED --add-opens=java.base/java.io=ALL-UNNAMED --add-opens=java.base/java.net=ALL-UNNAMED --add-opens=java.base/java.nio=ALL-UNNAMED --add-opens=java.base/java.util=ALL-UNNAMED --add-opens=java.base/java.util.concurrent=ALL-UNNAMED --add-opens=java.base/java.util.concurrent.atomic=ALL-UNNAMED --add-opens=java.base/sun.nio.ch=ALL-UNNAMED --add-opens=java.base/sun.nio.cs=ALL-UNNAMED --add-opens=java.base/sun.security.action=ALL-UNNAMED --add-opens=java.base/sun.util.calendar=ALL-UNNAMED --add-opens=java.security.jgss/sun.security.krb5=ALL-UNNAMED -Djdk.reflect.useDirectMethodHandle=false'),\n",
       " ('spark.rdd.compress', 'True'),\n",
       " ('spark.sql.warehouse.dir',\n",
       "  'file:/Users/isabellevea/Documents/_GitHub/scaling-fishstick/notebooks/spark-warehouse'),\n",
       " ('spark.serializer.objectStreamReset', '100'),\n",
       " ('spark.master', 'local[*]'),\n",
       " ('spark.submit.pyFiles', ''),\n",
       " ('spark.app.name', 'Sparkify Data Exploration'),\n",
       " ('spark.submit.deployMode', 'client'),\n",
       " ('spark.ui.showConsoleProgress', 'true'),\n",
       " ('spark.executor.extraJavaOptions',\n",
       "  '-Djava.net.preferIPv6Addresses=false -XX:+IgnoreUnrecognizedVMOptions --add-opens=java.base/java.lang=ALL-UNNAMED --add-opens=java.base/java.lang.invoke=ALL-UNNAMED --add-opens=java.base/java.lang.reflect=ALL-UNNAMED --add-opens=java.base/java.io=ALL-UNNAMED --add-opens=java.base/java.net=ALL-UNNAMED --add-opens=java.base/java.nio=ALL-UNNAMED --add-opens=java.base/java.util=ALL-UNNAMED --add-opens=java.base/java.util.concurrent=ALL-UNNAMED --add-opens=java.base/java.util.concurrent.atomic=ALL-UNNAMED --add-opens=java.base/sun.nio.ch=ALL-UNNAMED --add-opens=java.base/sun.nio.cs=ALL-UNNAMED --add-opens=java.base/sun.security.action=ALL-UNNAMED --add-opens=java.base/sun.util.calendar=ALL-UNNAMED --add-opens=java.security.jgss/sun.security.krb5=ALL-UNNAMED -Djdk.reflect.useDirectMethodHandle=false')]"
      ]
     },
     "execution_count": 5,
     "metadata": {},
     "output_type": "execute_result"
    }
   ],
   "source": [
    "spark.sparkContext.getConf().getAll()"
   ]
  },
  {
   "cell_type": "markdown",
   "metadata": {},
   "source": [
    "# Load and Clean Dataset\n",
    "In this workspace, the mini-dataset file is `mini_sparkify_event_data.json`. Load and clean the dataset, checking for invalid or missing data - for example, records without userids or sessionids. "
   ]
  },
  {
   "cell_type": "markdown",
   "metadata": {},
   "source": [
    "### GETTING MINI DATASET FROM PUBLIC HTTP LINK\n",
    "For the 12GB dataset, I uploaded it in an S3 bucket I created because I could not access the data from the S3 URI link provided by the class."
   ]
  },
  {
   "cell_type": "code",
   "execution_count": 6,
   "metadata": {},
   "outputs": [],
   "source": [
    "spark.sparkContext.addFile(\"https://udacity-dsnd.s3.amazonaws.com/sparkify/mini_sparkify_event_data.json\")\n"
   ]
  },
  {
   "cell_type": "code",
   "execution_count": 7,
   "metadata": {},
   "outputs": [
    {
     "name": "stderr",
     "output_type": "stream",
     "text": [
      "                                                                                \r"
     ]
    }
   ],
   "source": [
    "user_log = spark.read.json(\"file://\" +SparkFiles.get(\"mini_sparkify_event_data.json\"))"
   ]
  },
  {
   "cell_type": "code",
   "execution_count": 8,
   "metadata": {},
   "outputs": [
    {
     "data": {
      "text/plain": [
       "[Row(artist='Martha Tilston', auth='Logged In', firstName='Colin', gender='M', itemInSession=50, lastName='Freeman', length=277.89016, level='paid', location='Bakersfield, CA', method='PUT', page='NextSong', registration=1538173362000, sessionId=29, song='Rockpools', status=200, ts=1538352117000, userAgent='Mozilla/5.0 (Windows NT 6.1; WOW64; rv:31.0) Gecko/20100101 Firefox/31.0', userId='30')]"
      ]
     },
     "execution_count": 8,
     "metadata": {},
     "output_type": "execute_result"
    }
   ],
   "source": [
    "# showing the first line of the dataset\n",
    "user_log.take(1)"
   ]
  },
  {
   "cell_type": "code",
   "execution_count": 9,
   "metadata": {},
   "outputs": [
    {
     "name": "stdout",
     "output_type": "stream",
     "text": [
      "root\n",
      " |-- artist: string (nullable = true)\n",
      " |-- auth: string (nullable = true)\n",
      " |-- firstName: string (nullable = true)\n",
      " |-- gender: string (nullable = true)\n",
      " |-- itemInSession: long (nullable = true)\n",
      " |-- lastName: string (nullable = true)\n",
      " |-- length: double (nullable = true)\n",
      " |-- level: string (nullable = true)\n",
      " |-- location: string (nullable = true)\n",
      " |-- method: string (nullable = true)\n",
      " |-- page: string (nullable = true)\n",
      " |-- registration: long (nullable = true)\n",
      " |-- sessionId: long (nullable = true)\n",
      " |-- song: string (nullable = true)\n",
      " |-- status: long (nullable = true)\n",
      " |-- ts: long (nullable = true)\n",
      " |-- userAgent: string (nullable = true)\n",
      " |-- userId: string (nullable = true)\n",
      "\n"
     ]
    }
   ],
   "source": [
    "# printing out headers\n",
    "user_log.printSchema()"
   ]
  },
  {
   "cell_type": "markdown",
   "metadata": {},
   "source": [
    "It looks like one row is a record of a song played, so we have the artist name and the song name, as well as the length of the session. "
   ]
  },
  {
   "cell_type": "code",
   "execution_count": 10,
   "metadata": {},
   "outputs": [
    {
     "data": {
      "text/plain": [
       "[Row(artist=None, auth='Logged In', firstName='Adriel', gender='M', itemInSession=103, lastName='Mendoza', length=None, level='paid', location='Kansas City, MO-KS', method='PUT', page='Cancel', registration=1535623466000, sessionId=514, song=None, status=307, ts=1538943740000, userAgent='\"Mozilla/5.0 (Macintosh; Intel Mac OS X 10_9_4) AppleWebKit/537.77.4 (KHTML, like Gecko) Version/7.0.5 Safari/537.77.4\"', userId='18')]"
      ]
     },
     "execution_count": 10,
     "metadata": {},
     "output_type": "execute_result"
    }
   ],
   "source": [
    "user_log.filter(col(\"page\") == \"Cancel\").take(1)"
   ]
  },
  {
   "cell_type": "markdown",
   "metadata": {},
   "source": [
    "When the user is in a page without song playing, length it None, so length correspond to the length of the song played."
   ]
  },
  {
   "cell_type": "markdown",
   "metadata": {},
   "source": [
    "## Missing data and invalid data"
   ]
  },
  {
   "cell_type": "markdown",
   "metadata": {},
   "source": [
    "We will start exploring the data using SQL, so we need to create a temporary view."
   ]
  },
  {
   "cell_type": "code",
   "execution_count": 11,
   "metadata": {},
   "outputs": [
    {
     "name": "stdout",
     "output_type": "stream",
     "text": [
      "+-------------+---------+-------+\n",
      "|     col_name|data_type|comment|\n",
      "+-------------+---------+-------+\n",
      "|       artist|   string|   NULL|\n",
      "|         auth|   string|   NULL|\n",
      "|    firstName|   string|   NULL|\n",
      "|       gender|   string|   NULL|\n",
      "|itemInSession|   bigint|   NULL|\n",
      "|     lastName|   string|   NULL|\n",
      "|       length|   double|   NULL|\n",
      "|        level|   string|   NULL|\n",
      "|     location|   string|   NULL|\n",
      "|       method|   string|   NULL|\n",
      "|         page|   string|   NULL|\n",
      "| registration|   bigint|   NULL|\n",
      "|    sessionId|   bigint|   NULL|\n",
      "|         song|   string|   NULL|\n",
      "|       status|   bigint|   NULL|\n",
      "|           ts|   bigint|   NULL|\n",
      "|    userAgent|   string|   NULL|\n",
      "|       userId|   string|   NULL|\n",
      "+-------------+---------+-------+\n",
      "\n"
     ]
    }
   ],
   "source": [
    "user_log.createOrReplaceTempView(\"user_log_table\")\n",
    "spark.sql('DESC user_log_table\\\n",
    "          ').show()"
   ]
  },
  {
   "cell_type": "markdown",
   "metadata": {},
   "source": [
    "As suggested let's see if userId has any missing data or sessionId"
   ]
  },
  {
   "cell_type": "code",
   "execution_count": 12,
   "metadata": {},
   "outputs": [
    {
     "name": "stdout",
     "output_type": "stream",
     "text": [
      "+------+----+---------+------+-------------+--------+------+-----+--------+------+----+------------+---------+----+------+---+---------+------+\n",
      "|artist|auth|firstName|gender|itemInSession|lastName|length|level|location|method|page|registration|sessionId|song|status| ts|userAgent|userId|\n",
      "+------+----+---------+------+-------------+--------+------+-----+--------+------+----+------------+---------+----+------+---+---------+------+\n",
      "+------+----+---------+------+-------------+--------+------+-----+--------+------+----+------------+---------+----+------+---+---------+------+\n",
      "\n"
     ]
    }
   ],
   "source": [
    "### Missing or invalid data in userids or sessionid\n",
    "spark.sql('SELECT * \\\n",
    "           FROM user_log_table \\\n",
    "           WHERE userId IS NULL \\\n",
    "            ').show()"
   ]
  },
  {
   "cell_type": "code",
   "execution_count": 13,
   "metadata": {},
   "outputs": [
    {
     "name": "stdout",
     "output_type": "stream",
     "text": [
      "+------+----+---------+------+-------------+--------+------+-----+--------+------+----+------------+---------+----+------+---+---------+------+\n",
      "|artist|auth|firstName|gender|itemInSession|lastName|length|level|location|method|page|registration|sessionId|song|status| ts|userAgent|userId|\n",
      "+------+----+---------+------+-------------+--------+------+-----+--------+------+----+------------+---------+----+------+---+---------+------+\n",
      "+------+----+---------+------+-------------+--------+------+-----+--------+------+----+------------+---------+----+------+---+---------+------+\n",
      "\n"
     ]
    }
   ],
   "source": [
    "spark.sql('SELECT * \\\n",
    "           FROM user_log_table \\\n",
    "           WHERE sessionId IS NULL \\\n",
    "            ').show()"
   ]
  },
  {
   "cell_type": "markdown",
   "metadata": {},
   "source": [
    "There is no null values for both userId or sessionId. Maybe missing data is coded differently. Let's look at the userId list."
   ]
  },
  {
   "cell_type": "code",
   "execution_count": 14,
   "metadata": {},
   "outputs": [
    {
     "name": "stderr",
     "output_type": "stream",
     "text": [
      "[Stage 9:>                                                          (0 + 8) / 8]\r"
     ]
    },
    {
     "name": "stdout",
     "output_type": "stream",
     "text": [
      "+------+\n",
      "|userId|\n",
      "+------+\n",
      "|      |\n",
      "|    10|\n",
      "|   100|\n",
      "|100001|\n",
      "|100002|\n",
      "|100003|\n",
      "|100004|\n",
      "|100005|\n",
      "|100006|\n",
      "|100007|\n",
      "|100008|\n",
      "|100009|\n",
      "|100010|\n",
      "|100011|\n",
      "|100012|\n",
      "|100013|\n",
      "|100014|\n",
      "|100015|\n",
      "|100016|\n",
      "|100017|\n",
      "+------+\n",
      "only showing top 20 rows\n",
      "\n"
     ]
    },
    {
     "name": "stderr",
     "output_type": "stream",
     "text": [
      "                                                                                \r"
     ]
    }
   ],
   "source": [
    "spark.sql('SELECT DISTINCT userId \\\n",
    "           FROM user_log_table \\\n",
    "           ORDER BY userId \\\n",
    "            ').show()"
   ]
  },
  {
   "cell_type": "code",
   "execution_count": 15,
   "metadata": {},
   "outputs": [
    {
     "name": "stderr",
     "output_type": "stream",
     "text": [
      "Java HotSpot(TM) 64-Bit Server VM warning: CodeCache is full. Compiler has been disabled.\n",
      "Java HotSpot(TM) 64-Bit Server VM warning: Try increasing the code cache size using -XX:ReservedCodeCacheSize=\n"
     ]
    },
    {
     "name": "stdout",
     "output_type": "stream",
     "text": [
      "CodeCache: size=131072Kb used=28393Kb max_used=28393Kb free=102678Kb\n",
      " bounds [0x000000010a9e0000, 0x000000010c5d0000, 0x00000001129e0000]\n",
      " total_blobs=11379 nmethods=10394 adapters=894\n",
      " compilation: disabled (not enough contiguous free space left)\n",
      "+---------+\n",
      "|sessionId|\n",
      "+---------+\n",
      "|        1|\n",
      "|        2|\n",
      "|        3|\n",
      "|        4|\n",
      "|        5|\n",
      "|        6|\n",
      "|        7|\n",
      "|        8|\n",
      "|        9|\n",
      "|       10|\n",
      "|       11|\n",
      "|       12|\n",
      "|       13|\n",
      "|       15|\n",
      "|       16|\n",
      "|       17|\n",
      "|       18|\n",
      "|       19|\n",
      "|       20|\n",
      "|       21|\n",
      "+---------+\n",
      "only showing top 20 rows\n",
      "\n"
     ]
    }
   ],
   "source": [
    "spark.sql('SELECT DISTINCT sessionId \\\n",
    "           FROM user_log_table \\\n",
    "           ORDER BY sessionId \\\n",
    "            ').show()"
   ]
  },
  {
   "cell_type": "markdown",
   "metadata": {},
   "source": [
    "There are userids that have empty strings. Who are these users?\n",
    "Since we don't know if this is the same user or multiple users, we are going to remove all userid with empty strings. We know that in auth, there is a guest value, let's check if the empty string userid are those who are guest so they did not register to the platform."
   ]
  },
  {
   "cell_type": "code",
   "execution_count": 16,
   "metadata": {},
   "outputs": [
    {
     "name": "stdout",
     "output_type": "stream",
     "text": [
      "+-----------------------+\n",
      "|empty_strings_in_userid|\n",
      "+-----------------------+\n",
      "|                   8346|\n",
      "+-----------------------+\n",
      "\n"
     ]
    }
   ],
   "source": [
    "spark.sql('SELECT COUNT(userId) AS empty_strings_in_userid \\\n",
    "           FROM user_log_table \\\n",
    "           WHERE userId = \"\" \\\n",
    "            ').show()"
   ]
  },
  {
   "cell_type": "code",
   "execution_count": 17,
   "metadata": {},
   "outputs": [
    {
     "name": "stdout",
     "output_type": "stream",
     "text": [
      "+----------+\n",
      "|      auth|\n",
      "+----------+\n",
      "|Logged Out|\n",
      "|     Guest|\n",
      "+----------+\n",
      "\n"
     ]
    }
   ],
   "source": [
    "spark.sql('SELECT DISTINCT auth\\\n",
    "           FROM user_log_table \\\n",
    "           WHERE userId = \"\" \\\n",
    "          ').show()"
   ]
  },
  {
   "cell_type": "markdown",
   "metadata": {},
   "source": [
    "We see that both logged out and guests do not have a userId, so it makes sense to remove them, since we cannot associated them with any user."
   ]
  },
  {
   "cell_type": "code",
   "execution_count": 18,
   "metadata": {},
   "outputs": [],
   "source": [
    "#filtering out rows with '' for userId\n",
    "condition = user_log.userId != ''\n",
    "user_log_filtered= user_log.filter(condition)"
   ]
  },
  {
   "cell_type": "code",
   "execution_count": 19,
   "metadata": {},
   "outputs": [],
   "source": [
    "#rebuild database view\n",
    "user_log_filtered.createOrReplaceTempView(\"user_log_table_filtered\")\n"
   ]
  },
  {
   "cell_type": "code",
   "execution_count": 20,
   "metadata": {
    "scrolled": true
   },
   "outputs": [
    {
     "name": "stdout",
     "output_type": "stream",
     "text": [
      "+---------------------------+\n",
      "|num_records_after_filtering|\n",
      "+---------------------------+\n",
      "|                     278154|\n",
      "+---------------------------+\n",
      "\n"
     ]
    }
   ],
   "source": [
    "spark.sql('SELECT COUNT(*) num_records_after_filtering\\\n",
    "           FROM user_log_table_filtered\\\n",
    "           ').show()"
   ]
  },
  {
   "cell_type": "code",
   "execution_count": 21,
   "metadata": {},
   "outputs": [
    {
     "name": "stdout",
     "output_type": "stream",
     "text": [
      "+------------+\n",
      "|userId_count|\n",
      "+------------+\n",
      "|         225|\n",
      "+------------+\n",
      "\n"
     ]
    }
   ],
   "source": [
    "spark.sql('SELECT COUNT(DISTINCT userId) AS userId_count\\\n",
    "           FROM user_log_table_filtered\\\n",
    "           ').show()"
   ]
  },
  {
   "cell_type": "markdown",
   "metadata": {},
   "source": [
    "We have 278154 remaining records and 225 users. (which makes sense since userid with empty strings counted as 1)."
   ]
  },
  {
   "cell_type": "markdown",
   "metadata": {},
   "source": [
    "Let's continue with the user_log_filtered df"
   ]
  },
  {
   "cell_type": "code",
   "execution_count": 22,
   "metadata": {},
   "outputs": [
    {
     "name": "stdout",
     "output_type": "stream",
     "text": [
      "+--------------------+-------------+\n",
      "|                page|number_visits|\n",
      "+--------------------+-------------+\n",
      "|               About|          495|\n",
      "|          Add Friend|         4277|\n",
      "|     Add to Playlist|         6526|\n",
      "|              Cancel|           52|\n",
      "|Cancellation Conf...|           52|\n",
      "|           Downgrade|         2055|\n",
      "|               Error|          252|\n",
      "|                Help|         1454|\n",
      "|                Home|        10082|\n",
      "|              Logout|         3226|\n",
      "|            NextSong|       228108|\n",
      "|         Roll Advert|         3933|\n",
      "|       Save Settings|          310|\n",
      "|            Settings|         1514|\n",
      "|    Submit Downgrade|           63|\n",
      "|      Submit Upgrade|          159|\n",
      "|         Thumbs Down|         2546|\n",
      "|           Thumbs Up|        12551|\n",
      "|             Upgrade|          499|\n",
      "+--------------------+-------------+\n",
      "\n"
     ]
    },
    {
     "name": "stderr",
     "output_type": "stream",
     "text": [
      "                                                                                \r"
     ]
    }
   ],
   "source": [
    "spark.sql('SELECT page, COUNT(*) AS number_visits\\\n",
    "            FROM user_log_table_filtered\\\n",
    "            GROUP BY page\\\n",
    "            ORDER BY page').show()"
   ]
  },
  {
   "cell_type": "code",
   "execution_count": 23,
   "metadata": {
    "scrolled": true
   },
   "outputs": [
    {
     "name": "stderr",
     "output_type": "stream",
     "text": [
      "[Stage 33:=======>                                                  (1 + 7) / 8]\r"
     ]
    },
    {
     "name": "stdout",
     "output_type": "stream",
     "text": [
      "+---------+-----+\n",
      "|     auth|count|\n",
      "+---------+-----+\n",
      "|Cancelled|   52|\n",
      "|Logged In|  225|\n",
      "+---------+-----+\n",
      "\n"
     ]
    },
    {
     "name": "stderr",
     "output_type": "stream",
     "text": [
      "                                                                                \r"
     ]
    }
   ],
   "source": [
    "#checking unique values in auth\n",
    "spark.sql('SELECT DISTINCT auth, COUNT (DISTINCT userId) AS count\\\n",
    "            FROM user_log_table_filtered \\\n",
    "            GROUP BY auth\\\n",
    "            ').show()\n",
    "#auth show the status of the user when they are using the platform\n",
    "#NB: check the number of unique users using the platform as cancelled and see if it matched with churn users"
   ]
  },
  {
   "cell_type": "markdown",
   "metadata": {},
   "source": [
    "This look right, there are a total of 225 unique users who at some point had auth= logged in and the 52 users among these who cancelled.\n",
    "Since this will represent churn too, I will drop auth."
   ]
  },
  {
   "cell_type": "code",
   "execution_count": 24,
   "metadata": {},
   "outputs": [
    {
     "name": "stderr",
     "output_type": "stream",
     "text": [
      "[Stage 39:>                                                         (0 + 8) / 8]\r"
     ]
    },
    {
     "name": "stdout",
     "output_type": "stream",
     "text": [
      "+------+\n",
      "|status|\n",
      "+------+\n",
      "|   307|\n",
      "|   404|\n",
      "|   200|\n",
      "+------+\n",
      "\n"
     ]
    },
    {
     "name": "stderr",
     "output_type": "stream",
     "text": [
      "                                                                                \r"
     ]
    }
   ],
   "source": [
    "#checking unique values in status\n",
    "spark.sql('SELECT DISTINCT status\\\n",
    "            FROM user_log_table_filtered\\\n",
    "            ').show()\n"
   ]
  },
  {
   "cell_type": "code",
   "execution_count": 25,
   "metadata": {},
   "outputs": [
    {
     "name": "stderr",
     "output_type": "stream",
     "text": [
      "[Stage 42:>                                                         (0 + 8) / 8]\r"
     ]
    },
    {
     "name": "stdout",
     "output_type": "stream",
     "text": [
      "+------+\n",
      "|method|\n",
      "+------+\n",
      "|   PUT|\n",
      "|   GET|\n",
      "+------+\n",
      "\n"
     ]
    },
    {
     "name": "stderr",
     "output_type": "stream",
     "text": [
      "                                                                                \r"
     ]
    }
   ],
   "source": [
    "#checking unique values in method\n",
    "spark.sql('SELECT DISTINCT method\\\n",
    "            FROM user_log_table_filtered\\\n",
    "            ').show()\n"
   ]
  },
  {
   "cell_type": "code",
   "execution_count": 26,
   "metadata": {},
   "outputs": [
    {
     "name": "stdout",
     "output_type": "stream",
     "text": [
      "+--------------------+\n",
      "|                page|\n",
      "+--------------------+\n",
      "|              Cancel|\n",
      "|    Submit Downgrade|\n",
      "|         Thumbs Down|\n",
      "|                Home|\n",
      "|           Downgrade|\n",
      "|         Roll Advert|\n",
      "|              Logout|\n",
      "|       Save Settings|\n",
      "|Cancellation Conf...|\n",
      "|               About|\n",
      "|            Settings|\n",
      "|     Add to Playlist|\n",
      "|          Add Friend|\n",
      "|            NextSong|\n",
      "|           Thumbs Up|\n",
      "|                Help|\n",
      "|             Upgrade|\n",
      "|               Error|\n",
      "|      Submit Upgrade|\n",
      "+--------------------+\n",
      "\n"
     ]
    }
   ],
   "source": [
    "spark.sql('SELECT DISTINCT page\\\n",
    "          FROM user_log_table_filtered').show()"
   ]
  },
  {
   "cell_type": "code",
   "execution_count": 27,
   "metadata": {},
   "outputs": [
    {
     "name": "stdout",
     "output_type": "stream",
     "text": [
      "+-----------+\n",
      "|number_rows|\n",
      "+-----------+\n",
      "|     278154|\n",
      "+-----------+\n",
      "\n"
     ]
    }
   ],
   "source": [
    "#How many records does the dataset have?\n",
    "spark.sql('SELECT COUNT(*) AS number_rows\\\n",
    "            FROM user_log_table_filtered').show()"
   ]
  },
  {
   "cell_type": "code",
   "execution_count": 28,
   "metadata": {},
   "outputs": [
    {
     "name": "stdout",
     "output_type": "stream",
     "text": [
      "+------------+\n",
      "|unique_users|\n",
      "+------------+\n",
      "|         225|\n",
      "+------------+\n",
      "\n"
     ]
    }
   ],
   "source": [
    "#How many distint users?\n",
    "spark.sql('SELECT COUNT(DISTINCT userid) AS unique_users\\\n",
    "            FROM user_log_table_filtered\\\n",
    "            ').show()"
   ]
  },
  {
   "cell_type": "markdown",
   "metadata": {},
   "source": [
    "In this dataset there are 225 unique users"
   ]
  },
  {
   "cell_type": "code",
   "execution_count": 29,
   "metadata": {},
   "outputs": [
    {
     "name": "stdout",
     "output_type": "stream",
     "text": [
      "+---------+\n",
      "|paid_free|\n",
      "+---------+\n",
      "|      195|\n",
      "|      165|\n",
      "+---------+\n",
      "\n"
     ]
    },
    {
     "name": "stderr",
     "output_type": "stream",
     "text": [
      "                                                                                \r"
     ]
    }
   ],
   "source": [
    "# how many paid and free users?\n",
    "spark.sql('SELECT COUNT(DISTINCT userid) AS paid_free\\\n",
    "            FROM user_log_table_filtered\\\n",
    "            GROUP BY level').show()"
   ]
  },
  {
   "cell_type": "markdown",
   "metadata": {},
   "source": [
    "This doesn't sum up so it means that at some point, some users went from paid to free, or vice versa"
   ]
  },
  {
   "cell_type": "markdown",
   "metadata": {},
   "source": [
    "The churn column will be create using Cancellation Confirmation, which is the same number as Cancel. We can quickly check if the userId who went on cancel are the same as those who went to Cancellation confirmation"
   ]
  },
  {
   "cell_type": "markdown",
   "metadata": {},
   "source": [
    "#### Feature documentation and decision "
   ]
  },
  {
   "cell_type": "markdown",
   "metadata": {},
   "source": [
    "The data includes the following columns:\n",
    "- artist (string) : artist/singer name - keep\n",
    "- auth (string): user status - **drop as redundant with churn**\n",
    "- firstName (string) : user first name - **drop as redundant with userid**\n",
    "- gender (string): user's gender (female or male) - keep - can be changed to categorical\n",
    "- itemInSession (long): number of events during the current session - keep\n",
    "- lastName (string) : user's lastname - **drop as redundant with userid**\n",
    "- length (double): duration of song played - keep \n",
    "- level (string): subscription level (paid or free) - keep - can be changed to categorical.\n",
    "- location (string): user's location format city, state (in the USA) - keep- can be engineered by separating state\n",
    "- method (string): (put or get) - **drop**\n",
    "- page (string): page where the user is - keep\n",
    "- registration (long): timestamp of when the user registered. - keep - change time format, and check if there is any data for guests.\n",
    "- sessionId (long): unique Id for the session the user is in ***drop***\n",
    "- song (string): song playing - keep\n",
    "- status (long): looks like page error status\n",
    "- ts (long): timestamp , must be time when the user started the session \n",
    "- userAgent ( string ) : browser keep and change to categorical\n",
    "- userId ( string) unique Id per user - keep \n",
    "\n",
    "#### Features to drop\n",
    "- firstname, lastname, method, auth"
   ]
  },
  {
   "cell_type": "code",
   "execution_count": 30,
   "metadata": {},
   "outputs": [
    {
     "name": "stdout",
     "output_type": "stream",
     "text": [
      "root\n",
      " |-- artist: string (nullable = true)\n",
      " |-- gender: string (nullable = true)\n",
      " |-- itemInSession: long (nullable = true)\n",
      " |-- length: double (nullable = true)\n",
      " |-- level: string (nullable = true)\n",
      " |-- location: string (nullable = true)\n",
      " |-- page: string (nullable = true)\n",
      " |-- registration: long (nullable = true)\n",
      " |-- sessionId: long (nullable = true)\n",
      " |-- song: string (nullable = true)\n",
      " |-- status: long (nullable = true)\n",
      " |-- ts: long (nullable = true)\n",
      " |-- userAgent: string (nullable = true)\n",
      " |-- userId: string (nullable = true)\n",
      "\n"
     ]
    }
   ],
   "source": [
    "cols = (\"firstname\",\"lastname\",\"method\",\"auth\")\n",
    "user_log = user_log_filtered.drop(*cols)\n",
    "user_log.printSchema()  "
   ]
  },
  {
   "cell_type": "code",
   "execution_count": 31,
   "metadata": {},
   "outputs": [
    {
     "name": "stdout",
     "output_type": "stream",
     "text": [
      "+-------------+---------+-------+\n",
      "|     col_name|data_type|comment|\n",
      "+-------------+---------+-------+\n",
      "|       artist|   string|   NULL|\n",
      "|       gender|   string|   NULL|\n",
      "|itemInSession|   bigint|   NULL|\n",
      "|       length|   double|   NULL|\n",
      "|        level|   string|   NULL|\n",
      "|     location|   string|   NULL|\n",
      "|         page|   string|   NULL|\n",
      "| registration|   bigint|   NULL|\n",
      "|    sessionId|   bigint|   NULL|\n",
      "|         song|   string|   NULL|\n",
      "|       status|   bigint|   NULL|\n",
      "|           ts|   bigint|   NULL|\n",
      "|    userAgent|   string|   NULL|\n",
      "|       userId|   string|   NULL|\n",
      "+-------------+---------+-------+\n",
      "\n"
     ]
    }
   ],
   "source": [
    "user_log.createOrReplaceTempView(\"user_log_table\")\n",
    "spark.sql('DESC user_log_table\\\n",
    "          ').show()"
   ]
  },
  {
   "cell_type": "markdown",
   "metadata": {},
   "source": [
    "# Feature engineering\n",
    "This will include:\n",
    "- taking care of any time related features: ts and registration\n",
    "- creating new features using time related features: registration month etc..\n",
    "- identifying missing data and make a decision on these\n",
    "- finalizing features selected and check their type (categorical binary etc.)"
   ]
  },
  {
   "cell_type": "markdown",
   "metadata": {},
   "source": [
    "## Reformating time features into date"
   ]
  },
  {
   "cell_type": "code",
   "execution_count": 32,
   "metadata": {},
   "outputs": [
    {
     "name": "stdout",
     "output_type": "stream",
     "text": [
      "+-------------+-------------+\n",
      "|           ts| registration|\n",
      "+-------------+-------------+\n",
      "|1538352117000|1538173362000|\n",
      "|1538352180000|1538331630000|\n",
      "|1538352394000|1538173362000|\n",
      "|1538352416000|1538331630000|\n",
      "|1538352676000|1538173362000|\n",
      "|1538352678000|1538331630000|\n",
      "|1538352886000|1538331630000|\n",
      "|1538352899000|1538173362000|\n",
      "|1538352905000|1538173362000|\n",
      "|1538353084000|1538173362000|\n",
      "+-------------+-------------+\n",
      "\n"
     ]
    }
   ],
   "source": [
    "# these two columns have timestamps so they will be engineered to extract data on time (day, month, year)\n",
    "spark.sql('SELECT ts, registration \\\n",
    "          FROM user_log_table\\\n",
    "          LIMIT 10 ').show()"
   ]
  },
  {
   "cell_type": "markdown",
   "metadata": {},
   "source": [
    "ts and registration are timestamps so we will convert into readable time"
   ]
  },
  {
   "cell_type": "code",
   "execution_count": 33,
   "metadata": {},
   "outputs": [],
   "source": [
    "user_log = user_log.withColumn('ts_ts', (col('ts') / 1000.0).cast(TimestampType()))"
   ]
  },
  {
   "cell_type": "code",
   "execution_count": 34,
   "metadata": {},
   "outputs": [],
   "source": [
    "user_log = user_log.withColumn('ts_todate', to_date('ts_ts'))"
   ]
  },
  {
   "cell_type": "code",
   "execution_count": 35,
   "metadata": {},
   "outputs": [],
   "source": [
    "user_log = user_log.withColumn('registration_ts', (col('registration') / 1000.0).cast(TimestampType()))"
   ]
  },
  {
   "cell_type": "code",
   "execution_count": 36,
   "metadata": {},
   "outputs": [],
   "source": [
    "user_log = user_log.withColumn('registration_todate', to_date('registration_ts'))"
   ]
  },
  {
   "cell_type": "code",
   "execution_count": 37,
   "metadata": {},
   "outputs": [],
   "source": [
    "cols = (\"ts\",\"registration\",\"ts_ts\",\"registration_ts\")\n",
    "user_log = user_log.drop(*cols)"
   ]
  },
  {
   "cell_type": "code",
   "execution_count": 38,
   "metadata": {},
   "outputs": [
    {
     "name": "stdout",
     "output_type": "stream",
     "text": [
      "+-------------------+---------+-------+\n",
      "|           col_name|data_type|comment|\n",
      "+-------------------+---------+-------+\n",
      "|             artist|   string|   NULL|\n",
      "|             gender|   string|   NULL|\n",
      "|      itemInSession|   bigint|   NULL|\n",
      "|             length|   double|   NULL|\n",
      "|              level|   string|   NULL|\n",
      "|           location|   string|   NULL|\n",
      "|               page|   string|   NULL|\n",
      "|          sessionId|   bigint|   NULL|\n",
      "|               song|   string|   NULL|\n",
      "|             status|   bigint|   NULL|\n",
      "|          userAgent|   string|   NULL|\n",
      "|             userId|   string|   NULL|\n",
      "|          ts_todate|     date|   NULL|\n",
      "|registration_todate|     date|   NULL|\n",
      "+-------------------+---------+-------+\n",
      "\n"
     ]
    }
   ],
   "source": [
    "#recreate sql view\n",
    "user_log.createOrReplaceTempView(\"user_log_table\")\n",
    "spark.sql('DESC user_log_table').show()"
   ]
  },
  {
   "cell_type": "markdown",
   "metadata": {},
   "source": [
    "#### ts and registration were reformated and are now dates. Let's take a look"
   ]
  },
  {
   "cell_type": "code",
   "execution_count": 39,
   "metadata": {},
   "outputs": [
    {
     "name": "stdout",
     "output_type": "stream",
     "text": [
      "+----------+-------------------+\n",
      "| ts_todate|registration_todate|\n",
      "+----------+-------------------+\n",
      "|2018-09-30|         2018-09-28|\n",
      "|2018-09-30|         2018-09-30|\n",
      "|2018-09-30|         2018-09-28|\n",
      "|2018-09-30|         2018-09-30|\n",
      "|2018-09-30|         2018-09-28|\n",
      "|2018-09-30|         2018-09-30|\n",
      "|2018-09-30|         2018-09-30|\n",
      "|2018-09-30|         2018-09-28|\n",
      "|2018-09-30|         2018-09-28|\n",
      "|2018-09-30|         2018-09-28|\n",
      "|2018-09-30|         2018-09-30|\n",
      "|2018-09-30|         2018-09-30|\n",
      "|2018-09-30|         2018-09-28|\n",
      "|2018-09-30|         2018-09-30|\n",
      "|2018-09-30|         2018-09-30|\n",
      "|2018-09-30|         2018-09-28|\n",
      "|2018-09-30|         2018-09-30|\n",
      "|2018-09-30|         2018-09-19|\n",
      "|2018-09-30|         2018-09-28|\n",
      "|2018-09-30|         2018-09-30|\n",
      "+----------+-------------------+\n",
      "only showing top 20 rows\n",
      "\n"
     ]
    }
   ],
   "source": [
    "spark.sql('SELECT ts_todate, registration_todate\\\n",
    "           FROM user_log_table').show()"
   ]
  },
  {
   "cell_type": "code",
   "execution_count": 40,
   "metadata": {},
   "outputs": [
    {
     "name": "stdout",
     "output_type": "stream",
     "text": [
      "+--------------+--------------+\n",
      "|min(ts_todate)|max(ts_todate)|\n",
      "+--------------+--------------+\n",
      "|    2018-09-30|    2018-12-02|\n",
      "+--------------+--------------+\n",
      "\n"
     ]
    }
   ],
   "source": [
    "# what time interval are the records of this subset?\n",
    "spark.sql('SELECT MIN(ts_todate), MAX(ts_todate)\\\n",
    "           FROM user_log_table\\\n",
    "          ').show()"
   ]
  },
  {
   "cell_type": "markdown",
   "metadata": {},
   "source": [
    "The data examined here are records ranging from Setp 30 2018 to Dec 12 2018."
   ]
  },
  {
   "cell_type": "markdown",
   "metadata": {},
   "source": [
    "# Exploratory Data Analysis\n",
    "When you're working with the full dataset, perform EDA by loading a small subset of the data and doing basic manipulations within Spark. In this workspace, you are already provided a small subset of data you can explore.\n",
    "\n",
    "### Define Churn\n",
    "\n",
    "Once you've done some preliminary analysis, create a column `Churn` to use as the label for your model. I suggest using the `Cancellation Confirmation` events to define your churn, which happen for both paid and free users. As a bonus task, you can also look into the `Downgrade` events."
   ]
  },
  {
   "cell_type": "code",
   "execution_count": 41,
   "metadata": {},
   "outputs": [
    {
     "name": "stdout",
     "output_type": "stream",
     "text": [
      "+----------------------+\n",
      "|count(DISTINCT userid)|\n",
      "+----------------------+\n",
      "|                    52|\n",
      "+----------------------+\n",
      "\n"
     ]
    }
   ],
   "source": [
    "spark.sql('SELECT COUNT(DISTINCT userid)\\\n",
    "           FROM user_log_table\\\n",
    "           WHERE page = \"Cancellation Confirmation\"\\\n",
    "          ').show()"
   ]
  },
  {
   "cell_type": "code",
   "execution_count": 42,
   "metadata": {},
   "outputs": [
    {
     "data": {
      "text/plain": [
       "23.11111111111111"
      ]
     },
     "execution_count": 42,
     "metadata": {},
     "output_type": "execute_result"
    }
   ],
   "source": [
    "52/225*100"
   ]
  },
  {
   "cell_type": "markdown",
   "metadata": {},
   "source": [
    "In the small dataset has 52 churning users which makes 23% rate on this data set. Let's check over what timeframe the dataset includes sessions.\n",
    "\n",
    "Let's use Cancellation Confirmation to create the churn label."
   ]
  },
  {
   "cell_type": "code",
   "execution_count": 43,
   "metadata": {},
   "outputs": [],
   "source": [
    "#function to create the churn label\n",
    "create_churn = udf(lambda x: 1 if x ==\"Cancellation Confirmation\" else 0, IntegerType())\n",
    "\n",
    "user_log_clean = user_log.withColumn('churn_lab', create_churn('page'))"
   ]
  },
  {
   "cell_type": "code",
   "execution_count": 44,
   "metadata": {},
   "outputs": [
    {
     "name": "stderr",
     "output_type": "stream",
     "text": [
      "/Users/isabellevea/anaconda3/envs/streamlit/lib/python3.12/site-packages/pyspark/python/lib/pyspark.zip/pyspark/daemon.py:154: DeprecationWarning: This process (pid=41815) is multi-threaded, use of fork() may lead to deadlocks in the child.\n",
      "                                                                                \r"
     ]
    },
    {
     "data": {
      "text/plain": [
       "[Row(artist='Martha Tilston', gender='M', itemInSession=50, length=277.89016, level='paid', location='Bakersfield, CA', page='NextSong', sessionId=29, song='Rockpools', status=200, userAgent='Mozilla/5.0 (Windows NT 6.1; WOW64; rv:31.0) Gecko/20100101 Firefox/31.0', userId='30', ts_todate=datetime.date(2018, 9, 30), registration_todate=datetime.date(2018, 9, 28), churn_lab=0)]"
      ]
     },
     "execution_count": 44,
     "metadata": {},
     "output_type": "execute_result"
    }
   ],
   "source": [
    "user_log_clean.take(1)"
   ]
  },
  {
   "cell_type": "markdown",
   "metadata": {},
   "source": [
    "Since we only defined churn binary coding based on 'page', and that the whole dataset is based on sessionid, we are going to have users that churned but with a 0 label for all the pages they have been to that are not cancellation confirmation.\n",
    "\n",
    "Now let's replace all the 0 of churn users to 1.\n",
    "\n"
   ]
  },
  {
   "cell_type": "code",
   "execution_count": 45,
   "metadata": {},
   "outputs": [
    {
     "name": "stderr",
     "output_type": "stream",
     "text": [
      "                                                                                \r"
     ]
    },
    {
     "data": {
      "text/plain": [
       "52"
      ]
     },
     "execution_count": 45,
     "metadata": {},
     "output_type": "execute_result"
    }
   ],
   "source": [
    "# collect all the users with 1 for churn_lab\n",
    "churn_userid = user_log_clean.select('userId').where(col('churn_lab')==1).groupby('userId').count()\n",
    "churn_userid_list = [row['userId'] for row in churn_userid.collect()]\n",
    "len(churn_userid_list)"
   ]
  },
  {
   "cell_type": "code",
   "execution_count": 46,
   "metadata": {},
   "outputs": [],
   "source": [
    "user_log_clean = user_log_clean.withColumn('churn_lab2', when((user_log_clean.userId).isin(churn_userid_list), 1).otherwise(0))"
   ]
  },
  {
   "cell_type": "code",
   "execution_count": 47,
   "metadata": {},
   "outputs": [
    {
     "data": {
      "text/plain": [
       "[Row(artist='Martha Tilston', gender='M', itemInSession=50, length=277.89016, level='paid', location='Bakersfield, CA', page='NextSong', sessionId=29, song='Rockpools', status=200, userAgent='Mozilla/5.0 (Windows NT 6.1; WOW64; rv:31.0) Gecko/20100101 Firefox/31.0', userId='30', ts_todate=datetime.date(2018, 9, 30), registration_todate=datetime.date(2018, 9, 28), churn_lab=0, churn_lab2=0)]"
      ]
     },
     "execution_count": 47,
     "metadata": {},
     "output_type": "execute_result"
    }
   ],
   "source": [
    "user_log_clean.take(1)"
   ]
  },
  {
   "cell_type": "code",
   "execution_count": 48,
   "metadata": {},
   "outputs": [],
   "source": [
    "user_log_clean.createOrReplaceTempView(\"user_log_table_clean\")\n"
   ]
  },
  {
   "cell_type": "code",
   "execution_count": 49,
   "metadata": {},
   "outputs": [
    {
     "name": "stdout",
     "output_type": "stream",
     "text": [
      "+------+---------+----------+\n",
      "|userId|churn_lab|churn_lab2|\n",
      "+------+---------+----------+\n",
      "|    54|        0|         1|\n",
      "|    54|        0|         1|\n",
      "|    54|        0|         1|\n",
      "|    54|        0|         1|\n",
      "|    54|        0|         1|\n",
      "|    54|        0|         1|\n",
      "|    54|        0|         1|\n",
      "|    54|        0|         1|\n",
      "|   101|        0|         1|\n",
      "|   101|        0|         1|\n",
      "|   101|        0|         1|\n",
      "|   101|        0|         1|\n",
      "|   101|        0|         1|\n",
      "|   101|        0|         1|\n",
      "|   101|        0|         1|\n",
      "|   101|        0|         1|\n",
      "|   101|        0|         1|\n",
      "|   101|        0|         1|\n",
      "|   101|        0|         1|\n",
      "|   101|        0|         1|\n",
      "+------+---------+----------+\n",
      "only showing top 20 rows\n",
      "\n"
     ]
    }
   ],
   "source": [
    "spark.sql('SELECT userId, churn_lab, churn_lab2\\\n",
    "           FROM user_log_table_clean \\\n",
    "           WHERE churn_lab2 = 1').show()"
   ]
  },
  {
   "cell_type": "code",
   "execution_count": 50,
   "metadata": {},
   "outputs": [
    {
     "data": {
      "text/plain": [
       "[Row(artist='Martha Tilston', gender='M', itemInSession=50, length=277.89016, level='paid', location='Bakersfield, CA', page='NextSong', sessionId=29, song='Rockpools', status=200, userAgent='Mozilla/5.0 (Windows NT 6.1; WOW64; rv:31.0) Gecko/20100101 Firefox/31.0', userId='30', ts_todate=datetime.date(2018, 9, 30), registration_todate=datetime.date(2018, 9, 28), churn_lab2=0)]"
      ]
     },
     "execution_count": 50,
     "metadata": {},
     "output_type": "execute_result"
    }
   ],
   "source": [
    "user_log_clean = user_log_clean.drop(\"churn_lab\")\n",
    "user_log_clean.take(1)"
   ]
  },
  {
   "cell_type": "markdown",
   "metadata": {},
   "source": [
    "### Function for churn labeling"
   ]
  },
  {
   "cell_type": "code",
   "execution_count": 51,
   "metadata": {},
   "outputs": [],
   "source": [
    "# function for churn labeling\n",
    "def create_churn_label(df):\n",
    "    ''' This function takes a dataframe and creates churn labels based on the \n",
    "    churn definition: Cancellation Confirmation value in 'pages' is considered churn.\n",
    "    \n",
    "    Input = Spark dataframe\n",
    "    \n",
    "    Output = Spark dataframe with new column 'churn_lab' for each user who churned\n",
    "    '''\n",
    "    #labeling all 'pages' with Cancellation Confirmation\n",
    "    create_churn = udf(lambda x: 1 if x ==\"Cancellation Confirmation\" else 0, IntegerType())\n",
    "    df = df.withColumn('churn_lab_temp', create_churn('page'))\n",
    "    \n",
    "    #extract a list of churn users from the new df\n",
    "    churn_userid = df.select('userId').where(col('churn_lab_temp')==1).groupby('userId').count()\n",
    "    churn_userid_list = [row['userId'] for row in churn_userid.collect()]\n",
    "    \n",
    "    #new column based on the churn list\n",
    "    df = df.withColumn('churn_lab', when((user_log_clean.userId).isin(churn_userid_list), 1).otherwise(0))\n",
    "    \n",
    "    #dropping column\n",
    "    df = df.drop('churn_lab_temp')\n",
    "    \n",
    "    return df   "
   ]
  },
  {
   "cell_type": "code",
   "execution_count": 52,
   "metadata": {},
   "outputs": [],
   "source": [
    "#let's test the function on a copy of the dataframe\n",
    "user_log_test = user_log"
   ]
  },
  {
   "cell_type": "code",
   "execution_count": 53,
   "metadata": {},
   "outputs": [
    {
     "name": "stderr",
     "output_type": "stream",
     "text": [
      "                                                                                \r"
     ]
    }
   ],
   "source": [
    "user_log_test_churn = create_churn_label(user_log_test)"
   ]
  },
  {
   "cell_type": "code",
   "execution_count": 54,
   "metadata": {},
   "outputs": [
    {
     "data": {
      "text/plain": [
       "[Row(artist='Martha Tilston', gender='M', itemInSession=50, length=277.89016, level='paid', location='Bakersfield, CA', page='NextSong', sessionId=29, song='Rockpools', status=200, userAgent='Mozilla/5.0 (Windows NT 6.1; WOW64; rv:31.0) Gecko/20100101 Firefox/31.0', userId='30', ts_todate=datetime.date(2018, 9, 30), registration_todate=datetime.date(2018, 9, 28), churn_lab=0)]"
      ]
     },
     "execution_count": 54,
     "metadata": {},
     "output_type": "execute_result"
    }
   ],
   "source": [
    "user_log_test_churn.take(1)"
   ]
  },
  {
   "cell_type": "code",
   "execution_count": 55,
   "metadata": {},
   "outputs": [
    {
     "name": "stderr",
     "output_type": "stream",
     "text": [
      "[Stage 85:=======>                                                  (1 + 7) / 8]\r"
     ]
    },
    {
     "name": "stdout",
     "output_type": "stream",
     "text": [
      "+---------+------+\n",
      "|churn_lab| count|\n",
      "+---------+------+\n",
      "|        1| 44864|\n",
      "|        0|233290|\n",
      "+---------+------+\n",
      "\n"
     ]
    },
    {
     "name": "stderr",
     "output_type": "stream",
     "text": [
      "                                                                                \r"
     ]
    }
   ],
   "source": [
    "user_log_test_churn.select('churn_lab').groupby('churn_lab').count().show()"
   ]
  },
  {
   "cell_type": "markdown",
   "metadata": {},
   "source": [
    "The function works and will be added into the python script."
   ]
  },
  {
   "cell_type": "markdown",
   "metadata": {},
   "source": [
    "\n",
    "\n",
    "\n",
    "### Explore Data\n",
    "Once you've defined churn, perform some exploratory data analysis to observe the behavior for users who stayed vs users who churned. You can start by exploring aggregates on these two groups of users, observing how much of a specific action they experienced per a certain time unit or number of songs played."
   ]
  },
  {
   "cell_type": "code",
   "execution_count": 56,
   "metadata": {},
   "outputs": [],
   "source": [
    "#using the dataset created from the churn function\n",
    "user_log_clean_churn = user_log_test_churn"
   ]
  },
  {
   "cell_type": "code",
   "execution_count": 57,
   "metadata": {},
   "outputs": [],
   "source": [
    "#clean data sql view\n",
    "user_log_clean_churn.createOrReplaceTempView(\"user_log_clean_churn_table\")"
   ]
  },
  {
   "cell_type": "code",
   "execution_count": 58,
   "metadata": {},
   "outputs": [
    {
     "name": "stdout",
     "output_type": "stream",
     "text": [
      "+-------------------+---------+-------+\n",
      "|           col_name|data_type|comment|\n",
      "+-------------------+---------+-------+\n",
      "|             artist|   string|   NULL|\n",
      "|             gender|   string|   NULL|\n",
      "|      itemInSession|   bigint|   NULL|\n",
      "|             length|   double|   NULL|\n",
      "|              level|   string|   NULL|\n",
      "|           location|   string|   NULL|\n",
      "|               page|   string|   NULL|\n",
      "|          sessionId|   bigint|   NULL|\n",
      "|               song|   string|   NULL|\n",
      "|             status|   bigint|   NULL|\n",
      "|          userAgent|   string|   NULL|\n",
      "|             userId|   string|   NULL|\n",
      "|          ts_todate|     date|   NULL|\n",
      "|registration_todate|     date|   NULL|\n",
      "|          churn_lab|      int|   NULL|\n",
      "+-------------------+---------+-------+\n",
      "\n"
     ]
    }
   ],
   "source": [
    "spark.sql('DESC user_log_clean_churn_table').show()"
   ]
  },
  {
   "cell_type": "markdown",
   "metadata": {},
   "source": [
    "- Session count : Do users who did not churn use Sparkify more often than users who churned?"
   ]
  },
  {
   "cell_type": "code",
   "execution_count": 59,
   "metadata": {},
   "outputs": [
    {
     "name": "stderr",
     "output_type": "stream",
     "text": [
      "                                                                                \r"
     ]
    }
   ],
   "source": [
    "# how many sessions did each userId create?\n",
    "session_count_by_churn = user_log_clean_churn.groupby('userId','churn_lab').agg(count(\"*\").alias(\"count\")).toPandas()"
   ]
  },
  {
   "cell_type": "code",
   "execution_count": 60,
   "metadata": {},
   "outputs": [
    {
     "data": {
      "text/plain": [
       "<Axes: xlabel='userId', ylabel='count'>"
      ]
     },
     "execution_count": 60,
     "metadata": {},
     "output_type": "execute_result"
    },
    {
     "data": {
      "image/png": "[encoded data removed]",
      "text/plain": [
       "<Figure size 1800x600 with 1 Axes>"
      ]
     },
     "metadata": {},
     "output_type": "display_data"
    }
   ],
   "source": [
    "#plot of session count for each user.\n",
    "plt.figure(figsize=(18, 6))\n",
    "sns.barplot(data=session_count_by_churn, x='userId', y='count', hue='churn_lab')\n"
   ]
  },
  {
   "cell_type": "code",
   "execution_count": 61,
   "metadata": {},
   "outputs": [
    {
     "data": {
      "image/png": "[encoded data removed]",
      "text/plain": [
       "<Figure size 400x600 with 1 Axes>"
      ]
     },
     "metadata": {},
     "output_type": "display_data"
    }
   ],
   "source": [
    "plt.figure(figsize=(4, 6))\n",
    "sns.boxplot(x=\"churn_lab\", y=\"count\", data=session_count_by_churn)\n",
    "\n",
    "# Labels and Title\n",
    "plt.xlabel('Churn Label')\n",
    "plt.ylabel('Session Counts')\n",
    "plt.title('Box Plot of Session Count by Churn Label')\n",
    "\n",
    "# Show the plot\n",
    "plt.show()\n"
   ]
  },
  {
   "cell_type": "markdown",
   "metadata": {},
   "source": [
    "Answer: yes.\n",
    "Decision: we will create a feature counting the number of sessions for each user."
   ]
  },
  {
   "cell_type": "markdown",
   "metadata": {},
   "source": [
    "- artist"
   ]
  },
  {
   "cell_type": "code",
   "execution_count": 62,
   "metadata": {},
   "outputs": [
    {
     "name": "stderr",
     "output_type": "stream",
     "text": [
      "                                                                                \r"
     ]
    }
   ],
   "source": [
    "artist_by_churn = user_log_clean_churn.groupby('artist','churn_lab').agg(count(\"*\").alias(\"count\")).toPandas().sort_values(by=['count'], ascending = False)"
   ]
  },
  {
   "cell_type": "code",
   "execution_count": 63,
   "metadata": {},
   "outputs": [
    {
     "data": {
      "text/html": [
       "<div>\n",
       "<style scoped>\n",
       "    .dataframe tbody tr th:only-of-type {\n",
       "        vertical-align: middle;\n",
       "    }\n",
       "\n",
       "    .dataframe tbody tr th {\n",
       "        vertical-align: top;\n",
       "    }\n",
       "\n",
       "    .dataframe thead th {\n",
       "        text-align: right;\n",
       "    }\n",
       "</style>\n",
       "<table border=\"1\" class=\"dataframe\">\n",
       "  <thead>\n",
       "    <tr style=\"text-align: right;\">\n",
       "      <th></th>\n",
       "      <th>artist</th>\n",
       "      <th>churn_lab</th>\n",
       "      <th>count</th>\n",
       "    </tr>\n",
       "  </thead>\n",
       "  <tbody>\n",
       "    <tr>\n",
       "      <th>17028</th>\n",
       "      <td>None</td>\n",
       "      <td>0</td>\n",
       "      <td>41576</td>\n",
       "    </tr>\n",
       "    <tr>\n",
       "      <th>2244</th>\n",
       "      <td>None</td>\n",
       "      <td>1</td>\n",
       "      <td>8470</td>\n",
       "    </tr>\n",
       "    <tr>\n",
       "      <th>14785</th>\n",
       "      <td>Coldplay</td>\n",
       "      <td>0</td>\n",
       "      <td>1552</td>\n",
       "    </tr>\n",
       "    <tr>\n",
       "      <th>16079</th>\n",
       "      <td>Kings Of Leon</td>\n",
       "      <td>0</td>\n",
       "      <td>1542</td>\n",
       "    </tr>\n",
       "    <tr>\n",
       "      <th>12669</th>\n",
       "      <td>Florence + The Machine</td>\n",
       "      <td>0</td>\n",
       "      <td>1048</td>\n",
       "    </tr>\n",
       "  </tbody>\n",
       "</table>\n",
       "</div>"
      ],
      "text/plain": [
       "                       artist  churn_lab  count\n",
       "17028                    None          0  41576\n",
       "2244                     None          1   8470\n",
       "14785                Coldplay          0   1552\n",
       "16079           Kings Of Leon          0   1542\n",
       "12669  Florence + The Machine          0   1048"
      ]
     },
     "execution_count": 63,
     "metadata": {},
     "output_type": "execute_result"
    }
   ],
   "source": [
    "artist_by_churn.head()"
   ]
  },
  {
   "cell_type": "markdown",
   "metadata": {},
   "source": [
    "We see that the most played artist is coldplay with no churn, and over 40000 sessions did not play any songs. These sessions are the pages where there is no active song being played."
   ]
  },
  {
   "cell_type": "markdown",
   "metadata": {},
   "source": [
    "#### count of unique artists listen to by churn group\n"
   ]
  },
  {
   "cell_type": "code",
   "execution_count": 64,
   "metadata": {},
   "outputs": [
    {
     "name": "stderr",
     "output_type": "stream",
     "text": [
      "                                                                                \r"
     ]
    }
   ],
   "source": [
    "count_artist_by_user_churn = user_log_clean_churn.groupby('churn_lab','userId').agg(countDistinct(\"artist\").alias(\"count\")).toPandas().sort_values(by=['count'], ascending = False)"
   ]
  },
  {
   "cell_type": "code",
   "execution_count": 65,
   "metadata": {},
   "outputs": [
    {
     "data": {
      "text/html": [
       "<div>\n",
       "<style scoped>\n",
       "    .dataframe tbody tr th:only-of-type {\n",
       "        vertical-align: middle;\n",
       "    }\n",
       "\n",
       "    .dataframe tbody tr th {\n",
       "        vertical-align: top;\n",
       "    }\n",
       "\n",
       "    .dataframe thead th {\n",
       "        text-align: right;\n",
       "    }\n",
       "</style>\n",
       "<table border=\"1\" class=\"dataframe\">\n",
       "  <thead>\n",
       "    <tr style=\"text-align: right;\">\n",
       "      <th></th>\n",
       "      <th>churn_lab</th>\n",
       "      <th>userId</th>\n",
       "      <th>count</th>\n",
       "    </tr>\n",
       "  </thead>\n",
       "  <tbody>\n",
       "    <tr>\n",
       "      <th>1</th>\n",
       "      <td>0</td>\n",
       "      <td>39</td>\n",
       "      <td>3544</td>\n",
       "    </tr>\n",
       "    <tr>\n",
       "      <th>180</th>\n",
       "      <td>0</td>\n",
       "      <td>92</td>\n",
       "      <td>2904</td>\n",
       "    </tr>\n",
       "    <tr>\n",
       "      <th>81</th>\n",
       "      <td>0</td>\n",
       "      <td>140</td>\n",
       "      <td>2819</td>\n",
       "    </tr>\n",
       "    <tr>\n",
       "      <th>156</th>\n",
       "      <td>0</td>\n",
       "      <td>300011</td>\n",
       "      <td>2491</td>\n",
       "    </tr>\n",
       "    <tr>\n",
       "      <th>147</th>\n",
       "      <td>0</td>\n",
       "      <td>124</td>\n",
       "      <td>2232</td>\n",
       "    </tr>\n",
       "  </tbody>\n",
       "</table>\n",
       "</div>"
      ],
      "text/plain": [
       "     churn_lab  userId  count\n",
       "1            0      39   3544\n",
       "180          0      92   2904\n",
       "81           0     140   2819\n",
       "156          0  300011   2491\n",
       "147          0     124   2232"
      ]
     },
     "execution_count": 65,
     "metadata": {},
     "output_type": "execute_result"
    }
   ],
   "source": [
    "count_artist_by_user_churn.head()"
   ]
  },
  {
   "cell_type": "code",
   "execution_count": 66,
   "metadata": {},
   "outputs": [
    {
     "name": "stderr",
     "output_type": "stream",
     "text": [
      "/var/folders/dd/nb8m5vwd1sz3_s49jh1plcfr0000gn/T/ipykernel_41655/2327218004.py:6: UserWarning: set_ticklabels() should only be used with a fixed number of ticks, i.e. after set_ticks() or using a FixedLocator.\n",
      "  plot.set_xticklabels(plot.get_xticklabels(), rotation=45, horizontalalignment='right')\n"
     ]
    },
    {
     "data": {
      "image/png": "[encoded data removed]",
      "text/plain": [
       "<Figure size 1600x800 with 1 Axes>"
      ]
     },
     "metadata": {},
     "output_type": "display_data"
    }
   ],
   "source": [
    "sns.set(style=\"whitegrid\")\n",
    "plt.figure(figsize=(16, 8))\n",
    "plot = sns.barplot(x=\"userId\", y=\"count\", hue=\"churn_lab\", data=count_artist_by_user_churn)\n",
    "\n",
    "# Rotate x-axis labels\n",
    "plot.set_xticklabels(plot.get_xticklabels(), rotation=45, horizontalalignment='right')\n",
    "\n",
    "plt.title(\"Artist Counts per User and by churn\")\n",
    "plt.xlabel(\"Artist\")\n",
    "plt.ylabel(\"Count\")\n",
    "plt.show()"
   ]
  },
  {
   "cell_type": "code",
   "execution_count": 67,
   "metadata": {},
   "outputs": [
    {
     "name": "stderr",
     "output_type": "stream",
     "text": [
      "/var/folders/dd/nb8m5vwd1sz3_s49jh1plcfr0000gn/T/ipykernel_41655/2185680415.py:6: UserWarning: set_ticklabels() should only be used with a fixed number of ticks, i.e. after set_ticks() or using a FixedLocator.\n",
      "  plot.set_xticklabels(plot.get_xticklabels(), rotation=45, horizontalalignment='right')\n"
     ]
    },
    {
     "data": {
      "image/png": "[encoded data removed]",
      "text/plain": [
       "<Figure size 400x600 with 1 Axes>"
      ]
     },
     "metadata": {},
     "output_type": "display_data"
    }
   ],
   "source": [
    "sns.set(style=\"whitegrid\")\n",
    "plt.figure(figsize=(4, 6))\n",
    "plot = sns.boxplot(y=\"count\", x=\"churn_lab\", data=count_artist_by_user_churn)\n",
    "\n",
    "# Rotate x-axis labels\n",
    "plot.set_xticklabels(plot.get_xticklabels(), rotation=45, horizontalalignment='right')\n",
    "\n",
    "plt.title(\"Artist Counts per User and by churn\")\n",
    "plt.xlabel(\"Artist\")\n",
    "plt.ylabel(\"Count\")\n",
    "plt.show()"
   ]
  },
  {
   "cell_type": "markdown",
   "metadata": {},
   "source": [
    "- Gender"
   ]
  },
  {
   "cell_type": "code",
   "execution_count": 68,
   "metadata": {},
   "outputs": [
    {
     "data": {
      "text/html": [
       "<div>\n",
       "<style scoped>\n",
       "    .dataframe tbody tr th:only-of-type {\n",
       "        vertical-align: middle;\n",
       "    }\n",
       "\n",
       "    .dataframe tbody tr th {\n",
       "        vertical-align: top;\n",
       "    }\n",
       "\n",
       "    .dataframe thead th {\n",
       "        text-align: right;\n",
       "    }\n",
       "</style>\n",
       "<table border=\"1\" class=\"dataframe\">\n",
       "  <thead>\n",
       "    <tr style=\"text-align: right;\">\n",
       "      <th></th>\n",
       "      <th>gender</th>\n",
       "      <th>churn_lab</th>\n",
       "      <th>user_count</th>\n",
       "    </tr>\n",
       "  </thead>\n",
       "  <tbody>\n",
       "    <tr>\n",
       "      <th>0</th>\n",
       "      <td>M</td>\n",
       "      <td>1</td>\n",
       "      <td>32</td>\n",
       "    </tr>\n",
       "    <tr>\n",
       "      <th>1</th>\n",
       "      <td>F</td>\n",
       "      <td>0</td>\n",
       "      <td>84</td>\n",
       "    </tr>\n",
       "    <tr>\n",
       "      <th>2</th>\n",
       "      <td>F</td>\n",
       "      <td>1</td>\n",
       "      <td>20</td>\n",
       "    </tr>\n",
       "    <tr>\n",
       "      <th>3</th>\n",
       "      <td>M</td>\n",
       "      <td>0</td>\n",
       "      <td>89</td>\n",
       "    </tr>\n",
       "  </tbody>\n",
       "</table>\n",
       "</div>"
      ],
      "text/plain": [
       "  gender  churn_lab  user_count\n",
       "0      M          1          32\n",
       "1      F          0          84\n",
       "2      F          1          20\n",
       "3      M          0          89"
      ]
     },
     "execution_count": 68,
     "metadata": {},
     "output_type": "execute_result"
    }
   ],
   "source": [
    "# take all users, churn and gender, drop duplicate rows by users, \n",
    "gender_by_churn = user_log_clean_churn.dropDuplicates(['userId']).groupBy('gender','churn_lab').agg(count('*').alias('user_count')).toPandas()\n",
    "gender_by_churn.head()"
   ]
  },
  {
   "cell_type": "code",
   "execution_count": 69,
   "metadata": {},
   "outputs": [
    {
     "data": {
      "text/plain": [
       "<Axes: xlabel='gender', ylabel='user_count'>"
      ]
     },
     "execution_count": 69,
     "metadata": {},
     "output_type": "execute_result"
    },
    {
     "data": {
      "image/png": "[encoded data removed]",
      "text/plain": [
       "<Figure size 640x480 with 1 Axes>"
      ]
     },
     "metadata": {},
     "output_type": "display_data"
    }
   ],
   "source": [
    "sns.barplot(data=gender_by_churn, x='gender', y='user_count', hue='churn_lab')"
   ]
  },
  {
   "cell_type": "markdown",
   "metadata": {},
   "source": [
    "There were more male churners than female.\n",
    "Decision: keep gender information for the model."
   ]
  },
  {
   "cell_type": "code",
   "execution_count": null,
   "metadata": {
    "scrolled": false
   },
   "outputs": [],
   "source": []
  },
  {
   "cell_type": "markdown",
   "metadata": {},
   "source": [
    "- length"
   ]
  },
  {
   "cell_type": "code",
   "execution_count": 70,
   "metadata": {},
   "outputs": [
    {
     "data": {
      "text/plain": [
       "[Row(artist='Martha Tilston', gender='M', itemInSession=50, length=277.89016, level='paid', location='Bakersfield, CA', page='NextSong', sessionId=29, song='Rockpools', status=200, userAgent='Mozilla/5.0 (Windows NT 6.1; WOW64; rv:31.0) Gecko/20100101 Firefox/31.0', userId='30', ts_todate=datetime.date(2018, 9, 30), registration_todate=datetime.date(2018, 9, 28), churn_lab=0)]"
      ]
     },
     "execution_count": 70,
     "metadata": {},
     "output_type": "execute_result"
    }
   ],
   "source": [
    "user_log_clean_churn.take(1)"
   ]
  },
  {
   "cell_type": "code",
   "execution_count": 71,
   "metadata": {},
   "outputs": [],
   "source": [
    "# look at the average session length per user and churning\n",
    "columns = ['userId','length','churn_lab']\n",
    "user_log_clean_length_df = user_log_clean_churn.select(columns)"
   ]
  },
  {
   "cell_type": "code",
   "execution_count": 72,
   "metadata": {},
   "outputs": [],
   "source": [
    "length_agg_df = user_log_clean_length_df.groupBy(\"userId\", \"churn_lab\").agg(\n",
    "                spark_sum(\"length\").alias(\"total_session_length\"),\n",
    "                spark_avg(\"length\").alias(\"avg_session_length\"))\n"
   ]
  },
  {
   "cell_type": "code",
   "execution_count": 73,
   "metadata": {},
   "outputs": [
    {
     "name": "stderr",
     "output_type": "stream",
     "text": [
      "                                                                                \r"
     ]
    },
    {
     "data": {
      "text/plain": [
       "[Row(userId='19', churn_lab=0, total_session_length=54480.933869999986, avg_session_length=252.22654569444438),\n",
       " Row(userId='50', churn_lab=0, total_session_length=122751.27560999998, avg_session_length=244.03832129224648),\n",
       " Row(userId='30', churn_lab=0, total_session_length=359808.2456400002, avg_session_length=253.92254455892746),\n",
       " Row(userId='8', churn_lab=0, total_session_length=63393.53190999998, avg_session_length=252.56387215139435),\n",
       " Row(userId='4', churn_lab=0, total_session_length=506140.04138000007, avg_session_length=247.13869208007816),\n",
       " Row(userId='65', churn_lab=0, total_session_length=529357.90542, avg_session_length=250.52432816848082),\n",
       " Row(userId='101', churn_lab=1, total_session_length=447464.0146699994, avg_session_length=249.00612947690564),\n",
       " Row(userId='13', churn_lab=0, total_session_length=313639.02128999995, avg_session_length=245.03048538281246),\n",
       " Row(userId='42', churn_lab=0, total_session_length=881792.96613, avg_session_length=246.79344140218302),\n",
       " Row(userId='94', churn_lab=0, total_session_length=37408.717459999985, avg_session_length=256.2240921917807)]"
      ]
     },
     "execution_count": 73,
     "metadata": {},
     "output_type": "execute_result"
    }
   ],
   "source": [
    "length_agg_df.take(10)"
   ]
  },
  {
   "cell_type": "code",
   "execution_count": 74,
   "metadata": {},
   "outputs": [],
   "source": [
    "length_agg_pd = length_agg_df.toPandas()\n"
   ]
  },
  {
   "cell_type": "code",
   "execution_count": 75,
   "metadata": {},
   "outputs": [
    {
     "data": {
      "text/html": [
       "<div>\n",
       "<style scoped>\n",
       "    .dataframe tbody tr th:only-of-type {\n",
       "        vertical-align: middle;\n",
       "    }\n",
       "\n",
       "    .dataframe tbody tr th {\n",
       "        vertical-align: top;\n",
       "    }\n",
       "\n",
       "    .dataframe thead th {\n",
       "        text-align: right;\n",
       "    }\n",
       "</style>\n",
       "<table border=\"1\" class=\"dataframe\">\n",
       "  <thead>\n",
       "    <tr style=\"text-align: right;\">\n",
       "      <th></th>\n",
       "      <th>userId</th>\n",
       "      <th>churn_lab</th>\n",
       "      <th>total_session_length</th>\n",
       "      <th>avg_session_length</th>\n",
       "    </tr>\n",
       "  </thead>\n",
       "  <tbody>\n",
       "    <tr>\n",
       "      <th>168</th>\n",
       "      <td>156</td>\n",
       "      <td>0</td>\n",
       "      <td>691.66884</td>\n",
       "      <td>230.556280</td>\n",
       "    </tr>\n",
       "    <tr>\n",
       "      <th>25</th>\n",
       "      <td>135</td>\n",
       "      <td>0</td>\n",
       "      <td>1596.44461</td>\n",
       "      <td>266.074102</td>\n",
       "    </tr>\n",
       "    <tr>\n",
       "      <th>127</th>\n",
       "      <td>125</td>\n",
       "      <td>1</td>\n",
       "      <td>2089.11310</td>\n",
       "      <td>261.139138</td>\n",
       "    </tr>\n",
       "    <tr>\n",
       "      <th>152</th>\n",
       "      <td>100011</td>\n",
       "      <td>1</td>\n",
       "      <td>2841.69950</td>\n",
       "      <td>258.336318</td>\n",
       "    </tr>\n",
       "    <tr>\n",
       "      <th>165</th>\n",
       "      <td>100024</td>\n",
       "      <td>1</td>\n",
       "      <td>5160.53207</td>\n",
       "      <td>234.569640</td>\n",
       "    </tr>\n",
       "    <tr>\n",
       "      <th>167</th>\n",
       "      <td>100006</td>\n",
       "      <td>1</td>\n",
       "      <td>5854.89105</td>\n",
       "      <td>225.188117</td>\n",
       "    </tr>\n",
       "    <tr>\n",
       "      <th>186</th>\n",
       "      <td>300003</td>\n",
       "      <td>0</td>\n",
       "      <td>6567.87674</td>\n",
       "      <td>243.254694</td>\n",
       "    </tr>\n",
       "    <tr>\n",
       "      <th>44</th>\n",
       "      <td>68</td>\n",
       "      <td>0</td>\n",
       "      <td>7079.69297</td>\n",
       "      <td>244.127344</td>\n",
       "    </tr>\n",
       "    <tr>\n",
       "      <th>147</th>\n",
       "      <td>22</td>\n",
       "      <td>0</td>\n",
       "      <td>7403.82080</td>\n",
       "      <td>264.422171</td>\n",
       "    </tr>\n",
       "    <tr>\n",
       "      <th>126</th>\n",
       "      <td>133</td>\n",
       "      <td>0</td>\n",
       "      <td>8029.16428</td>\n",
       "      <td>250.911384</td>\n",
       "    </tr>\n",
       "  </tbody>\n",
       "</table>\n",
       "</div>"
      ],
      "text/plain": [
       "     userId  churn_lab  total_session_length  avg_session_length\n",
       "168     156          0             691.66884          230.556280\n",
       "25      135          0            1596.44461          266.074102\n",
       "127     125          1            2089.11310          261.139138\n",
       "152  100011          1            2841.69950          258.336318\n",
       "165  100024          1            5160.53207          234.569640\n",
       "167  100006          1            5854.89105          225.188117\n",
       "186  300003          0            6567.87674          243.254694\n",
       "44       68          0            7079.69297          244.127344\n",
       "147      22          0            7403.82080          264.422171\n",
       "126     133          0            8029.16428          250.911384"
      ]
     },
     "execution_count": 75,
     "metadata": {},
     "output_type": "execute_result"
    }
   ],
   "source": [
    "length_agg_pd.sort_values(\"total_session_length\").head(10)"
   ]
  },
  {
   "cell_type": "code",
   "execution_count": 76,
   "metadata": {},
   "outputs": [
    {
     "data": {
      "text/plain": [
       "0"
      ]
     },
     "execution_count": 76,
     "metadata": {},
     "output_type": "execute_result"
    }
   ],
   "source": [
    "#check if I have teh same userid with 2 churnlab2\n",
    "length_agg_pd.duplicated(\"userId\").sum()"
   ]
  },
  {
   "cell_type": "code",
   "execution_count": 77,
   "metadata": {},
   "outputs": [],
   "source": [
    "length_agg_pd[\"userId\"]=length_agg_pd[\"userId\"].astype('category')"
   ]
  },
  {
   "cell_type": "code",
   "execution_count": 78,
   "metadata": {},
   "outputs": [
    {
     "data": {
      "image/png": "[encoded data removed]",
      "text/plain": [
       "<Figure size 400x600 with 1 Axes>"
      ]
     },
     "metadata": {},
     "output_type": "display_data"
    }
   ],
   "source": [
    "sns.set(style=\"whitegrid\")\n",
    "\n",
    "plt.figure(figsize=(4, 6))\n",
    "sns.boxplot(x=\"churn_lab\", y=\"total_session_length\", data=length_agg_pd)\n",
    "\n",
    "plt.xlabel('Churn Label')\n",
    "plt.ylabel('Total Session Length')\n",
    "plt.title('Box Plot of Total Session Length by Churn Label')\n",
    "\n",
    "plt.show()"
   ]
  },
  {
   "cell_type": "code",
   "execution_count": 79,
   "metadata": {},
   "outputs": [
    {
     "data": {
      "image/png": "[encoded data removed]",
      "text/plain": [
       "<Figure size 400x600 with 1 Axes>"
      ]
     },
     "metadata": {},
     "output_type": "display_data"
    }
   ],
   "source": [
    "plt.figure(figsize=(4, 6))\n",
    "sns.boxplot(x=\"churn_lab\", y=\"avg_session_length\", data=length_agg_pd)\n",
    "\n",
    "plt.xlabel('Churn Label')\n",
    "plt.ylabel('Average Session Length')\n",
    "plt.title('Box Plot of Average Session Length by Churn Label')\n",
    "\n",
    "plt.show()"
   ]
  },
  {
   "cell_type": "markdown",
   "metadata": {},
   "source": [
    "Even if the both churned customers and not churned have the same average session length, not churn customers have a short total session length.\n",
    "The average session is probably indicative of the an average song length. In churned users, there seems to be more variability than unchurned maybe because other pages than song playing are explored. Let's keep average session length as an engineered feature."
   ]
  },
  {
   "cell_type": "code",
   "execution_count": 80,
   "metadata": {},
   "outputs": [
    {
     "data": {
      "text/html": [
       "<div>\n",
       "<style scoped>\n",
       "    .dataframe tbody tr th:only-of-type {\n",
       "        vertical-align: middle;\n",
       "    }\n",
       "\n",
       "    .dataframe tbody tr th {\n",
       "        vertical-align: top;\n",
       "    }\n",
       "\n",
       "    .dataframe thead th {\n",
       "        text-align: right;\n",
       "    }\n",
       "</style>\n",
       "<table border=\"1\" class=\"dataframe\">\n",
       "  <thead>\n",
       "    <tr style=\"text-align: right;\">\n",
       "      <th></th>\n",
       "      <th>userId</th>\n",
       "      <th>churn_lab</th>\n",
       "      <th>total_session_length</th>\n",
       "      <th>avg_session_length</th>\n",
       "    </tr>\n",
       "  </thead>\n",
       "  <tbody>\n",
       "  </tbody>\n",
       "</table>\n",
       "</div>"
      ],
      "text/plain": [
       "Empty DataFrame\n",
       "Columns: [userId, churn_lab, total_session_length, avg_session_length]\n",
       "Index: []"
      ]
     },
     "execution_count": 80,
     "metadata": {},
     "output_type": "execute_result"
    }
   ],
   "source": [
    "length_agg_pd[length_agg_pd['total_session_length'].isnull()]"
   ]
  },
  {
   "cell_type": "markdown",
   "metadata": {},
   "source": [
    "- level"
   ]
  },
  {
   "cell_type": "code",
   "execution_count": 81,
   "metadata": {},
   "outputs": [
    {
     "name": "stdout",
     "output_type": "stream",
     "text": [
      "+-----+---------+-----+\n",
      "|level|churn_lab|count|\n",
      "+-----+---------+-----+\n",
      "| paid|        0|   40|\n",
      "| free|        0|  133|\n",
      "| paid|        1|    8|\n",
      "| free|        1|   44|\n",
      "+-----+---------+-----+\n",
      "\n"
     ]
    }
   ],
   "source": [
    "user_log_clean_churn.dropDuplicates(['userId']).select(['level','churn_lab']).groupby(['level','churn_lab']).count().show()"
   ]
  },
  {
   "cell_type": "markdown",
   "metadata": {},
   "source": [
    "this columns is related to the cancellation that I used for churn labeling so I am dropping it."
   ]
  },
  {
   "cell_type": "markdown",
   "metadata": {},
   "source": [
    "- location"
   ]
  },
  {
   "cell_type": "code",
   "execution_count": 82,
   "metadata": {},
   "outputs": [
    {
     "name": "stderr",
     "output_type": "stream",
     "text": [
      "[Stage 119:============================>                            (4 + 4) / 8]\r"
     ]
    },
    {
     "name": "stdout",
     "output_type": "stream",
     "text": [
      "+--------------------+-----+\n",
      "|            location|count|\n",
      "+--------------------+-----+\n",
      "|     Gainesville, FL|    1|\n",
      "|Atlantic City-Ham...|    1|\n",
      "|Cleveland-Elyria, OH|    1|\n",
      "|San Diego-Carlsba...|    3|\n",
      "|Deltona-Daytona B...|    1|\n",
      "|Kingsport-Bristol...|    1|\n",
      "|New Haven-Milford...|    3|\n",
      "|Birmingham-Hoover...|    1|\n",
      "|  Corpus Christi, TX|    1|\n",
      "|         Dubuque, IA|    1|\n",
      "|Las Vegas-Henders...|    3|\n",
      "|Indianapolis-Carm...|    2|\n",
      "|Seattle-Tacoma-Be...|    2|\n",
      "|          Albany, OR|    1|\n",
      "|   Winston-Salem, NC|    1|\n",
      "|Los Angeles-Long ...|   16|\n",
      "|     Bakersfield, CA|    1|\n",
      "|Minneapolis-St. P...|    2|\n",
      "|San Francisco-Oak...|    2|\n",
      "|Phoenix-Mesa-Scot...|    7|\n",
      "+--------------------+-----+\n",
      "only showing top 20 rows\n",
      "\n"
     ]
    },
    {
     "name": "stderr",
     "output_type": "stream",
     "text": [
      "                                                                                \r"
     ]
    }
   ],
   "source": [
    "user_log_clean_churn.dropDuplicates(['userId']).select('location').groupby('location').count().show()"
   ]
  },
  {
   "cell_type": "code",
   "execution_count": 83,
   "metadata": {},
   "outputs": [],
   "source": [
    "split_col = pyspark.sql.functions.split(user_log_clean_churn['location'], ', ')\n",
    "user_log_clean_churn = user_log_clean_churn.withColumn('city', split_col.getItem(0))\n",
    "user_log_clean_churn = user_log_clean_churn.withColumn('state', split_col.getItem(1))\n"
   ]
  },
  {
   "cell_type": "code",
   "execution_count": 84,
   "metadata": {},
   "outputs": [
    {
     "data": {
      "text/plain": [
       "[Row(artist='Martha Tilston', gender='M', itemInSession=50, length=277.89016, level='paid', location='Bakersfield, CA', page='NextSong', sessionId=29, song='Rockpools', status=200, userAgent='Mozilla/5.0 (Windows NT 6.1; WOW64; rv:31.0) Gecko/20100101 Firefox/31.0', userId='30', ts_todate=datetime.date(2018, 9, 30), registration_todate=datetime.date(2018, 9, 28), churn_lab=0, city='Bakersfield', state='CA'),\n",
       " Row(artist='Five Iron Frenzy', gender='M', itemInSession=79, length=236.09424, level='free', location='Boston-Cambridge-Newton, MA-NH', page='NextSong', sessionId=8, song='Canada', status=200, userAgent='\"Mozilla/5.0 (Windows NT 6.1; WOW64) AppleWebKit/537.36 (KHTML, like Gecko) Chrome/37.0.2062.103 Safari/537.36\"', userId='9', ts_todate=datetime.date(2018, 9, 30), registration_todate=datetime.date(2018, 9, 30), churn_lab=0, city='Boston-Cambridge-Newton', state='MA-NH'),\n",
       " Row(artist='Adam Lambert', gender='M', itemInSession=51, length=282.8273, level='paid', location='Bakersfield, CA', page='NextSong', sessionId=29, song='Time For Miracles', status=200, userAgent='Mozilla/5.0 (Windows NT 6.1; WOW64; rv:31.0) Gecko/20100101 Firefox/31.0', userId='30', ts_todate=datetime.date(2018, 9, 30), registration_todate=datetime.date(2018, 9, 28), churn_lab=0, city='Bakersfield', state='CA'),\n",
       " Row(artist='Enigma', gender='M', itemInSession=80, length=262.71302, level='free', location='Boston-Cambridge-Newton, MA-NH', page='NextSong', sessionId=8, song='Knocking On Forbidden Doors', status=200, userAgent='\"Mozilla/5.0 (Windows NT 6.1; WOW64) AppleWebKit/537.36 (KHTML, like Gecko) Chrome/37.0.2062.103 Safari/537.36\"', userId='9', ts_todate=datetime.date(2018, 9, 30), registration_todate=datetime.date(2018, 9, 30), churn_lab=0, city='Boston-Cambridge-Newton', state='MA-NH'),\n",
       " Row(artist='Daft Punk', gender='M', itemInSession=52, length=223.60771, level='paid', location='Bakersfield, CA', page='NextSong', sessionId=29, song='Harder Better Faster Stronger', status=200, userAgent='Mozilla/5.0 (Windows NT 6.1; WOW64; rv:31.0) Gecko/20100101 Firefox/31.0', userId='30', ts_todate=datetime.date(2018, 9, 30), registration_todate=datetime.date(2018, 9, 28), churn_lab=0, city='Bakersfield', state='CA')]"
      ]
     },
     "execution_count": 84,
     "metadata": {},
     "output_type": "execute_result"
    }
   ],
   "source": [
    "user_log_clean_churn.take(5)"
   ]
  },
  {
   "cell_type": "code",
   "execution_count": null,
   "metadata": {},
   "outputs": [],
   "source": []
  },
  {
   "cell_type": "code",
   "execution_count": 85,
   "metadata": {},
   "outputs": [
    {
     "name": "stderr",
     "output_type": "stream",
     "text": [
      "[Stage 126:>                                                        (0 + 8) / 8]\r"
     ]
    },
    {
     "name": "stderr",
     "output_type": "stream",
     "text": [
      "                                                                                \r"
     ]
    },
    {
     "data": {
      "text/html": [
       "<div>\n",
       "<style scoped>\n",
       "    .dataframe tbody tr th:only-of-type {\n",
       "        vertical-align: middle;\n",
       "    }\n",
       "\n",
       "    .dataframe tbody tr th {\n",
       "        vertical-align: top;\n",
       "    }\n",
       "\n",
       "    .dataframe thead th {\n",
       "        text-align: right;\n",
       "    }\n",
       "</style>\n",
       "<table border=\"1\" class=\"dataframe\">\n",
       "  <thead>\n",
       "    <tr style=\"text-align: right;\">\n",
       "      <th></th>\n",
       "      <th>artist</th>\n",
       "      <th>gender</th>\n",
       "      <th>itemInSession</th>\n",
       "      <th>length</th>\n",
       "      <th>level</th>\n",
       "      <th>location</th>\n",
       "      <th>page</th>\n",
       "      <th>sessionId</th>\n",
       "      <th>song</th>\n",
       "      <th>status</th>\n",
       "      <th>userAgent</th>\n",
       "      <th>userId</th>\n",
       "      <th>ts_todate</th>\n",
       "      <th>registration_todate</th>\n",
       "      <th>churn_lab</th>\n",
       "      <th>city</th>\n",
       "      <th>state</th>\n",
       "    </tr>\n",
       "  </thead>\n",
       "  <tbody>\n",
       "    <tr>\n",
       "      <th>0</th>\n",
       "      <td>Martha Tilston</td>\n",
       "      <td>M</td>\n",
       "      <td>50</td>\n",
       "      <td>277.89016</td>\n",
       "      <td>paid</td>\n",
       "      <td>Bakersfield, CA</td>\n",
       "      <td>NextSong</td>\n",
       "      <td>29</td>\n",
       "      <td>Rockpools</td>\n",
       "      <td>200</td>\n",
       "      <td>Mozilla/5.0 (Windows NT 6.1; WOW64; rv:31.0) G...</td>\n",
       "      <td>30</td>\n",
       "      <td>2018-09-30</td>\n",
       "      <td>2018-09-28</td>\n",
       "      <td>0</td>\n",
       "      <td>Bakersfield</td>\n",
       "      <td>CA</td>\n",
       "    </tr>\n",
       "    <tr>\n",
       "      <th>1</th>\n",
       "      <td>Five Iron Frenzy</td>\n",
       "      <td>M</td>\n",
       "      <td>79</td>\n",
       "      <td>236.09424</td>\n",
       "      <td>free</td>\n",
       "      <td>Boston-Cambridge-Newton, MA-NH</td>\n",
       "      <td>NextSong</td>\n",
       "      <td>8</td>\n",
       "      <td>Canada</td>\n",
       "      <td>200</td>\n",
       "      <td>\"Mozilla/5.0 (Windows NT 6.1; WOW64) AppleWebK...</td>\n",
       "      <td>9</td>\n",
       "      <td>2018-09-30</td>\n",
       "      <td>2018-09-30</td>\n",
       "      <td>0</td>\n",
       "      <td>Boston-Cambridge-Newton</td>\n",
       "      <td>MA-NH</td>\n",
       "    </tr>\n",
       "    <tr>\n",
       "      <th>2</th>\n",
       "      <td>Adam Lambert</td>\n",
       "      <td>M</td>\n",
       "      <td>51</td>\n",
       "      <td>282.82730</td>\n",
       "      <td>paid</td>\n",
       "      <td>Bakersfield, CA</td>\n",
       "      <td>NextSong</td>\n",
       "      <td>29</td>\n",
       "      <td>Time For Miracles</td>\n",
       "      <td>200</td>\n",
       "      <td>Mozilla/5.0 (Windows NT 6.1; WOW64; rv:31.0) G...</td>\n",
       "      <td>30</td>\n",
       "      <td>2018-09-30</td>\n",
       "      <td>2018-09-28</td>\n",
       "      <td>0</td>\n",
       "      <td>Bakersfield</td>\n",
       "      <td>CA</td>\n",
       "    </tr>\n",
       "    <tr>\n",
       "      <th>3</th>\n",
       "      <td>Enigma</td>\n",
       "      <td>M</td>\n",
       "      <td>80</td>\n",
       "      <td>262.71302</td>\n",
       "      <td>free</td>\n",
       "      <td>Boston-Cambridge-Newton, MA-NH</td>\n",
       "      <td>NextSong</td>\n",
       "      <td>8</td>\n",
       "      <td>Knocking On Forbidden Doors</td>\n",
       "      <td>200</td>\n",
       "      <td>\"Mozilla/5.0 (Windows NT 6.1; WOW64) AppleWebK...</td>\n",
       "      <td>9</td>\n",
       "      <td>2018-09-30</td>\n",
       "      <td>2018-09-30</td>\n",
       "      <td>0</td>\n",
       "      <td>Boston-Cambridge-Newton</td>\n",
       "      <td>MA-NH</td>\n",
       "    </tr>\n",
       "    <tr>\n",
       "      <th>4</th>\n",
       "      <td>Daft Punk</td>\n",
       "      <td>M</td>\n",
       "      <td>52</td>\n",
       "      <td>223.60771</td>\n",
       "      <td>paid</td>\n",
       "      <td>Bakersfield, CA</td>\n",
       "      <td>NextSong</td>\n",
       "      <td>29</td>\n",
       "      <td>Harder Better Faster Stronger</td>\n",
       "      <td>200</td>\n",
       "      <td>Mozilla/5.0 (Windows NT 6.1; WOW64; rv:31.0) G...</td>\n",
       "      <td>30</td>\n",
       "      <td>2018-09-30</td>\n",
       "      <td>2018-09-28</td>\n",
       "      <td>0</td>\n",
       "      <td>Bakersfield</td>\n",
       "      <td>CA</td>\n",
       "    </tr>\n",
       "  </tbody>\n",
       "</table>\n",
       "</div>"
      ],
      "text/plain": [
       "             artist gender  itemInSession     length level  \\\n",
       "0    Martha Tilston      M             50  277.89016  paid   \n",
       "1  Five Iron Frenzy      M             79  236.09424  free   \n",
       "2      Adam Lambert      M             51  282.82730  paid   \n",
       "3            Enigma      M             80  262.71302  free   \n",
       "4         Daft Punk      M             52  223.60771  paid   \n",
       "\n",
       "                         location      page  sessionId  \\\n",
       "0                 Bakersfield, CA  NextSong         29   \n",
       "1  Boston-Cambridge-Newton, MA-NH  NextSong          8   \n",
       "2                 Bakersfield, CA  NextSong         29   \n",
       "3  Boston-Cambridge-Newton, MA-NH  NextSong          8   \n",
       "4                 Bakersfield, CA  NextSong         29   \n",
       "\n",
       "                            song  status  \\\n",
       "0                      Rockpools     200   \n",
       "1                         Canada     200   \n",
       "2              Time For Miracles     200   \n",
       "3    Knocking On Forbidden Doors     200   \n",
       "4  Harder Better Faster Stronger     200   \n",
       "\n",
       "                                           userAgent userId   ts_todate  \\\n",
       "0  Mozilla/5.0 (Windows NT 6.1; WOW64; rv:31.0) G...     30  2018-09-30   \n",
       "1  \"Mozilla/5.0 (Windows NT 6.1; WOW64) AppleWebK...      9  2018-09-30   \n",
       "2  Mozilla/5.0 (Windows NT 6.1; WOW64; rv:31.0) G...     30  2018-09-30   \n",
       "3  \"Mozilla/5.0 (Windows NT 6.1; WOW64) AppleWebK...      9  2018-09-30   \n",
       "4  Mozilla/5.0 (Windows NT 6.1; WOW64; rv:31.0) G...     30  2018-09-30   \n",
       "\n",
       "  registration_todate  churn_lab                     city  state  \n",
       "0          2018-09-28          0              Bakersfield     CA  \n",
       "1          2018-09-30          0  Boston-Cambridge-Newton  MA-NH  \n",
       "2          2018-09-28          0              Bakersfield     CA  \n",
       "3          2018-09-30          0  Boston-Cambridge-Newton  MA-NH  \n",
       "4          2018-09-28          0              Bakersfield     CA  "
      ]
     },
     "execution_count": 85,
     "metadata": {},
     "output_type": "execute_result"
    }
   ],
   "source": [
    "user_log_clean_churn_df = user_log_clean_churn.toPandas()\n",
    "user_log_clean_churn_df.head()"
   ]
  },
  {
   "cell_type": "code",
   "execution_count": 86,
   "metadata": {},
   "outputs": [
    {
     "data": {
      "text/plain": [
       "array(['Bakersfield, CA', 'Boston-Cambridge-Newton, MA-NH',\n",
       "       'Tallahassee, FL', 'Spokane-Spokane Valley, WA',\n",
       "       'Baltimore-Columbia-Towson, MD', 'Denver-Aurora-Lakewood, CO',\n",
       "       'McAllen-Edinburg-Mission, TX', 'Columbus, GA-AL',\n",
       "       'Phoenix-Mesa-Scottsdale, AZ',\n",
       "       'Tampa-St. Petersburg-Clearwater, FL',\n",
       "       'New York-Newark-Jersey City, NY-NJ-PA',\n",
       "       'Philadelphia-Camden-Wilmington, PA-NJ-DE-MD',\n",
       "       'Atlanta-Sandy Springs-Roswell, GA',\n",
       "       'Los Angeles-Long Beach-Anaheim, CA', 'Quincy, IL-MO',\n",
       "       'New Philadelphia-Dover, OH', 'Kingsport-Bristol-Bristol, TN-VA',\n",
       "       'Myrtle Beach-Conway-North Myrtle Beach, SC-NC', 'Boulder, CO',\n",
       "       'Morgantown, WV', 'Minneapolis-St. Paul-Bloomington, MN-WI',\n",
       "       'Oklahoma City, OK', 'Hartford-West Hartford-East Hartford, CT',\n",
       "       'Lexington-Fayette, KY',\n",
       "       'Virginia Beach-Norfolk-Newport News, VA-NC',\n",
       "       'Louisville/Jefferson County, KY-IN',\n",
       "       'Houston-The Woodlands-Sugar Land, TX', 'Vineland-Bridgeton, NJ',\n",
       "       'Price, UT', 'Allentown-Bethlehem-Easton, PA-NJ',\n",
       "       'San Antonio-New Braunfels, TX', 'Omaha-Council Bluffs, NE-IA',\n",
       "       'Charlotte-Concord-Gastonia, NC-SC', 'Concord, NH', 'Jackson, MS',\n",
       "       'Danville, VA', 'Pittsburgh, PA', 'Selma, AL', 'Gainesville, FL',\n",
       "       'San Francisco-Oakland-Hayward, CA',\n",
       "       'Washington-Arlington-Alexandria, DC-VA-MD-WV',\n",
       "       'Dallas-Fort Worth-Arlington, TX',\n",
       "       'Sacramento--Roseville--Arden-Arcade, CA',\n",
       "       'Chicago-Naperville-Elgin, IL-IN-WI', 'Flint, MI',\n",
       "       'Oxnard-Thousand Oaks-Ventura, CA', 'Kansas City, MO-KS',\n",
       "       'Buffalo-Cheektowaga-Niagara Falls, NY',\n",
       "       'Indianapolis-Carmel-Anderson, IN', 'Atlantic City-Hammonton, NJ',\n",
       "       'Miami-Fort Lauderdale-West Palm Beach, FL',\n",
       "       'Las Vegas-Henderson-Paradise, NV', 'Bozeman, MT',\n",
       "       'Manchester-Nashua, NH', 'Albany-Schenectady-Troy, NY',\n",
       "       'Jacksonville, FL', 'Seattle-Tacoma-Bellevue, WA',\n",
       "       'Milwaukee-Waukesha-West Allis, WI', 'New Haven-Milford, CT',\n",
       "       'Winston-Salem, NC', 'Napa, CA', 'Dubuque, IA', 'Troy, AL',\n",
       "       'Memphis, TN-MS-AR', 'Fairbanks, AK',\n",
       "       'Detroit-Warren-Dearborn, MI', 'Muncie, IN', 'Anchorage, AK',\n",
       "       'Bridgeport-Stamford-Norwalk, CT', 'Providence-Warwick, RI-MA',\n",
       "       'Austin-Round Rock, TX', 'Billings, MT', 'Pontiac, IL',\n",
       "       'Riverside-San Bernardino-Ontario, CA', 'St. Louis, MO-IL',\n",
       "       'Laurel, MS', 'Raleigh, NC', 'Montgomery, AL', 'Syracuse, NY',\n",
       "       'Dayton, OH', 'Cincinnati, OH-KY-IN', 'Alexandria, LA',\n",
       "       'Deltona-Daytona Beach-Ormond Beach, FL', 'Corpus Christi, TX',\n",
       "       'San Diego-Carlsbad, CA', 'Stockton-Lodi, CA',\n",
       "       'Truckee-Grass Valley, CA', 'Kankakee, IL', 'Duluth, MN-WI',\n",
       "       'Port St. Lucie, FL', 'Greensboro-High Point, NC',\n",
       "       'Scranton--Wilkes-Barre--Hazleton, PA', 'Monroe, LA', 'Albany, OR',\n",
       "       'North Wilkesboro, NC', 'Little Rock-North Little Rock-Conway, AR',\n",
       "       'Cleveland-Elyria, OH', 'Greenville-Anderson-Mauldin, SC',\n",
       "       'Santa Maria-Santa Barbara, CA', 'Birmingham-Hoover, AL',\n",
       "       'Hagerstown-Martinsburg, MD-WV', 'Orlando-Kissimmee-Sanford, FL',\n",
       "       'Logan, UT-ID', 'Jacksonville, NC', 'London, KY', 'Sterling, IL',\n",
       "       'Salinas, CA', 'Portland-Vancouver-Hillsboro, OR-WA',\n",
       "       'Colorado Springs, CO', 'Ionia, MI', 'Cookeville, TN',\n",
       "       'Wilson, NC', 'San Jose-Sunnyvale-Santa Clara, CA', 'Roanoke, VA'],\n",
       "      dtype=object)"
      ]
     },
     "execution_count": 86,
     "metadata": {},
     "output_type": "execute_result"
    }
   ],
   "source": [
    "user_log_clean_churn_df['location'].unique()"
   ]
  },
  {
   "cell_type": "code",
   "execution_count": 87,
   "metadata": {},
   "outputs": [],
   "source": [
    "split_col = pyspark.sql.functions.split(user_log_clean_churn['state'], '-')\n",
    "user_log_clean_churn = user_log_clean_churn.withColumn('state1', split_col.getItem(0))\n",
    "\n"
   ]
  },
  {
   "cell_type": "code",
   "execution_count": 88,
   "metadata": {},
   "outputs": [
    {
     "data": {
      "text/plain": [
       "[Row(artist='Martha Tilston', gender='M', itemInSession=50, length=277.89016, level='paid', location='Bakersfield, CA', page='NextSong', sessionId=29, song='Rockpools', status=200, userAgent='Mozilla/5.0 (Windows NT 6.1; WOW64; rv:31.0) Gecko/20100101 Firefox/31.0', userId='30', ts_todate=datetime.date(2018, 9, 30), registration_todate=datetime.date(2018, 9, 28), churn_lab=0, city='Bakersfield', state='CA', state1='CA'),\n",
       " Row(artist='Five Iron Frenzy', gender='M', itemInSession=79, length=236.09424, level='free', location='Boston-Cambridge-Newton, MA-NH', page='NextSong', sessionId=8, song='Canada', status=200, userAgent='\"Mozilla/5.0 (Windows NT 6.1; WOW64) AppleWebKit/537.36 (KHTML, like Gecko) Chrome/37.0.2062.103 Safari/537.36\"', userId='9', ts_todate=datetime.date(2018, 9, 30), registration_todate=datetime.date(2018, 9, 30), churn_lab=0, city='Boston-Cambridge-Newton', state='MA-NH', state1='MA'),\n",
       " Row(artist='Adam Lambert', gender='M', itemInSession=51, length=282.8273, level='paid', location='Bakersfield, CA', page='NextSong', sessionId=29, song='Time For Miracles', status=200, userAgent='Mozilla/5.0 (Windows NT 6.1; WOW64; rv:31.0) Gecko/20100101 Firefox/31.0', userId='30', ts_todate=datetime.date(2018, 9, 30), registration_todate=datetime.date(2018, 9, 28), churn_lab=0, city='Bakersfield', state='CA', state1='CA'),\n",
       " Row(artist='Enigma', gender='M', itemInSession=80, length=262.71302, level='free', location='Boston-Cambridge-Newton, MA-NH', page='NextSong', sessionId=8, song='Knocking On Forbidden Doors', status=200, userAgent='\"Mozilla/5.0 (Windows NT 6.1; WOW64) AppleWebKit/537.36 (KHTML, like Gecko) Chrome/37.0.2062.103 Safari/537.36\"', userId='9', ts_todate=datetime.date(2018, 9, 30), registration_todate=datetime.date(2018, 9, 30), churn_lab=0, city='Boston-Cambridge-Newton', state='MA-NH', state1='MA'),\n",
       " Row(artist='Daft Punk', gender='M', itemInSession=52, length=223.60771, level='paid', location='Bakersfield, CA', page='NextSong', sessionId=29, song='Harder Better Faster Stronger', status=200, userAgent='Mozilla/5.0 (Windows NT 6.1; WOW64; rv:31.0) Gecko/20100101 Firefox/31.0', userId='30', ts_todate=datetime.date(2018, 9, 30), registration_todate=datetime.date(2018, 9, 28), churn_lab=0, city='Bakersfield', state='CA', state1='CA')]"
      ]
     },
     "execution_count": 88,
     "metadata": {},
     "output_type": "execute_result"
    }
   ],
   "source": [
    "user_log_clean_churn.take(5)"
   ]
  },
  {
   "cell_type": "code",
   "execution_count": 89,
   "metadata": {},
   "outputs": [],
   "source": [
    "#group by state ''\n",
    "user_churn_state = user_log_clean_churn.dropDuplicates(['userId']).select('state1','churn_lab').groupby('state1','churn_lab').count()\n"
   ]
  },
  {
   "cell_type": "code",
   "execution_count": 90,
   "metadata": {},
   "outputs": [
    {
     "name": "stderr",
     "output_type": "stream",
     "text": [
      "                                                                                \r"
     ]
    }
   ],
   "source": [
    "user_churn_state_df = user_churn_state.toPandas()"
   ]
  },
  {
   "cell_type": "code",
   "execution_count": 91,
   "metadata": {},
   "outputs": [
    {
     "data": {
      "text/plain": [
       "<Axes: xlabel='state1', ylabel='count'>"
      ]
     },
     "execution_count": 91,
     "metadata": {},
     "output_type": "execute_result"
    },
    {
     "data": {
      "image/png": "[encoded data removed]",
      "text/plain": [
       "<Figure size 1600x800 with 1 Axes>"
      ]
     },
     "metadata": {},
     "output_type": "display_data"
    }
   ],
   "source": [
    "sns.set(style=\"whitegrid\")\n",
    "plt.figure(figsize=(16, 8))\n",
    "\n",
    "sns.barplot(data=user_churn_state_df, x='state1', y='count', hue='churn_lab')\n"
   ]
  },
  {
   "cell_type": "code",
   "execution_count": null,
   "metadata": {},
   "outputs": [],
   "source": []
  },
  {
   "cell_type": "code",
   "execution_count": null,
   "metadata": {},
   "outputs": [],
   "source": []
  },
  {
   "cell_type": "code",
   "execution_count": null,
   "metadata": {},
   "outputs": [],
   "source": []
  },
  {
   "cell_type": "markdown",
   "metadata": {},
   "source": [
    "- page"
   ]
  },
  {
   "cell_type": "code",
   "execution_count": 92,
   "metadata": {},
   "outputs": [],
   "source": [
    "unique_pages_userid = (\n",
    "    user_log_clean_churn.groupBy(\"userId\")\n",
    "    .agg(\n",
    "        countDistinct(\"page\").alias(\"UniquePages\"),\n",
    "        first(\"churn_lab\").alias(\"churn_lab\")  # Assuming it's a binary label (0 or 1)\n",
    "    )\n",
    ")"
   ]
  },
  {
   "cell_type": "code",
   "execution_count": 93,
   "metadata": {},
   "outputs": [
    {
     "name": "stderr",
     "output_type": "stream",
     "text": [
      "                                                                                \r"
     ]
    },
    {
     "data": {
      "image/png": "[encoded data removed]",
      "text/plain": [
       "<Figure size 400x600 with 1 Axes>"
      ]
     },
     "metadata": {},
     "output_type": "display_data"
    }
   ],
   "source": [
    "sns.set(style=\"whitegrid\")\n",
    "\n",
    "plt.figure(figsize=(4, 6))\n",
    "sns.boxplot(x=\"churn_lab\", y=\"UniquePages\", data=unique_pages_userid.toPandas())\n",
    "\n",
    "plt.xlabel('Churn Label')\n",
    "plt.ylabel('Number of unique pages visited')\n",
    "plt.title('Box Plot of Unique Pages visited by Churn Label')\n",
    "\n",
    "plt.show()"
   ]
  },
  {
   "cell_type": "markdown",
   "metadata": {},
   "source": [
    "Decision: create a feature of number of unique pages visited by each user."
   ]
  },
  {
   "cell_type": "code",
   "execution_count": 94,
   "metadata": {},
   "outputs": [],
   "source": [
    "count_pages_userid = (\n",
    "    user_log_clean_churn.groupBy(\"userId\",\"page\")\n",
    "    .agg(\n",
    "        count(\"page\").alias(\"UniquePages\"),\n",
    "        first(\"churn_lab\").alias(\"churn_lab\")  # Assuming it's a binary label (0 or 1)\n",
    "    )\n",
    ")"
   ]
  },
  {
   "cell_type": "code",
   "execution_count": 95,
   "metadata": {},
   "outputs": [],
   "source": [
    "page_counts_per_user = user_log_clean_churn.select(\"userId\", \"page\",\"churn_lab\").groupBy(\"userId\", \"page\",\"churn_lab\").count()\n"
   ]
  },
  {
   "cell_type": "code",
   "execution_count": 96,
   "metadata": {},
   "outputs": [
    {
     "name": "stderr",
     "output_type": "stream",
     "text": [
      "[Stage 140:=======>                                                 (1 + 7) / 8]\r"
     ]
    },
    {
     "name": "stdout",
     "output_type": "stream",
     "text": [
      "+------+---------------+---------+-----+\n",
      "|userId|           page|churn_lab|count|\n",
      "+------+---------------+---------+-----+\n",
      "|    81|       NextSong|        0| 1974|\n",
      "|     9|          About|        0|    9|\n",
      "|    20|Add to Playlist|        0|   54|\n",
      "|   105|      Downgrade|        1|   10|\n",
      "|    91|     Add Friend|        0|   42|\n",
      "|    97|    Roll Advert|        0|   24|\n",
      "|   126|    Thumbs Down|        0|   21|\n",
      "|    98|Add to Playlist|        0|   58|\n",
      "|    61|       Settings|        0|    9|\n",
      "|   105|         Logout|        1|   12|\n",
      "|    86|         Logout|        0|   12|\n",
      "|    97|       NextSong|        0| 1975|\n",
      "|    81|    Thumbs Down|        0|   14|\n",
      "|   131|       NextSong|        0| 1564|\n",
      "|   101|Add to Playlist|        1|   61|\n",
      "|    74|     Add Friend|        0|   43|\n",
      "|     2|           Home|        0|   35|\n",
      "|    70|  Save Settings|        1|    4|\n",
      "|    53|      Thumbs Up|        1|   69|\n",
      "|     4|         Logout|        0|   24|\n",
      "+------+---------------+---------+-----+\n",
      "only showing top 20 rows\n",
      "\n"
     ]
    },
    {
     "name": "stderr",
     "output_type": "stream",
     "text": [
      "                                                                                \r"
     ]
    }
   ],
   "source": [
    "page_counts_per_user.show()"
   ]
  },
  {
   "cell_type": "code",
   "execution_count": 97,
   "metadata": {},
   "outputs": [
    {
     "name": "stderr",
     "output_type": "stream",
     "text": [
      "/var/folders/dd/nb8m5vwd1sz3_s49jh1plcfr0000gn/T/ipykernel_41655/3805765037.py:6: UserWarning: set_ticklabels() should only be used with a fixed number of ticks, i.e. after set_ticks() or using a FixedLocator.\n",
      "  plot.set_xticklabels(plot.get_xticklabels(), rotation=45, horizontalalignment='right')\n"
     ]
    },
    {
     "data": {
      "image/png": "[encoded data removed]",
      "text/plain": [
       "<Figure size 1200x800 with 1 Axes>"
      ]
     },
     "metadata": {},
     "output_type": "display_data"
    }
   ],
   "source": [
    "sns.set(style=\"whitegrid\")\n",
    "plt.figure(figsize=(12, 8))\n",
    "plot = sns.barplot(x=\"page\", y=\"count\", hue=\"churn_lab\", data=page_counts_per_user.toPandas())\n",
    "\n",
    "# Rotate x-axis labels\n",
    "plot.set_xticklabels(plot.get_xticklabels(), rotation=45, horizontalalignment='right')\n",
    "\n",
    "plt.title(\"Page Counts per User and by churn\")\n",
    "plt.xlabel(\"Page\")\n",
    "plt.ylabel(\"Count\")\n",
    "plt.show()"
   ]
  },
  {
   "cell_type": "code",
   "execution_count": 98,
   "metadata": {},
   "outputs": [
    {
     "name": "stderr",
     "output_type": "stream",
     "text": [
      "                                                                                \r"
     ]
    }
   ],
   "source": [
    "pivoted_page_counts_per_user = page_counts_per_user.groupBy(\"userId\",\"churn_lab\").pivot(\"page\").sum(\"count\")\n"
   ]
  },
  {
   "cell_type": "code",
   "execution_count": 99,
   "metadata": {},
   "outputs": [
    {
     "name": "stderr",
     "output_type": "stream",
     "text": [
      "[Stage 154:>                                                        (0 + 8) / 8]\r"
     ]
    },
    {
     "name": "stdout",
     "output_type": "stream",
     "text": [
      "+------+---------+-----+----------+---------------+------+-------------------------+---------+-----+----+----+------+--------+-----------+-------------+--------+----------------+--------------+-----------+---------+-------+\n",
      "|userId|churn_lab|About|Add Friend|Add to Playlist|Cancel|Cancellation Confirmation|Downgrade|Error|Help|Home|Logout|NextSong|Roll Advert|Save Settings|Settings|Submit Downgrade|Submit Upgrade|Thumbs Down|Thumbs Up|Upgrade|\n",
      "+------+---------+-----+----------+---------------+------+-------------------------+---------+-----+----+----+------+--------+-----------+-------------+--------+----------------+--------------+-----------+---------+-------+\n",
      "|    19|        0|    2|         4|              8|  NULL|                     NULL|        2| NULL|NULL|  11|     8|     216|       NULL|         NULL|       1|            NULL|          NULL|          2|        5|   NULL|\n",
      "|100005|        1| NULL|         3|              3|     1|                        1|     NULL| NULL|   2|  15|     3|     154|         18|         NULL|       2|            NULL|          NULL|          3|        7|      4|\n",
      "|200007|        0| NULL|         1|           NULL|  NULL|                     NULL|     NULL|    1|   2|   4|     1|      65|       NULL|         NULL|    NULL|            NULL|          NULL|       NULL|        2|   NULL|\n",
      "|300007|        1| NULL|         4|              4|     1|                        1|        2| NULL|   1|   3|  NULL|     111|          2|            1|       1|            NULL|          NULL|          1|       11|   NULL|\n",
      "|    50|        0|    2|         9|             12|  NULL|                     NULL|        2|    2|   7|  25|     6|     503|         37|            3|       9|            NULL|             1|          3|       27|      3|\n",
      "|200002|        0|    3|         4|              8|  NULL|                     NULL|        5| NULL|   2|  20|     5|     387|          7|         NULL|       3|            NULL|             1|          6|       21|      2|\n",
      "|     8|        0|    1|         5|              6|  NULL|                     NULL|     NULL|    2|NULL|  21|     8|     251|         18|         NULL|    NULL|            NULL|          NULL|          3|       16|      3|\n",
      "|    30|        0|    3|        25|             47|  NULL|                     NULL|        6|    1|   5|  70|    20|    1417|         72|            1|      13|               1|             1|         17|       62|     14|\n",
      "|100012|        1|    1|         2|             12|     1|                        1|        4| NULL|   2|  27|     6|     476|         38|         NULL|    NULL|               1|             1|          9|       18|      1|\n",
      "|100011|        1| NULL|      NULL|              2|     1|                        1|     NULL| NULL|NULL|   4|  NULL|      11|          2|         NULL|       1|            NULL|          NULL|          1|     NULL|   NULL|\n",
      "+------+---------+-----+----------+---------------+------+-------------------------+---------+-----+----+----+------+--------+-----------+-------------+--------+----------------+--------------+-----------+---------+-------+\n",
      "only showing top 10 rows\n",
      "\n"
     ]
    },
    {
     "name": "stderr",
     "output_type": "stream",
     "text": [
      "                                                                                \r"
     ]
    }
   ],
   "source": [
    "pivoted_page_counts_per_user.show(10)"
   ]
  },
  {
   "cell_type": "code",
   "execution_count": 100,
   "metadata": {},
   "outputs": [],
   "source": [
    "pivoted_page_counts_per_user = pivoted_page_counts_per_user.na.fill(0)\n"
   ]
  },
  {
   "cell_type": "code",
   "execution_count": 101,
   "metadata": {},
   "outputs": [
    {
     "name": "stderr",
     "output_type": "stream",
     "text": [
      "[Stage 160:=================================================>       (7 + 1) / 8]\r"
     ]
    },
    {
     "name": "stdout",
     "output_type": "stream",
     "text": [
      "+------+---------+-----+----------+---------------+------+-------------------------+---------+-----+----+----+------+--------+-----------+-------------+--------+----------------+--------------+-----------+---------+-------+\n",
      "|userId|churn_lab|About|Add Friend|Add to Playlist|Cancel|Cancellation Confirmation|Downgrade|Error|Help|Home|Logout|NextSong|Roll Advert|Save Settings|Settings|Submit Downgrade|Submit Upgrade|Thumbs Down|Thumbs Up|Upgrade|\n",
      "+------+---------+-----+----------+---------------+------+-------------------------+---------+-----+----+----+------+--------+-----------+-------------+--------+----------------+--------------+-----------+---------+-------+\n",
      "|    19|        0|    2|         4|              8|     0|                        0|        2|    0|   0|  11|     8|     216|          0|            0|       1|               0|             0|          2|        5|      0|\n",
      "|100005|        1|    0|         3|              3|     1|                        1|        0|    0|   2|  15|     3|     154|         18|            0|       2|               0|             0|          3|        7|      4|\n",
      "|200007|        0|    0|         1|              0|     0|                        0|        0|    1|   2|   4|     1|      65|          0|            0|       0|               0|             0|          0|        2|      0|\n",
      "|300007|        1|    0|         4|              4|     1|                        1|        2|    0|   1|   3|     0|     111|          2|            1|       1|               0|             0|          1|       11|      0|\n",
      "|    50|        0|    2|         9|             12|     0|                        0|        2|    2|   7|  25|     6|     503|         37|            3|       9|               0|             1|          3|       27|      3|\n",
      "|200002|        0|    3|         4|              8|     0|                        0|        5|    0|   2|  20|     5|     387|          7|            0|       3|               0|             1|          6|       21|      2|\n",
      "|     8|        0|    1|         5|              6|     0|                        0|        0|    2|   0|  21|     8|     251|         18|            0|       0|               0|             0|          3|       16|      3|\n",
      "|    30|        0|    3|        25|             47|     0|                        0|        6|    1|   5|  70|    20|    1417|         72|            1|      13|               1|             1|         17|       62|     14|\n",
      "|100012|        1|    1|         2|             12|     1|                        1|        4|    0|   2|  27|     6|     476|         38|            0|       0|               1|             1|          9|       18|      1|\n",
      "|100011|        1|    0|         0|              2|     1|                        1|        0|    0|   0|   4|     0|      11|          2|            0|       1|               0|             0|          1|        0|      0|\n",
      "+------+---------+-----+----------+---------------+------+-------------------------+---------+-----+----+----+------+--------+-----------+-------------+--------+----------------+--------------+-----------+---------+-------+\n",
      "only showing top 10 rows\n",
      "\n"
     ]
    },
    {
     "name": "stderr",
     "output_type": "stream",
     "text": [
      "                                                                                \r"
     ]
    }
   ],
   "source": [
    "pivoted_page_counts_per_user.show(10)"
   ]
  },
  {
   "cell_type": "code",
   "execution_count": 102,
   "metadata": {},
   "outputs": [],
   "source": [
    "df_with_underscores = pivoted_page_counts_per_user.select([col(col_name).alias(col_name.replace(\" \", \"_\")) for col_name in pivoted_page_counts_per_user.columns])\n"
   ]
  },
  {
   "cell_type": "code",
   "execution_count": 103,
   "metadata": {},
   "outputs": [
    {
     "name": "stderr",
     "output_type": "stream",
     "text": [
      "                                                                                \r"
     ]
    },
    {
     "data": {
      "text/plain": [
       "[Row(userId='19', churn_lab=0, About=2, Add_Friend=4, Add_to_Playlist=8, Cancel=0, Cancellation_Confirmation=0, Downgrade=2, Error=0, Help=0, Home=11, Logout=8, NextSong=216, Roll_Advert=0, Save_Settings=0, Settings=1, Submit_Downgrade=0, Submit_Upgrade=0, Thumbs_Down=2, Thumbs_Up=5, Upgrade=0)]"
      ]
     },
     "execution_count": 103,
     "metadata": {},
     "output_type": "execute_result"
    }
   ],
   "source": [
    "df_with_underscores.take(1)"
   ]
  },
  {
   "cell_type": "code",
   "execution_count": null,
   "metadata": {},
   "outputs": [],
   "source": []
  },
  {
   "cell_type": "code",
   "execution_count": null,
   "metadata": {},
   "outputs": [],
   "source": []
  },
  {
   "cell_type": "code",
   "execution_count": null,
   "metadata": {},
   "outputs": [],
   "source": []
  },
  {
   "cell_type": "markdown",
   "metadata": {},
   "source": [
    "- song"
   ]
  },
  {
   "cell_type": "code",
   "execution_count": 104,
   "metadata": {},
   "outputs": [],
   "source": [
    "unique_song_userid = (\n",
    "    user_log_clean_churn.groupBy(\"userId\")\n",
    "    .agg(\n",
    "        countDistinct(\"song\").alias(\"UniqueSongs\"),\n",
    "        first(\"churn_lab\").alias(\"churn_lab\")  # Assuming it's a binary label (0 or 1)\n",
    "    )\n",
    ")"
   ]
  },
  {
   "cell_type": "code",
   "execution_count": 105,
   "metadata": {},
   "outputs": [
    {
     "name": "stderr",
     "output_type": "stream",
     "text": [
      "                                                                                \r"
     ]
    },
    {
     "data": {
      "image/png": "[encoded data removed]",
      "text/plain": [
       "<Figure size 400x600 with 1 Axes>"
      ]
     },
     "metadata": {},
     "output_type": "display_data"
    }
   ],
   "source": [
    "sns.set(style=\"whitegrid\")\n",
    "\n",
    "plt.figure(figsize=(4, 6))\n",
    "sns.boxplot(x=\"churn_lab\", y=\"UniqueSongs\", data=unique_song_userid.toPandas())\n",
    "\n",
    "plt.xlabel('Churn Label')\n",
    "plt.ylabel('Number of unique songs listened to')\n",
    "plt.title('Box Plot Unique Songs by Churn Label')\n",
    "\n",
    "plt.show()"
   ]
  },
  {
   "cell_type": "markdown",
   "metadata": {},
   "source": [
    "status"
   ]
  },
  {
   "cell_type": "code",
   "execution_count": 106,
   "metadata": {},
   "outputs": [
    {
     "name": "stderr",
     "output_type": "stream",
     "text": [
      "[Stage 178:=======>                                                 (1 + 7) / 8]\r"
     ]
    },
    {
     "name": "stdout",
     "output_type": "stream",
     "text": [
      "+------+------+\n",
      "|status| count|\n",
      "+------+------+\n",
      "|   307| 23184|\n",
      "|   404|   252|\n",
      "|   200|254718|\n",
      "+------+------+\n",
      "\n"
     ]
    },
    {
     "name": "stderr",
     "output_type": "stream",
     "text": [
      "                                                                                \r"
     ]
    }
   ],
   "source": [
    "spark.sql('SELECT status, COUNT(status) AS count\\\n",
    "           FROM user_log_table_clean\\\n",
    "           GROUP BY status').show()"
   ]
  },
  {
   "cell_type": "markdown",
   "metadata": {},
   "source": [
    "dropping this column"
   ]
  },
  {
   "cell_type": "markdown",
   "metadata": {},
   "source": [
    "- itemInSession"
   ]
  },
  {
   "cell_type": "code",
   "execution_count": 107,
   "metadata": {},
   "outputs": [],
   "source": [
    "itemsession_per_user = user_log_clean_churn.select('itemInSession','userId','churn_lab').groupBy('userId','churn_lab').agg(spark_sum('itemInSession').alias('total_items'))"
   ]
  },
  {
   "cell_type": "code",
   "execution_count": 108,
   "metadata": {},
   "outputs": [
    {
     "name": "stderr",
     "output_type": "stream",
     "text": [
      "[Stage 181:==========================================>              (6 + 2) / 8]\r"
     ]
    },
    {
     "name": "stdout",
     "output_type": "stream",
     "text": [
      "+------+---------+-----------+\n",
      "|userId|churn_lab|total_items|\n",
      "+------+---------+-----------+\n",
      "|    19|        0|      35787|\n",
      "|    50|        0|      38269|\n",
      "|    30|        0|     153981|\n",
      "|     8|        0|      16650|\n",
      "|     4|        0|     371556|\n",
      "|    65|        0|     257775|\n",
      "|   101|        1|     558026|\n",
      "|    13|        0|     122176|\n",
      "|    42|        0|     346961|\n",
      "|    94|        0|       4593|\n",
      "|    62|        0|     374198|\n",
      "|   114|        0|     122924|\n",
      "|   144|        0|       4682|\n",
      "|    78|        0|      10082|\n",
      "|    59|        0|      86789|\n",
      "|   105|        1|     119980|\n",
      "|     3|        1|      11834|\n",
      "|   127|        0|     262073|\n",
      "|   132|        0|     318032|\n",
      "|     7|        0|       5593|\n",
      "+------+---------+-----------+\n",
      "only showing top 20 rows\n",
      "\n"
     ]
    },
    {
     "name": "stderr",
     "output_type": "stream",
     "text": [
      "                                                                                \r"
     ]
    }
   ],
   "source": [
    "itemsession_per_user.show()"
   ]
  },
  {
   "cell_type": "code",
   "execution_count": 109,
   "metadata": {},
   "outputs": [
    {
     "name": "stderr",
     "output_type": "stream",
     "text": [
      "                                                                                \r"
     ]
    },
    {
     "data": {
      "image/png": "[encoded data removed]",
      "text/plain": [
       "<Figure size 400x600 with 1 Axes>"
      ]
     },
     "metadata": {},
     "output_type": "display_data"
    }
   ],
   "source": [
    "sns.set(style=\"whitegrid\")\n",
    "\n",
    "plt.figure(figsize=(4, 6))\n",
    "sns.boxplot(x=\"churn_lab\", y=\"total_items\", data=itemsession_per_user.toPandas())\n",
    "\n",
    "plt.xlabel('Churn Label')\n",
    "plt.ylabel('Number of days since registration')\n",
    "plt.title('Number of days since registration by churn')\n",
    "\n",
    "plt.show()"
   ]
  },
  {
   "cell_type": "markdown",
   "metadata": {},
   "source": [
    "userAgent"
   ]
  },
  {
   "cell_type": "code",
   "execution_count": null,
   "metadata": {},
   "outputs": [],
   "source": []
  },
  {
   "cell_type": "code",
   "execution_count": 110,
   "metadata": {},
   "outputs": [
    {
     "data": {
      "text/plain": [
       "[Row(artist='Martha Tilston', gender='M', itemInSession=50, length=277.89016, level='paid', location='Bakersfield, CA', page='NextSong', sessionId=29, song='Rockpools', status=200, userAgent='Mozilla/5.0 (Windows NT 6.1; WOW64; rv:31.0) Gecko/20100101 Firefox/31.0', userId='30', ts_todate=datetime.date(2018, 9, 30), registration_todate=datetime.date(2018, 9, 28), churn_lab=0, city='Bakersfield', state='CA', state1='CA')]"
      ]
     },
     "execution_count": 110,
     "metadata": {},
     "output_type": "execute_result"
    }
   ],
   "source": [
    "user_log_clean_churn.take(1)"
   ]
  },
  {
   "cell_type": "code",
   "execution_count": 111,
   "metadata": {},
   "outputs": [],
   "source": [
    "userAgent_userid = (\n",
    "    user_log_clean_churn.groupBy(\"userId\")\n",
    "    .agg(first(\"userAgent\").alias(\"userAgent\"),\n",
    "        first(\"churn_lab\").alias(\"churn_lab\")  # Assuming it's a binary label (0 or 1)\n",
    "    )\n",
    ")"
   ]
  },
  {
   "cell_type": "code",
   "execution_count": 112,
   "metadata": {},
   "outputs": [
    {
     "name": "stderr",
     "output_type": "stream",
     "text": [
      "                                                                                \r"
     ]
    },
    {
     "data": {
      "text/plain": [
       "array(['\"Mozilla/5.0 (Macintosh; Intel Mac OS X 10_9_4) AppleWebKit/537.36 (KHTML, like Gecko) Chrome/36.0.1985.143 Safari/537.36\"',\n",
       "       'Mozilla/5.0 (Windows NT 6.1; WOW64; rv:30.0) Gecko/20100101 Firefox/30.0',\n",
       "       '\"Mozilla/5.0 (Macintosh; Intel Mac OS X 10_6_8) AppleWebKit/537.36 (KHTML, like Gecko) Chrome/36.0.1985.143 Safari/537.36\"',\n",
       "       'Mozilla/5.0 (Windows NT 6.1; WOW64; rv:32.0) Gecko/20100101 Firefox/32.0',\n",
       "       'Mozilla/5.0 (Windows NT 6.1; WOW64; rv:31.0) Gecko/20100101 Firefox/31.0',\n",
       "       'Mozilla/5.0 (compatible; MSIE 9.0; Windows NT 6.1; Trident/5.0)',\n",
       "       '\"Mozilla/5.0 (Macintosh; Intel Mac OS X 10_9_4) AppleWebKit/537.36 (KHTML, like Gecko) Chrome/36.0.1985.125 Safari/537.36\"',\n",
       "       '\"Mozilla/5.0 (Windows NT 6.3; WOW64) AppleWebKit/537.36 (KHTML, like Gecko) Chrome/36.0.1985.143 Safari/537.36\"',\n",
       "       '\"Mozilla/5.0 (Windows NT 6.3; WOW64) AppleWebKit/537.36 (KHTML, like Gecko) Chrome/36.0.1985.125 Safari/537.36\"',\n",
       "       'Mozilla/5.0 (Macintosh; Intel Mac OS X 10.7; rv:31.0) Gecko/20100101 Firefox/31.0',\n",
       "       '\"Mozilla/5.0 (Windows NT 6.1; WOW64) AppleWebKit/537.36 (KHTML, like Gecko) Chrome/37.0.2062.94 Safari/537.36\"',\n",
       "       '\"Mozilla/5.0 (iPhone; CPU iPhone OS 7_1_2 like Mac OS X) AppleWebKit/537.51.2 (KHTML, like Gecko) Version/7.0 Mobile/11D257 Safari/9537.53\"',\n",
       "       '\"Mozilla/5.0 (Macintosh; Intel Mac OS X 10_9_4) AppleWebKit/537.78.2 (KHTML, like Gecko) Version/7.0.6 Safari/537.78.2\"',\n",
       "       '\"Mozilla/5.0 (Windows NT 6.1) AppleWebKit/537.36 (KHTML, like Gecko) Chrome/36.0.1985.143 Safari/537.36\"',\n",
       "       '\"Mozilla/5.0 (Windows NT 6.1; WOW64) AppleWebKit/537.36 (KHTML, like Gecko) Chrome/36.0.1985.143 Safari/537.36\"',\n",
       "       '\"Mozilla/5.0 (X11; Linux x86_64) AppleWebKit/537.36 (KHTML, like Gecko) Chrome/36.0.1985.143 Safari/537.36\"',\n",
       "       '\"Mozilla/5.0 (Macintosh; Intel Mac OS X 10_10) AppleWebKit/600.1.8 (KHTML, like Gecko) Version/8.0 Safari/600.1.8\"',\n",
       "       'Mozilla/5.0 (X11; Ubuntu; Linux x86_64; rv:31.0) Gecko/20100101 Firefox/31.0',\n",
       "       'Mozilla/5.0 (Macintosh; Intel Mac OS X 10.9; rv:31.0) Gecko/20100101 Firefox/31.0',\n",
       "       'Mozilla/5.0 (Windows NT 6.1; rv:31.0) Gecko/20100101 Firefox/31.0',\n",
       "       '\"Mozilla/5.0 (Macintosh; Intel Mac OS X 10_9_4) AppleWebKit/537.36 (KHTML, like Gecko) Chrome/35.0.1916.153 Safari/537.36\"',\n",
       "       'Mozilla/5.0 (Windows NT 6.2; WOW64; rv:31.0) Gecko/20100101 Firefox/31.0',\n",
       "       '\"Mozilla/5.0 (Windows NT 6.1) AppleWebKit/537.36 (KHTML, like Gecko) Chrome/36.0.1985.125 Safari/537.36\"',\n",
       "       'Mozilla/5.0 (Windows NT 6.1; WOW64; Trident/7.0; rv:11.0) like Gecko',\n",
       "       '\"Mozilla/5.0 (Macintosh; Intel Mac OS X 10_8_5) AppleWebKit/537.36 (KHTML, like Gecko) Chrome/37.0.2062.94 Safari/537.36\"',\n",
       "       '\"Mozilla/5.0 (Macintosh; Intel Mac OS X 10_9_4) AppleWebKit/537.36 (KHTML, like Gecko) Chrome/37.0.2062.94 Safari/537.36\"',\n",
       "       '\"Mozilla/5.0 (Windows NT 6.1; WOW64) AppleWebKit/537.36 (KHTML, like Gecko) Chrome/36.0.1985.125 Safari/537.36\"',\n",
       "       '\"Mozilla/5.0 (Windows NT 6.2; WOW64) AppleWebKit/537.36 (KHTML, like Gecko) Chrome/36.0.1985.125 Safari/537.36\"',\n",
       "       '\"Mozilla/5.0 (Windows NT 6.2; WOW64) AppleWebKit/537.36 (KHTML, like Gecko) Chrome/36.0.1985.143 Safari/537.36\"',\n",
       "       'Mozilla/5.0 (Windows NT 6.3; WOW64; rv:31.0) Gecko/20100101 Firefox/31.0',\n",
       "       'Mozilla/5.0 (X11; Ubuntu; Linux i686; rv:31.0) Gecko/20100101 Firefox/31.0',\n",
       "       '\"Mozilla/5.0 (iPhone; CPU iPhone OS 7_1 like Mac OS X) AppleWebKit/537.51.2 (KHTML, like Gecko) Version/7.0 Mobile/11D167 Safari/9537.53\"',\n",
       "       '\"Mozilla/5.0 (Macintosh; Intel Mac OS X 10_9_3) AppleWebKit/537.76.4 (KHTML, like Gecko) Version/7.0.4 Safari/537.76.4\"',\n",
       "       '\"Mozilla/5.0 (Macintosh; Intel Mac OS X 10_9_4) AppleWebKit/537.77.4 (KHTML, like Gecko) Version/7.0.5 Safari/537.77.4\"',\n",
       "       '\"Mozilla/5.0 (iPad; CPU OS 7_1_1 like Mac OS X) AppleWebKit/537.51.2 (KHTML, like Gecko) Version/7.0 Mobile/11D201 Safari/9537.53\"',\n",
       "       '\"Mozilla/5.0 (Macintosh; Intel Mac OS X 10_9_2) AppleWebKit/537.74.9 (KHTML, like Gecko) Version/7.0.2 Safari/537.74.9\"',\n",
       "       'Mozilla/5.0 (compatible; MSIE 9.0; Windows NT 6.1; WOW64; Trident/5.0)',\n",
       "       '\"Mozilla/5.0 (iPad; CPU OS 7_1_2 like Mac OS X) AppleWebKit/537.51.2 (KHTML, like Gecko) Version/7.0 Mobile/11D257 Safari/9537.53\"',\n",
       "       'Mozilla/5.0 (Windows NT 6.1; WOW64; rv:24.0) Gecko/20100101 Firefox/24.0',\n",
       "       '\"Mozilla/5.0 (Macintosh; Intel Mac OS X 10_9_2) AppleWebKit/537.36 (KHTML, like Gecko) Chrome/36.0.1985.125 Safari/537.36\"',\n",
       "       '\"Mozilla/5.0 (Windows NT 6.1; WOW64) AppleWebKit/537.36 (KHTML, like Gecko) Chrome/35.0.1916.153 Safari/537.36\"',\n",
       "       '\"Mozilla/5.0 (Macintosh; Intel Mac OS X 10_7_5) AppleWebKit/537.77.4 (KHTML, like Gecko) Version/6.1.5 Safari/537.77.4\"',\n",
       "       '\"Mozilla/5.0 (Windows NT 5.1) AppleWebKit/537.36 (KHTML, like Gecko) Chrome/36.0.1985.125 Safari/537.36\"',\n",
       "       '\"Mozilla/5.0 (Macintosh; Intel Mac OS X 10_7_5) AppleWebKit/537.36 (KHTML, like Gecko) Chrome/36.0.1985.125 Safari/537.36\"',\n",
       "       '\"Mozilla/5.0 (X11; Linux x86_64) AppleWebKit/537.36 (KHTML, like Gecko) Chrome/36.0.1985.125 Safari/537.36\"',\n",
       "       '\"Mozilla/5.0 (Windows NT 5.1) AppleWebKit/537.36 (KHTML, like Gecko) Chrome/36.0.1985.143 Safari/537.36\"',\n",
       "       '\"Mozilla/5.0 (Windows NT 6.1; WOW64) AppleWebKit/537.36 (KHTML, like Gecko) Chrome/37.0.2062.103 Safari/537.36\"',\n",
       "       'Mozilla/5.0 (Windows NT 6.0; rv:31.0) Gecko/20100101 Firefox/31.0',\n",
       "       '\"Mozilla/5.0 (Macintosh; Intel Mac OS X 10_8_5) AppleWebKit/537.36 (KHTML, like Gecko) Chrome/36.0.1985.143 Safari/537.36\"',\n",
       "       '\"Mozilla/5.0 (Macintosh; Intel Mac OS X 10_9_2) AppleWebKit/537.75.14 (KHTML, like Gecko) Version/7.0.3 Safari/537.75.14\"',\n",
       "       'Mozilla/5.0 (Macintosh; Intel Mac OS X 10.6; rv:31.0) Gecko/20100101 Firefox/31.0',\n",
       "       'Mozilla/5.0 (Macintosh; Intel Mac OS X 10.8; rv:31.0) Gecko/20100101 Firefox/31.0',\n",
       "       '\"Mozilla/5.0 (iPhone; CPU iPhone OS 7_1_1 like Mac OS X) AppleWebKit/537.51.2 (KHTML, like Gecko) Version/7.0 Mobile/11D201 Safari/9537.53\"',\n",
       "       'Mozilla/5.0 (X11; Linux x86_64; rv:31.0) Gecko/20100101 Firefox/31.0',\n",
       "       '\"Mozilla/5.0 (Macintosh; Intel Mac OS X 10_10) AppleWebKit/600.1.3 (KHTML, like Gecko) Version/8.0 Safari/600.1.3\"',\n",
       "       'Mozilla/5.0 (compatible; MSIE 10.0; Windows NT 6.1; WOW64; Trident/6.0)'],\n",
       "      dtype=object)"
      ]
     },
     "execution_count": 112,
     "metadata": {},
     "output_type": "execute_result"
    }
   ],
   "source": [
    "userAgent_userid.toPandas()['userAgent'].unique()"
   ]
  },
  {
   "cell_type": "markdown",
   "metadata": {},
   "source": [
    "there is a lot of information in this column. It is diffidult to understand why there are so many platforms for each user so I will drop userAgent for now."
   ]
  },
  {
   "cell_type": "markdown",
   "metadata": {},
   "source": [
    "- ts_todate"
   ]
  },
  {
   "cell_type": "code",
   "execution_count": 113,
   "metadata": {},
   "outputs": [
    {
     "data": {
      "text/plain": [
       "[Row(artist='Martha Tilston', gender='M', itemInSession=50, length=277.89016, level='paid', location='Bakersfield, CA', page='NextSong', sessionId=29, song='Rockpools', status=200, userAgent='Mozilla/5.0 (Windows NT 6.1; WOW64; rv:31.0) Gecko/20100101 Firefox/31.0', userId='30', ts_todate=datetime.date(2018, 9, 30), registration_todate=datetime.date(2018, 9, 28), churn_lab=0, city='Bakersfield', state='CA', state1='CA')]"
      ]
     },
     "execution_count": 113,
     "metadata": {},
     "output_type": "execute_result"
    }
   ],
   "source": [
    "user_log_clean_churn.take(1)"
   ]
  },
  {
   "cell_type": "code",
   "execution_count": 114,
   "metadata": {},
   "outputs": [],
   "source": [
    "#isolate userid and dates\n",
    "columns=['userId', 'ts_todate','registration_todate','churn_lab']\n",
    "dates_df = user_log_clean_churn.select(columns)\n"
   ]
  },
  {
   "cell_type": "code",
   "execution_count": 115,
   "metadata": {},
   "outputs": [],
   "source": [
    "dates_df= dates_df.withColumn(\"RegistrationDate\", col(\"registration_todate\").cast(\"date\"))\n",
    "dates_df = dates_df.withColumn(\"SessionDate\", col(\"ts_todate\").cast(\"date\"))\n"
   ]
  },
  {
   "cell_type": "code",
   "execution_count": 116,
   "metadata": {},
   "outputs": [
    {
     "data": {
      "text/plain": [
       "[Row(userId='30', ts_todate=datetime.date(2018, 9, 30), registration_todate=datetime.date(2018, 9, 28), churn_lab=0, RegistrationDate=datetime.date(2018, 9, 28), SessionDate=datetime.date(2018, 9, 30))]"
      ]
     },
     "execution_count": 116,
     "metadata": {},
     "output_type": "execute_result"
    }
   ],
   "source": [
    "dates_df.take(1)"
   ]
  },
  {
   "cell_type": "code",
   "execution_count": 117,
   "metadata": {},
   "outputs": [],
   "source": [
    "dates_df = dates_df.withColumn(\"NumDaysSinceRegistration\", datediff(col(\"SessionDate\"), col(\"RegistrationDate\")))\n"
   ]
  },
  {
   "cell_type": "code",
   "execution_count": 118,
   "metadata": {},
   "outputs": [
    {
     "data": {
      "text/plain": [
       "[Row(userId='30', ts_todate=datetime.date(2018, 9, 30), registration_todate=datetime.date(2018, 9, 28), churn_lab=0, RegistrationDate=datetime.date(2018, 9, 28), SessionDate=datetime.date(2018, 9, 30), NumDaysSinceRegistration=2)]"
      ]
     },
     "execution_count": 118,
     "metadata": {},
     "output_type": "execute_result"
    }
   ],
   "source": [
    "dates_df.take(1)"
   ]
  },
  {
   "cell_type": "code",
   "execution_count": 119,
   "metadata": {},
   "outputs": [],
   "source": [
    "dates_df = dates_df.groupBy(\"userId\").agg(\n",
    "    first(\"churn_lab\").alias(\"churn_lab\"),\n",
    "    first(\"NumDaysSinceRegistration\").alias(\"NumDaysSinceRegistration\")\n",
    ")"
   ]
  },
  {
   "cell_type": "code",
   "execution_count": 120,
   "metadata": {
    "scrolled": true
   },
   "outputs": [
    {
     "name": "stderr",
     "output_type": "stream",
     "text": [
      "[Stage 194:=======>                                                 (1 + 7) / 8]\r"
     ]
    },
    {
     "name": "stdout",
     "output_type": "stream",
     "text": [
      "+------+---------+------------------------+\n",
      "|userId|churn_lab|NumDaysSinceRegistration|\n",
      "+------+---------+------------------------+\n",
      "|    51|        1|                       4|\n",
      "|   124|        0|                      72|\n",
      "|     7|        0|                      22|\n",
      "|    54|        1|                      68|\n",
      "|    15|        0|                       2|\n",
      "|   132|        0|                      17|\n",
      "|   101|        1|                      38|\n",
      "|    11|        0|                      71|\n",
      "|   138|        0|                      10|\n",
      "|    29|        1|                      16|\n",
      "|    69|        0|                      20|\n",
      "|    42|        0|                       7|\n",
      "|   112|        0|                      31|\n",
      "|    87|        1|                      40|\n",
      "|    73|        1|                      28|\n",
      "|     3|        1|                      53|\n",
      "|    30|        0|                       2|\n",
      "|   113|        0|                      64|\n",
      "|    34|        0|                      29|\n",
      "|    59|        0|                       6|\n",
      "+------+---------+------------------------+\n",
      "only showing top 20 rows\n",
      "\n"
     ]
    },
    {
     "name": "stderr",
     "output_type": "stream",
     "text": [
      "                                                                                \r"
     ]
    }
   ],
   "source": [
    "dates_df.show()"
   ]
  },
  {
   "cell_type": "code",
   "execution_count": 121,
   "metadata": {},
   "outputs": [
    {
     "name": "stderr",
     "output_type": "stream",
     "text": [
      "                                                                                \r"
     ]
    },
    {
     "data": {
      "image/png": "[encoded data removed]",
      "text/plain": [
       "<Figure size 400x600 with 1 Axes>"
      ]
     },
     "metadata": {},
     "output_type": "display_data"
    }
   ],
   "source": [
    "sns.set(style=\"whitegrid\")\n",
    "\n",
    "plt.figure(figsize=(4, 6))\n",
    "sns.boxplot(x=\"churn_lab\", y=\"NumDaysSinceRegistration\", data=dates_df.toPandas())\n",
    "\n",
    "plt.xlabel('Churn Label')\n",
    "plt.ylabel('Number of days since registration')\n",
    "plt.title('Number of days since registration by churn')\n",
    "\n",
    "plt.show()"
   ]
  },
  {
   "cell_type": "markdown",
   "metadata": {},
   "source": [
    "More features with time\n",
    "- average number of sessions per day\n",
    "- average number of sessions per month\n",
    "- average number of items per day\n",
    "- average number of items per month"
   ]
  },
  {
   "cell_type": "code",
   "execution_count": 122,
   "metadata": {},
   "outputs": [
    {
     "data": {
      "text/plain": [
       "[Row(artist='Martha Tilston', gender='M', itemInSession=50, length=277.89016, level='paid', location='Bakersfield, CA', page='NextSong', sessionId=29, song='Rockpools', status=200, userAgent='Mozilla/5.0 (Windows NT 6.1; WOW64; rv:31.0) Gecko/20100101 Firefox/31.0', userId='30', ts_todate=datetime.date(2018, 9, 30), registration_todate=datetime.date(2018, 9, 28), churn_lab=0, city='Bakersfield', state='CA', state1='CA')]"
      ]
     },
     "execution_count": 122,
     "metadata": {},
     "output_type": "execute_result"
    }
   ],
   "source": [
    "user_log_clean_churn.take(1)"
   ]
  },
  {
   "cell_type": "code",
   "execution_count": 123,
   "metadata": {},
   "outputs": [],
   "source": [
    "user_log_clean_churn = user_log_clean_churn.withColumn('month', month('ts_todate'))\n"
   ]
  },
  {
   "cell_type": "code",
   "execution_count": 124,
   "metadata": {},
   "outputs": [
    {
     "data": {
      "text/plain": [
       "[Row(artist='Martha Tilston', gender='M', itemInSession=50, length=277.89016, level='paid', location='Bakersfield, CA', page='NextSong', sessionId=29, song='Rockpools', status=200, userAgent='Mozilla/5.0 (Windows NT 6.1; WOW64; rv:31.0) Gecko/20100101 Firefox/31.0', userId='30', ts_todate=datetime.date(2018, 9, 30), registration_todate=datetime.date(2018, 9, 28), churn_lab=0, city='Bakersfield', state='CA', state1='CA', month=9)]"
      ]
     },
     "execution_count": 124,
     "metadata": {},
     "output_type": "execute_result"
    }
   ],
   "source": [
    "user_log_clean_churn.take(1)"
   ]
  },
  {
   "cell_type": "code",
   "execution_count": 125,
   "metadata": {},
   "outputs": [],
   "source": [
    "sessions_month = user_log_clean_churn.groupBy('userId','month','churn_lab').agg(count('*').alias('sessions_month'))"
   ]
  },
  {
   "cell_type": "code",
   "execution_count": 126,
   "metadata": {},
   "outputs": [],
   "source": [
    "avg_session_month = sessions_month.groupBy('userID','churn_lab').agg(spark_avg('sessions_month').alias('avg_session_month'))"
   ]
  },
  {
   "cell_type": "code",
   "execution_count": 127,
   "metadata": {},
   "outputs": [
    {
     "name": "stderr",
     "output_type": "stream",
     "text": [
      "                                                                                \r"
     ]
    },
    {
     "data": {
      "image/png": "[encoded data removed]",
      "text/plain": [
       "<Figure size 400x600 with 1 Axes>"
      ]
     },
     "metadata": {},
     "output_type": "display_data"
    }
   ],
   "source": [
    "sns.set(style=\"whitegrid\")\n",
    "\n",
    "plt.figure(figsize=(4, 6))\n",
    "sns.boxplot(x=\"churn_lab\", y=\"avg_session_month\", data=avg_session_month.toPandas())\n",
    "\n",
    "plt.xlabel('Churn Label')\n",
    "plt.ylabel('Average number of sessions per month')\n",
    "plt.title('Average number of sessions per by churn')\n",
    "\n",
    "plt.show()"
   ]
  },
  {
   "cell_type": "code",
   "execution_count": 128,
   "metadata": {},
   "outputs": [],
   "source": [
    "sessions_day = user_log_clean_churn.groupBy('userId','ts_todate','churn_lab').agg(count('*').alias('sessions_day'))"
   ]
  },
  {
   "cell_type": "code",
   "execution_count": 129,
   "metadata": {},
   "outputs": [
    {
     "name": "stderr",
     "output_type": "stream",
     "text": [
      "[Stage 208:=======>                                                 (1 + 7) / 8]\r"
     ]
    },
    {
     "name": "stdout",
     "output_type": "stream",
     "text": [
      "+------+----------+---------+------------+\n",
      "|userId| ts_todate|churn_lab|sessions_day|\n",
      "+------+----------+---------+------------+\n",
      "|   111|2018-10-04|        0|          19|\n",
      "|    12|2018-10-09|        1|          58|\n",
      "|   124|2018-10-10|        0|          11|\n",
      "|    16|2018-10-04|        0|         126|\n",
      "|   105|2018-10-11|        1|          65|\n",
      "|    45|2018-10-07|        0|          57|\n",
      "|   104|2018-10-11|        0|          60|\n",
      "|    85|2018-10-05|        0|          37|\n",
      "|    51|2018-10-07|        1|         191|\n",
      "|   129|2018-10-02|        1|           1|\n",
      "|    20|2018-10-08|        0|          11|\n",
      "|    35|2018-10-10|        0|          14|\n",
      "|    25|2018-10-01|        0|          97|\n",
      "|    39|2018-10-08|        0|          80|\n",
      "|    15|2018-10-09|        0|         146|\n",
      "|   117|2018-10-02|        0|          10|\n",
      "|   101|2018-10-03|        1|          97|\n",
      "|    60|2018-10-11|        0|          36|\n",
      "|    92|2018-10-04|        0|          34|\n",
      "|   131|2018-10-09|        0|          29|\n",
      "+------+----------+---------+------------+\n",
      "only showing top 20 rows\n",
      "\n"
     ]
    },
    {
     "name": "stderr",
     "output_type": "stream",
     "text": [
      "                                                                                \r"
     ]
    }
   ],
   "source": [
    "sessions_day.show()"
   ]
  },
  {
   "cell_type": "code",
   "execution_count": 130,
   "metadata": {},
   "outputs": [],
   "source": [
    "avg_session_day = sessions_day.groupBy('userID','churn_lab').agg(spark_avg('sessions_day').alias('avg_session_day'))"
   ]
  },
  {
   "cell_type": "code",
   "execution_count": 131,
   "metadata": {},
   "outputs": [
    {
     "name": "stderr",
     "output_type": "stream",
     "text": [
      "                                                                                \r"
     ]
    },
    {
     "data": {
      "image/png": "[encoded data removed]",
      "text/plain": [
       "<Figure size 400x600 with 1 Axes>"
      ]
     },
     "metadata": {},
     "output_type": "display_data"
    }
   ],
   "source": [
    "sns.set(style=\"whitegrid\")\n",
    "\n",
    "plt.figure(figsize=(4, 6))\n",
    "sns.boxplot(x=\"churn_lab\", y=\"avg_session_day\", data=avg_session_day.toPandas())\n",
    "\n",
    "plt.xlabel('Churn Label')\n",
    "plt.ylabel('Average number of sessions per day')\n",
    "plt.title('Average number of sessions per day by churn')\n",
    "\n",
    "plt.show()"
   ]
  },
  {
   "cell_type": "code",
   "execution_count": null,
   "metadata": {},
   "outputs": [],
   "source": []
  },
  {
   "cell_type": "markdown",
   "metadata": {},
   "source": [
    "# Feature Engineering\n",
    "Once you've familiarized yourself with the data, build out the features you find promising to train your model on. To work with the full dataset, you can follow the following steps.\n",
    "- Write a script to extract the necessary features from the smaller subset of data\n",
    "- Ensure that your script is scalable, using the best practices discussed in Lesson 3\n",
    "- Try your script on the full data set, debugging your script if necessary\n",
    "\n",
    "If you are working in the classroom workspace, you can just extract features based on the small subset of data contained here. Be sure to transfer over this work to the larger dataset when you work on your Spark cluster."
   ]
  },
  {
   "cell_type": "code",
   "execution_count": 132,
   "metadata": {},
   "outputs": [
    {
     "name": "stdout",
     "output_type": "stream",
     "text": [
      "root\n",
      " |-- artist: string (nullable = true)\n",
      " |-- gender: string (nullable = true)\n",
      " |-- itemInSession: long (nullable = true)\n",
      " |-- length: double (nullable = true)\n",
      " |-- level: string (nullable = true)\n",
      " |-- location: string (nullable = true)\n",
      " |-- page: string (nullable = true)\n",
      " |-- sessionId: long (nullable = true)\n",
      " |-- song: string (nullable = true)\n",
      " |-- status: long (nullable = true)\n",
      " |-- userAgent: string (nullable = true)\n",
      " |-- userId: string (nullable = true)\n",
      " |-- ts_todate: date (nullable = true)\n",
      " |-- registration_todate: date (nullable = true)\n",
      " |-- churn_lab: integer (nullable = false)\n",
      " |-- city: string (nullable = true)\n",
      " |-- state: string (nullable = true)\n",
      " |-- state1: string (nullable = true)\n",
      " |-- month: integer (nullable = true)\n",
      "\n"
     ]
    }
   ],
   "source": [
    "#let's take a look at the schema again\n",
    "user_log_clean_churn.printSchema()  "
   ]
  },
  {
   "cell_type": "markdown",
   "metadata": {},
   "source": [
    "## Final check and decision for each feature\n",
    "```\n",
    " |-- artist: string (nullable = true) -> 1 col with count of unique artists per user\n",
    " |-- gender: string (nullable = true) -> 1 col with gender per user\n",
    " |-- itemInSession: long (nullable = true) -> 1 col with\n",
    " |-- length: double (nullable = true) -> 2 cols avg and session total length\n",
    " |-- level: string (nullable = true)  -> drop\n",
    " |-- location: string (nullable = true) -> 1 col first state per user\n",
    " |-- page: string (nullable = true) -> 1 col of number of unique pages visited by user + count of each page visited by user (+19)\n",
    " |-- sessionId: long (nullable = true) -> drop\n",
    " |-- song: string (nullable = true) -> 1 col count of unique songs per user\n",
    " |-- status: long (nullable = true) -> drop\n",
    " |-- userAgent: string (nullable = true) -> drop\n",
    " |-- userId: string (nullable = true) -> 1 col as is\n",
    " |-- ts_todate: date (nullable = true) -> \n",
    " |-- registration_todate: date (nullable = true)-> 1 col of number of days after registration\n",
    " |-- churn_lab: integer (nullable = false) -> 1 col churn type per user\n",
    " |-- city: string (nullable = true) -> drop\n",
    " |-- state: string (nullable = true) -> drop\n",
    " |-- state1: string (nullable = true) -> keep for 1 col state by user (see location)\n",
    " ```"
   ]
  },
  {
   "cell_type": "markdown",
   "metadata": {},
   "source": [
    "- select features to keep\n",
    "- define what features need to be engineered and what to do\n",
    "-- timestamp\n",
    "\n",
    "#create udf functions using lambda\n",
    "function_name = udf(lambda x: action(, x), IntegerType())\n",
    "\n",
    "#to create new columns\n",
    "df.withColumn(\"newcolname\",function(df.oldcolname))"
   ]
  },
  {
   "cell_type": "code",
   "execution_count": 133,
   "metadata": {},
   "outputs": [
    {
     "data": {
      "text/plain": [
       "[Row(artist='Martha Tilston', gender='M', itemInSession=50, length=277.89016, level='paid', location='Bakersfield, CA', page='NextSong', sessionId=29, song='Rockpools', status=200, userAgent='Mozilla/5.0 (Windows NT 6.1; WOW64; rv:31.0) Gecko/20100101 Firefox/31.0', userId='30', ts_todate=datetime.date(2018, 9, 30), registration_todate=datetime.date(2018, 9, 28), churn_lab=0, city='Bakersfield', state='CA', state1='CA', month=9)]"
      ]
     },
     "execution_count": 133,
     "metadata": {},
     "output_type": "execute_result"
    }
   ],
   "source": [
    "user_log_clean_churn.take(1)"
   ]
  },
  {
   "cell_type": "code",
   "execution_count": null,
   "metadata": {},
   "outputs": [],
   "source": []
  },
  {
   "cell_type": "code",
   "execution_count": 134,
   "metadata": {},
   "outputs": [],
   "source": [
    "def create_features(df):\n",
    "    '''This function takes a clean spark dataframe of sparkify records and \n",
    "    creates new features for each userId based on different aggregations, then combine all the new feature \n",
    "    into a final df called user_df. This user_df is saved into a csv file\n",
    "  \n",
    "    Input: df - spark dataframe\n",
    "    Output: user_df - spark dataframe including one row per userId and new features'''\n",
    "    \n",
    "    \n",
    "    #new features and aggregation by feature\n",
    "   #allows to aggregate many features in one step\n",
    "    agg_df1 = df.groupBy('userId').agg(\n",
    "                             first('gender').alias('gender'), #takes the first occurence of gender for each user\n",
    "                             countDistinct('artist').alias('unique_artist_count'), #counting the unique artist per userId\n",
    "                             first('state1').alias('state'), #retrieving state information for each userId\n",
    "                             spark_sum('length').alias('total_session_length'),\n",
    "                             spark_avg('length').alias('avg_session_length'),\n",
    "                             first('churn_lab').alias('churn_label'),\n",
    "                             countDistinct('song').alias('unique_song_count'),\n",
    "                             spark_sum('itemInSession').alias('total_items'),\n",
    "                             spark_avg('itemInSession').alias('avg_items')\n",
    "       \n",
    "       \n",
    "       \n",
    "   )\n",
    "   #aggregate by month\n",
    "    agg_df2 = df.groupBy('userId','month').agg(\n",
    "                              spark_sum(\"length\").alias(\"session_length_per_month\"),\n",
    "                              spark_sum('itemInSession').alias('items_per_month'),\n",
    "                              count('*').alias('count_sessions_per_month')\n",
    "    )\n",
    "    \n",
    "    agg_df2 = agg_df2.groupBy('userId').agg(\n",
    "                              spark_avg('session_length_per_month').alias('avg_session_length_per_month'),\n",
    "                              spark_avg('items_per_month').alias('avg_items_per_month'),\n",
    "                              spark_avg('count_sessions_per_month').alias('avg_count_session_per_month')\n",
    "    )\n",
    "    #aggregate by day\n",
    "    agg_df3 = df.groupBy('userId','ts_todate').agg(\n",
    "                              spark_sum(\"length\").alias(\"session_length_per_day\"),\n",
    "                              spark_sum('itemInSession').alias('items_per_day'),\n",
    "                              count('*').alias('count_sessions_per_day')\n",
    "    )\n",
    "    agg_df3 = agg_df3.groupBy('userId').agg(\n",
    "                              spark_avg('session_length_per_day').alias('avg_session_length_per_day'),\n",
    "                              spark_avg('items_per_day').alias('avg_items_per_day'),\n",
    "                              spark_avg('count_sessions_per_day').alias('avg_count_session_per_day')\n",
    "    )\n",
    "   \n",
    "    # aggregate counts per page per user\n",
    "    page_counts_per_user = df.groupBy('userId', 'page').count()\n",
    "    agg_df4 = page_counts_per_user.groupBy('userId').pivot('page').sum('count')\n",
    "    agg_df4 = agg_df4.na.fill(0)\n",
    "    agg_df4 = agg_df4.select([col(col_name).alias(col_name.replace(\" \", \"_\")) for col_name in agg_df4.columns])\n",
    "\n",
    "\n",
    "\n",
    "\n",
    "    \n",
    "    #join all agg_df\n",
    "    \n",
    "    user_df = agg_df1.join(agg_df2,['userid']) \n",
    "    user_df = user_df.join(agg_df3,['userid'])\n",
    "    user_df = user_df.join(agg_df4,['userid'])\n",
    "\n",
    "    return user_df"
   ]
  },
  {
   "cell_type": "code",
   "execution_count": 135,
   "metadata": {},
   "outputs": [
    {
     "name": "stderr",
     "output_type": "stream",
     "text": [
      "                                                                                \r"
     ]
    }
   ],
   "source": [
    "#function test\n",
    "test_create_features = create_features(user_log_clean_churn)"
   ]
  },
  {
   "cell_type": "code",
   "execution_count": 136,
   "metadata": {},
   "outputs": [
    {
     "name": "stderr",
     "output_type": "stream",
     "text": [
      "24/02/29 09:19:49 WARN SparkStringUtils: Truncated the string representation of a plan since it was too large. This behavior can be adjusted by setting 'spark.sql.debug.maxToStringFields'.\n",
      "                                                                                \r"
     ]
    },
    {
     "data": {
      "text/html": [
       "<div>\n",
       "<style scoped>\n",
       "    .dataframe tbody tr th:only-of-type {\n",
       "        vertical-align: middle;\n",
       "    }\n",
       "\n",
       "    .dataframe tbody tr th {\n",
       "        vertical-align: top;\n",
       "    }\n",
       "\n",
       "    .dataframe thead th {\n",
       "        text-align: right;\n",
       "    }\n",
       "</style>\n",
       "<table border=\"1\" class=\"dataframe\">\n",
       "  <thead>\n",
       "    <tr style=\"text-align: right;\">\n",
       "      <th></th>\n",
       "      <th>userId</th>\n",
       "      <th>gender</th>\n",
       "      <th>unique_artist_count</th>\n",
       "      <th>state</th>\n",
       "      <th>total_session_length</th>\n",
       "      <th>avg_session_length</th>\n",
       "      <th>churn_label</th>\n",
       "      <th>unique_song_count</th>\n",
       "      <th>total_items</th>\n",
       "      <th>avg_items</th>\n",
       "      <th>...</th>\n",
       "      <th>Logout</th>\n",
       "      <th>NextSong</th>\n",
       "      <th>Roll_Advert</th>\n",
       "      <th>Save_Settings</th>\n",
       "      <th>Settings</th>\n",
       "      <th>Submit_Downgrade</th>\n",
       "      <th>Submit_Upgrade</th>\n",
       "      <th>Thumbs_Down</th>\n",
       "      <th>Thumbs_Up</th>\n",
       "      <th>Upgrade</th>\n",
       "    </tr>\n",
       "  </thead>\n",
       "  <tbody>\n",
       "    <tr>\n",
       "      <th>0</th>\n",
       "      <td>10</td>\n",
       "      <td>M</td>\n",
       "      <td>565</td>\n",
       "      <td>MS</td>\n",
       "      <td>166866.37251</td>\n",
       "      <td>247.944090</td>\n",
       "      <td>0</td>\n",
       "      <td>629</td>\n",
       "      <td>116260</td>\n",
       "      <td>146.238994</td>\n",
       "      <td>...</td>\n",
       "      <td>11</td>\n",
       "      <td>673</td>\n",
       "      <td>1</td>\n",
       "      <td>1</td>\n",
       "      <td>7</td>\n",
       "      <td>0</td>\n",
       "      <td>0</td>\n",
       "      <td>4</td>\n",
       "      <td>37</td>\n",
       "      <td>0</td>\n",
       "    </tr>\n",
       "    <tr>\n",
       "      <th>1</th>\n",
       "      <td>100</td>\n",
       "      <td>M</td>\n",
       "      <td>1705</td>\n",
       "      <td>TX</td>\n",
       "      <td>672877.85659</td>\n",
       "      <td>250.886598</td>\n",
       "      <td>0</td>\n",
       "      <td>2302</td>\n",
       "      <td>287058</td>\n",
       "      <td>89.314872</td>\n",
       "      <td>...</td>\n",
       "      <td>35</td>\n",
       "      <td>2682</td>\n",
       "      <td>25</td>\n",
       "      <td>5</td>\n",
       "      <td>11</td>\n",
       "      <td>1</td>\n",
       "      <td>1</td>\n",
       "      <td>27</td>\n",
       "      <td>148</td>\n",
       "      <td>1</td>\n",
       "    </tr>\n",
       "    <tr>\n",
       "      <th>2</th>\n",
       "      <td>100001</td>\n",
       "      <td>F</td>\n",
       "      <td>125</td>\n",
       "      <td>FL</td>\n",
       "      <td>35073.74215</td>\n",
       "      <td>263.712347</td>\n",
       "      <td>1</td>\n",
       "      <td>129</td>\n",
       "      <td>5332</td>\n",
       "      <td>28.513369</td>\n",
       "      <td>...</td>\n",
       "      <td>7</td>\n",
       "      <td>133</td>\n",
       "      <td>14</td>\n",
       "      <td>0</td>\n",
       "      <td>1</td>\n",
       "      <td>0</td>\n",
       "      <td>0</td>\n",
       "      <td>2</td>\n",
       "      <td>8</td>\n",
       "      <td>2</td>\n",
       "    </tr>\n",
       "    <tr>\n",
       "      <th>3</th>\n",
       "      <td>100002</td>\n",
       "      <td>F</td>\n",
       "      <td>184</td>\n",
       "      <td>CA</td>\n",
       "      <td>49559.91810</td>\n",
       "      <td>254.153426</td>\n",
       "      <td>0</td>\n",
       "      <td>193</td>\n",
       "      <td>18198</td>\n",
       "      <td>83.477064</td>\n",
       "      <td>...</td>\n",
       "      <td>1</td>\n",
       "      <td>195</td>\n",
       "      <td>3</td>\n",
       "      <td>0</td>\n",
       "      <td>0</td>\n",
       "      <td>0</td>\n",
       "      <td>0</td>\n",
       "      <td>0</td>\n",
       "      <td>5</td>\n",
       "      <td>0</td>\n",
       "    </tr>\n",
       "    <tr>\n",
       "      <th>4</th>\n",
       "      <td>100003</td>\n",
       "      <td>F</td>\n",
       "      <td>50</td>\n",
       "      <td>FL</td>\n",
       "      <td>12306.41932</td>\n",
       "      <td>241.302340</td>\n",
       "      <td>1</td>\n",
       "      <td>51</td>\n",
       "      <td>3171</td>\n",
       "      <td>40.653846</td>\n",
       "      <td>...</td>\n",
       "      <td>3</td>\n",
       "      <td>51</td>\n",
       "      <td>9</td>\n",
       "      <td>0</td>\n",
       "      <td>0</td>\n",
       "      <td>0</td>\n",
       "      <td>0</td>\n",
       "      <td>0</td>\n",
       "      <td>3</td>\n",
       "      <td>0</td>\n",
       "    </tr>\n",
       "  </tbody>\n",
       "</table>\n",
       "<p>5 rows × 35 columns</p>\n",
       "</div>"
      ],
      "text/plain": [
       "   userId gender  unique_artist_count state  total_session_length  \\\n",
       "0      10      M                  565    MS          166866.37251   \n",
       "1     100      M                 1705    TX          672877.85659   \n",
       "2  100001      F                  125    FL           35073.74215   \n",
       "3  100002      F                  184    CA           49559.91810   \n",
       "4  100003      F                   50    FL           12306.41932   \n",
       "\n",
       "   avg_session_length  churn_label  unique_song_count  total_items  \\\n",
       "0          247.944090            0                629       116260   \n",
       "1          250.886598            0               2302       287058   \n",
       "2          263.712347            1                129         5332   \n",
       "3          254.153426            0                193        18198   \n",
       "4          241.302340            1                 51         3171   \n",
       "\n",
       "    avg_items  ...  Logout  NextSong  Roll_Advert  Save_Settings  Settings  \\\n",
       "0  146.238994  ...      11       673            1              1         7   \n",
       "1   89.314872  ...      35      2682           25              5        11   \n",
       "2   28.513369  ...       7       133           14              0         1   \n",
       "3   83.477064  ...       1       195            3              0         0   \n",
       "4   40.653846  ...       3        51            9              0         0   \n",
       "\n",
       "   Submit_Downgrade  Submit_Upgrade  Thumbs_Down  Thumbs_Up  Upgrade  \n",
       "0                 0               0            4         37        0  \n",
       "1                 1               1           27        148        1  \n",
       "2                 0               0            2          8        2  \n",
       "3                 0               0            0          5        0  \n",
       "4                 0               0            0          3        0  \n",
       "\n",
       "[5 rows x 35 columns]"
      ]
     },
     "execution_count": 136,
     "metadata": {},
     "output_type": "execute_result"
    }
   ],
   "source": [
    "test_create_features.toPandas().head()"
   ]
  },
  {
   "cell_type": "code",
   "execution_count": null,
   "metadata": {},
   "outputs": [],
   "source": []
  },
  {
   "cell_type": "code",
   "execution_count": null,
   "metadata": {},
   "outputs": [],
   "source": []
  },
  {
   "cell_type": "code",
   "execution_count": 137,
   "metadata": {},
   "outputs": [],
   "source": [
    "# function that removed missing row with missing userid\n",
    "#removing rows for all missing userId\n",
    "def remove_missing_userid(df):\n",
    "    condition = user_log.userId != ''\n",
    "    df= df.filter(condition)\n",
    "    \n",
    "    return df\n",
    "    "
   ]
  },
  {
   "cell_type": "code",
   "execution_count": 139,
   "metadata": {},
   "outputs": [],
   "source": [
    "def create_churn_label(df):\n",
    "    ''' This function takes a dataframe and creates churn labels based on the \n",
    "    churn definition: Cancellation Confirmation value in 'pages' is considered churn.\n",
    "    \n",
    "    Input = Spark dataframe\n",
    "    \n",
    "    Output = Spark dataframe with new column 'churn_lab' for each user who churned\n",
    "    '''\n",
    "    #labeling all 'pages' with Cancellation Confirmation\n",
    "    create_churn = udf(lambda x: 1 if x ==\"Cancellation Confirmation\" else 0, IntegerType())\n",
    "    df = df.withColumn('churn_lab_temp', create_churn('page'))\n",
    "    \n",
    "    #extract a list of churn users from the new df\n",
    "    churn_userid = df.select('userId').where(col('churn_lab_temp')==1).groupby('userId').count()\n",
    "    churn_userid_list = [row['userId'] for row in churn_userid.collect()]\n",
    "    \n",
    "    #new column based on the churn list\n",
    "    df = df.withColumn('churn_lab', when((df.userId).isin(churn_userid_list), 1).otherwise(0))\n",
    "    \n",
    "    #dropping column\n",
    "    df = df.drop('churn_lab_temp')\n",
    "    \n",
    "    return df   \n",
    "    "
   ]
  },
  {
   "cell_type": "code",
   "execution_count": 141,
   "metadata": {},
   "outputs": [],
   "source": [
    "#function that prepares data from original json file\n",
    "def prepare_data(df):\n",
    "    '''This function starts with the json file (including records of activities for sparkify) \n",
    "    and goes through the following steps of data preparation:\n",
    "    - treatment of missing data\n",
    "    - data format transformation\n",
    "    - feature engineering\n",
    "    - saves the final dataframe into a csv file\n",
    "    \n",
    "    The output dataset is a dataframe of features for each user identified in the original json record\n",
    "    \n",
    "    input: dataframe from json file opened in a spark session called df\n",
    "    \n",
    "    output: dataframe user_df\n",
    "    '''\n",
    "    \n",
    "    #treating missing data\n",
    "    df = remove_missing_userid(df)\n",
    "    \n",
    "    #feature drop\n",
    "    cols = ('firstname','lastname','method','auth','level','sessionId','status','userAgent')\n",
    "    df = df.drop(*cols)\n",
    "\n",
    "    #change format dates\n",
    "    cols = (\"ts\",\"registration\",\"ts_ts\",\"registration_ts\")\n",
    "    \n",
    "    df = df.withColumn('ts_ts', (col('ts') / 1000.0).cast(TimestampType())) \\\n",
    "      .withColumn('ts_todate', to_date('ts_ts')) \\\n",
    "      .withColumn('registration_ts', (col('registration') / 1000.0).cast(TimestampType())) \\\n",
    "      .withColumn('registration_todate', to_date('registration_ts')) \\\n",
    "      .drop(*cols)\n",
    "    df = df.withColumn('month', month('ts_todate'))\n",
    "\n",
    "    \n",
    "    #prepare location data\n",
    "    split_col_location = pyspark.sql.functions.split(df['location'], ', ')\n",
    "    df = df.withColumn('state', split_col_location.getItem(1))\\\n",
    "    \n",
    "    split_col_state = pyspark.sql.functions.split(df['state'], '-')\n",
    "    df = df.withColumn('state1', split_col_state.getItem(0))\n",
    "\n",
    "    \n",
    "    df = create_churn_label(df)\n",
    "   \n",
    "    #create new features\n",
    "    user_df = create_features(df)\n",
    "    \n",
    "    return user_df\n",
    "    "
   ]
  },
  {
   "cell_type": "markdown",
   "metadata": {},
   "source": [
    "#### Testing my prepare date function by reloading the original dataset"
   ]
  },
  {
   "cell_type": "code",
   "execution_count": 143,
   "metadata": {},
   "outputs": [
    {
     "data": {
      "text/plain": [
       "[Row(artist='Martha Tilston', auth='Logged In', firstName='Colin', gender='M', itemInSession=50, lastName='Freeman', length=277.89016, level='paid', location='Bakersfield, CA', method='PUT', page='NextSong', registration=1538173362000, sessionId=29, song='Rockpools', status=200, ts=1538352117000, userAgent='Mozilla/5.0 (Windows NT 6.1; WOW64; rv:31.0) Gecko/20100101 Firefox/31.0', userId='30')]"
      ]
     },
     "execution_count": 143,
     "metadata": {},
     "output_type": "execute_result"
    }
   ],
   "source": [
    "#test data preparation function with original dataset\n",
    "user_log = spark.read.json(\"file://\" +SparkFiles.get(\"mini_sparkify_event_data.json\"))\n",
    "user_log.take(1)"
   ]
  },
  {
   "cell_type": "code",
   "execution_count": 144,
   "metadata": {},
   "outputs": [
    {
     "name": "stderr",
     "output_type": "stream",
     "text": [
      "                                                                                \r"
     ]
    }
   ],
   "source": [
    "user_data_df = prepare_data(user_log)"
   ]
  },
  {
   "cell_type": "code",
   "execution_count": 145,
   "metadata": {},
   "outputs": [
    {
     "name": "stderr",
     "output_type": "stream",
     "text": [
      "                                                                                \r"
     ]
    },
    {
     "data": {
      "text/plain": [
       "[Row(userId='10', gender='M', unique_artist_count=565, state='MS', total_session_length=166866.37250999996, avg_session_length=247.94408991084688, churn_label=0, unique_song_count=629, total_items=116260, avg_items=146.23899371069183, avg_session_length_per_month=83433.18625499998, avg_items_per_month=58130.0, avg_count_session_per_month=397.5, avg_session_length_per_day=18540.70805666667, avg_items_per_day=12917.777777777777, avg_count_session_per_day=88.33333333333333, About=2, Add_Friend=12, Add_to_Playlist=9, Cancel=0, Cancellation_Confirmation=0, Downgrade=7, Error=0, Help=1, Home=30, Logout=11, NextSong=673, Roll_Advert=1, Save_Settings=1, Settings=7, Submit_Downgrade=0, Submit_Upgrade=0, Thumbs_Down=4, Thumbs_Up=37, Upgrade=0)]"
      ]
     },
     "execution_count": 145,
     "metadata": {},
     "output_type": "execute_result"
    }
   ],
   "source": [
    "user_data_df.take(1)"
   ]
  },
  {
   "cell_type": "code",
   "execution_count": 146,
   "metadata": {},
   "outputs": [
    {
     "data": {
      "text/plain": [
       "['userId',\n",
       " 'gender',\n",
       " 'unique_artist_count',\n",
       " 'state',\n",
       " 'total_session_length',\n",
       " 'avg_session_length',\n",
       " 'churn_label',\n",
       " 'unique_song_count',\n",
       " 'total_items',\n",
       " 'avg_items',\n",
       " 'avg_session_length_per_month',\n",
       " 'avg_items_per_month',\n",
       " 'avg_count_session_per_month',\n",
       " 'avg_session_length_per_day',\n",
       " 'avg_items_per_day',\n",
       " 'avg_count_session_per_day',\n",
       " 'About',\n",
       " 'Add_Friend',\n",
       " 'Add_to_Playlist',\n",
       " 'Cancel',\n",
       " 'Cancellation_Confirmation',\n",
       " 'Downgrade',\n",
       " 'Error',\n",
       " 'Help',\n",
       " 'Home',\n",
       " 'Logout',\n",
       " 'NextSong',\n",
       " 'Roll_Advert',\n",
       " 'Save_Settings',\n",
       " 'Settings',\n",
       " 'Submit_Downgrade',\n",
       " 'Submit_Upgrade',\n",
       " 'Thumbs_Down',\n",
       " 'Thumbs_Up',\n",
       " 'Upgrade']"
      ]
     },
     "execution_count": 146,
     "metadata": {},
     "output_type": "execute_result"
    }
   ],
   "source": [
    "list(user_data_df.columns)"
   ]
  },
  {
   "cell_type": "markdown",
   "metadata": {},
   "source": [
    "My new dataset for model training is ready. Let's move on to model training"
   ]
  },
  {
   "cell_type": "markdown",
   "metadata": {},
   "source": [
    "## Modeling\n",
    "\"Split the full dataset into train, test, and validation sets. Test out several of the machine learning methods you learned. Evaluate the accuracy of the various models, tuning parameters as necessary. Determine your winning model based on test accuracy and report results on the validation set. Since the churned users are a fairly small subset, I suggest using F1 score as the metric to optimize.\""
   ]
  },
  {
   "cell_type": "markdown",
   "metadata": {},
   "source": [
    "Before splitting the dataset, I will index the two categorical features I kept which are gender and state data."
   ]
  },
  {
   "cell_type": "code",
   "execution_count": 147,
   "metadata": {},
   "outputs": [
    {
     "name": "stderr",
     "output_type": "stream",
     "text": [
      "                                                                                \r"
     ]
    }
   ],
   "source": [
    "#indexing categorical values which are letters\n",
    "gender_indexer = StringIndexer(inputCol=\"gender\", outputCol=\"gender_index\")\n",
    "state_indexer = StringIndexer(inputCol=\"state\", outputCol=\"state_index\")\n",
    "indexed_data = gender_indexer.fit(user_data_df).transform(user_data_df)\n",
    "indexed_data = state_indexer.fit(indexed_data).transform(indexed_data)\n"
   ]
  },
  {
   "cell_type": "markdown",
   "metadata": {},
   "source": [
    "Now, I am splitting the dataset into 3 sets, the train set (70%) of the whole set, and the validation and test sets are the 30% remaining data, divided by 2."
   ]
  },
  {
   "cell_type": "code",
   "execution_count": 148,
   "metadata": {},
   "outputs": [],
   "source": [
    "#splitting data into train and remainder that will be used for validation and test sets\n",
    "train_df, remaining_df = indexed_data.randomSplit([0.7, 0.3], seed=42)\n",
    "\n",
    "# The second split: 50% of the remaining data for validation, 50% for testing\n",
    "validation_df, test_df = remaining_df.randomSplit([0.5, 0.5], seed=42)"
   ]
  },
  {
   "cell_type": "markdown",
   "metadata": {},
   "source": [
    "Next, I am creating function to transform my data prior to model training. These will be integrated into the pipeline."
   ]
  },
  {
   "cell_type": "code",
   "execution_count": 149,
   "metadata": {},
   "outputs": [],
   "source": [
    "def create_encoders():\n",
    "    gender_encoder = OneHotEncoder(inputCol=\"gender_index\",\n",
    "                                   outputCol=\"gender_encoded\")\n",
    "    state_encoder = OneHotEncoder(inputCol=\"state_index\",\n",
    "                                  outputCol=\"state_encoded\")\n",
    "    return [gender_encoder, state_encoder]\n",
    "\n",
    "\n",
    "#feature assembler function will take all the columns listed below to output them as the features to train.\n",
    "def create_feature_assembler():\n",
    "    cols_for_assembler = [\n",
    "        'unique_artist_count', 'total_session_length', 'avg_session_length',\n",
    "        'unique_song_count', 'total_items', 'avg_items',\n",
    "        'avg_session_length_per_month', 'avg_items_per_month',\n",
    "        'avg_count_session_per_month', 'avg_session_length_per_day',\n",
    "        'avg_items_per_day', 'avg_count_session_per_day', 'About', 'Add_Friend',\n",
    "        'Add_to_Playlist', 'Downgrade', 'Error', 'Help', 'Home', 'Logout',\n",
    "        'NextSong', 'Roll_Advert', 'Save_Settings', 'Settings',\n",
    "        'Submit_Downgrade', 'Submit_Upgrade', 'Thumbs_Down', 'Thumbs_Up',\n",
    "        'Upgrade', 'state_encoded', 'gender_encoded'\n",
    "    ]\n",
    "\n",
    "    assembler = VectorAssembler(inputCols=cols_for_assembler,\n",
    "                                outputCol=\"features\")\n",
    "    return assembler\n",
    "\n",
    "\n",
    "#scaler function\n",
    "def create_scaler():\n",
    "    scaler = StandardScaler(inputCol='features',\n",
    "                            outputCol='scaled_features',\n",
    "                            withStd=True,\n",
    "                            withMean=True)\n",
    "    return scaler\n",
    "\n",
    "\n",
    "#label indexer function: creates the label column based on the churn_label column I created from data preparation.\n",
    "def create_label_indexer():\n",
    "    label_indexer = StringIndexer(inputCol='churn_label', outputCol='label')\n",
    "    return label_indexer"
   ]
  },
  {
   "cell_type": "markdown",
   "metadata": {},
   "source": [
    "Now I am instantiating the different transformation steps based on the functions I wrote above. I am then combining the steps into a pipeline called transform_pipeline. This will allow me to call for the transform pipeline more easily but still separate the model with data transformation."
   ]
  },
  {
   "cell_type": "code",
   "execution_count": 151,
   "metadata": {},
   "outputs": [],
   "source": [
    "# creating a pipeline including the preprocessing steps based on the functions above. I combined all the steps into a pipeline called transform_pipeline.\n",
    "encoders = create_encoders()\n",
    "assembler = create_feature_assembler()\n",
    "scaler = create_scaler()\n",
    "label_indexer = create_label_indexer()\n",
    "transform_pipeline = Pipeline(\n",
    "    stages=[*encoders, assembler, scaler, label_indexer])"
   ]
  },
  {
   "cell_type": "code",
   "execution_count": 152,
   "metadata": {},
   "outputs": [
    {
     "name": "stderr",
     "output_type": "stream",
     "text": [
      "                                                                                \r"
     ]
    }
   ],
   "source": [
    "#fitting transform pipeline\n",
    "fitted_transform_pipeline = transform_pipeline.fit(train_df)"
   ]
  },
  {
   "cell_type": "code",
   "execution_count": 154,
   "metadata": {},
   "outputs": [],
   "source": [
    "#preprocessing the train and test sets separately to avoid leak\n",
    "train_transformed_data = fitted_transform_pipeline.transform(train_df)\n",
    "validation_transformed_data = fitted_transform_pipeline.transform(validation_df)"
   ]
  },
  {
   "cell_type": "code",
   "execution_count": 158,
   "metadata": {},
   "outputs": [],
   "source": [
    "#function that trains and evaluate a model, I have put two metrics AUC and F1 as metrics\n",
    "def train_and_evaluate_model(model, train_data, validation_data):\n",
    "\n",
    "    trained_model = model.fit(train_data)\n",
    "    predictions = trained_model.transform(validation_data)\n",
    "\n",
    "    evaluator = BinaryClassificationEvaluator()\n",
    "    auc = evaluator.evaluate(predictions)\n",
    "\n",
    "    evaluator_f1 = MulticlassClassificationEvaluator(metricName=\"f1\")\n",
    "    f1_score = evaluator_f1.evaluate(predictions)\n",
    "\n",
    "    return trained_model, auc, f1_score, predictions"
   ]
  },
  {
   "cell_type": "code",
   "execution_count": 159,
   "metadata": {},
   "outputs": [],
   "source": [
    "#defining my models to train and compare\n",
    "rf_model = RandomForestClassifier(featuresCol='scaled_features',\n",
    "                                  labelCol='label')\n",
    "lr_model = LogisticRegression(featuresCol='scaled_features', labelCol='label')\n",
    "gbt_model = GBTClassifier(featuresCol='scaled_features', labelCol='label')"
   ]
  },
  {
   "cell_type": "code",
   "execution_count": 160,
   "metadata": {},
   "outputs": [
    {
     "name": "stderr",
     "output_type": "stream",
     "text": [
      "                                                                                \r"
     ]
    }
   ],
   "source": [
    "#training and evaluating based on the function created above\n",
    "rf_trained_model, rf_auc, rf_f1, rf_predictions = train_and_evaluate_model(\n",
    "    rf_model, train_transformed_data, validation_transformed_data)\n",
    "lr_trained_model, lr_auc, lr_f1, lr_predictions = train_and_evaluate_model(\n",
    "    lr_model, train_transformed_data, validation_transformed_data)\n",
    "gbt_trained_model, gbt_auc, gbt_f1, gbt_predictions = train_and_evaluate_model(\n",
    "    gbt_model, train_transformed_data, validation_transformed_data)"
   ]
  },
  {
   "cell_type": "markdown",
   "metadata": {},
   "source": [
    "### Compare evaluators across models and select the best one"
   ]
  },
  {
   "cell_type": "code",
   "execution_count": 162,
   "metadata": {},
   "outputs": [],
   "source": [
    "from pyspark.sql.types import StructType, StructField, StringType, FloatType\n",
    "\n",
    "def create_metrics_table(models, auc_scores, f1_scores):\n",
    "    \"\"\"\n",
    "    Create a PySpark DataFrame with model names, AUC scores, and F1 scores.\n",
    "\n",
    "    Input:\n",
    "    - models (list): List of model names.\n",
    "    - auc_scores (list): List of AUC scores.\n",
    "    - f1_scores (list): List of F1 scores.\n",
    "\n",
    "    Output: Spark DataFrame\n",
    "    \"\"\"\n",
    "\n",
    "    # Define the schema for the DataFrame\n",
    "    schema = StructType([\n",
    "        StructField(\"Model\", StringType(), True),\n",
    "        StructField(\"AUC\", FloatType(), True),\n",
    "        StructField(\"F1 Score\", FloatType(), True)\n",
    "    ])\n",
    "\n",
    "    # Create a list of tuples with model names and corresponding metrics\n",
    "    data = list(zip(models, auc_scores, f1_scores))\n",
    "\n",
    "    # Create a DataFrame\n",
    "    df = spark.createDataFrame(data, schema=schema)\n",
    "\n",
    "    return df\n"
   ]
  },
  {
   "cell_type": "code",
   "execution_count": 163,
   "metadata": {},
   "outputs": [
    {
     "name": "stderr",
     "output_type": "stream",
     "text": [
      "/Users/isabellevea/anaconda3/envs/streamlit/lib/python3.12/site-packages/pyspark/python/lib/pyspark.zip/pyspark/daemon.py:154: DeprecationWarning: This process (pid=42173) is multi-threaded, use of fork() may lead to deadlocks in the child.\n",
      "                                                                                \r"
     ]
    },
    {
     "name": "stdout",
     "output_type": "stream",
     "text": [
      "+-------------------+----------+----------+\n",
      "|              Model|       AUC|  F1 Score|\n",
      "+-------------------+----------+----------+\n",
      "|      Random Forest|0.62352943| 0.6507177|\n",
      "|Logistic Regression| 0.5882353|0.70075756|\n",
      "|  Gradient Boosting| 0.6117647|0.66868687|\n",
      "+-------------------+----------+----------+\n",
      "\n"
     ]
    }
   ],
   "source": [
    "models = ['Random Forest', 'Logistic Regression', 'Gradient Boosting']\n",
    "auc_scores = [rf_auc, lr_auc, gbt_auc]\n",
    "f1_scores = [rf_f1, lr_f1, gbt_f1]\n",
    "\n",
    "result_df = create_metrics_table(models, auc_scores, f1_scores)\n",
    "result_df.show()"
   ]
  },
  {
   "cell_type": "markdown",
   "metadata": {},
   "source": [
    "Even if we calculated the AUC, since our dataset is small, we are using the f1 score and based on f1, the logistic regression model is the best model. "
   ]
  },
  {
   "cell_type": "markdown",
   "metadata": {},
   "source": [
    "### Fine tuning selected model"
   ]
  },
  {
   "cell_type": "markdown",
   "metadata": {},
   "source": [
    "Based on the F1 metric, the best trained model is the logistic regression model. I am now going to take that model and fine tune it using CrossValidator"
   ]
  },
  {
   "cell_type": "code",
   "execution_count": null,
   "metadata": {},
   "outputs": [],
   "source": [
    "from pyspark.ml.tuning import ParamGridBuilder, CrossValidator"
   ]
  },
  {
   "cell_type": "code",
   "execution_count": 164,
   "metadata": {},
   "outputs": [
    {
     "name": "stderr",
     "output_type": "stream",
     "text": [
      "                                                                                \r"
     ]
    },
    {
     "name": "stdout",
     "output_type": "stream",
     "text": [
      "Best Parameters: regParam=0.01, elasticNetParam=0.5, maxIter=10\n"
     ]
    }
   ],
   "source": [
    "# Create a pipeline with the Logistic Regression model\n",
    "pipeline = Pipeline(stages=[*encoders, assembler, scaler, label_indexer, lr_model]) \n",
    "#here note that I am inputing all transformation steps separately to be able to retrieve the coefficients\n",
    "\n",
    "# Create a grid of hyperparameters to search over\n",
    "param_grid = (ParamGridBuilder()\n",
    "              .addGrid(lr_model.regParam, [0.01, 0.1, 0.5])\n",
    "              .addGrid(lr_model.elasticNetParam, [0.0, 0.5, 1.0])\n",
    "              .addGrid(lr_model.maxIter, [10, 20, 30])\n",
    "              .build())\n",
    "\n",
    "# Define an evaluator (you may adjust this based on your specific evaluation metric)\n",
    "evaluator = BinaryClassificationEvaluator(metricName='areaUnderROC')\n",
    "\n",
    "# Create a CrossValidator\n",
    "cross_val = CrossValidator(estimator=pipeline,\n",
    "                           estimatorParamMaps=param_grid,\n",
    "                           evaluator=evaluator,\n",
    "                           numFolds=5)  # You can adjust the number of folds\n",
    "\n",
    "# Run cross-validation and choose the best set of parameters\n",
    "cv_model = cross_val.fit(train_df)\n",
    "\n",
    "# Saving the best model into best_model from the cross validation\n",
    "best_model = cv_model.bestModel\n",
    "\n",
    "print(\"Best Parameters: regParam={}, elasticNetParam={}, maxIter={}\".format(\n",
    "    best_model.stages[-1].getRegParam(),\n",
    "    best_model.stages[-1].getElasticNetParam(),\n",
    "    best_model.stages[-1].getMaxIter()\n",
    "))\n"
   ]
  },
  {
   "cell_type": "code",
   "execution_count": null,
   "metadata": {},
   "outputs": [
    {
     "name": "stderr",
     "output_type": "stream",
     "text": [
      "                                                                                \r"
     ]
    },
    {
     "name": "stdout",
     "output_type": "stream",
     "text": [
      "Area Under ROC on Test Set: 0.5593\n"
     ]
    },
    {
     "name": "stderr",
     "output_type": "stream",
     "text": [
      "                                                                                \r"
     ]
    },
    {
     "name": "stdout",
     "output_type": "stream",
     "text": [
      "F1 score for LR model: 0.6807168458781362\n"
     ]
    }
   ],
   "source": [
    "val_predictions = best_model.transform(validation_df)\n",
    "\n",
    "# Area under ROC\n",
    "evaluator = BinaryClassificationEvaluator(metricName='areaUnderROC')\n",
    "area_under_roc = evaluator.evaluate(valpredictions)\n",
    "print(\"Area Under ROC on Test Set: {:.4f}\".format(area_under_roc))\n",
    "\n",
    "#F1 score\n",
    "evaluator_f1 = MulticlassClassificationEvaluator(metricName='f1')\n",
    "\n",
    "f1_score = evaluator_f1.evaluate(val_predictions)\n",
    "print(f'F1 score for LR model: {f1_score}')"
   ]
  },
  {
   "cell_type": "markdown",
   "metadata": {},
   "source": [
    "In this case, the F1 score decreases when I used Cross Validator to tune the model. I will use lr_trained_model as the best model"
   ]
  },
  {
   "cell_type": "markdown",
   "metadata": {},
   "source": []
  },
  {
   "cell_type": "code",
   "execution_count": 165,
   "metadata": {},
   "outputs": [],
   "source": [
    "best_model = lr_trained_model"
   ]
  },
  {
   "cell_type": "code",
   "execution_count": 166,
   "metadata": {},
   "outputs": [
    {
     "data": {
      "text/plain": [
       "['userId',\n",
       " 'gender',\n",
       " 'unique_artist_count',\n",
       " 'state',\n",
       " 'total_session_length',\n",
       " 'avg_session_length',\n",
       " 'churn_label',\n",
       " 'unique_song_count',\n",
       " 'total_items',\n",
       " 'avg_items',\n",
       " 'avg_session_length_per_month',\n",
       " 'avg_items_per_month',\n",
       " 'avg_count_session_per_month',\n",
       " 'avg_session_length_per_day',\n",
       " 'avg_items_per_day',\n",
       " 'avg_count_session_per_day',\n",
       " 'About',\n",
       " 'Add_Friend',\n",
       " 'Add_to_Playlist',\n",
       " 'Cancel',\n",
       " 'Cancellation_Confirmation',\n",
       " 'Downgrade',\n",
       " 'Error',\n",
       " 'Help',\n",
       " 'Home',\n",
       " 'Logout',\n",
       " 'NextSong',\n",
       " 'Roll_Advert',\n",
       " 'Save_Settings',\n",
       " 'Settings',\n",
       " 'Submit_Downgrade',\n",
       " 'Submit_Upgrade',\n",
       " 'Thumbs_Down',\n",
       " 'Thumbs_Up',\n",
       " 'Upgrade',\n",
       " 'gender_index',\n",
       " 'state_index',\n",
       " 'gender_encoded',\n",
       " 'state_encoded',\n",
       " 'features',\n",
       " 'scaled_features',\n",
       " 'label',\n",
       " 'rawPrediction',\n",
       " 'probability',\n",
       " 'prediction']"
      ]
     },
     "execution_count": 166,
     "metadata": {},
     "output_type": "execute_result"
    }
   ],
   "source": [
    "lr_predictions.columns"
   ]
  },
  {
   "cell_type": "markdown",
   "metadata": {},
   "source": [
    "Based on model selection and tuning, my final model is best_model. \n",
    "I am now going to predict churn in my test set, and provide a list of potential churning users as well as a confusiong matrix."
   ]
  },
  {
   "cell_type": "code",
   "execution_count": 168,
   "metadata": {},
   "outputs": [],
   "source": [
    "#making predictions on the test set\n",
    "test_transformed_data = fitted_transform_pipeline.transform(test_df)\n",
    "test_predictions = best_model.transform(test_transformed_data)\n"
   ]
  },
  {
   "cell_type": "markdown",
   "metadata": {},
   "source": [
    "Now let's create a confusion matrix that will show how the model predicted churn on my test set."
   ]
  },
  {
   "cell_type": "code",
   "execution_count": 271,
   "metadata": {},
   "outputs": [
    {
     "name": "stderr",
     "output_type": "stream",
     "text": [
      "                                                                                \r"
     ]
    },
    {
     "name": "stdout",
     "output_type": "stream",
     "text": [
      "Confusion Matrix:\n",
      "True Positive: 3\n",
      "False Positive: 1\n",
      "True Negative: 26\n",
      "False Negative: 10\n"
     ]
    }
   ],
   "source": [
    "from pyspark.sql.functions import expr\n",
    "\n",
    "\n",
    "# Extract true positive, false positive, true negative, and false negative counts\n",
    "tp = test_predictions.filter((test_predictions[\"prediction\"] == 1.0) & (test_predictions[\"label\"] == 1.0)).count()\n",
    "fp = test_predictions.filter((test_predictions[\"prediction\"] == 1.0) & (test_predictions[\"label\"] == 0.0)).count()\n",
    "tn = test_predictions.filter((test_predictions[\"prediction\"] == 0.0) & (test_predictions[\"label\"] == 0.0)).count()\n",
    "fn = test_predictions.filter((test_predictions[\"prediction\"] == 0.0) & (test_predictions[\"label\"] == 1.0)).count()\n",
    "\n",
    "# Display confusion matrix\n",
    "conf_matrix = [[tn, fp], [fn, tp]]\n",
    "print(\"Confusion Matrix:\")\n",
    "print(f\"True Positive: {tp}\")\n",
    "print(f\"False Positive: {fp}\")\n",
    "print(f\"True Negative: {tn}\")\n",
    "print(f\"False Negative: {fn}\")\n"
   ]
  },
  {
   "cell_type": "markdown",
   "metadata": {},
   "source": [
    "Finally, let's show a list of potential churners and the churn likelihood, as well as the true label.\n"
   ]
  },
  {
   "cell_type": "code",
   "execution_count": 169,
   "metadata": {},
   "outputs": [
    {
     "name": "stderr",
     "output_type": "stream",
     "text": [
      "                                                                                \r"
     ]
    },
    {
     "name": "stdout",
     "output_type": "stream",
     "text": [
      "+------+----------+--------------------+-----+\n",
      "|userId|prediction|         probability|label|\n",
      "+------+----------+--------------------+-----+\n",
      "|100001|       1.0|[0.40989860473846...|  1.0|\n",
      "|    12|       1.0|[0.01906160390528...|  1.0|\n",
      "|   154|       1.0|[0.01222102398113...|  0.0|\n",
      "|    32|       1.0|[0.06707531968020...|  1.0|\n",
      "+------+----------+--------------------+-----+\n",
      "\n"
     ]
    }
   ],
   "source": [
    "selected_columns = [\"userId\", \"prediction\", \"probability\", \"label\"]\n",
    "\n",
    "selected_predictions = test_predictions.select(*selected_columns)\n",
    "\n",
    "churn_predictions = selected_predictions.filter(selected_predictions[\"prediction\"] == 1.0)\n",
    "\n",
    "churn_predictions.show()"
   ]
  },
  {
   "cell_type": "markdown",
   "metadata": {},
   "source": [
    "In this case, users 100001, 12 and 32 were predicted to churn correctly. User 154 was predicted to churn to didn't"
   ]
  },
  {
   "cell_type": "code",
   "execution_count": 176,
   "metadata": {},
   "outputs": [
    {
     "name": "stderr",
     "output_type": "stream",
     "text": [
      "                                                                                \r"
     ]
    },
    {
     "name": "stdout",
     "output_type": "stream",
     "text": [
      "+------+----------+--------------------+-----+\n",
      "|userId|prediction|         probability|label|\n",
      "+------+----------+--------------------+-----+\n",
      "|100001|       1.0|[0.40989860473846...|  1.0|\n",
      "|100005|       0.0|[0.99364280440059...|  1.0|\n",
      "|100007|       0.0|[0.99398947263878...|  1.0|\n",
      "|100012|       0.0|[0.99999995628383...|  1.0|\n",
      "|100013|       0.0|[0.99999999841705...|  1.0|\n",
      "|100014|       0.0|[0.58657243031963...|  1.0|\n",
      "|100021|       0.0|[0.99970612835770...|  1.0|\n",
      "|100023|       0.0|[0.99999984914402...|  1.0|\n",
      "|   103|       0.0|[0.99809808119368...|  1.0|\n",
      "|   105|       0.0|[0.99999999955617...|  1.0|\n",
      "|    12|       1.0|[0.01906160390528...|  1.0|\n",
      "|   122|       0.0|[0.99961443546952...|  1.0|\n",
      "|    32|       1.0|[0.06707531968020...|  1.0|\n",
      "+------+----------+--------------------+-----+\n",
      "\n"
     ]
    }
   ],
   "source": [
    "selected_columns = [\"userId\", \"prediction\", \"probability\", \"label\"]\n",
    "\n",
    "selected_predictions = test_predictions.select(*selected_columns)\n",
    "\n",
    "churn_labels = selected_predictions.filter(selected_predictions[\"label\"] == 1.0)\n",
    "\n",
    "churn_labels.show()"
   ]
  },
  {
   "cell_type": "markdown",
   "metadata": {},
   "source": [
    "#### Identifying important features in the model\n",
    "My final task here is to identify which features controbuted the most to model training. The aim is to create an app with these features as inputs cells so people can use my model to predict the likelihood of churning based on these given features."
   ]
  },
  {
   "cell_type": "code",
   "execution_count": 178,
   "metadata": {},
   "outputs": [],
   "source": [
    "\n",
    "coefficients = best_model.coefficients\n"
   ]
  },
  {
   "cell_type": "code",
   "execution_count": 179,
   "metadata": {},
   "outputs": [
    {
     "data": {
      "text/plain": [
       "DenseVector([7.6649, -2.8597, 0.6364, -1.1444, 11.753, -2.8122, 2.3779, -3.3777, 13.0836, -18.5314, -4.4419, 19.2354, -3.2322, -7.0231, -3.3599, -2.456, -5.1422, -2.2491, 9.0163, -10.384, -0.4639, 0.0619, -1.2405, -1.6301, -0.4035, 0.2943, 3.3605, -4.8328, -0.059, 0.939, 1.1535, 0.4603, -0.2621, 0.7724, -1.7945, 0.6604, 1.0898, 0.6362, -2.1749, -1.8153, -1.366, 1.2851, -1.103, 0.4365, 3.2713, 0.8766, 0.5584, -0.0121, 0.7399, -1.1195, 0.078, -1.9069, 1.5967, -0.8162, 0.0379, -1.6269, -0.5019, -0.6122, -0.6429, 0.0, -1.31, -0.5809, 0.0, -0.7379, 0.0, 0.0, 0.0, 0.0, -0.3642, -0.871])"
      ]
     },
     "execution_count": 179,
     "metadata": {},
     "output_type": "execute_result"
    }
   ],
   "source": [
    "coefficients"
   ]
  },
  {
   "cell_type": "code",
   "execution_count": 182,
   "metadata": {},
   "outputs": [
    {
     "name": "stdout",
     "output_type": "stream",
     "text": [
      "Feature Coefficients:\n",
      "                                              Feature  Coefficient\n",
      "11   {'idx': 11, 'name': 'avg_count_session_per_day'}    19.235405\n",
      "9    {'idx': 9, 'name': 'avg_session_length_per_day'}   -18.531412\n",
      "8   {'idx': 8, 'name': 'avg_count_session_per_month'}    13.083578\n",
      "4                   {'idx': 4, 'name': 'total_items'}    11.752967\n",
      "19                      {'idx': 19, 'name': 'Logout'}   -10.383973\n",
      "18                        {'idx': 18, 'name': 'Home'}     9.016285\n",
      "0           {'idx': 0, 'name': 'unique_artist_count'}     7.664906\n",
      "13                  {'idx': 13, 'name': 'Add_Friend'}    -7.023058\n",
      "16                       {'idx': 16, 'name': 'Error'}    -5.142185\n",
      "27                   {'idx': 27, 'name': 'Thumbs_Up'}    -4.832769\n",
      "10           {'idx': 10, 'name': 'avg_items_per_day'}    -4.441865\n",
      "7           {'idx': 7, 'name': 'avg_items_per_month'}    -3.377726\n",
      "26                 {'idx': 26, 'name': 'Thumbs_Down'}     3.360503\n",
      "14             {'idx': 14, 'name': 'Add_to_Playlist'}    -3.359875\n",
      "12                       {'idx': 12, 'name': 'About'}    -3.232217\n",
      "1          {'idx': 1, 'name': 'total_session_length'}    -2.859674\n",
      "5                     {'idx': 5, 'name': 'avg_items'}    -2.812238\n",
      "15                   {'idx': 15, 'name': 'Downgrade'}    -2.456016\n",
      "6   {'idx': 6, 'name': 'avg_session_length_per_mon...     2.377860\n",
      "17                        {'idx': 17, 'name': 'Help'}    -2.249091\n",
      "23                    {'idx': 23, 'name': 'Settings'}    -1.630062\n",
      "22               {'idx': 22, 'name': 'Save_Settings'}    -1.240528\n",
      "3             {'idx': 3, 'name': 'unique_song_count'}    -1.144384\n",
      "2            {'idx': 2, 'name': 'avg_session_length'}     0.636386\n",
      "20                    {'idx': 20, 'name': 'NextSong'}    -0.463915\n",
      "24            {'idx': 24, 'name': 'Submit_Downgrade'}    -0.403458\n",
      "25              {'idx': 25, 'name': 'Submit_Upgrade'}     0.294260\n",
      "21                 {'idx': 21, 'name': 'Roll_Advert'}     0.061858\n",
      "28                     {'idx': 28, 'name': 'Upgrade'}    -0.058993\n",
      "Top Features:\n",
      "[{'idx': 11, 'name': 'avg_count_session_per_day'}, {'idx': 9, 'name': 'avg_session_length_per_day'}, {'idx': 8, 'name': 'avg_count_session_per_month'}, {'idx': 4, 'name': 'total_items'}, {'idx': 19, 'name': 'Logout'}, {'idx': 18, 'name': 'Home'}, {'idx': 0, 'name': 'unique_artist_count'}, {'idx': 13, 'name': 'Add_Friend'}, {'idx': 16, 'name': 'Error'}, {'idx': 27, 'name': 'Thumbs_Up'}]\n"
     ]
    }
   ],
   "source": [
    "coefficients = lr_trained_model.coefficients\n",
    "\n",
    "# Creating a list of feature names\n",
    "feature_names = train_transformed_data.schema[\"features\"].metadata[\"ml_attr\"][\"attrs\"][\"numeric\"]\n",
    "\n",
    "# Creating a DataFrame with feature names and coefficients\n",
    "coefficients_df = pd.DataFrame(list(zip(feature_names, coefficients)), columns=[\"Feature\", \"Coefficient\"])\n",
    "\n",
    "# Adding a new column with the absolute values of coefficients\n",
    "coefficients_df[\"AbsoluteCoefficient\"] = coefficients_df[\"Coefficient\"].abs()\n",
    "\n",
    "# Sorting the DataFrame based on the absolute coefficients in descending order\n",
    "sorted_coefficients_df = coefficients_df.sort_values(by=\"AbsoluteCoefficient\", ascending=False)\n",
    "\n",
    "# Selecting the top features\n",
    "top_features = sorted_coefficients_df.head(10)[\"Feature\"].tolist()\n",
    "\n",
    "print(\"Feature Coefficients:\")\n",
    "print(sorted_coefficients_df[[\"Feature\", \"Coefficient\"]])\n",
    "\n",
    "print(\"Top Features:\")\n",
    "print(top_features)"
   ]
  },
  {
   "cell_type": "markdown",
   "metadata": {},
   "source": [
    "testing if the top 10 features does not affect the model performance for the app"
   ]
  },
  {
   "cell_type": "code",
   "execution_count": 187,
   "metadata": {},
   "outputs": [],
   "source": [
    "feature_names = [feature['name'] for feature in top_features]\n",
    "\n",
    "\n",
    "\n"
   ]
  },
  {
   "cell_type": "code",
   "execution_count": 188,
   "metadata": {},
   "outputs": [
    {
     "data": {
      "text/plain": [
       "['avg_count_session_per_day',\n",
       " 'avg_session_length_per_day',\n",
       " 'avg_count_session_per_month',\n",
       " 'total_items',\n",
       " 'Logout',\n",
       " 'Home',\n",
       " 'unique_artist_count',\n",
       " 'Add_Friend',\n",
       " 'Error',\n",
       " 'Thumbs_Up']"
      ]
     },
     "execution_count": 188,
     "metadata": {},
     "output_type": "execute_result"
    }
   ],
   "source": [
    "feature_names"
   ]
  },
  {
   "cell_type": "markdown",
   "metadata": {},
   "source": [
    "I will now retrain the model using the top 10 features and check for the model's performancce"
   ]
  },
  {
   "cell_type": "code",
   "execution_count": 246,
   "metadata": {},
   "outputs": [],
   "source": [
    "\n",
    "assembler2 = VectorAssembler(inputCols=feature_names,\n",
    "                                outputCol=\"features\")"
   ]
  },
  {
   "cell_type": "code",
   "execution_count": 248,
   "metadata": {},
   "outputs": [
    {
     "name": "stderr",
     "output_type": "stream",
     "text": [
      "                                                                                \r"
     ]
    }
   ],
   "source": [
    "transform_pipeline2 = Pipeline(\n",
    "    stages=[*encoders, assembler2, scaler, label_indexer])\n",
    "fitted_transform_pipeline2 = transform_pipeline2.fit(train_df)"
   ]
  },
  {
   "cell_type": "code",
   "execution_count": 251,
   "metadata": {},
   "outputs": [],
   "source": [
    "train_transformed2_data = fitted_transform_pipeline2.transform(train_df)\n",
    "validation_transformed2_data = fitted_transform_pipeline2.transform(validation_df)"
   ]
  },
  {
   "cell_type": "code",
   "execution_count": 252,
   "metadata": {},
   "outputs": [
    {
     "name": "stderr",
     "output_type": "stream",
     "text": [
      "                                                                                \r"
     ]
    }
   ],
   "source": [
    "lr_trained_model2, lr_auc2, lr_f12, lr_predictions2 = train_and_evaluate_model(\n",
    "    lr_model, train_transformed2_data, validation_transformed2_data)\n"
   ]
  },
  {
   "cell_type": "code",
   "execution_count": 258,
   "metadata": {},
   "outputs": [
    {
     "name": "stdout",
     "output_type": "stream",
     "text": [
      "+--------------------+----------+----------+\n",
      "|               Model|       AUC|  F1 Score|\n",
      "+--------------------+----------+----------+\n",
      "|Logistic Regressi...| 0.5882353|0.70075756|\n",
      "|Logistic Regressi...|0.65882355| 0.8399438|\n",
      "+--------------------+----------+----------+\n",
      "\n"
     ]
    }
   ],
   "source": [
    "models = [ 'Logistic Regression all data','Logistic Regression top features']\n",
    "auc_scores = [lr_auc, lr_auc2]\n",
    "f1_scores = [lr_f1, lr_f12]\n",
    "\n",
    "result_df = create_metrics_table(models, auc_scores, f1_scores)\n",
    "result_df.show()"
   ]
  },
  {
   "cell_type": "markdown",
   "metadata": {},
   "source": [
    "It looks like training the model using the top ten features selected from a first training can improve performance. Let's see what happens with the test set."
   ]
  },
  {
   "cell_type": "code",
   "execution_count": 262,
   "metadata": {},
   "outputs": [
    {
     "name": "stderr",
     "output_type": "stream",
     "text": [
      "[Stage 13358:>(4 + 4) / 8][Stage 13360:>(2 + 4) / 8][Stage 13362:>(0 + 0) / 1]8]\r"
     ]
    },
    {
     "name": "stdout",
     "output_type": "stream",
     "text": [
      "+------+------+-------------------+-----+--------------------+------------------+-----------+-----------------+-----------+------------------+----------------------------+-------------------+---------------------------+--------------------------+------------------+-------------------------+-----+----------+---------------+------+-------------------------+---------+-----+----+----+------+--------+-----------+-------------+--------+----------------+--------------+-----------+---------+-------+------------+-----------+--------------+---------------+--------------------+--------------------+-----+--------------------+--------------------+----------+\n",
      "|userId|gender|unique_artist_count|state|total_session_length|avg_session_length|churn_label|unique_song_count|total_items|         avg_items|avg_session_length_per_month|avg_items_per_month|avg_count_session_per_month|avg_session_length_per_day| avg_items_per_day|avg_count_session_per_day|About|Add_Friend|Add_to_Playlist|Cancel|Cancellation_Confirmation|Downgrade|Error|Help|Home|Logout|NextSong|Roll_Advert|Save_Settings|Settings|Submit_Downgrade|Submit_Upgrade|Thumbs_Down|Thumbs_Up|Upgrade|gender_index|state_index|gender_encoded|  state_encoded|            features|     scaled_features|label|       rawPrediction|         probability|prediction|\n",
      "+------+------+-------------------+-----+--------------------+------------------+-----------+-----------------+-----------+------------------+----------------------------+-------------------+---------------------------+--------------------------+------------------+-------------------------+-----+----------+---------------+------+-------------------------+---------+-----+----+----+------+--------+-----------+-------------+--------+----------------+--------------+-----------+---------+-------+------------+-----------+--------------+---------------+--------------------+--------------------+-----+--------------------+--------------------+----------+\n",
      "|100001|     F|                125|   FL|  35073.742150000005|263.71234699248123|          1|              129|       5332|28.513368983957218|          35073.742150000005|             5332.0|                      187.0|              17536.871075|            2666.0|                     93.5|    0|         2|              3|     1|                        1|        0|    1|   1|  11|     7|     133|         14|            0|       1|               0|             0|          2|        8|      2|         1.0|        3.0|     (1,[],[])| (40,[3],[1.0])|[93.5,17536.87107...|[0.34285916108993...|  1.0|[0.62763858511002...|[0.65195382590704...|       0.0|\n",
      "|100005|     M|                149|   LA|   37037.12201000001|240.50079227272732|          1|              153|       6396| 29.61111111111111|           37037.12201000001|             6396.0|                      216.0|              9259.2805025|            1599.0|                     54.0|    0|         3|              3|     1|                        1|        0|    0|   2|  15|     3|     154|         18|            0|       2|               0|             0|          3|        7|      4|         0.0|       29.0| (1,[0],[1.0])|(40,[29],[1.0])|[54.0,9259.280502...|[-0.7132982340682...|  1.0|[-0.3249632794498...|[0.41946663713481...|       1.0|\n",
      "|100007|     F|                357|   AR|  104495.32492000004|247.03386505910174|          1|              408|      33841| 65.07884615384616|           52247.66246000002|            16920.5|                      260.0|              10449.532492|            3384.1|                     52.0|    0|        17|              9|     1|                        1|        7|    0|   3|  20|     5|     423|          5|            1|       3|               0|             0|          6|       19|      0|         1.0|       35.0|     (1,[],[])|(40,[35],[1.0])|[52.0,10449.53249...|[-0.7667745578737...|  1.0|[2.15886121753382...|[0.89649392569586...|       0.0|\n",
      "|100012|     M|                397|   IL|  115503.35311000001|242.65410317226892|          1|              453|      43338|             72.23|          57751.676555000005|            21669.0|                      300.0|        19250.558851666665| 6191.142857142857|        85.71428571428571|    1|         2|             12|     1|                        1|        4|    0|   2|  27|     6|     476|         38|            0|       0|               1|             1|          9|       18|      1|         0.0|        5.0| (1,[0],[1.0])| (40,[5],[1.0])|[85.7142857142857...|[0.13468347199003...|  1.0|[1.31011173710025...|[0.78753185293688...|       0.0|\n",
      "|100013|     F|                826|   OH|   280391.7941099999| 247.9149373209548|          1|             1041|     112041| 80.48922413793103|          140195.89705499995|            56020.5|                      696.0|         18692.78627400001|         7002.5625|                     87.0|    2|        28|             31|     1|                        1|       13|    2|   9|  53|    13|    1131|         39|            3|       7|               0|             1|         15|       39|      4|         1.0|       13.0|     (1,[],[])|(40,[13],[1.0])|[87.0,18692.78627...|[0.16906110872213...|  1.0|[3.19462607782132...|[0.96063154543060...|       0.0|\n",
      "|100014|     M|                233|   NY|         67703.47208|263.43763455252923|          1|              248|      10707|34.538709677419355|                 33851.73604|             5353.5|                      155.0|        11283.912013333334|            1784.5|       51.666666666666664|    0|         6|              7|     1|                        1|        3|    0|   2|   7|     3|     257|          2|            0|       1|               0|             0|          3|       17|      0|         0.0|        1.0| (1,[0],[1.0])| (40,[1],[1.0])|[51.6666666666666...|[-0.7756872785079...|  1.0|[1.94539990684347...|[0.87494418157894...|       0.0|\n",
      "|100021|     M|                207|   TX|  57633.175639999994|250.57902452173911|          1|              226|      20629| 64.66771159874608|          28816.587819999997|            10314.5|                      159.5|              11526.635128|            4125.8|                     63.8|    1|         7|              7|     1|                        1|        0|    2|   0|  15|     7|     230|         30|            0|       0|               0|             0|          5|       11|      2|         0.0|        2.0| (1,[0],[1.0])| (40,[2],[1.0])|[63.8,11526.63512...|[-0.4512642474214...|  1.0|[1.86034489062069...|[0.86533714279270...|       0.0|\n",
      "|100023|     M|                350|   SC|  103498.18599000001| 254.2952972727273|          1|              391|      23223| 47.01012145748988|          103498.18599000001|            23223.0|                      494.0|        12937.273248749998|          2902.875|                    61.75|    1|        14|             11|     1|                        1|        9|    0|   3|  20|     5|     407|          6|            0|       2|               0|             1|          2|       10|      1|         0.0|       26.0| (1,[0],[1.0])|(40,[26],[1.0])|[61.75,12937.2732...|[-0.5060774793220...|  1.0|[0.93582828444394...|[0.71825622061763...|       0.0|\n",
      "|   103|     F|                834|   NY|   267252.9339200001| 249.0707678657969|          1|              981|     248120|189.40458015267177|          133626.46696000005|           124060.0|                      655.0|        26725.293391999992|           24812.0|                    131.0|    1|        25|             42|     1|                        1|       13|    0|   7|  45|    14|    1073|         14|            1|       5|               1|             2|          9|       52|      4|         1.0|        1.0|     (1,[],[])| (40,[1],[1.0])|[131.0,26725.2933...|[1.34554023244263...|  1.0|[1.41654703680392...|[0.80479652993060...|       0.0|\n",
      "|   105|     M|                624|   IN|  194347.46099000005|254.38149344240844|          1|              723|     119980|130.69716775599127|          194347.46099000005|           119980.0|                      918.0|         32391.24349833334|19996.666666666668|                    153.0|    1|        13|             12|     1|                        1|       10|    2|   2|  35|    12|     764|          2|            3|       7|               0|             1|          6|       45|      1|         0.0|       20.0| (1,[0],[1.0])|(40,[20],[1.0])|[153.0,32391.2434...|[1.93377979430289...|  1.0|[0.92712295383969...|[0.71649123084011...|       0.0|\n",
      "|   107|     F|                224|   IL|  61852.022359999966| 251.4309852032519|          0|              239|      24755| 78.58730158730158|          30926.011179999983|            12377.5|                      157.5|        10308.670393333332| 4125.833333333333|                     52.5|    0|         2|             10|     0|                        0|        0|    0|   0|  11|     5|     246|         19|            1|       1|               0|             0|          2|       14|      4|         1.0|        5.0|     (1,[],[])| (40,[5],[1.0])|[52.5,10308.67039...|[-0.7534054769223...|  0.0|[0.70103493015995...|[0.66841718955412...|       0.0|\n",
      "|   109|     F|                580|   MO|  178960.94165999998|  249.596850292887|          0|              689|      70266| 81.60975609756098|                 89480.47083|            35133.0|                      430.5|        11930.729443999997|            4684.4|                     57.4|    1|        12|             16|     0|                        0|       12|    0|  10|  34|    12|     717|          7|            1|       6|               1|             1|          5|       23|      3|         1.0|        7.0|     (1,[],[])| (40,[7],[1.0])|[57.4,11930.72944...|[-0.6223884835989...|  0.0|[0.83483409103194...|[0.69737610167016...|       0.0|\n",
      "|   113|     F|               1111|   NC|  400094.13202000014| 252.4253198864354|          0|             1429|     108336| 57.16939313984169|          200047.06601000007|            54168.0|                      947.5|        16670.588834166665|           4333.44|                     75.8|    1|        32|             50|     0|                        0|       16|    3|   7|  72|    18|    1585|          1|            3|       8|               0|             1|         12|       82|      4|         1.0|        4.0|     (1,[],[])| (40,[4],[1.0])|[75.8,16670.58883...|[-0.1304063045885...|  0.0|[3.59648944886354...|[0.97331196847825...|       0.0|\n",
      "|   117|     F|                298|   NY|         88033.85589| 256.6584719825073|          0|              325|      21415| 48.12359550561798|                44016.927945|            10707.5|                      222.5|         6288.132563571429| 1529.642857142857|       31.785714285714285|    0|        10|             10|     0|                        0|        0|    2|   1|  27|     6|     343|         22|            1|       6|               0|             0|          3|       11|      3|         1.0|        1.0|     (1,[],[])| (40,[1],[1.0])|[31.7857142857142...|[-1.3072674020505...|  0.0|[2.60987808609314...|[0.93149461706647...|       0.0|\n",
      "|    12|     F|                697|   CA|   214620.5244600001|247.54385750865063|          1|              817|     121512|  114.203007518797|           214620.5244600001|           121512.0|                     1064.0|        17885.043704999996|           10126.0|        88.66666666666667|    3|        13|             19|     1|                        1|        5|    2|   6|  46|    11|     867|         21|            1|       7|               1|             2|          9|       42|      7|         1.0|        0.0|     (1,[],[])| (40,[0],[1.0])|[88.6666666666666...|[0.21362471189336...|  1.0|[-0.9226168608189...|[0.28442499105727...|       1.0|\n",
      "|   120|     F|               1117|   OK|  392401.49499999994|249.77816359006997|          0|             1424|     381755|207.25027144408253|          196200.74749999997|           190877.5|                      921.0|        21800.083055555555| 21208.61111111111|       102.33333333333333|    5|        22|             44|     0|                        0|       19|    1|   5|  51|    19|    1571|          1|            1|       9|               0|             0|         13|       81|      0|         1.0|       38.0|     (1,[],[])|(40,[38],[1.0])|[102.333333333333...|[0.57904625789746...|  0.0|[0.99321458994171...|[0.72972239626422...|       0.0|\n",
      "|   122|     F|                 41|   TN|          9482.11694|231.27114487804877|          1|               41|       1027| 16.56451612903226|                  9482.11694|             1027.0|                       62.0|         3160.705646666667|            256.75|                     15.5|    0|         1|              1|     1|                        1|        0|    0|   0|   6|     1|      41|          2|            0|       1|               0|             1|          1|        3|      2|         1.0|       27.0|     (1,[],[])|(40,[27],[1.0])|[15.5,3160.705646...|[-1.7427174673236...|  1.0|[1.33083897980769...|[0.79097937802150...|       0.0|\n",
      "|   124|     F|               2232|   NJ|  1012312.0927899999|248.17653659965674|          0|             3339|     796604|165.09927461139895|               506156.046395|           398302.0|                     2412.5|        30676.124023939396|23429.529411764706|       141.91176470588235|    7|        74|            118|     0|                        0|       41|    6|  23| 176|    59|    4079|          4|            6|      20|               0|             0|         41|      171|      0|         1.0|       32.0|     (1,[],[])|(40,[32],[1.0])|[141.911764705882...|[1.63730076379311...|  0.0|[5.17184334211434...|[0.99435791389400...|       0.0|\n",
      "|   137|     M|                143|   NY|   38385.87631000001|249.25893707792213|          0|              153|      13904| 66.52631578947368|          19192.938155000003|             6952.0|                      104.5|        12795.292103333335| 4634.666666666667|        69.66666666666667|    0|         8|              4|     0|                        0|        0|    0|   1|  12|     5|     154|         10|            0|       1|               0|             1|          1|        8|      4|         0.0|        1.0| (1,[0],[1.0])| (40,[1],[1.0])|[69.6666666666666...|[-0.2944003642586...|  0.0|[1.14946305818348...|[0.75941282866797...|       0.0|\n",
      "|   141|     F|                728|   UT|  229793.79916000002|247.35608090419808|          0|              865|     176551|160.20961887477313|          114896.89958000001|            88275.5|                      551.0|         19149.48326333334|13580.846153846154|        84.76923076923077|    1|        17|             27|     0|                        0|        5|    0|   5|  39|    13|     929|         11|            0|       3|               1|             1|          5|       42|      3|         1.0|       34.0|     (1,[],[])|(40,[34],[1.0])|[84.7692307692307...|[0.10941443986217...|  0.0|[2.07579634782782...|[0.88852835906401...|       0.0|\n",
      "+------+------+-------------------+-----+--------------------+------------------+-----------+-----------------+-----------+------------------+----------------------------+-------------------+---------------------------+--------------------------+------------------+-------------------------+-----+----------+---------------+------+-------------------------+---------+-----+----+----+------+--------+-----------+-------------+--------+----------------+--------------+-----------+---------+-------+------------+-----------+--------------+---------------+--------------------+--------------------+-----+--------------------+--------------------+----------+\n",
      "only showing top 20 rows\n",
      "\n"
     ]
    },
    {
     "name": "stderr",
     "output_type": "stream",
     "text": [
      "                                                                                \r"
     ]
    }
   ],
   "source": [
    "test_transformed2_data = fitted_transform_pipeline2.transform(test_df)\n",
    "\n",
    "# Use the trained Logistic Regression model to make predictions\n",
    "test_predictions2 = lr_trained_model2.transform(test_transformed2_data)\n",
    "\n",
    "# Display the predictions or use them for further analysis\n",
    "test_predictions2.show()\n",
    "\n"
   ]
  },
  {
   "cell_type": "code",
   "execution_count": 263,
   "metadata": {},
   "outputs": [
    {
     "name": "stderr",
     "output_type": "stream",
     "text": [
      "                                                                                \r"
     ]
    },
    {
     "name": "stdout",
     "output_type": "stream",
     "text": [
      "F1 Score: 0.6474\n"
     ]
    }
   ],
   "source": [
    "evaluator = MulticlassClassificationEvaluator(\n",
    "    labelCol=\"churn_label\", predictionCol=\"prediction\", metricName=\"f1\")\n",
    "\n",
    "f1_score = evaluator.evaluate(test_predictions2)\n",
    "print(\"F1 Score: {:.4f}\".format(f1_score))\n"
   ]
  },
  {
   "cell_type": "code",
   "execution_count": 264,
   "metadata": {},
   "outputs": [
    {
     "name": "stderr",
     "output_type": "stream",
     "text": [
      "                                                                                \r"
     ]
    },
    {
     "name": "stdout",
     "output_type": "stream",
     "text": [
      "+------+----------+--------------------+-----+\n",
      "|userId|prediction|         probability|label|\n",
      "+------+----------+--------------------+-----+\n",
      "|100005|       1.0|[0.41946663713481...|  1.0|\n",
      "|    12|       1.0|[0.28442499105727...|  1.0|\n",
      "+------+----------+--------------------+-----+\n",
      "\n"
     ]
    }
   ],
   "source": [
    "selected_columns = [\"userId\", \"prediction\", \"probability\", \"label\"]\n",
    "\n",
    "selected_predictions2 = test_predictions2.select(*selected_columns)\n",
    "\n",
    "churn_predictions2 = selected_predictions2.filter(selected_predictions2[\"prediction\"] == 1.0)\n",
    "\n",
    "churn_predictions2.show()"
   ]
  },
  {
   "cell_type": "markdown",
   "metadata": {},
   "source": [
    "In this model, only 2 users were predicted to churn from the test set. Let's look at the confusion matrix."
   ]
  },
  {
   "cell_type": "code",
   "execution_count": 270,
   "metadata": {},
   "outputs": [
    {
     "name": "stderr",
     "output_type": "stream",
     "text": [
      "                                                                                \r"
     ]
    },
    {
     "name": "stdout",
     "output_type": "stream",
     "text": [
      "Confusion Matrix:\n",
      "True Positive: 2\n",
      "False Positive: 0\n",
      "True Negative: 27\n",
      "False Negative: 11\n"
     ]
    },
    {
     "name": "stderr",
     "output_type": "stream",
     "text": [
      "                                                                                \r"
     ]
    },
    {
     "name": "stdout",
     "output_type": "stream",
     "text": [
      "Confusion Matrix (Percentages):\n",
      "True Positive: 5.00%\n",
      "False Positive: 0.00%\n",
      "True Negative: 67.50%\n",
      "False Negative: 27.50%\n"
     ]
    }
   ],
   "source": [
    "# Extract true positive, false positive, true negative, and false negative counts\n",
    "tp2 = test_predictions2.filter((test_predictions2[\"prediction\"] == 1.0) & (test_predictions2[\"label\"] == 1.0)).count()\n",
    "fp2 = test_predictions2.filter((test_predictions2[\"prediction\"] == 1.0) & (test_predictions2[\"label\"] == 0.0)).count()\n",
    "tn2 = test_predictions2.filter((test_predictions2[\"prediction\"] == 0.0) & (test_predictions2[\"label\"] == 0.0)).count()\n",
    "fn2 = test_predictions2.filter((test_predictions2[\"prediction\"] == 0.0) & (test_predictions2[\"label\"] == 1.0)).count()\n",
    "\n",
    "# Display confusion matrix\n",
    "conf_matrix = [[tn2, fp2], [fn2, tp2]]\n",
    "print(\"Confusion Matrix:\")\n",
    "print(f\"True Positive: {tp2}\")\n",
    "print(f\"False Positive: {fp2}\")\n",
    "print(f\"True Negative: {tn2}\")\n",
    "print(f\"False Negative: {fn2}\")\n",
    "\n",
    "total = test_predictions2.count()\n",
    "\n",
    "\n",
    "tp_percentage2 = tp2 / total * 100\n",
    "fp_percentage2 = fp2 / total * 100\n",
    "tn_percentage2 = tn2 / total * 100\n",
    "fn_percentage2 = fn2 / total * 100\n",
    "\n",
    "conf_matrix = [[tn_percentage2, fp_percentage2], [fn_percentage2, tp_percentage2]]\n",
    "print(\"Confusion Matrix (Percentages):\")\n",
    "print(f\"True Positive: {tp_percentage2:.2f}%\")\n",
    "print(f\"False Positive: {fp_percentage2:.2f}%\")\n",
    "print(f\"True Negative: {tn_percentage2:.2f}%\")\n",
    "print(f\"False Negative: {fn_percentage2:.2f}%\")\n"
   ]
  },
  {
   "cell_type": "code",
   "execution_count": 274,
   "metadata": {},
   "outputs": [
    {
     "data": {
      "text/html": [
       "<div>\n",
       "<style scoped>\n",
       "    .dataframe tbody tr th:only-of-type {\n",
       "        vertical-align: middle;\n",
       "    }\n",
       "\n",
       "    .dataframe tbody tr th {\n",
       "        vertical-align: top;\n",
       "    }\n",
       "\n",
       "    .dataframe thead th {\n",
       "        text-align: right;\n",
       "    }\n",
       "</style>\n",
       "<table border=\"1\" class=\"dataframe\">\n",
       "  <thead>\n",
       "    <tr style=\"text-align: right;\">\n",
       "      <th></th>\n",
       "      <th>Model</th>\n",
       "      <th>True Positive</th>\n",
       "      <th>False Positive</th>\n",
       "      <th>True Negative</th>\n",
       "      <th>False Negative</th>\n",
       "    </tr>\n",
       "  </thead>\n",
       "  <tbody>\n",
       "    <tr>\n",
       "      <th>0</th>\n",
       "      <td>Logistic Regression all data</td>\n",
       "      <td>3</td>\n",
       "      <td>1</td>\n",
       "      <td>26</td>\n",
       "      <td>10</td>\n",
       "    </tr>\n",
       "    <tr>\n",
       "      <th>1</th>\n",
       "      <td>Logistic Regression top features</td>\n",
       "      <td>2</td>\n",
       "      <td>0</td>\n",
       "      <td>27</td>\n",
       "      <td>11</td>\n",
       "    </tr>\n",
       "  </tbody>\n",
       "</table>\n",
       "</div>"
      ],
      "text/plain": [
       "                              Model  True Positive  False Positive  \\\n",
       "0      Logistic Regression all data              3               1   \n",
       "1  Logistic Regression top features              2               0   \n",
       "\n",
       "   True Negative  False Negative  \n",
       "0             26              10  \n",
       "1             27              11  "
      ]
     },
     "execution_count": 274,
     "metadata": {},
     "output_type": "execute_result"
    }
   ],
   "source": [
    "\n",
    "models = ['Logistic Regression all data', 'Logistic Regression top features']\n",
    "TP = [tp, tp2]\n",
    "FP = [fp, fp2]\n",
    "TN = [tn, tn2]\n",
    "FN = [fn, fn2]\n",
    "\n",
    "data = {'Model': models, 'True Positive': TP, 'False Positive': FP, 'True Negative': TN, 'False Negative': FN}\n",
    "confusion_df = pd.DataFrame(data)\n",
    "\n",
    "confusion_df"
   ]
  },
  {
   "cell_type": "code",
   "execution_count": null,
   "metadata": {},
   "outputs": [],
   "source": []
  }
 ],
 "metadata": {
  "kernelspec": {
   "display_name": "Python 3",
   "language": "python",
   "name": "python3"
  },
  "language_info": {
   "codemirror_mode": {
    "name": "ipython",
    "version": 3
   },
   "file_extension": ".py",
   "mimetype": "text/x-python",
   "name": "python",
   "nbconvert_exporter": "python",
   "pygments_lexer": "ipython3",
   "version": "3.12.0"
  }
 },
 "nbformat": 4,
 "nbformat_minor": 2
}
