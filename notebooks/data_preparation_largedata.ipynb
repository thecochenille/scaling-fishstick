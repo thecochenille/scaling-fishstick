{
 "cells": [
  {
   "cell_type": "markdown",
   "id": "6e89dd0f-2b7a-4966-8b80-1a148d40b006",
   "metadata": {
    "execution": {
     "iopub.execute_input": "2024-02-26T20:22:56.200699Z",
     "iopub.status.busy": "2024-02-26T20:22:56.200130Z",
     "iopub.status.idle": "2024-02-26T20:23:47.505950Z",
     "shell.execute_reply": "2024-02-26T20:23:47.505024Z",
     "shell.execute_reply.started": "2024-02-26T20:22:56.200660Z"
    },
    "tags": []
   },
   "source": [
    "# Sparkify - data preparation large dataset\n",
    "\n",
    "#### This notebook shows the functions and steps taken to load and prepare the 12GB dataset on AWS EMR."
   ]
  },
  {
   "cell_type": "code",
   "execution_count": 1,
   "id": "9af57ba2-29d0-45eb-b9d8-7ff819974b16",
   "metadata": {
    "execution": {
     "iopub.execute_input": "2024-02-28T20:42:03.016655Z",
     "iopub.status.busy": "2024-02-28T20:42:03.016345Z",
     "iopub.status.idle": "2024-02-28T20:42:39.817712Z",
     "shell.execute_reply": "2024-02-28T20:42:39.817061Z",
     "shell.execute_reply.started": "2024-02-28T20:42:03.016629Z"
    },
    "tags": []
   },
   "outputs": [
    {
     "data": {
      "application/vnd.jupyter.widget-view+json": {
       "model_id": "f7bf7d6101204baf8f223a2db8108c5f",
       "version_major": 2,
       "version_minor": 0
      },
      "text/plain": [
       "VBox()"
      ]
     },
     "metadata": {},
     "output_type": "display_data"
    },
    {
     "name": "stdout",
     "output_type": "stream",
     "text": [
      "Starting Spark application\n"
     ]
    },
    {
     "data": {
      "text/html": [
       "<table>\n",
       "<tbody><tr><th>ID</th><th>YARN Application ID</th><th>Kind</th><th>State</th><th>Spark UI</th><th>Driver log</th><th>User</th><th>Current session?</th></tr><tr><td>0</td><td>application_1709152527769_0001</td><td>pyspark</td><td>idle</td><td><a target=\"_blank\" href=\"http://ip-172-31-1-159.us-east-2.compute.internal:20888/proxy/application_1709152527769_0001/\" class=\"emr-proxy-link j-1104OQK0CEOST application_1709152527769_0001\" emr-resource=\"j-1104OQK0CEOST\n",
       "\" application-id=\"application_1709152527769_0001\">Link</a></td><td><a target=\"_blank\" href=\"http://ip-172-31-6-177.us-east-2.compute.internal:8042/node/containerlogs/container_1709152527769_0001_01_000001/livy\">Link</a></td><td>None</td><td>✔</td></tr></tbody></table>"
      ],
      "text/plain": [
       "<IPython.core.display.HTML object>"
      ]
     },
     "metadata": {},
     "output_type": "display_data"
    },
    {
     "data": {
      "application/vnd.jupyter.widget-view+json": {
       "model_id": "",
       "version_major": 2,
       "version_minor": 0
      },
      "text/plain": [
       "FloatProgress(value=0.0, bar_style='info', description='Progress:', layout=Layout(height='25px', width='50%'),…"
      ]
     },
     "metadata": {},
     "output_type": "display_data"
    },
    {
     "name": "stdout",
     "output_type": "stream",
     "text": [
      "SparkSession available as 'spark'.\n"
     ]
    },
    {
     "data": {
      "application/vnd.jupyter.widget-view+json": {
       "model_id": "",
       "version_major": 2,
       "version_minor": 0
      },
      "text/plain": [
       "FloatProgress(value=0.0, bar_style='info', description='Progress:', layout=Layout(height='25px', width='50%'),…"
      ]
     },
     "metadata": {},
     "output_type": "display_data"
    }
   ],
   "source": [
    "## LIBRARIES\n",
    "import pyspark\n",
    "from pyspark import SparkConf\n",
    "from pyspark import SparkFiles\n",
    "from pyspark.sql import SparkSession\n",
    "\n",
    "from pyspark.sql.types import StringType\n",
    "from pyspark.sql.types import IntegerType\n",
    "from pyspark.sql.types import TimestampType\n",
    "\n",
    "from pyspark.sql.functions import isnan, count, when, col, desc, udf, col, sort_array, asc, desc, countDistinct, first\n",
    "from pyspark.sql.functions import udf\n",
    "from pyspark.sql.functions import to_date, year, month, dayofmonth, dayofweek, hour, date_format, substring,datediff\n",
    "from pyspark.sql.functions import sum as spark_sum, avg as spark_avg\n",
    "\n",
    "import datetime\n"
   ]
  },
  {
   "cell_type": "code",
   "execution_count": 2,
   "id": "8644b199-01c0-4a15-b9a7-fcc6a5380bdb",
   "metadata": {
    "execution": {
     "iopub.execute_input": "2024-02-28T20:42:39.819258Z",
     "iopub.status.busy": "2024-02-28T20:42:39.819000Z",
     "iopub.status.idle": "2024-02-28T20:42:39.896133Z",
     "shell.execute_reply": "2024-02-28T20:42:39.895299Z",
     "shell.execute_reply.started": "2024-02-28T20:42:39.819220Z"
    },
    "tags": []
   },
   "outputs": [
    {
     "data": {
      "application/vnd.jupyter.widget-view+json": {
       "model_id": "805c344f35e04bc995e6ed1fc18640c1",
       "version_major": 2,
       "version_minor": 0
      },
      "text/plain": [
       "VBox()"
      ]
     },
     "metadata": {},
     "output_type": "display_data"
    },
    {
     "data": {
      "application/vnd.jupyter.widget-view+json": {
       "model_id": "",
       "version_major": 2,
       "version_minor": 0
      },
      "text/plain": [
       "FloatProgress(value=0.0, bar_style='info', description='Progress:', layout=Layout(height='25px', width='50%'),…"
      ]
     },
     "metadata": {},
     "output_type": "display_data"
    }
   ],
   "source": [
    "## Creating a spark session\n",
    "spark = SparkSession \\\n",
    "    .builder \\\n",
    "    .appName(\"Sparkify\") \\\n",
    "    .getOrCreate()"
   ]
  },
  {
   "cell_type": "code",
   "execution_count": 3,
   "id": "2c06f480-382d-4724-9fbe-15e4dbecaa61",
   "metadata": {
    "execution": {
     "iopub.execute_input": "2024-02-28T20:42:39.898138Z",
     "iopub.status.busy": "2024-02-28T20:42:39.897707Z",
     "iopub.status.idle": "2024-02-28T20:42:39.995567Z",
     "shell.execute_reply": "2024-02-28T20:42:39.994775Z",
     "shell.execute_reply.started": "2024-02-28T20:42:39.898101Z"
    },
    "tags": []
   },
   "outputs": [
    {
     "data": {
      "application/vnd.jupyter.widget-view+json": {
       "model_id": "cb53cad0b3f84fefa184ff1ef7acecc1",
       "version_major": 2,
       "version_minor": 0
      },
      "text/plain": [
       "VBox()"
      ]
     },
     "metadata": {},
     "output_type": "display_data"
    },
    {
     "data": {
      "application/vnd.jupyter.widget-view+json": {
       "model_id": "",
       "version_major": 2,
       "version_minor": 0
      },
      "text/plain": [
       "FloatProgress(value=0.0, bar_style='info', description='Progress:', layout=Layout(height='25px', width='50%'),…"
      ]
     },
     "metadata": {},
     "output_type": "display_data"
    },
    {
     "name": "stdout",
     "output_type": "stream",
     "text": [
      "<pyspark.sql.session.SparkSession object at 0x7f2c530018b0>"
     ]
    }
   ],
   "source": [
    "## Checking if the session is on\n",
    "spark"
   ]
  },
  {
   "cell_type": "code",
   "execution_count": 4,
   "id": "e192717b-963b-403d-8061-f590eb20a277",
   "metadata": {
    "execution": {
     "iopub.execute_input": "2024-02-28T20:43:44.789635Z",
     "iopub.status.busy": "2024-02-28T20:43:44.789390Z",
     "iopub.status.idle": "2024-02-28T20:44:28.258934Z",
     "shell.execute_reply": "2024-02-28T20:44:28.258243Z",
     "shell.execute_reply.started": "2024-02-28T20:43:44.789609Z"
    },
    "tags": []
   },
   "outputs": [
    {
     "data": {
      "application/vnd.jupyter.widget-view+json": {
       "model_id": "1e978726ea7548f9a27a8c40c73bf6bf",
       "version_major": 2,
       "version_minor": 0
      },
      "text/plain": [
       "VBox()"
      ]
     },
     "metadata": {},
     "output_type": "display_data"
    },
    {
     "data": {
      "application/vnd.jupyter.widget-view+json": {
       "model_id": "",
       "version_major": 2,
       "version_minor": 0
      },
      "text/plain": [
       "FloatProgress(value=0.0, bar_style='info', description='Progress:', layout=Layout(height='25px', width='50%'),…"
      ]
     },
     "metadata": {},
     "output_type": "display_data"
    },
    {
     "name": "stdout",
     "output_type": "stream",
     "text": [
      "Row(artist='Popol Vuh', auth='Logged In', firstName='Shlok', gender='M', itemInSession=278, lastName='Johnson', length=524.32934, level='paid', location='Dallas-Fort Worth-Arlington, TX', method='PUT', page='NextSong', registration=1533734541000, sessionId=22683, song='Ich mache einen Spiegel - Dream Part 4', status=200, ts=1538352001000, userAgent='\"Mozilla/5.0 (Windows NT 6.1; WOW64) AppleWebKit/537.36 (KHTML, like Gecko) Chrome/36.0.1985.143 Safari/537.36\"', userId='1749042')"
     ]
    }
   ],
   "source": [
    "## Reading the full sparkify dataset (I downloaded it from Udacity public link and uploaded it in my own bucket)\n",
    "event_data = \"s3://sparkifylargedataset/sparkify_event_data.json\"\n",
    "df = spark.read.json(event_data)\n",
    "df.head()"
   ]
  },
  {
   "cell_type": "code",
   "execution_count": 6,
   "id": "ca7b0c9b-a6a8-42c2-8770-1b40a6ee4a0e",
   "metadata": {
    "execution": {
     "iopub.execute_input": "2024-02-26T20:24:29.199825Z",
     "iopub.status.busy": "2024-02-26T20:24:29.199392Z",
     "iopub.status.idle": "2024-02-26T20:24:29.316187Z",
     "shell.execute_reply": "2024-02-26T20:24:29.315478Z",
     "shell.execute_reply.started": "2024-02-26T20:24:29.199784Z"
    },
    "tags": []
   },
   "outputs": [
    {
     "data": {
      "application/vnd.jupyter.widget-view+json": {
       "model_id": "ca29a74522cc4f45bb3319a3b2834e43",
       "version_major": 2,
       "version_minor": 0
      },
      "text/plain": [
       "VBox()"
      ]
     },
     "metadata": {},
     "output_type": "display_data"
    },
    {
     "data": {
      "application/vnd.jupyter.widget-view+json": {
       "model_id": "",
       "version_major": 2,
       "version_minor": 0
      },
      "text/plain": [
       "FloatProgress(value=0.0, bar_style='info', description='Progress:', layout=Layout(height='25px', width='50%'),…"
      ]
     },
     "metadata": {},
     "output_type": "display_data"
    }
   ],
   "source": [
    "#loading my functions for data preparation\n",
    "\n",
    "def remove_missing_userid(df):\n",
    "    condition = df.userId != ''\n",
    "    df= df.filter(condition)\n",
    "    \n",
    "    return df\n",
    "\n",
    "\n",
    "# function for churn labeling\n",
    "def create_churn_label(df):\n",
    "    ''' This function takes a dataframe and creates churn labels based on the \n",
    "    churn definition: Cancellation Confirmation value in 'pages' is considered churn.\n",
    "    \n",
    "    Input = Spark dataframe\n",
    "    \n",
    "    Output = Spark dataframe with new column 'churn_lab' for each user who churned\n",
    "    '''\n",
    "    #labeling all 'pages' with Cancellation Confirmation\n",
    "    create_churn = udf(lambda x: 1 if x ==\"Cancellation Confirmation\" else 0, IntegerType())\n",
    "    df = df.withColumn('churn_lab_temp', create_churn('page'))\n",
    "    \n",
    "    #extract a list of churn users from the new df\n",
    "    churn_userid = df.select('userId').where(col('churn_lab_temp')==1).groupby('userId').count()\n",
    "    churn_userid_list = [row['userId'] for row in churn_userid.collect()]\n",
    "    \n",
    "    #new column based on the churn list\n",
    "    df = df.withColumn('churn_lab', when((df.userId).isin(churn_userid_list), 1).otherwise(0))\n",
    "    \n",
    "    #dropping column\n",
    "    df = df.drop('churn_lab_temp')\n",
    "    \n",
    "    return df   \n",
    "\n",
    "\n",
    "def create_features(df):\n",
    "    '''This function takes a clean spark dataframe of sparkify records and \n",
    "    creates new features for each userId based on different aggregations, then combine all the new feature \n",
    "    into a final df called user_df. This user_df is saved into a csv file\n",
    "  \n",
    "    Input: df - spark dataframe\n",
    "    Output: user_df - spark dataframe including one row per userId and new features'''\n",
    "    \n",
    "    \n",
    "    #new features and aggregation by feature\n",
    "   #allows to aggregate many features in one step\n",
    "    agg_df1 = df.groupBy('userId').agg(\n",
    "                             first('gender').alias('gender'), #takes the first occurence of gender for each user\n",
    "                             countDistinct('artist').alias('unique_artist_count'), #counting the unique artist per userId\n",
    "                             first('state1').alias('state'), #retrieving state information for each userId\n",
    "                             spark_sum('length').alias('total_session_length'),\n",
    "                             spark_avg('length').alias('avg_session_length'),\n",
    "                             first('churn_lab').alias('churn_label'),\n",
    "                             countDistinct('song').alias('unique_song_count'),\n",
    "                             spark_sum('itemInSession').alias('total_items'),\n",
    "                             spark_avg('itemInSession').alias('avg_items')\n",
    "       \n",
    "       \n",
    "       \n",
    "   )\n",
    "   #aggregate by month\n",
    "    agg_df2 = df.groupBy('userId','month').agg(\n",
    "                              spark_sum(\"length\").alias(\"session_length_per_month\"),\n",
    "                              spark_sum('itemInSession').alias('items_per_month'),\n",
    "                              count('*').alias('count_sessions_per_month')\n",
    "    )\n",
    "    \n",
    "    agg_df2 = agg_df2.groupBy('userId').agg(\n",
    "                              spark_avg('session_length_per_month').alias('avg_session_length_per_month'),\n",
    "                              spark_avg('items_per_month').alias('avg_items_per_month'),\n",
    "                              spark_avg('count_sessions_per_month').alias('avg_count_session_per_month')\n",
    "    )\n",
    "    #aggregate by day\n",
    "    agg_df3 = df.groupBy('userId','ts_todate').agg(\n",
    "                              spark_sum(\"length\").alias(\"session_length_per_day\"),\n",
    "                              spark_sum('itemInSession').alias('items_per_day'),\n",
    "                              count('*').alias('count_sessions_per_day')\n",
    "    )\n",
    "    agg_df3 = agg_df3.groupBy('userId').agg(\n",
    "                              spark_avg('session_length_per_day').alias('avg_session_length_per_day'),\n",
    "                              spark_avg('items_per_day').alias('avg_items_per_day'),\n",
    "                              spark_avg('count_sessions_per_day').alias('avg_count_session_per_day')\n",
    "    )\n",
    "   \n",
    "    # aggregate counts per page per user\n",
    "    page_counts_per_user = df.groupBy('userId', 'page').count()\n",
    "    agg_df4 = page_counts_per_user.groupBy('userId').pivot('page').sum('count')\n",
    "    agg_df4 = agg_df4.na.fill(0)\n",
    "\n",
    "\n",
    "\n",
    "    \n",
    "    #join all agg_df\n",
    "    \n",
    "    user_df = agg_df1.join(agg_df2,['userid']) \n",
    "    user_df = user_df.join(agg_df3,['userid'])\n",
    "    user_df = user_df.join(agg_df4,['userid'])\n",
    "\n",
    "    return user_df"
   ]
  },
  {
   "cell_type": "code",
   "execution_count": 7,
   "id": "c0d16ef8-49da-4441-b671-43d1091d256c",
   "metadata": {
    "execution": {
     "iopub.execute_input": "2024-02-26T20:24:29.318340Z",
     "iopub.status.busy": "2024-02-26T20:24:29.318101Z",
     "iopub.status.idle": "2024-02-26T20:24:30.084456Z",
     "shell.execute_reply": "2024-02-26T20:24:30.083795Z",
     "shell.execute_reply.started": "2024-02-26T20:24:29.318304Z"
    }
   },
   "outputs": [
    {
     "data": {
      "application/vnd.jupyter.widget-view+json": {
       "model_id": "d50e8d28e3c34d5ba18a19417ae36154",
       "version_major": 2,
       "version_minor": 0
      },
      "text/plain": [
       "VBox()"
      ]
     },
     "metadata": {},
     "output_type": "display_data"
    },
    {
     "data": {
      "application/vnd.jupyter.widget-view+json": {
       "model_id": "",
       "version_major": 2,
       "version_minor": 0
      },
      "text/plain": [
       "FloatProgress(value=0.0, bar_style='info', description='Progress:', layout=Layout(height='25px', width='50%'),…"
      ]
     },
     "metadata": {},
     "output_type": "display_data"
    },
    {
     "name": "stdout",
     "output_type": "stream",
     "text": [
      "Here is the first row of the dataset\n",
      "[Row(artist='Popol Vuh', auth='Logged In', firstName='Shlok', gender='M', itemInSession=278, lastName='Johnson', length=524.32934, level='paid', location='Dallas-Fort Worth-Arlington, TX', method='PUT', page='NextSong', registration=1533734541000, sessionId=22683, song='Ich mache einen Spiegel - Dream Part 4', status=200, ts=1538352001000, userAgent='\"Mozilla/5.0 (Windows NT 6.1; WOW64) AppleWebKit/537.36 (KHTML, like Gecko) Chrome/36.0.1985.143 Safari/537.36\"', userId='1749042')]"
     ]
    }
   ],
   "source": [
    "print('Here is the first row of the dataset')\n",
    "df.take(1)"
   ]
  },
  {
   "cell_type": "code",
   "execution_count": 8,
   "id": "2891fd87-2887-455f-82a6-5b8e1078ddcd",
   "metadata": {
    "execution": {
     "iopub.execute_input": "2024-02-26T20:24:30.086016Z",
     "iopub.status.busy": "2024-02-26T20:24:30.085734Z",
     "iopub.status.idle": "2024-02-26T20:24:51.460397Z",
     "shell.execute_reply": "2024-02-26T20:24:51.459648Z",
     "shell.execute_reply.started": "2024-02-26T20:24:30.085979Z"
    }
   },
   "outputs": [
    {
     "data": {
      "application/vnd.jupyter.widget-view+json": {
       "model_id": "d0aaf97f958444ef86c0c692a83ead4d",
       "version_major": 2,
       "version_minor": 0
      },
      "text/plain": [
       "VBox()"
      ]
     },
     "metadata": {},
     "output_type": "display_data"
    },
    {
     "data": {
      "application/vnd.jupyter.widget-view+json": {
       "model_id": "",
       "version_major": 2,
       "version_minor": 0
      },
      "text/plain": [
       "FloatProgress(value=0.0, bar_style='info', description='Progress:', layout=Layout(height='25px', width='50%'),…"
      ]
     },
     "metadata": {},
     "output_type": "display_data"
    },
    {
     "name": "stdout",
     "output_type": "stream",
     "text": [
      "The 12GB dataset has 26259199 rows"
     ]
    }
   ],
   "source": [
    "row = df.count()\n",
    "print(f'The 12GB dataset has {row} rows')"
   ]
  },
  {
   "cell_type": "code",
   "execution_count": 9,
   "id": "95411083-1b95-4402-8e78-792ae7612158",
   "metadata": {
    "execution": {
     "iopub.execute_input": "2024-02-26T20:24:51.461508Z",
     "iopub.status.busy": "2024-02-26T20:24:51.461316Z",
     "iopub.status.idle": "2024-02-26T20:24:51.515708Z",
     "shell.execute_reply": "2024-02-26T20:24:51.515006Z",
     "shell.execute_reply.started": "2024-02-26T20:24:51.461483Z"
    }
   },
   "outputs": [
    {
     "data": {
      "application/vnd.jupyter.widget-view+json": {
       "model_id": "881c133f8fda452a9b023b850ea0a5a1",
       "version_major": 2,
       "version_minor": 0
      },
      "text/plain": [
       "VBox()"
      ]
     },
     "metadata": {},
     "output_type": "display_data"
    },
    {
     "data": {
      "application/vnd.jupyter.widget-view+json": {
       "model_id": "",
       "version_major": 2,
       "version_minor": 0
      },
      "text/plain": [
       "FloatProgress(value=0.0, bar_style='info', description='Progress:', layout=Layout(height='25px', width='50%'),…"
      ]
     },
     "metadata": {},
     "output_type": "display_data"
    },
    {
     "name": "stdout",
     "output_type": "stream",
     "text": [
      "Here is the data schema\n",
      "root\n",
      " |-- artist: string (nullable = true)\n",
      " |-- auth: string (nullable = true)\n",
      " |-- firstName: string (nullable = true)\n",
      " |-- gender: string (nullable = true)\n",
      " |-- itemInSession: long (nullable = true)\n",
      " |-- lastName: string (nullable = true)\n",
      " |-- length: double (nullable = true)\n",
      " |-- level: string (nullable = true)\n",
      " |-- location: string (nullable = true)\n",
      " |-- method: string (nullable = true)\n",
      " |-- page: string (nullable = true)\n",
      " |-- registration: long (nullable = true)\n",
      " |-- sessionId: long (nullable = true)\n",
      " |-- song: string (nullable = true)\n",
      " |-- status: long (nullable = true)\n",
      " |-- ts: long (nullable = true)\n",
      " |-- userAgent: string (nullable = true)\n",
      " |-- userId: string (nullable = true)\n",
      "\n",
      "None"
     ]
    }
   ],
   "source": [
    "print('Here is the data schema')\n",
    "print(df.printSchema())"
   ]
  },
  {
   "cell_type": "code",
   "execution_count": 10,
   "id": "34a5fd3d-ef27-4d5c-9aa3-a28f0b4461e2",
   "metadata": {
    "execution": {
     "iopub.execute_input": "2024-02-26T20:24:51.516774Z",
     "iopub.status.busy": "2024-02-26T20:24:51.516597Z",
     "iopub.status.idle": "2024-02-26T20:24:51.780638Z",
     "shell.execute_reply": "2024-02-26T20:24:51.779908Z",
     "shell.execute_reply.started": "2024-02-26T20:24:51.516752Z"
    }
   },
   "outputs": [
    {
     "data": {
      "application/vnd.jupyter.widget-view+json": {
       "model_id": "f1e498a849254c3690989ae6cafff2b7",
       "version_major": 2,
       "version_minor": 0
      },
      "text/plain": [
       "VBox()"
      ]
     },
     "metadata": {},
     "output_type": "display_data"
    },
    {
     "data": {
      "application/vnd.jupyter.widget-view+json": {
       "model_id": "",
       "version_major": 2,
       "version_minor": 0
      },
      "text/plain": [
       "FloatProgress(value=0.0, bar_style='info', description='Progress:', layout=Layout(height='25px', width='50%'),…"
      ]
     },
     "metadata": {},
     "output_type": "display_data"
    },
    {
     "name": "stdout",
     "output_type": "stream",
     "text": [
      "Removing rows with missing UserId..."
     ]
    }
   ],
   "source": [
    "print('Removing rows with missing UserId...')\n",
    "df = remove_missing_userid(df)"
   ]
  },
  {
   "cell_type": "code",
   "execution_count": 11,
   "id": "706f1ce5-bfe1-40cd-bb39-44ce2e3882d4",
   "metadata": {
    "execution": {
     "iopub.execute_input": "2024-02-26T20:24:51.782098Z",
     "iopub.status.busy": "2024-02-26T20:24:51.781848Z",
     "iopub.status.idle": "2024-02-26T20:25:17.143941Z",
     "shell.execute_reply": "2024-02-26T20:25:17.143224Z",
     "shell.execute_reply.started": "2024-02-26T20:24:51.782060Z"
    }
   },
   "outputs": [
    {
     "data": {
      "application/vnd.jupyter.widget-view+json": {
       "model_id": "de1e7a06cd204f099fa5766a4f4ed4a7",
       "version_major": 2,
       "version_minor": 0
      },
      "text/plain": [
       "VBox()"
      ]
     },
     "metadata": {},
     "output_type": "display_data"
    },
    {
     "data": {
      "application/vnd.jupyter.widget-view+json": {
       "model_id": "",
       "version_major": 2,
       "version_minor": 0
      },
      "text/plain": [
       "FloatProgress(value=0.0, bar_style='info', description='Progress:', layout=Layout(height='25px', width='50%'),…"
      ]
     },
     "metadata": {},
     "output_type": "display_data"
    },
    {
     "name": "stdout",
     "output_type": "stream",
     "text": [
      "New number of rows:26259199"
     ]
    }
   ],
   "source": [
    "row2 = df.count()\n",
    "print(f'New number of rows:{row2}')"
   ]
  },
  {
   "cell_type": "code",
   "execution_count": 12,
   "id": "c0b639ae-cb43-40d6-8c3c-fd16495324fa",
   "metadata": {
    "execution": {
     "iopub.execute_input": "2024-02-26T20:25:17.145112Z",
     "iopub.status.busy": "2024-02-26T20:25:17.144938Z",
     "iopub.status.idle": "2024-02-26T20:25:17.196550Z",
     "shell.execute_reply": "2024-02-26T20:25:17.195975Z",
     "shell.execute_reply.started": "2024-02-26T20:25:17.145088Z"
    },
    "tags": []
   },
   "outputs": [
    {
     "data": {
      "application/vnd.jupyter.widget-view+json": {
       "model_id": "7161f448268b4cd79268d5549f86ec7b",
       "version_major": 2,
       "version_minor": 0
      },
      "text/plain": [
       "VBox()"
      ]
     },
     "metadata": {},
     "output_type": "display_data"
    },
    {
     "data": {
      "application/vnd.jupyter.widget-view+json": {
       "model_id": "",
       "version_major": 2,
       "version_minor": 0
      },
      "text/plain": [
       "FloatProgress(value=0.0, bar_style='info', description='Progress:', layout=Layout(height='25px', width='50%'),…"
      ]
     },
     "metadata": {},
     "output_type": "display_data"
    }
   ],
   "source": [
    "result_df = df.filter(df[\"UserId\"] == '')"
   ]
  },
  {
   "cell_type": "code",
   "execution_count": 13,
   "id": "44eb9b46-c48e-496b-9032-3bcee2148cbc",
   "metadata": {
    "execution": {
     "iopub.execute_input": "2024-02-26T20:25:17.197543Z",
     "iopub.status.busy": "2024-02-26T20:25:17.197368Z",
     "iopub.status.idle": "2024-02-26T20:25:17.250546Z",
     "shell.execute_reply": "2024-02-26T20:25:17.249874Z",
     "shell.execute_reply.started": "2024-02-26T20:25:17.197521Z"
    },
    "tags": []
   },
   "outputs": [
    {
     "data": {
      "application/vnd.jupyter.widget-view+json": {
       "model_id": "c1acc569566d4b07b3c372054f29f285",
       "version_major": 2,
       "version_minor": 0
      },
      "text/plain": [
       "VBox()"
      ]
     },
     "metadata": {},
     "output_type": "display_data"
    },
    {
     "data": {
      "application/vnd.jupyter.widget-view+json": {
       "model_id": "",
       "version_major": 2,
       "version_minor": 0
      },
      "text/plain": [
       "FloatProgress(value=0.0, bar_style='info', description='Progress:', layout=Layout(height='25px', width='50%'),…"
      ]
     },
     "metadata": {},
     "output_type": "display_data"
    },
    {
     "name": "stdout",
     "output_type": "stream",
     "text": [
      "DataFrame[artist: string, auth: string, firstName: string, gender: string, itemInSession: bigint, lastName: string, length: double, level: string, location: string, method: string, page: string, registration: bigint, sessionId: bigint, song: string, status: bigint, ts: bigint, userAgent: string, userId: string]"
     ]
    }
   ],
   "source": [
    "result_df"
   ]
  },
  {
   "cell_type": "code",
   "execution_count": 14,
   "id": "911b1175-bc97-4135-9588-b85ed8470a7e",
   "metadata": {
    "execution": {
     "iopub.execute_input": "2024-02-26T20:25:17.252082Z",
     "iopub.status.busy": "2024-02-26T20:25:17.251828Z",
     "iopub.status.idle": "2024-02-26T20:25:17.505188Z",
     "shell.execute_reply": "2024-02-26T20:25:17.504465Z",
     "shell.execute_reply.started": "2024-02-26T20:25:17.252047Z"
    }
   },
   "outputs": [
    {
     "data": {
      "application/vnd.jupyter.widget-view+json": {
       "model_id": "3363e130013b45df86938992119dd366",
       "version_major": 2,
       "version_minor": 0
      },
      "text/plain": [
       "VBox()"
      ]
     },
     "metadata": {},
     "output_type": "display_data"
    },
    {
     "data": {
      "application/vnd.jupyter.widget-view+json": {
       "model_id": "",
       "version_major": 2,
       "version_minor": 0
      },
      "text/plain": [
       "FloatProgress(value=0.0, bar_style='info', description='Progress:', layout=Layout(height='25px', width='50%'),…"
      ]
     },
     "metadata": {},
     "output_type": "display_data"
    },
    {
     "name": "stdout",
     "output_type": "stream",
     "text": [
      "Dropping unnecessary columns..."
     ]
    }
   ],
   "source": [
    "#feature drop\n",
    "print('Dropping unnecessary columns...')\n",
    "cols = ('firstname','lastname','method','auth','level','sessionId','status','userAgent')\n",
    "df = df.drop(*cols)"
   ]
  },
  {
   "cell_type": "code",
   "execution_count": 15,
   "id": "aaf12518-e292-44ee-8d2a-d4f471488def",
   "metadata": {
    "execution": {
     "iopub.execute_input": "2024-02-26T20:25:17.506666Z",
     "iopub.status.busy": "2024-02-26T20:25:17.506418Z",
     "iopub.status.idle": "2024-02-26T20:25:17.556537Z",
     "shell.execute_reply": "2024-02-26T20:25:17.555785Z",
     "shell.execute_reply.started": "2024-02-26T20:25:17.506630Z"
    }
   },
   "outputs": [
    {
     "data": {
      "application/vnd.jupyter.widget-view+json": {
       "model_id": "20fbd7d367dc46ccab93681a1e513bdf",
       "version_major": 2,
       "version_minor": 0
      },
      "text/plain": [
       "VBox()"
      ]
     },
     "metadata": {},
     "output_type": "display_data"
    },
    {
     "data": {
      "application/vnd.jupyter.widget-view+json": {
       "model_id": "",
       "version_major": 2,
       "version_minor": 0
      },
      "text/plain": [
       "FloatProgress(value=0.0, bar_style='info', description='Progress:', layout=Layout(height='25px', width='50%'),…"
      ]
     },
     "metadata": {},
     "output_type": "display_data"
    },
    {
     "name": "stdout",
     "output_type": "stream",
     "text": [
      "This is the new schema after dropping the columns\n",
      "root\n",
      " |-- artist: string (nullable = true)\n",
      " |-- gender: string (nullable = true)\n",
      " |-- itemInSession: long (nullable = true)\n",
      " |-- length: double (nullable = true)\n",
      " |-- location: string (nullable = true)\n",
      " |-- page: string (nullable = true)\n",
      " |-- registration: long (nullable = true)\n",
      " |-- song: string (nullable = true)\n",
      " |-- ts: long (nullable = true)\n",
      " |-- userId: string (nullable = true)\n",
      "\n",
      "None"
     ]
    }
   ],
   "source": [
    "print('This is the new schema after dropping the columns')\n",
    "print(df.printSchema())"
   ]
  },
  {
   "cell_type": "code",
   "execution_count": 16,
   "id": "2dd2245d-96aa-4ada-b241-c4be06c0016a",
   "metadata": {
    "execution": {
     "iopub.execute_input": "2024-02-26T20:25:17.557571Z",
     "iopub.status.busy": "2024-02-26T20:25:17.557409Z",
     "iopub.status.idle": "2024-02-26T20:25:17.813398Z",
     "shell.execute_reply": "2024-02-26T20:25:17.812675Z",
     "shell.execute_reply.started": "2024-02-26T20:25:17.557550Z"
    }
   },
   "outputs": [
    {
     "data": {
      "application/vnd.jupyter.widget-view+json": {
       "model_id": "3570757ae27f4dc9b079a4cbb857eb54",
       "version_major": 2,
       "version_minor": 0
      },
      "text/plain": [
       "VBox()"
      ]
     },
     "metadata": {},
     "output_type": "display_data"
    },
    {
     "data": {
      "application/vnd.jupyter.widget-view+json": {
       "model_id": "",
       "version_major": 2,
       "version_minor": 0
      },
      "text/plain": [
       "FloatProgress(value=0.0, bar_style='info', description='Progress:', layout=Layout(height='25px', width='50%'),…"
      ]
     },
     "metadata": {},
     "output_type": "display_data"
    },
    {
     "name": "stdout",
     "output_type": "stream",
     "text": [
      "Reformating dates and location data..."
     ]
    }
   ],
   "source": [
    "print('Reformating dates and location data...')\n",
    "    #change format dates\n",
    "cols = (\"ts\",\"registration\",\"ts_ts\",\"registration_ts\")\n",
    "    \n",
    "df = df.withColumn('ts_ts', (col('ts') / 1000.0).cast(TimestampType())) \\\n",
    "    .withColumn('ts_todate', to_date('ts_ts')) \\\n",
    "    .withColumn('registration_ts', (col('registration') / 1000.0).cast(TimestampType())) \\\n",
    "    .withColumn('registration_todate', to_date('registration_ts')) \\\n",
    "    .drop(*cols)\n",
    "\n",
    "df = df.withColumn('month', month('ts_todate'))\n",
    "\n"
   ]
  },
  {
   "cell_type": "code",
   "execution_count": 17,
   "id": "8484494d-2bc6-4970-82d1-223bafaba318",
   "metadata": {
    "execution": {
     "iopub.execute_input": "2024-02-26T20:25:17.814606Z",
     "iopub.status.busy": "2024-02-26T20:25:17.814434Z",
     "iopub.status.idle": "2024-02-26T20:25:18.575174Z",
     "shell.execute_reply": "2024-02-26T20:25:18.574508Z",
     "shell.execute_reply.started": "2024-02-26T20:25:17.814582Z"
    }
   },
   "outputs": [
    {
     "data": {
      "application/vnd.jupyter.widget-view+json": {
       "model_id": "14b59dbfecef42629f3fd257178dcbc3",
       "version_major": 2,
       "version_minor": 0
      },
      "text/plain": [
       "VBox()"
      ]
     },
     "metadata": {},
     "output_type": "display_data"
    },
    {
     "data": {
      "application/vnd.jupyter.widget-view+json": {
       "model_id": "",
       "version_major": 2,
       "version_minor": 0
      },
      "text/plain": [
       "FloatProgress(value=0.0, bar_style='info', description='Progress:', layout=Layout(height='25px', width='50%'),…"
      ]
     },
     "metadata": {},
     "output_type": "display_data"
    },
    {
     "name": "stdout",
     "output_type": "stream",
     "text": [
      "[Row(artist='Popol Vuh', gender='M', itemInSession=278, length=524.32934, location='Dallas-Fort Worth-Arlington, TX', page='NextSong', song='Ich mache einen Spiegel - Dream Part 4', userId='1749042', ts_todate=datetime.date(2018, 10, 1), registration_todate=datetime.date(2018, 8, 8), month=10)]"
     ]
    }
   ],
   "source": [
    "df.take(1)"
   ]
  },
  {
   "cell_type": "code",
   "execution_count": 18,
   "id": "bda8d978-2978-47ba-94f8-3656884cb044",
   "metadata": {
    "execution": {
     "iopub.execute_input": "2024-02-26T20:25:18.576278Z",
     "iopub.status.busy": "2024-02-26T20:25:18.576109Z",
     "iopub.status.idle": "2024-02-26T20:26:10.039359Z",
     "shell.execute_reply": "2024-02-26T20:26:10.038493Z",
     "shell.execute_reply.started": "2024-02-26T20:25:18.576255Z"
    }
   },
   "outputs": [
    {
     "data": {
      "application/vnd.jupyter.widget-view+json": {
       "model_id": "d80eb0e10a8240c99631a26bbd0c2acb",
       "version_major": 2,
       "version_minor": 0
      },
      "text/plain": [
       "VBox()"
      ]
     },
     "metadata": {},
     "output_type": "display_data"
    },
    {
     "data": {
      "application/vnd.jupyter.widget-view+json": {
       "model_id": "",
       "version_major": 2,
       "version_minor": 0
      },
      "text/plain": [
       "FloatProgress(value=0.0, bar_style='info', description='Progress:', layout=Layout(height='25px', width='50%'),…"
      ]
     },
     "metadata": {},
     "output_type": "display_data"
    },
    {
     "name": "stdout",
     "output_type": "stream",
     "text": [
      "Creating churn labels based on Cancellation confirmation for each user..."
     ]
    }
   ],
   "source": [
    "#prepare location data\n",
    "split_col_location = pyspark.sql.functions.split(df['location'], ', ')\n",
    "df = df.withColumn('state', split_col_location.getItem(1))\\\n",
    "\n",
    "split_col_state = pyspark.sql.functions.split(df['state'], '-')\n",
    "df = df.withColumn('state1', split_col_state.getItem(0))\n",
    "print('Creating churn labels based on Cancellation confirmation for each user...')\n",
    "df = create_churn_label(df)\n",
    "\n",
    "\n"
   ]
  },
  {
   "cell_type": "code",
   "execution_count": 19,
   "id": "db94b919-d4e0-4bcb-89d1-bb74338ea13b",
   "metadata": {
    "execution": {
     "iopub.execute_input": "2024-02-26T20:26:10.040841Z",
     "iopub.status.busy": "2024-02-26T20:26:10.040596Z",
     "iopub.status.idle": "2024-02-26T20:26:39.417246Z",
     "shell.execute_reply": "2024-02-26T20:26:39.416627Z",
     "shell.execute_reply.started": "2024-02-26T20:26:10.040805Z"
    },
    "tags": []
   },
   "outputs": [
    {
     "data": {
      "application/vnd.jupyter.widget-view+json": {
       "model_id": "4530354f2fcc4b51a8773efbb07579ba",
       "version_major": 2,
       "version_minor": 0
      },
      "text/plain": [
       "VBox()"
      ]
     },
     "metadata": {},
     "output_type": "display_data"
    },
    {
     "data": {
      "application/vnd.jupyter.widget-view+json": {
       "model_id": "",
       "version_major": 2,
       "version_minor": 0
      },
      "text/plain": [
       "FloatProgress(value=0.0, bar_style='info', description='Progress:', layout=Layout(height='25px', width='50%'),…"
      ]
     },
     "metadata": {},
     "output_type": "display_data"
    },
    {
     "name": "stdout",
     "output_type": "stream",
     "text": [
      "Creating new features ..."
     ]
    }
   ],
   "source": [
    "#create new features\n",
    "print('Creating new features ...')\n",
    "\n",
    "user_df = create_features(df)"
   ]
  },
  {
   "cell_type": "code",
   "execution_count": 20,
   "id": "f72e0a62-304b-4920-b47d-5210b77f0372",
   "metadata": {
    "execution": {
     "iopub.execute_input": "2024-02-26T20:26:39.419863Z",
     "iopub.status.busy": "2024-02-26T20:26:39.419700Z",
     "iopub.status.idle": "2024-02-26T20:26:39.464931Z",
     "shell.execute_reply": "2024-02-26T20:26:39.464196Z",
     "shell.execute_reply.started": "2024-02-26T20:26:39.419841Z"
    },
    "tags": []
   },
   "outputs": [
    {
     "data": {
      "application/vnd.jupyter.widget-view+json": {
       "model_id": "6ba2cfc4bb9f4bb2a1cd38558993a3a2",
       "version_major": 2,
       "version_minor": 0
      },
      "text/plain": [
       "VBox()"
      ]
     },
     "metadata": {},
     "output_type": "display_data"
    },
    {
     "data": {
      "application/vnd.jupyter.widget-view+json": {
       "model_id": "",
       "version_major": 2,
       "version_minor": 0
      },
      "text/plain": [
       "FloatProgress(value=0.0, bar_style='info', description='Progress:', layout=Layout(height='25px', width='50%'),…"
      ]
     },
     "metadata": {},
     "output_type": "display_data"
    },
    {
     "name": "stdout",
     "output_type": "stream",
     "text": [
      "root\n",
      " |-- userId: string (nullable = true)\n",
      " |-- gender: string (nullable = true)\n",
      " |-- unique_artist_count: long (nullable = false)\n",
      " |-- state: string (nullable = true)\n",
      " |-- total_session_length: double (nullable = true)\n",
      " |-- avg_session_length: double (nullable = true)\n",
      " |-- churn_label: integer (nullable = true)\n",
      " |-- unique_song_count: long (nullable = false)\n",
      " |-- total_items: long (nullable = true)\n",
      " |-- avg_items: double (nullable = true)\n",
      " |-- avg_session_length_per_month: double (nullable = true)\n",
      " |-- avg_items_per_month: double (nullable = true)\n",
      " |-- avg_count_session_per_month: double (nullable = true)\n",
      " |-- avg_session_length_per_day: double (nullable = true)\n",
      " |-- avg_items_per_day: double (nullable = true)\n",
      " |-- avg_count_session_per_day: double (nullable = true)\n",
      " |-- About: long (nullable = true)\n",
      " |-- Add Friend: long (nullable = true)\n",
      " |-- Add to Playlist: long (nullable = true)\n",
      " |-- Cancel: long (nullable = true)\n",
      " |-- Cancellation Confirmation: long (nullable = true)\n",
      " |-- Downgrade: long (nullable = true)\n",
      " |-- Error: long (nullable = true)\n",
      " |-- Help: long (nullable = true)\n",
      " |-- Home: long (nullable = true)\n",
      " |-- Login: long (nullable = true)\n",
      " |-- Logout: long (nullable = true)\n",
      " |-- NextSong: long (nullable = true)\n",
      " |-- Register: long (nullable = true)\n",
      " |-- Roll Advert: long (nullable = true)\n",
      " |-- Save Settings: long (nullable = true)\n",
      " |-- Settings: long (nullable = true)\n",
      " |-- Submit Downgrade: long (nullable = true)\n",
      " |-- Submit Registration: long (nullable = true)\n",
      " |-- Submit Upgrade: long (nullable = true)\n",
      " |-- Thumbs Down: long (nullable = true)\n",
      " |-- Thumbs Up: long (nullable = true)\n",
      " |-- Upgrade: long (nullable = true)\n",
      "\n",
      "None"
     ]
    }
   ],
   "source": [
    "print(user_df.printSchema())"
   ]
  },
  {
   "cell_type": "code",
   "execution_count": 21,
   "id": "5315f1de-9f2d-4ad9-98e3-7b7b86d9bf7b",
   "metadata": {
    "execution": {
     "iopub.execute_input": "2024-02-26T20:26:39.466203Z",
     "iopub.status.busy": "2024-02-26T20:26:39.466038Z",
     "iopub.status.idle": "2024-02-26T20:27:08.837736Z",
     "shell.execute_reply": "2024-02-26T20:27:08.837021Z",
     "shell.execute_reply.started": "2024-02-26T20:26:39.466180Z"
    }
   },
   "outputs": [
    {
     "data": {
      "application/vnd.jupyter.widget-view+json": {
       "model_id": "8144c8f8b57c49f09659eb8e1b8266e0",
       "version_major": 2,
       "version_minor": 0
      },
      "text/plain": [
       "VBox()"
      ]
     },
     "metadata": {},
     "output_type": "display_data"
    },
    {
     "data": {
      "application/vnd.jupyter.widget-view+json": {
       "model_id": "",
       "version_major": 2,
       "version_minor": 0
      },
      "text/plain": [
       "FloatProgress(value=0.0, bar_style='info', description='Progress:', layout=Layout(height='25px', width='50%'),…"
      ]
     },
     "metadata": {},
     "output_type": "display_data"
    },
    {
     "name": "stdout",
     "output_type": "stream",
     "text": [
      "22278"
     ]
    }
   ],
   "source": [
    "user_df.count()"
   ]
  },
  {
   "cell_type": "markdown",
   "id": "af074e73-3f59-4d67-9807-5062f1c58803",
   "metadata": {},
   "source": [
    "The dataset to use for model training based on the former 12GB dataset has 22,278 rows, which reflects the number of users in the dataset."
   ]
  },
  {
   "cell_type": "markdown",
   "id": "8887c4ef-7c03-4cc0-8012-814bb064c7a4",
   "metadata": {},
   "source": [
    "This dataset is written and saved into an S3 bucket to be used for the next steps of the analysis."
   ]
  },
  {
   "cell_type": "code",
   "execution_count": 22,
   "id": "6423603f-e8ec-40a5-93cf-85c814d53c87",
   "metadata": {
    "execution": {
     "iopub.execute_input": "2024-02-26T20:27:08.838861Z",
     "iopub.status.busy": "2024-02-26T20:27:08.838681Z",
     "iopub.status.idle": "2024-02-26T20:30:50.851608Z",
     "shell.execute_reply": "2024-02-26T20:30:50.850922Z",
     "shell.execute_reply.started": "2024-02-26T20:27:08.838836Z"
    },
    "tags": []
   },
   "outputs": [
    {
     "data": {
      "application/vnd.jupyter.widget-view+json": {
       "model_id": "5472ee0805a34569bfa1e8c4a81ce804",
       "version_major": 2,
       "version_minor": 0
      },
      "text/plain": [
       "VBox()"
      ]
     },
     "metadata": {},
     "output_type": "display_data"
    },
    {
     "data": {
      "application/vnd.jupyter.widget-view+json": {
       "model_id": "",
       "version_major": 2,
       "version_minor": 0
      },
      "text/plain": [
       "FloatProgress(value=0.0, bar_style='info', description='Progress:', layout=Layout(height='25px', width='50%'),…"
      ]
     },
     "metadata": {},
     "output_type": "display_data"
    }
   ],
   "source": [
    "user_df.write.json(path = \"s3://sparkifylargedataset/user_data_12GB.json\", mode='overwrite')"
   ]
  },
  {
   "cell_type": "code",
   "execution_count": null,
   "id": "9333055e-4a98-4bee-8a34-d36d173906b3",
   "metadata": {},
   "outputs": [],
   "source": []
  },
  {
   "cell_type": "code",
   "execution_count": 28,
   "id": "e582cac1-1615-4079-a823-94a67ae9f31f",
   "metadata": {
    "execution": {
     "iopub.execute_input": "2024-02-26T20:36:16.472558Z",
     "iopub.status.busy": "2024-02-26T20:36:16.472337Z",
     "iopub.status.idle": "2024-02-26T20:36:16.517836Z",
     "shell.execute_reply": "2024-02-26T20:36:16.517265Z",
     "shell.execute_reply.started": "2024-02-26T20:36:16.472532Z"
    },
    "tags": []
   },
   "outputs": [
    {
     "data": {
      "application/vnd.jupyter.widget-view+json": {
       "model_id": "7d842d64f3854989a5d49bc5baee9002",
       "version_major": 2,
       "version_minor": 0
      },
      "text/plain": [
       "VBox()"
      ]
     },
     "metadata": {},
     "output_type": "display_data"
    },
    {
     "data": {
      "application/vnd.jupyter.widget-view+json": {
       "model_id": "",
       "version_major": 2,
       "version_minor": 0
      },
      "text/plain": [
       "FloatProgress(value=0.0, bar_style='info', description='Progress:', layout=Layout(height='25px', width='50%'),…"
      ]
     },
     "metadata": {},
     "output_type": "display_data"
    }
   ],
   "source": [
    "spark.stop()"
   ]
  },
  {
   "cell_type": "code",
   "execution_count": null,
   "id": "20d18a08-a4a3-41f3-af33-51d4bb127e36",
   "metadata": {},
   "outputs": [],
   "source": []
  }
 ],
 "metadata": {
  "kernelspec": {
   "display_name": "PySpark",
   "language": "python",
   "name": "pysparkkernel"
  },
  "language_info": {
   "codemirror_mode": {
    "name": "python",
    "version": 3
   },
   "file_extension": ".py",
   "mimetype": "text/x-python",
   "name": "pyspark",
   "pygments_lexer": "python3"
  }
 },
 "nbformat": 4,
 "nbformat_minor": 5
}
