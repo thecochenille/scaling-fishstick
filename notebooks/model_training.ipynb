{
 "cells": [
  {
   "cell_type": "code",
   "execution_count": 1,
   "metadata": {
    "execution": {
     "iopub.execute_input": "2024-02-23T17:42:59.521872Z",
     "iopub.status.busy": "2024-02-23T17:42:59.521664Z",
     "iopub.status.idle": "2024-02-23T17:43:58.741796Z",
     "shell.execute_reply": "2024-02-23T17:43:58.741204Z",
     "shell.execute_reply.started": "2024-02-23T17:42:59.521847Z"
    },
    "tags": []
   },
   "outputs": [
    {
     "data": {
      "application/vnd.jupyter.widget-view+json": {
       "model_id": "5bfe5e7419ca46409c6d945d1efa7109",
       "version_major": 2,
       "version_minor": 0
      },
      "text/plain": [
       "VBox()"
      ]
     },
     "metadata": {},
     "output_type": "display_data"
    },
    {
     "name": "stdout",
     "output_type": "stream",
     "text": [
      "Starting Spark application\n"
     ]
    },
    {
     "data": {
      "text/html": [
       "<table>\n<tbody><tr><th>ID</th><th>YARN Application ID</th><th>Kind</th><th>State</th><th>Spark UI</th><th>Driver log</th><th>User</th><th>Current session?</th></tr><tr><td>0</td><td>application_1708709776573_0001</td><td>pyspark</td><td>idle</td><td><a target=\"_blank\" href=\"http://ip-172-31-2-140.us-east-2.compute.internal:20888/proxy/application_1708709776573_0001/\" class=\"emr-proxy-link j-3NXFCVZQ0JHAG application_1708709776573_0001\" emr-resource=\"j-3NXFCVZQ0JHAG\n\" application-id=\"application_1708709776573_0001\">Link</a></td><td><a target=\"_blank\" href=\"http://ip-172-31-1-160.us-east-2.compute.internal:8042/node/containerlogs/container_1708709776573_0001_01_000001/livy\">Link</a></td><td>None</td><td>✔</td></tr></tbody></table>"
      ],
      "text/plain": [
       "<IPython.core.display.HTML object>"
      ]
     },
     "metadata": {},
     "output_type": "display_data"
    },
    {
     "data": {
      "application/vnd.jupyter.widget-view+json": {
       "model_id": "",
       "version_major": 2,
       "version_minor": 0
      },
      "text/plain": [
       "FloatProgress(value=0.0, bar_style='info', description='Progress:', layout=Layout(height='25px', width='50%'),…"
      ]
     },
     "metadata": {},
     "output_type": "display_data"
    },
    {
     "name": "stdout",
     "output_type": "stream",
     "text": [
      "SparkSession available as 'spark'.\n"
     ]
    },
    {
     "data": {
      "application/vnd.jupyter.widget-view+json": {
       "model_id": "",
       "version_major": 2,
       "version_minor": 0
      },
      "text/plain": [
       "FloatProgress(value=0.0, bar_style='info', description='Progress:', layout=Layout(height='25px', width='50%'),…"
      ]
     },
     "metadata": {},
     "output_type": "display_data"
    }
   ],
   "source": [
    "#sparkify"
   ]
  },
  {
   "cell_type": "code",
   "execution_count": 2,
   "metadata": {
    "execution": {
     "iopub.execute_input": "2024-02-23T17:43:58.743271Z",
     "iopub.status.busy": "2024-02-23T17:43:58.742947Z",
     "iopub.status.idle": "2024-02-23T17:43:59.529414Z",
     "shell.execute_reply": "2024-02-23T17:43:59.528785Z",
     "shell.execute_reply.started": "2024-02-23T17:43:58.743234Z"
    },
    "tags": []
   },
   "outputs": [
    {
     "data": {
      "application/vnd.jupyter.widget-view+json": {
       "model_id": "7fd0e5122c554d0596756b1a6432fd9d",
       "version_major": 2,
       "version_minor": 0
      },
      "text/plain": [
       "VBox()"
      ]
     },
     "metadata": {},
     "output_type": "display_data"
    },
    {
     "data": {
      "application/vnd.jupyter.widget-view+json": {
       "model_id": "",
       "version_major": 2,
       "version_minor": 0
      },
      "text/plain": [
       "FloatProgress(value=0.0, bar_style='info', description='Progress:', layout=Layout(height='25px', width='50%'),…"
      ]
     },
     "metadata": {},
     "output_type": "display_data"
    }
   ],
   "source": [
    "# loading libraries\n",
    "import pyspark\n",
    "from pyspark import SparkConf\n",
    "from pyspark import SparkFiles\n",
    "\n",
    "from pyspark.sql import SparkSession\n",
    "\n",
    "from pyspark.sql.types import StringType\n",
    "from pyspark.sql.types import IntegerType\n",
    "from pyspark.sql.types import TimestampType\n",
    "\n",
    "from pyspark.sql.functions import isnan, count, when, col, desc, udf, col, sort_array, asc, desc, countDistinct, first\n",
    "from pyspark.sql.functions import udf, trim, expr\n",
    "from pyspark.sql.functions import to_date, year, month, dayofmonth, dayofweek, hour, date_format, substring, datediff\n",
    "from pyspark.sql.functions import sum as spark_sum, avg as spark_avg\n",
    "\n",
    "from pyspark.ml.feature import StringIndexer, OneHotEncoder, VectorAssembler, MinMaxScaler, StandardScaler\n",
    "from pyspark.ml import Pipeline\n",
    "\n",
    "from pyspark.ml.classification import LogisticRegression, RandomForestClassifier, GBTClassifier\n",
    "\n",
    "from pyspark.ml.evaluation import BinaryClassificationEvaluator, MulticlassClassificationEvaluator\n",
    "\n",
    "from pyspark.ml.tuning import CrossValidator, ParamGridBuilder, CrossValidatorModel"
   ]
  },
  {
   "cell_type": "markdown",
   "metadata": {
    "tags": []
   },
   "source": [
    "## Starting application"
   ]
  },
  {
   "cell_type": "code",
   "execution_count": 3,
   "metadata": {
    "execution": {
     "iopub.execute_input": "2024-02-23T17:43:59.530552Z",
     "iopub.status.busy": "2024-02-23T17:43:59.530366Z",
     "iopub.status.idle": "2024-02-23T17:43:59.593003Z",
     "shell.execute_reply": "2024-02-23T17:43:59.592251Z",
     "shell.execute_reply.started": "2024-02-23T17:43:59.530529Z"
    },
    "tags": []
   },
   "outputs": [
    {
     "data": {
      "application/vnd.jupyter.widget-view+json": {
       "model_id": "52122c2937c34b1796f19409174b8230",
       "version_major": 2,
       "version_minor": 0
      },
      "text/plain": [
       "VBox()"
      ]
     },
     "metadata": {},
     "output_type": "display_data"
    },
    {
     "data": {
      "application/vnd.jupyter.widget-view+json": {
       "model_id": "",
       "version_major": 2,
       "version_minor": 0
      },
      "text/plain": [
       "FloatProgress(value=0.0, bar_style='info', description='Progress:', layout=Layout(height='25px', width='50%'),…"
      ]
     },
     "metadata": {},
     "output_type": "display_data"
    }
   ],
   "source": [
    "spark = SparkSession \\\n",
    "    .builder \\\n",
    "    .appName(\"Training models\") \\\n",
    "    .getOrCreate()"
   ]
  },
  {
   "cell_type": "code",
   "execution_count": 4,
   "metadata": {
    "execution": {
     "iopub.execute_input": "2024-02-23T17:43:59.594102Z",
     "iopub.status.busy": "2024-02-23T17:43:59.593933Z",
     "iopub.status.idle": "2024-02-23T17:43:59.648918Z",
     "shell.execute_reply": "2024-02-23T17:43:59.648183Z",
     "shell.execute_reply.started": "2024-02-23T17:43:59.594079Z"
    },
    "tags": []
   },
   "outputs": [
    {
     "data": {
      "application/vnd.jupyter.widget-view+json": {
       "model_id": "1ffbbd8716624af886dfeae85e396185",
       "version_major": 2,
       "version_minor": 0
      },
      "text/plain": [
       "VBox()"
      ]
     },
     "metadata": {},
     "output_type": "display_data"
    },
    {
     "data": {
      "application/vnd.jupyter.widget-view+json": {
       "model_id": "",
       "version_major": 2,
       "version_minor": 0
      },
      "text/plain": [
       "FloatProgress(value=0.0, bar_style='info', description='Progress:', layout=Layout(height='25px', width='50%'),…"
      ]
     },
     "metadata": {},
     "output_type": "display_data"
    },
    {
     "name": "stdout",
     "output_type": "stream",
     "text": [
      "<pyspark.sql.session.SparkSession object at 0x7f9c3cab58b0>"
     ]
    }
   ],
   "source": [
    "spark"
   ]
  },
  {
   "cell_type": "code",
   "execution_count": 5,
   "metadata": {
    "execution": {
     "iopub.execute_input": "2024-02-23T17:43:59.649996Z",
     "iopub.status.busy": "2024-02-23T17:43:59.649834Z",
     "iopub.status.idle": "2024-02-23T17:44:08.977308Z",
     "shell.execute_reply": "2024-02-23T17:44:08.976632Z",
     "shell.execute_reply.started": "2024-02-23T17:43:59.649974Z"
    },
    "tags": []
   },
   "outputs": [
    {
     "data": {
      "application/vnd.jupyter.widget-view+json": {
       "model_id": "fb244ed569294c0282517d2ddae4e4aa",
       "version_major": 2,
       "version_minor": 0
      },
      "text/plain": [
       "VBox()"
      ]
     },
     "metadata": {},
     "output_type": "display_data"
    },
    {
     "data": {
      "application/vnd.jupyter.widget-view+json": {
       "model_id": "",
       "version_major": 2,
       "version_minor": 0
      },
      "text/plain": [
       "FloatProgress(value=0.0, bar_style='info', description='Progress:', layout=Layout(height='25px', width='50%'),…"
      ]
     },
     "metadata": {},
     "output_type": "display_data"
    }
   ],
   "source": [
    "path = \"s3://sparkifylargedataset/user_data_12GB.json\"  #prepared dataset to use for training\n",
    "df = spark.read.json(path)"
   ]
  },
  {
   "cell_type": "code",
   "execution_count": 6,
   "metadata": {
    "execution": {
     "iopub.execute_input": "2024-02-23T17:44:08.981117Z",
     "iopub.status.busy": "2024-02-23T17:44:08.980707Z",
     "iopub.status.idle": "2024-02-23T17:44:09.748845Z",
     "shell.execute_reply": "2024-02-23T17:44:09.748087Z",
     "shell.execute_reply.started": "2024-02-23T17:44:08.981076Z"
    },
    "tags": []
   },
   "outputs": [
    {
     "data": {
      "application/vnd.jupyter.widget-view+json": {
       "model_id": "99a44e0b96bd49a196064cf4c697a0f5",
       "version_major": 2,
       "version_minor": 0
      },
      "text/plain": [
       "VBox()"
      ]
     },
     "metadata": {},
     "output_type": "display_data"
    },
    {
     "data": {
      "application/vnd.jupyter.widget-view+json": {
       "model_id": "",
       "version_major": 2,
       "version_minor": 0
      },
      "text/plain": [
       "FloatProgress(value=0.0, bar_style='info', description='Progress:', layout=Layout(height='25px', width='50%'),…"
      ]
     },
     "metadata": {},
     "output_type": "display_data"
    },
    {
     "name": "stdout",
     "output_type": "stream",
     "text": [
      "[Row(About=1, Add Friend=5, Add to Playlist=4, Cancel=0, Cancellation Confirmation=0, Downgrade=0, Error=0, Help=5, Home=21, Login=0, Logout=11, NextSong=225, Register=0, Roll Advert=17, Save Settings=2, Settings=7, Submit Downgrade=0, Submit Registration=0, Submit Upgrade=0, Thumbs Down=1, Thumbs Up=4, Upgrade=1, avg_count_session_per_day=33.77777777777778, avg_count_session_per_month=152.0, avg_items=32.411184210526315, avg_items_per_day=1094.7777777777778, avg_items_per_month=4926.5, avg_session_length=242.7014788444445, avg_session_length_per_day=6067.536971111112, avg_session_length_per_month=27303.916370000006, churn_label=0, gender='M', state='NY', total_items=9853, total_session_length=54607.83274000001, unique_artist_count=203, unique_song_count=217, userId='1001862'), Row(About=0, Add Friend=2, Add to Playlist=2, Cancel=0, Cancellation Confirmation=0, Downgrade=0, Error=0, Help=2, Home=10, Login=0, Logout=3, NextSong=111, Register=0, Roll Advert=6, Save Settings=0, Settings=0, Submit Downgrade=0, Submit Registration=0, Submit Upgrade=0, Thumbs Down=0, Thumbs Up=11, Upgrade=1, avg_count_session_per_day=24.666666666666668, avg_count_session_per_month=74.0, avg_items=23.0, avg_items_per_day=567.3333333333334, avg_items_per_month=1702.0, avg_session_length=255.45356342342345, avg_session_length_per_day=4725.890923333333, avg_session_length_per_month=14177.672770000001, churn_label=0, gender='F', state='GA', total_items=3404, total_session_length=28355.345540000002, unique_artist_count=107, unique_song_count=111, userId='1002324')]"
     ]
    }
   ],
   "source": [
    "df.take(2)"
   ]
  },
  {
   "cell_type": "code",
   "execution_count": 7,
   "metadata": {
    "execution": {
     "iopub.execute_input": "2024-02-23T17:44:09.750397Z",
     "iopub.status.busy": "2024-02-23T17:44:09.750228Z",
     "iopub.status.idle": "2024-02-23T17:44:10.521788Z",
     "shell.execute_reply": "2024-02-23T17:44:10.520980Z",
     "shell.execute_reply.started": "2024-02-23T17:44:09.750375Z"
    },
    "tags": []
   },
   "outputs": [
    {
     "data": {
      "application/vnd.jupyter.widget-view+json": {
       "model_id": "9bc3736f9018490bb0976329e5a5f260",
       "version_major": 2,
       "version_minor": 0
      },
      "text/plain": [
       "VBox()"
      ]
     },
     "metadata": {},
     "output_type": "display_data"
    },
    {
     "data": {
      "application/vnd.jupyter.widget-view+json": {
       "model_id": "",
       "version_major": 2,
       "version_minor": 0
      },
      "text/plain": [
       "FloatProgress(value=0.0, bar_style='info', description='Progress:', layout=Layout(height='25px', width='50%'),…"
      ]
     },
     "metadata": {},
     "output_type": "display_data"
    }
   ],
   "source": [
    "for column_name in df.columns:  #replaces space in column names into _\n",
    "    new_column_name = column_name.replace(\" \", \"_\")\n",
    "    df = df.withColumnRenamed(column_name, new_column_name)"
   ]
  },
  {
   "cell_type": "code",
   "execution_count": 8,
   "metadata": {
    "execution": {
     "iopub.execute_input": "2024-02-23T17:44:10.522958Z",
     "iopub.status.busy": "2024-02-23T17:44:10.522781Z",
     "iopub.status.idle": "2024-02-23T17:44:12.823925Z",
     "shell.execute_reply": "2024-02-23T17:44:12.823289Z",
     "shell.execute_reply.started": "2024-02-23T17:44:10.522935Z"
    },
    "tags": []
   },
   "outputs": [
    {
     "data": {
      "application/vnd.jupyter.widget-view+json": {
       "model_id": "5910088b0e5a42d6b25ba7cc8ae5da3d",
       "version_major": 2,
       "version_minor": 0
      },
      "text/plain": [
       "VBox()"
      ]
     },
     "metadata": {},
     "output_type": "display_data"
    },
    {
     "data": {
      "application/vnd.jupyter.widget-view+json": {
       "model_id": "",
       "version_major": 2,
       "version_minor": 0
      },
      "text/plain": [
       "FloatProgress(value=0.0, bar_style='info', description='Progress:', layout=Layout(height='25px', width='50%'),…"
      ]
     },
     "metadata": {},
     "output_type": "display_data"
    }
   ],
   "source": [
    "row = df.count()  # extracting number of rows\n",
    "col = len(df.columns)  # extracting number of columns"
   ]
  },
  {
   "cell_type": "code",
   "execution_count": 9,
   "metadata": {
    "execution": {
     "iopub.execute_input": "2024-02-23T17:44:12.825057Z",
     "iopub.status.busy": "2024-02-23T17:44:12.824885Z",
     "iopub.status.idle": "2024-02-23T17:44:13.051534Z",
     "shell.execute_reply": "2024-02-23T17:44:13.041340Z",
     "shell.execute_reply.started": "2024-02-23T17:44:12.825033Z"
    },
    "tags": []
   },
   "outputs": [
    {
     "data": {
      "application/vnd.jupyter.widget-view+json": {
       "model_id": "fbb45dd650794fee9acca5103ab8f3af",
       "version_major": 2,
       "version_minor": 0
      },
      "text/plain": [
       "VBox()"
      ]
     },
     "metadata": {},
     "output_type": "display_data"
    },
    {
     "data": {
      "application/vnd.jupyter.widget-view+json": {
       "model_id": "",
       "version_major": 2,
       "version_minor": 0
      },
      "text/plain": [
       "FloatProgress(value=0.0, bar_style='info', description='Progress:', layout=Layout(height='25px', width='50%'),…"
      ]
     },
     "metadata": {},
     "output_type": "display_data"
    },
    {
     "name": "stdout",
     "output_type": "stream",
     "text": [
      "Dimension of the Dataframe is: (22278, 38)\n",
      "Number of Rows are: 22278\n",
      "Number of Columns are: 38\n",
      "root\n",
      " |-- About: long (nullable = true)\n",
      " |-- Add_Friend: long (nullable = true)\n",
      " |-- Add_to_Playlist: long (nullable = true)\n",
      " |-- Cancel: long (nullable = true)\n",
      " |-- Cancellation_Confirmation: long (nullable = true)\n",
      " |-- Downgrade: long (nullable = true)\n",
      " |-- Error: long (nullable = true)\n",
      " |-- Help: long (nullable = true)\n",
      " |-- Home: long (nullable = true)\n",
      " |-- Login: long (nullable = true)\n",
      " |-- Logout: long (nullable = true)\n",
      " |-- NextSong: long (nullable = true)\n",
      " |-- Register: long (nullable = true)\n",
      " |-- Roll_Advert: long (nullable = true)\n",
      " |-- Save_Settings: long (nullable = true)\n",
      " |-- Settings: long (nullable = true)\n",
      " |-- Submit_Downgrade: long (nullable = true)\n",
      " |-- Submit_Registration: long (nullable = true)\n",
      " |-- Submit_Upgrade: long (nullable = true)\n",
      " |-- Thumbs_Down: long (nullable = true)\n",
      " |-- Thumbs_Up: long (nullable = true)\n",
      " |-- Upgrade: long (nullable = true)\n",
      " |-- avg_count_session_per_day: double (nullable = true)\n",
      " |-- avg_count_session_per_month: double (nullable = true)\n",
      " |-- avg_items: double (nullable = true)\n",
      " |-- avg_items_per_day: double (nullable = true)\n",
      " |-- avg_items_per_month: double (nullable = true)\n",
      " |-- avg_session_length: double (nullable = true)\n",
      " |-- avg_session_length_per_day: double (nullable = true)\n",
      " |-- avg_session_length_per_month: double (nullable = true)\n",
      " |-- churn_label: long (nullable = true)\n",
      " |-- gender: string (nullable = true)\n",
      " |-- state: string (nullable = true)\n",
      " |-- total_items: long (nullable = true)\n",
      " |-- total_session_length: double (nullable = true)\n",
      " |-- unique_artist_count: long (nullable = true)\n",
      " |-- unique_song_count: long (nullable = true)\n",
      " |-- userId: string (nullable = true)\n",
      "\n",
      "None"
     ]
    }
   ],
   "source": [
    "print(f'Dimension of the Dataframe is: {(row,col)}')\n",
    "print(f'Number of Rows are: {row}')\n",
    "print(f'Number of Columns are: {col}')\n",
    "\n",
    "print(df.printSchema())  #printing our all column names"
   ]
  },
  {
   "cell_type": "code",
   "execution_count": 10,
   "metadata": {
    "execution": {
     "iopub.execute_input": "2024-02-23T17:44:13.055091Z",
     "iopub.status.busy": "2024-02-23T17:44:13.054903Z",
     "iopub.status.idle": "2024-02-23T17:44:30.696070Z",
     "shell.execute_reply": "2024-02-23T17:44:30.676527Z",
     "shell.execute_reply.started": "2024-02-23T17:44:13.055067Z"
    },
    "tags": []
   },
   "outputs": [
    {
     "data": {
      "application/vnd.jupyter.widget-view+json": {
       "model_id": "39d35337c9c74532bc9a7bf5dda87f6d",
       "version_major": 2,
       "version_minor": 0
      },
      "text/plain": [
       "VBox()"
      ]
     },
     "metadata": {},
     "output_type": "display_data"
    },
    {
     "data": {
      "application/vnd.jupyter.widget-view+json": {
       "model_id": "",
       "version_major": 2,
       "version_minor": 0
      },
      "text/plain": [
       "FloatProgress(value=0.0, bar_style='info', description='Progress:', layout=Layout(height='25px', width='50%'),…"
      ]
     },
     "metadata": {},
     "output_type": "display_data"
    },
    {
     "name": "stdout",
     "output_type": "stream",
     "text": [
      "{'About': 0, 'Add_Friend': 0, 'Add_to_Playlist': 0, 'Cancel': 0, 'Cancellation_Confirmation': 0, 'Downgrade': 0, 'Error': 0, 'Help': 0, 'Home': 0, 'Login': 0, 'Logout': 0, 'NextSong': 0, 'Register': 0, 'Roll_Advert': 0, 'Save_Settings': 0, 'Settings': 0, 'Submit_Downgrade': 0, 'Submit_Registration': 0, 'Submit_Upgrade': 0, 'Thumbs_Down': 0, 'Thumbs_Up': 0, 'Upgrade': 0, 'avg_count_session_per_day': 0, 'avg_count_session_per_month': 0, 'avg_items': 0, 'avg_items_per_day': 0, 'avg_items_per_month': 0, 'avg_session_length': 17, 'avg_session_length_per_day': 17, 'avg_session_length_per_month': 17, 'churn_label': 0, 'gender': 1, 'state': 1, 'total_items': 0, 'total_session_length': 17, 'unique_artist_count': 0, 'unique_song_count': 0, 'userId': 0}"
     ]
    }
   ],
   "source": [
    "Dict_Null = {col: df.filter(df[col].isNull()).count() for col in df.columns}\n",
    "Dict_Null"
   ]
  },
  {
   "cell_type": "code",
   "execution_count": 11,
   "metadata": {
    "execution": {
     "iopub.execute_input": "2024-02-23T17:44:30.701062Z",
     "iopub.status.busy": "2024-02-23T17:44:30.700780Z",
     "iopub.status.idle": "2024-02-23T17:44:49.119252Z",
     "shell.execute_reply": "2024-02-23T17:44:49.110827Z",
     "shell.execute_reply.started": "2024-02-23T17:44:30.701031Z"
    },
    "tags": []
   },
   "outputs": [
    {
     "data": {
      "application/vnd.jupyter.widget-view+json": {
       "model_id": "9191832c302d40d9b417b7469514bef6",
       "version_major": 2,
       "version_minor": 0
      },
      "text/plain": [
       "VBox()"
      ]
     },
     "metadata": {},
     "output_type": "display_data"
    },
    {
     "data": {
      "application/vnd.jupyter.widget-view+json": {
       "model_id": "",
       "version_major": 2,
       "version_minor": 0
      },
      "text/plain": [
       "FloatProgress(value=0.0, bar_style='info', description='Progress:', layout=Layout(height='25px', width='50%'),…"
      ]
     },
     "metadata": {},
     "output_type": "display_data"
    },
    {
     "name": "stdout",
     "output_type": "stream",
     "text": [
      "{'About': 0, 'Add_Friend': 0, 'Add_to_Playlist': 0, 'Cancel': 0, 'Cancellation_Confirmation': 0, 'Downgrade': 0, 'Error': 0, 'Help': 0, 'Home': 0, 'Login': 0, 'Logout': 0, 'NextSong': 0, 'Register': 0, 'Roll_Advert': 0, 'Save_Settings': 0, 'Settings': 0, 'Submit_Downgrade': 0, 'Submit_Registration': 0, 'Submit_Upgrade': 0, 'Thumbs_Down': 0, 'Thumbs_Up': 0, 'Upgrade': 0, 'avg_count_session_per_day': 0, 'avg_count_session_per_month': 0, 'avg_items': 0, 'avg_items_per_day': 0, 'avg_items_per_month': 0, 'avg_session_length': 0, 'avg_session_length_per_day': 0, 'avg_session_length_per_month': 0, 'churn_label': 0, 'gender': 0, 'state': 0, 'total_items': 0, 'total_session_length': 0, 'unique_artist_count': 0, 'unique_song_count': 0, 'userId': 0}"
     ]
    }
   ],
   "source": [
    "df = df.dropna()\n",
    "Dict_Null = {col: df.filter(df[col].isNull()).count() for col in df.columns}\n",
    "Dict_Null"
   ]
  },
  {
   "cell_type": "code",
   "execution_count": 12,
   "metadata": {
    "execution": {
     "iopub.execute_input": "2024-02-23T17:44:49.120729Z",
     "iopub.status.busy": "2024-02-23T17:44:49.120552Z",
     "iopub.status.idle": "2024-02-23T17:44:50.035099Z",
     "shell.execute_reply": "2024-02-23T17:44:50.032362Z",
     "shell.execute_reply.started": "2024-02-23T17:44:49.120705Z"
    },
    "tags": []
   },
   "outputs": [
    {
     "data": {
      "application/vnd.jupyter.widget-view+json": {
       "model_id": "b05fdd6b0a8e43939358ae7b5bbe8eac",
       "version_major": 2,
       "version_minor": 0
      },
      "text/plain": [
       "VBox()"
      ]
     },
     "metadata": {},
     "output_type": "display_data"
    },
    {
     "data": {
      "application/vnd.jupyter.widget-view+json": {
       "model_id": "",
       "version_major": 2,
       "version_minor": 0
      },
      "text/plain": [
       "FloatProgress(value=0.0, bar_style='info', description='Progress:', layout=Layout(height='25px', width='50%'),…"
      ]
     },
     "metadata": {},
     "output_type": "display_data"
    },
    {
     "name": "stdout",
     "output_type": "stream",
     "text": [
      "Dimension of the Dataframe is: (22261, 38)\n",
      "Number of Rows are: 22261\n",
      "Number of Columns are: 38\n",
      "root\n",
      " |-- About: long (nullable = true)\n",
      " |-- Add_Friend: long (nullable = true)\n",
      " |-- Add_to_Playlist: long (nullable = true)\n",
      " |-- Cancel: long (nullable = true)\n",
      " |-- Cancellation_Confirmation: long (nullable = true)\n",
      " |-- Downgrade: long (nullable = true)\n",
      " |-- Error: long (nullable = true)\n",
      " |-- Help: long (nullable = true)\n",
      " |-- Home: long (nullable = true)\n",
      " |-- Login: long (nullable = true)\n",
      " |-- Logout: long (nullable = true)\n",
      " |-- NextSong: long (nullable = true)\n",
      " |-- Register: long (nullable = true)\n",
      " |-- Roll_Advert: long (nullable = true)\n",
      " |-- Save_Settings: long (nullable = true)\n",
      " |-- Settings: long (nullable = true)\n",
      " |-- Submit_Downgrade: long (nullable = true)\n",
      " |-- Submit_Registration: long (nullable = true)\n",
      " |-- Submit_Upgrade: long (nullable = true)\n",
      " |-- Thumbs_Down: long (nullable = true)\n",
      " |-- Thumbs_Up: long (nullable = true)\n",
      " |-- Upgrade: long (nullable = true)\n",
      " |-- avg_count_session_per_day: double (nullable = true)\n",
      " |-- avg_count_session_per_month: double (nullable = true)\n",
      " |-- avg_items: double (nullable = true)\n",
      " |-- avg_items_per_day: double (nullable = true)\n",
      " |-- avg_items_per_month: double (nullable = true)\n",
      " |-- avg_session_length: double (nullable = true)\n",
      " |-- avg_session_length_per_day: double (nullable = true)\n",
      " |-- avg_session_length_per_month: double (nullable = true)\n",
      " |-- churn_label: long (nullable = true)\n",
      " |-- gender: string (nullable = true)\n",
      " |-- state: string (nullable = true)\n",
      " |-- total_items: long (nullable = true)\n",
      " |-- total_session_length: double (nullable = true)\n",
      " |-- unique_artist_count: long (nullable = true)\n",
      " |-- unique_song_count: long (nullable = true)\n",
      " |-- userId: string (nullable = true)\n",
      "\n",
      "None"
     ]
    }
   ],
   "source": [
    "row = df.count()  # extracting number of rows\n",
    "col = len(df.columns)  # extracting number of columns\n",
    "print(f'Dimension of the Dataframe is: {(row,col)}')\n",
    "print(f'Number of Rows are: {row}')\n",
    "print(f'Number of Columns are: {col}')\n",
    "\n",
    "print(df.printSchema())  #printing our all column names"
   ]
  },
  {
   "cell_type": "code",
   "execution_count": 13,
   "metadata": {
    "execution": {
     "iopub.execute_input": "2024-02-23T17:44:50.036839Z",
     "iopub.status.busy": "2024-02-23T17:44:50.036649Z",
     "iopub.status.idle": "2024-02-23T17:44:53.677868Z",
     "shell.execute_reply": "2024-02-23T17:44:53.596891Z",
     "shell.execute_reply.started": "2024-02-23T17:44:50.036814Z"
    },
    "tags": []
   },
   "outputs": [
    {
     "data": {
      "application/vnd.jupyter.widget-view+json": {
       "model_id": "2785d88269e747ce86139f89554ca9d9",
       "version_major": 2,
       "version_minor": 0
      },
      "text/plain": [
       "VBox()"
      ]
     },
     "metadata": {},
     "output_type": "display_data"
    },
    {
     "data": {
      "application/vnd.jupyter.widget-view+json": {
       "model_id": "",
       "version_major": 2,
       "version_minor": 0
      },
      "text/plain": [
       "FloatProgress(value=0.0, bar_style='info', description='Progress:', layout=Layout(height='25px', width='50%'),…"
      ]
     },
     "metadata": {},
     "output_type": "display_data"
    }
   ],
   "source": [
    "gender_indexer = StringIndexer(inputCol=\"gender\", outputCol=\"gender_index\")\n",
    "state_indexer = StringIndexer(inputCol=\"state\", outputCol=\"state_index\")\n",
    "indexed_data = gender_indexer.fit(df).transform(df)\n",
    "indexed_data = state_indexer.fit(indexed_data).transform(indexed_data)"
   ]
  },
  {
   "cell_type": "code",
   "execution_count": 14,
   "metadata": {
    "execution": {
     "iopub.execute_input": "2024-02-23T17:44:53.679116Z",
     "iopub.status.busy": "2024-02-23T17:44:53.678944Z",
     "iopub.status.idle": "2024-02-23T17:44:54.465899Z",
     "shell.execute_reply": "2024-02-23T17:44:54.465132Z",
     "shell.execute_reply.started": "2024-02-23T17:44:53.679092Z"
    },
    "tags": []
   },
   "outputs": [
    {
     "data": {
      "application/vnd.jupyter.widget-view+json": {
       "model_id": "4e9f265c76184103b6dea63a5826f451",
       "version_major": 2,
       "version_minor": 0
      },
      "text/plain": [
       "VBox()"
      ]
     },
     "metadata": {},
     "output_type": "display_data"
    },
    {
     "data": {
      "application/vnd.jupyter.widget-view+json": {
       "model_id": "",
       "version_major": 2,
       "version_minor": 0
      },
      "text/plain": [
       "FloatProgress(value=0.0, bar_style='info', description='Progress:', layout=Layout(height='25px', width='50%'),…"
      ]
     },
     "metadata": {},
     "output_type": "display_data"
    },
    {
     "name": "stdout",
     "output_type": "stream",
     "text": [
      "[Row(About=1, Add_Friend=5, Add_to_Playlist=4, Cancel=0, Cancellation_Confirmation=0, Downgrade=0, Error=0, Help=5, Home=21, Login=0, Logout=11, NextSong=225, Register=0, Roll_Advert=17, Save_Settings=2, Settings=7, Submit_Downgrade=0, Submit_Registration=0, Submit_Upgrade=0, Thumbs_Down=1, Thumbs_Up=4, Upgrade=1, avg_count_session_per_day=33.77777777777778, avg_count_session_per_month=152.0, avg_items=32.411184210526315, avg_items_per_day=1094.7777777777778, avg_items_per_month=4926.5, avg_session_length=242.7014788444445, avg_session_length_per_day=6067.536971111112, avg_session_length_per_month=27303.916370000006, churn_label=0, gender='M', state='NY', total_items=9853, total_session_length=54607.83274000001, unique_artist_count=203, unique_song_count=217, userId='1001862', gender_index=0.0, state_index=1.0)]"
     ]
    }
   ],
   "source": [
    "indexed_data.take(1)"
   ]
  },
  {
   "cell_type": "code",
   "execution_count": 15,
   "metadata": {
    "execution": {
     "iopub.execute_input": "2024-02-23T17:44:54.467023Z",
     "iopub.status.busy": "2024-02-23T17:44:54.466855Z",
     "iopub.status.idle": "2024-02-23T17:44:54.726098Z",
     "shell.execute_reply": "2024-02-23T17:44:54.725300Z",
     "shell.execute_reply.started": "2024-02-23T17:44:54.467000Z"
    },
    "tags": []
   },
   "outputs": [
    {
     "data": {
      "application/vnd.jupyter.widget-view+json": {
       "model_id": "04d0b493803c4707ad1f7b6753bccee0",
       "version_major": 2,
       "version_minor": 0
      },
      "text/plain": [
       "VBox()"
      ]
     },
     "metadata": {},
     "output_type": "display_data"
    },
    {
     "data": {
      "application/vnd.jupyter.widget-view+json": {
       "model_id": "",
       "version_major": 2,
       "version_minor": 0
      },
      "text/plain": [
       "FloatProgress(value=0.0, bar_style='info', description='Progress:', layout=Layout(height='25px', width='50%'),…"
      ]
     },
     "metadata": {},
     "output_type": "display_data"
    },
    {
     "name": "stdout",
     "output_type": "stream",
     "text": [
      "creating train, validation and test sets"
     ]
    }
   ],
   "source": [
    "print('creating train, validation and test sets')\n",
    "\n",
    "train_df, remaining_df = indexed_data.randomSplit([0.7, 0.3], seed=42)\n",
    "# The second split: 50% of the remaining data for validation, 50% for testing\n",
    "validation_df, test_df = remaining_df.randomSplit([0.5, 0.5], seed=42)"
   ]
  },
  {
   "cell_type": "code",
   "execution_count": null,
   "metadata": {
    "tags": []
   },
   "outputs": [],
   "source": []
  },
  {
   "cell_type": "code",
   "execution_count": 16,
   "metadata": {
    "execution": {
     "iopub.execute_input": "2024-02-23T17:44:54.727315Z",
     "iopub.status.busy": "2024-02-23T17:44:54.727146Z",
     "iopub.status.idle": "2024-02-23T17:44:54.777589Z",
     "shell.execute_reply": "2024-02-23T17:44:54.776860Z",
     "shell.execute_reply.started": "2024-02-23T17:44:54.727293Z"
    },
    "tags": []
   },
   "outputs": [
    {
     "data": {
      "application/vnd.jupyter.widget-view+json": {
       "model_id": "574f1ab61099486580397b7295240706",
       "version_major": 2,
       "version_minor": 0
      },
      "text/plain": [
       "VBox()"
      ]
     },
     "metadata": {},
     "output_type": "display_data"
    },
    {
     "data": {
      "application/vnd.jupyter.widget-view+json": {
       "model_id": "",
       "version_major": 2,
       "version_minor": 0
      },
      "text/plain": [
       "FloatProgress(value=0.0, bar_style='info', description='Progress:', layout=Layout(height='25px', width='50%'),…"
      ]
     },
     "metadata": {},
     "output_type": "display_data"
    }
   ],
   "source": [
    "def create_encoders():\n",
    "    gender_encoder = OneHotEncoder(inputCol=\"gender_index\",\n",
    "                                   outputCol=\"gender_encoded\")\n",
    "    state_encoder = OneHotEncoder(inputCol=\"state_index\",\n",
    "                                  outputCol=\"state_encoded\")\n",
    "    return [gender_encoder, state_encoder]\n",
    "\n",
    "\n",
    "#feature assembler function\n",
    "def create_feature_assembler():\n",
    "    cols_for_assembler = [\n",
    "        'unique_artist_count', 'total_session_length', 'avg_session_length',\n",
    "        'unique_song_count', 'total_items', 'avg_items',\n",
    "        'avg_session_length_per_month', 'avg_items_per_month',\n",
    "        'avg_count_session_per_month', 'avg_session_length_per_day',\n",
    "        'avg_items_per_day', 'avg_count_session_per_day', 'About', 'Add_Friend',\n",
    "        'Add_to_Playlist', 'Downgrade', 'Error', 'Help', 'Home', 'Logout',\n",
    "        'NextSong', 'Roll_Advert', 'Save_Settings', 'Settings',\n",
    "        'Submit_Downgrade', 'Submit_Upgrade', 'Thumbs_Down', 'Thumbs_Up',\n",
    "        'Upgrade', 'state_encoded', 'gender_encoded'\n",
    "    ]\n",
    "\n",
    "    assembler = VectorAssembler(inputCols=cols_for_assembler,\n",
    "                                outputCol=\"features\")\n",
    "    return assembler\n",
    "\n",
    "\n",
    "#scaler function\n",
    "def create_scaler():\n",
    "    scaler = StandardScaler(inputCol='features',\n",
    "                            outputCol='scaled_features',\n",
    "                            withStd=True,\n",
    "                            withMean=True)\n",
    "    return scaler\n",
    "\n",
    "\n",
    "#label indexer function\n",
    "def create_label_indexer():\n",
    "    label_indexer = StringIndexer(inputCol='churn_label', outputCol='label')\n",
    "    return label_indexer"
   ]
  },
  {
   "cell_type": "code",
   "execution_count": 17,
   "metadata": {
    "execution": {
     "iopub.execute_input": "2024-02-23T17:44:54.778694Z",
     "iopub.status.busy": "2024-02-23T17:44:54.778518Z",
     "iopub.status.idle": "2024-02-23T17:44:55.034030Z",
     "shell.execute_reply": "2024-02-23T17:44:55.033319Z",
     "shell.execute_reply.started": "2024-02-23T17:44:54.778672Z"
    },
    "tags": []
   },
   "outputs": [
    {
     "data": {
      "application/vnd.jupyter.widget-view+json": {
       "model_id": "10813aec6f834a22ae9a6ebe372630e6",
       "version_major": 2,
       "version_minor": 0
      },
      "text/plain": [
       "VBox()"
      ]
     },
     "metadata": {},
     "output_type": "display_data"
    },
    {
     "data": {
      "application/vnd.jupyter.widget-view+json": {
       "model_id": "",
       "version_major": 2,
       "version_minor": 0
      },
      "text/plain": [
       "FloatProgress(value=0.0, bar_style='info', description='Progress:', layout=Layout(height='25px', width='50%'),…"
      ]
     },
     "metadata": {},
     "output_type": "display_data"
    }
   ],
   "source": [
    "# creating a pipeline including the preprocessing steps\n",
    "encoders = create_encoders()\n",
    "assembler = create_feature_assembler()\n",
    "scaler = create_scaler()\n",
    "label_indexer = create_label_indexer()\n",
    "transform_pipeline = Pipeline(\n",
    "    stages=[*encoders, assembler, scaler, label_indexer])"
   ]
  },
  {
   "cell_type": "code",
   "execution_count": 18,
   "metadata": {
    "execution": {
     "iopub.execute_input": "2024-02-23T17:44:55.035457Z",
     "iopub.status.busy": "2024-02-23T17:44:55.035207Z",
     "iopub.status.idle": "2024-02-23T17:44:58.352145Z",
     "shell.execute_reply": "2024-02-23T17:44:58.351431Z",
     "shell.execute_reply.started": "2024-02-23T17:44:55.035420Z"
    },
    "tags": []
   },
   "outputs": [
    {
     "data": {
      "application/vnd.jupyter.widget-view+json": {
       "model_id": "8622be498e564392b05b57ccb149126e",
       "version_major": 2,
       "version_minor": 0
      },
      "text/plain": [
       "VBox()"
      ]
     },
     "metadata": {},
     "output_type": "display_data"
    },
    {
     "data": {
      "application/vnd.jupyter.widget-view+json": {
       "model_id": "",
       "version_major": 2,
       "version_minor": 0
      },
      "text/plain": [
       "FloatProgress(value=0.0, bar_style='info', description='Progress:', layout=Layout(height='25px', width='50%'),…"
      ]
     },
     "metadata": {},
     "output_type": "display_data"
    }
   ],
   "source": [
    "#fitting transform pipeline\n",
    "fitted_transform_pipeline = transform_pipeline.fit(train_df)"
   ]
  },
  {
   "cell_type": "code",
   "execution_count": 19,
   "metadata": {
    "execution": {
     "iopub.execute_input": "2024-02-23T17:44:58.353184Z",
     "iopub.status.busy": "2024-02-23T17:44:58.353024Z",
     "iopub.status.idle": "2024-02-23T17:44:59.124993Z",
     "shell.execute_reply": "2024-02-23T17:44:59.124307Z",
     "shell.execute_reply.started": "2024-02-23T17:44:58.353161Z"
    },
    "tags": []
   },
   "outputs": [
    {
     "data": {
      "application/vnd.jupyter.widget-view+json": {
       "model_id": "20ae49f664244b708d993fc7734de741",
       "version_major": 2,
       "version_minor": 0
      },
      "text/plain": [
       "VBox()"
      ]
     },
     "metadata": {},
     "output_type": "display_data"
    },
    {
     "data": {
      "application/vnd.jupyter.widget-view+json": {
       "model_id": "",
       "version_major": 2,
       "version_minor": 0
      },
      "text/plain": [
       "FloatProgress(value=0.0, bar_style='info', description='Progress:', layout=Layout(height='25px', width='50%'),…"
      ]
     },
     "metadata": {},
     "output_type": "display_data"
    }
   ],
   "source": [
    "#preprocessing the train and validation sets separately to avoid leak\n",
    "train_transformed_data = fitted_transform_pipeline.transform(train_df)\n",
    "validation_transformed_data = fitted_transform_pipeline.transform(validation_df)"
   ]
  },
  {
   "cell_type": "code",
   "execution_count": 20,
   "metadata": {
    "execution": {
     "iopub.execute_input": "2024-02-23T17:44:59.127907Z",
     "iopub.status.busy": "2024-02-23T17:44:59.127730Z",
     "iopub.status.idle": "2024-02-23T17:44:59.177408Z",
     "shell.execute_reply": "2024-02-23T17:44:59.176803Z",
     "shell.execute_reply.started": "2024-02-23T17:44:59.127883Z"
    },
    "tags": []
   },
   "outputs": [
    {
     "data": {
      "application/vnd.jupyter.widget-view+json": {
       "model_id": "1efd5a80dd614761a649b46b639b8b45",
       "version_major": 2,
       "version_minor": 0
      },
      "text/plain": [
       "VBox()"
      ]
     },
     "metadata": {},
     "output_type": "display_data"
    },
    {
     "data": {
      "application/vnd.jupyter.widget-view+json": {
       "model_id": "",
       "version_major": 2,
       "version_minor": 0
      },
      "text/plain": [
       "FloatProgress(value=0.0, bar_style='info', description='Progress:', layout=Layout(height='25px', width='50%'),…"
      ]
     },
     "metadata": {},
     "output_type": "display_data"
    }
   ],
   "source": [
    "#function that trains and evaluate a model\n",
    "def train_and_evaluate_model(model, train_data, validation_data):\n",
    "\n",
    "    trained_model = model.fit(train_data)\n",
    "    predictions = trained_model.transform(validation_data)\n",
    "\n",
    "    evaluator = BinaryClassificationEvaluator()\n",
    "    auc = evaluator.evaluate(predictions)\n",
    "\n",
    "    evaluator_acc = MulticlassClassificationEvaluator(metricName=\"accuracy\")\n",
    "    accuracy = evaluator_acc.evaluate(predictions)\n",
    "\n",
    "    return trained_model, auc, accuracy, predictions"
   ]
  },
  {
   "cell_type": "code",
   "execution_count": null,
   "metadata": {},
   "outputs": [],
   "source": []
  },
  {
   "cell_type": "code",
   "execution_count": 21,
   "metadata": {
    "execution": {
     "iopub.execute_input": "2024-02-23T17:44:59.179294Z",
     "iopub.status.busy": "2024-02-23T17:44:59.179040Z",
     "iopub.status.idle": "2024-02-23T17:44:59.432243Z",
     "shell.execute_reply": "2024-02-23T17:44:59.431605Z",
     "shell.execute_reply.started": "2024-02-23T17:44:59.179258Z"
    },
    "tags": []
   },
   "outputs": [
    {
     "data": {
      "application/vnd.jupyter.widget-view+json": {
       "model_id": "dffb0702f7344449983ac4800927c29f",
       "version_major": 2,
       "version_minor": 0
      },
      "text/plain": [
       "VBox()"
      ]
     },
     "metadata": {},
     "output_type": "display_data"
    },
    {
     "data": {
      "application/vnd.jupyter.widget-view+json": {
       "model_id": "",
       "version_major": 2,
       "version_minor": 0
      },
      "text/plain": [
       "FloatProgress(value=0.0, bar_style='info', description='Progress:', layout=Layout(height='25px', width='50%'),…"
      ]
     },
     "metadata": {},
     "output_type": "display_data"
    }
   ],
   "source": [
    "#defining my models\n",
    "rf_model = RandomForestClassifier(featuresCol='scaled_features',\n",
    "                                  labelCol='label')\n",
    "lr_model = LogisticRegression(featuresCol='scaled_features', labelCol='label')\n",
    "gbt_model = GBTClassifier(featuresCol='scaled_features', labelCol='label')"
   ]
  },
  {
   "cell_type": "code",
   "execution_count": 22,
   "metadata": {
    "execution": {
     "iopub.execute_input": "2024-02-23T17:44:59.433384Z",
     "iopub.status.busy": "2024-02-23T17:44:59.433214Z",
     "iopub.status.idle": "2024-02-23T17:45:33.570431Z",
     "shell.execute_reply": "2024-02-23T17:45:33.512852Z",
     "shell.execute_reply.started": "2024-02-23T17:44:59.433361Z"
    },
    "tags": []
   },
   "outputs": [
    {
     "data": {
      "application/vnd.jupyter.widget-view+json": {
       "model_id": "b608dc7c393c4b63be26090754b88f8c",
       "version_major": 2,
       "version_minor": 0
      },
      "text/plain": [
       "VBox()"
      ]
     },
     "metadata": {},
     "output_type": "display_data"
    },
    {
     "data": {
      "application/vnd.jupyter.widget-view+json": {
       "model_id": "",
       "version_major": 2,
       "version_minor": 0
      },
      "text/plain": [
       "FloatProgress(value=0.0, bar_style='info', description='Progress:', layout=Layout(height='25px', width='50%'),…"
      ]
     },
     "metadata": {},
     "output_type": "display_data"
    }
   ],
   "source": [
    "#training and evaluating based on the function created above\n",
    "rf_trained_model, rf_auc, rf_accuracy, rf_predictions = train_and_evaluate_model(\n",
    "    rf_model, train_transformed_data, validation_transformed_data)\n",
    "lr_trained_model, lr_auc, lr_accuracy, lr_predictions = train_and_evaluate_model(\n",
    "    lr_model, train_transformed_data, validation_transformed_data)\n",
    "gbt_trained_model, gbt_auc, gbt_accuracy, gbt_predictions = train_and_evaluate_model(\n",
    "    gbt_model, train_transformed_data, validation_transformed_data)"
   ]
  },
  {
   "cell_type": "code",
   "execution_count": 23,
   "metadata": {
    "execution": {
     "iopub.execute_input": "2024-02-23T17:45:33.593213Z",
     "iopub.status.busy": "2024-02-23T17:45:33.593044Z",
     "iopub.status.idle": "2024-02-23T17:45:35.207927Z",
     "shell.execute_reply": "2024-02-23T17:45:35.189353Z",
     "shell.execute_reply.started": "2024-02-23T17:45:33.593190Z"
    },
    "tags": []
   },
   "outputs": [
    {
     "data": {
      "application/vnd.jupyter.widget-view+json": {
       "model_id": "7ced06f767274370b32b55fa24bc3da6",
       "version_major": 2,
       "version_minor": 0
      },
      "text/plain": [
       "VBox()"
      ]
     },
     "metadata": {},
     "output_type": "display_data"
    },
    {
     "data": {
      "application/vnd.jupyter.widget-view+json": {
       "model_id": "",
       "version_major": 2,
       "version_minor": 0
      },
      "text/plain": [
       "FloatProgress(value=0.0, bar_style='info', description='Progress:', layout=Layout(height='25px', width='50%'),…"
      ]
     },
     "metadata": {},
     "output_type": "display_data"
    },
    {
     "name": "stdout",
     "output_type": "stream",
     "text": [
      "[Row(About=0, Add_Friend=0, Add_to_Playlist=0, Cancel=0, Cancellation_Confirmation=0, Downgrade=0, Error=0, Help=0, Home=0, Login=0, Logout=1, NextSong=7, Register=0, Roll_Advert=0, Save_Settings=0, Settings=0, Submit_Downgrade=0, Submit_Registration=0, Submit_Upgrade=0, Thumbs_Down=0, Thumbs_Up=1, Upgrade=0, avg_count_session_per_day=9.0, avg_count_session_per_month=9.0, avg_items=4.0, avg_items_per_day=36.0, avg_items_per_month=36.0, avg_session_length=295.04514428571434, avg_session_length_per_day=2065.3160100000005, avg_session_length_per_month=2065.3160100000005, churn_label=0, gender='F', state='GA', total_items=36, total_session_length=2065.3160100000005, unique_artist_count=7, unique_song_count=7, userId='1151342', gender_index=1.0, state_index=7.0, gender_encoded=SparseVector(1, {}), state_encoded=SparseVector(50, {7: 1.0}), features=SparseVector(80, {0: 7.0, 1: 2065.316, 2: 295.0451, 3: 7.0, 4: 36.0, 5: 4.0, 6: 2065.316, 7: 36.0, 8: 9.0, 9: 2065.316, 10: 36.0, 11: 9.0, 19: 1.0, 20: 7.0, 27: 1.0, 36: 1.0}), scaled_features=DenseVector([-1.0584, -0.8456, 5.6686, -0.9193, -0.6815, -1.4522, -0.8736, -0.6952, -0.8909, -1.6418, -0.9361, -1.7418, -0.7429, -0.8359, -0.8392, -0.7175, -0.6746, -0.812, -0.9144, -0.849, -0.8468, -0.8456, -0.7052, -0.8404, -0.4813, -0.8991, -0.8593, -0.7849, -0.8565, -0.3809, -0.3224, -0.3016, -0.2622, -0.2244, -0.2092, -0.2018, 5.8125, -0.1736, -0.1718, -0.1519, -0.1578, -0.1532, -0.1482, -0.1473, -0.1452, -0.1331, -0.128, -0.1283, -0.1321, -0.1184, -0.1145, -0.1209, -0.1119, -0.1145, -0.1151, -0.1107, -0.0992, -0.1025, -0.0952, -0.0942, -0.0969, -0.0925, -0.0874, -0.0825, -0.076, -0.0817, -0.0755, -0.0751, -0.0729, -0.0729, -0.0536, -0.0582, -0.0548, -0.0493, -0.0445, -0.043, -0.0375, -0.0357, -0.0339, -1.0442]), label=0.0, rawPrediction=DenseVector([16.3239, 3.6761]), probability=DenseVector([0.8162, 0.1838]), prediction=0.0)]"
     ]
    }
   ],
   "source": [
    "rf_predictions.take(1)"
   ]
  },
  {
   "cell_type": "code",
   "execution_count": null,
   "metadata": {
    "tags": []
   },
   "outputs": [],
   "source": []
  },
  {
   "cell_type": "code",
   "execution_count": null,
   "metadata": {
    "tags": []
   },
   "outputs": [],
   "source": []
  },
  {
   "cell_type": "code",
   "execution_count": 24,
   "metadata": {
    "execution": {
     "iopub.execute_input": "2024-02-23T17:45:35.208988Z",
     "iopub.status.busy": "2024-02-23T17:45:35.208822Z",
     "iopub.status.idle": "2024-02-23T17:45:44.868338Z",
     "shell.execute_reply": "2024-02-23T17:45:44.712789Z",
     "shell.execute_reply.started": "2024-02-23T17:45:35.208965Z"
    },
    "tags": []
   },
   "outputs": [
    {
     "data": {
      "application/vnd.jupyter.widget-view+json": {
       "model_id": "68cc8767541645d699539ca80bbbd930",
       "version_major": 2,
       "version_minor": 0
      },
      "text/plain": [
       "VBox()"
      ]
     },
     "metadata": {},
     "output_type": "display_data"
    },
    {
     "data": {
      "application/vnd.jupyter.widget-view+json": {
       "model_id": "",
       "version_major": 2,
       "version_minor": 0
      },
      "text/plain": [
       "FloatProgress(value=0.0, bar_style='info', description='Progress:', layout=Layout(height='25px', width='50%'),…"
      ]
     },
     "metadata": {},
     "output_type": "display_data"
    }
   ],
   "source": [
    "# table for Accuracy, Precision, Recall, and F1 Score for each model\n",
    "models = [rf_trained_model, lr_trained_model, gbt_trained_model]\n",
    "model_names = [\"Random Forest\", \"Logistic Regression\", \"Gradient Boosted Trees\"]\n",
    "metrics_list = []\n",
    "\n",
    "# Loop through each model\n",
    "for i, model in enumerate(models):\n",
    "    # Make predictions on the test set\n",
    "    predictions = model.transform(validation_transformed_data)\n",
    "\n",
    "    # Instantiate MulticlassClassificationEvaluator\n",
    "    evaluator_multiclass = MulticlassClassificationEvaluator()\n",
    "\n",
    "    # Evaluate metrics\n",
    "    f1_score = evaluator_multiclass.evaluate(\n",
    "        predictions, {evaluator_multiclass.metricName: \"f1\"})\n",
    "\n",
    "    accuracy = evaluator_multiclass.evaluate(\n",
    "        predictions, {evaluator_multiclass.metricName: \"accuracy\"})\n",
    "    precision = evaluator_multiclass.evaluate(\n",
    "        predictions, {evaluator_multiclass.metricName: \"weightedPrecision\"})\n",
    "    recall = evaluator_multiclass.evaluate(\n",
    "        predictions, {evaluator_multiclass.metricName: \"weightedRecall\"})\n",
    "\n",
    "    # adding area under ROC\n",
    "    evaluator = BinaryClassificationEvaluator()\n",
    "    auc = evaluator.evaluate(predictions)\n",
    "\n",
    "    # appending metrics to list\n",
    "    metrics_list.append(\n",
    "        (f\"Model {model}\", f1_score, auc, accuracy, precision, recall))\n",
    "\n",
    "# Create a DataFrame from the list of metrics\n",
    "metrics_df = spark.createDataFrame(metrics_list, [\n",
    "    \"Model\",\n",
    "    \"F1 Score\",\n",
    "    \"Area under ROC\",\n",
    "    \"Accuracy\",\n",
    "    \"Precision\",\n",
    "    \"Recall\",\n",
    "])"
   ]
  },
  {
   "cell_type": "code",
   "execution_count": 25,
   "metadata": {
    "execution": {
     "iopub.execute_input": "2024-02-23T17:45:44.870668Z",
     "iopub.status.busy": "2024-02-23T17:45:44.870497Z",
     "iopub.status.idle": "2024-02-23T17:45:50.556629Z",
     "shell.execute_reply": "2024-02-23T17:45:50.551599Z",
     "shell.execute_reply.started": "2024-02-23T17:45:44.870645Z"
    },
    "tags": []
   },
   "outputs": [
    {
     "data": {
      "application/vnd.jupyter.widget-view+json": {
       "model_id": "cda588f9c458404a88525df25436462e",
       "version_major": 2,
       "version_minor": 0
      },
      "text/plain": [
       "VBox()"
      ]
     },
     "metadata": {},
     "output_type": "display_data"
    },
    {
     "data": {
      "application/vnd.jupyter.widget-view+json": {
       "model_id": "",
       "version_major": 2,
       "version_minor": 0
      },
      "text/plain": [
       "FloatProgress(value=0.0, bar_style='info', description='Progress:', layout=Layout(height='25px', width='50%'),…"
      ]
     },
     "metadata": {},
     "output_type": "display_data"
    },
    {
     "name": "stdout",
     "output_type": "stream",
     "text": [
      "+--------------------+------------------+------------------+------------------+------------------+------------------+\n",
      "|               Model|          F1 Score|    Area under ROC|          Accuracy|         Precision|            Recall|\n",
      "+--------------------+------------------+------------------+------------------+------------------+------------------+\n",
      "|Model RandomFores...|0.6735803457305138|0.7645098827504785|0.7703190848886213|0.7812909406933741|0.7703190848886213|\n",
      "|Model LogisticReg...|0.8274469932401357|0.8234603366852586|0.8473810957254666|  0.84639093123161|0.8473810957254666|\n",
      "|Model GBTClassifi...|0.8280685268710538|0.8270544111061352|0.8470800722456352|0.8446007338709312|0.8470800722456352|\n",
      "+--------------------+------------------+------------------+------------------+------------------+------------------+"
     ]
    }
   ],
   "source": [
    "metrics_df.show()"
   ]
  },
  {
   "cell_type": "code",
   "execution_count": null,
   "metadata": {},
   "outputs": [],
   "source": []
  },
  {
   "cell_type": "code",
   "execution_count": 26,
   "metadata": {
    "execution": {
     "iopub.execute_input": "2024-02-23T17:45:50.564643Z",
     "iopub.status.busy": "2024-02-23T17:45:50.564408Z",
     "iopub.status.idle": "2024-02-23T17:45:52.295329Z",
     "shell.execute_reply": "2024-02-23T17:45:51.718150Z",
     "shell.execute_reply.started": "2024-02-23T17:45:50.564607Z"
    },
    "tags": []
   },
   "outputs": [
    {
     "data": {
      "application/vnd.jupyter.widget-view+json": {
       "model_id": "ddb3f6d06b16458090f7f8e4f5c18aa9",
       "version_major": 2,
       "version_minor": 0
      },
      "text/plain": [
       "VBox()"
      ]
     },
     "metadata": {},
     "output_type": "display_data"
    },
    {
     "data": {
      "application/vnd.jupyter.widget-view+json": {
       "model_id": "",
       "version_major": 2,
       "version_minor": 0
      },
      "text/plain": [
       "FloatProgress(value=0.0, bar_style='info', description='Progress:', layout=Layout(height='25px', width='50%'),…"
      ]
     },
     "metadata": {},
     "output_type": "display_data"
    }
   ],
   "source": [
    "paramgrid = ParamGridBuilder()\\\n",
    "            .build()\n",
    "\n",
    "evaluator = MulticlassClassificationEvaluator(metricName=\"f1\")\n",
    "\n",
    "crossval = CrossValidator(estimator=gbt_model,\n",
    "                          estimatorParamMaps=paramgrid,\n",
    "                          evaluator=evaluator,\n",
    "                          numFolds=5)"
   ]
  },
  {
   "cell_type": "code",
   "execution_count": 27,
   "metadata": {
    "execution": {
     "iopub.execute_input": "2024-02-23T17:45:52.297031Z",
     "iopub.status.busy": "2024-02-23T17:45:52.296749Z",
     "iopub.status.idle": "2024-02-23T18:19:51.843421Z",
     "shell.execute_reply": "2024-02-23T18:19:51.842421Z",
     "shell.execute_reply.started": "2024-02-23T17:45:52.296990Z"
    },
    "tags": []
   },
   "outputs": [
    {
     "data": {
      "application/vnd.jupyter.widget-view+json": {
       "model_id": "fcfb903d5d074c6c871010d91ca6cad3",
       "version_major": 2,
       "version_minor": 0
      },
      "text/plain": [
       "VBox()"
      ]
     },
     "metadata": {},
     "output_type": "display_data"
    },
    {
     "data": {
      "application/vnd.jupyter.widget-view+json": {
       "model_id": "676d78dc84b845b8927f1992fc9b05ad",
       "version_major": 2,
       "version_minor": 0
      },
      "text/plain": [
       "FloatProgress(value=0.0, bar_style='info', description='Progress:', layout=Layout(height='25px', width='50%'),…"
      ]
     },
     "metadata": {},
     "output_type": "display_data"
    },
    {
     "ename": "SparkStatementCancellationFailedException",
     "evalue": "Interrupted by user but Livy failed to cancel the Spark statement. The Livy session might have become unusable.",
     "output_type": "error",
     "traceback": [
      "\u001b[0;31m---------------------------------------------------------------------------\u001b[0m",
      "\u001b[0;31mKeyboardInterrupt\u001b[0m                         Traceback (most recent call last)",
      "File \u001b[0;32m/mnt/notebook-env/lib/python3.9/site-packages/sparkmagic/livyclientlib/command.py:61\u001b[0m, in \u001b[0;36mCommand.execute\u001b[0;34m(self, session)\u001b[0m\n\u001b[1;32m     60\u001b[0m     statement_id \u001b[38;5;241m=\u001b[39m response[\u001b[38;5;124m\"\u001b[39m\u001b[38;5;124mid\u001b[39m\u001b[38;5;124m\"\u001b[39m]\n\u001b[0;32m---> 61\u001b[0m     output \u001b[38;5;241m=\u001b[39m \u001b[38;5;28;43mself\u001b[39;49m\u001b[38;5;241;43m.\u001b[39;49m\u001b[43m_get_statement_output\u001b[49m\u001b[43m(\u001b[49m\u001b[43msession\u001b[49m\u001b[43m,\u001b[49m\u001b[43m \u001b[49m\u001b[43mstatement_id\u001b[49m\u001b[43m)\u001b[49m\n\u001b[1;32m     62\u001b[0m \u001b[38;5;28;01mexcept\u001b[39;00m \u001b[38;5;167;01mKeyboardInterrupt\u001b[39;00m \u001b[38;5;28;01mas\u001b[39;00m e:\n",
      "File \u001b[0;32m/mnt/notebook-env/lib/python3.9/site-packages/sparkmagic/livyclientlib/command.py:134\u001b[0m, in \u001b[0;36mCommand._get_statement_output\u001b[0;34m(self, session, statement_id)\u001b[0m\n\u001b[1;32m    133\u001b[0m progress\u001b[38;5;241m.\u001b[39mvalue \u001b[38;5;241m=\u001b[39m statement\u001b[38;5;241m.\u001b[39mget(\u001b[38;5;124m\"\u001b[39m\u001b[38;5;124mprogress\u001b[39m\u001b[38;5;124m\"\u001b[39m, \u001b[38;5;241m0.0\u001b[39m)\n\u001b[0;32m--> 134\u001b[0m \u001b[43msession\u001b[49m\u001b[38;5;241;43m.\u001b[39;49m\u001b[43msleep\u001b[49m\u001b[43m(\u001b[49m\u001b[43mretries\u001b[49m\u001b[43m)\u001b[49m\n\u001b[1;32m    135\u001b[0m retries \u001b[38;5;241m+\u001b[39m\u001b[38;5;241m=\u001b[39m \u001b[38;5;241m1\u001b[39m\n",
      "File \u001b[0;32m/mnt/notebook-env/lib/python3.9/site-packages/sparkmagic/livyclientlib/livysession.py:363\u001b[0m, in \u001b[0;36mLivySession.sleep\u001b[0;34m(self, retries)\u001b[0m\n\u001b[1;32m    362\u001b[0m \u001b[38;5;28;01mdef\u001b[39;00m \u001b[38;5;21msleep\u001b[39m(\u001b[38;5;28mself\u001b[39m, retries):\n\u001b[0;32m--> 363\u001b[0m     \u001b[43msleep\u001b[49m\u001b[43m(\u001b[49m\u001b[38;5;28;43mself\u001b[39;49m\u001b[38;5;241;43m.\u001b[39;49m\u001b[43m_policy\u001b[49m\u001b[38;5;241;43m.\u001b[39;49m\u001b[43mseconds_to_sleep\u001b[49m\u001b[43m(\u001b[49m\u001b[43mretries\u001b[49m\u001b[43m)\u001b[49m\u001b[43m)\u001b[49m\n",
      "\u001b[0;31mKeyboardInterrupt\u001b[0m: ",
      "\nDuring handling of the above exception, another exception occurred:\n",
      "\u001b[0;31mKeyboardInterrupt\u001b[0m                         Traceback (most recent call last)",
      "File \u001b[0;32m/mnt/notebook-env/lib/python3.9/site-packages/sparkmagic/livyclientlib/command.py:78\u001b[0m, in \u001b[0;36mCommand.execute\u001b[0;34m(self, session)\u001b[0m\n\u001b[1;32m     75\u001b[0m         response \u001b[38;5;241m=\u001b[39m session\u001b[38;5;241m.\u001b[39mhttp_client\u001b[38;5;241m.\u001b[39mcancel_statement(\n\u001b[1;32m     76\u001b[0m             session\u001b[38;5;241m.\u001b[39mid, statement_id\n\u001b[1;32m     77\u001b[0m         )\n\u001b[0;32m---> 78\u001b[0m         \u001b[43msession\u001b[49m\u001b[38;5;241;43m.\u001b[39;49m\u001b[43mwait_for_idle\u001b[49m\u001b[43m(\u001b[49m\u001b[43m)\u001b[49m\n\u001b[1;32m     79\u001b[0m \u001b[38;5;28;01mexcept\u001b[39;00m:\n",
      "File \u001b[0;32m/mnt/notebook-env/lib/python3.9/site-packages/sparkmagic/livyclientlib/livysession.py:359\u001b[0m, in \u001b[0;36mLivySession.wait_for_idle\u001b[0;34m(self, seconds_to_wait)\u001b[0m\n\u001b[1;32m    354\u001b[0m \u001b[38;5;28mself\u001b[39m\u001b[38;5;241m.\u001b[39mlogger\u001b[38;5;241m.\u001b[39mdebug(\n\u001b[1;32m    355\u001b[0m     \u001b[38;5;124m\"\u001b[39m\u001b[38;5;124mSession \u001b[39m\u001b[38;5;132;01m{}\u001b[39;00m\u001b[38;5;124m in state \u001b[39m\u001b[38;5;132;01m{}\u001b[39;00m\u001b[38;5;124m. Sleeping \u001b[39m\u001b[38;5;132;01m{}\u001b[39;00m\u001b[38;5;124m seconds.\u001b[39m\u001b[38;5;124m\"\u001b[39m\u001b[38;5;241m.\u001b[39mformat(\n\u001b[1;32m    356\u001b[0m         \u001b[38;5;28mself\u001b[39m\u001b[38;5;241m.\u001b[39mid, \u001b[38;5;28mself\u001b[39m\u001b[38;5;241m.\u001b[39mstatus, sleep_time\n\u001b[1;32m    357\u001b[0m     )\n\u001b[1;32m    358\u001b[0m )\n\u001b[0;32m--> 359\u001b[0m \u001b[43msleep\u001b[49m\u001b[43m(\u001b[49m\u001b[43msleep_time\u001b[49m\u001b[43m)\u001b[49m\n\u001b[1;32m    360\u001b[0m seconds_to_wait \u001b[38;5;241m-\u001b[39m\u001b[38;5;241m=\u001b[39m time() \u001b[38;5;241m-\u001b[39m start_time\n",
      "\u001b[0;31mKeyboardInterrupt\u001b[0m: ",
      "\nDuring handling of the above exception, another exception occurred:\n",
      "\u001b[0;31mSparkStatementCancellationFailedException\u001b[0m Traceback (most recent call last)",
      "Cell \u001b[0;32mIn[27], line 1\u001b[0m\n\u001b[0;32m----> 1\u001b[0m \u001b[43mget_ipython\u001b[49m\u001b[43m(\u001b[49m\u001b[43m)\u001b[49m\u001b[38;5;241;43m.\u001b[39;49m\u001b[43mrun_cell_magic\u001b[49m\u001b[43m(\u001b[49m\u001b[38;5;124;43m'\u001b[39;49m\u001b[38;5;124;43mspark\u001b[39;49m\u001b[38;5;124;43m'\u001b[39;49m\u001b[43m,\u001b[49m\u001b[43m \u001b[49m\u001b[38;5;124;43m'\u001b[39;49m\u001b[38;5;124;43m'\u001b[39;49m\u001b[43m,\u001b[49m\u001b[43m \u001b[49m\u001b[38;5;124;43m'\u001b[39;49m\u001b[38;5;124;43mcv_gbt_model=cross_val.fit(train_transformed_data)\u001b[39;49m\u001b[38;5;130;43;01m\\n\u001b[39;49;00m\u001b[38;5;124;43m'\u001b[39;49m\u001b[43m)\u001b[49m\n",
      "File \u001b[0;32m/mnt/notebook-env/lib/python3.9/site-packages/IPython/core/interactiveshell.py:2517\u001b[0m, in \u001b[0;36mInteractiveShell.run_cell_magic\u001b[0;34m(self, magic_name, line, cell)\u001b[0m\n\u001b[1;32m   2515\u001b[0m \u001b[38;5;28;01mwith\u001b[39;00m \u001b[38;5;28mself\u001b[39m\u001b[38;5;241m.\u001b[39mbuiltin_trap:\n\u001b[1;32m   2516\u001b[0m     args \u001b[38;5;241m=\u001b[39m (magic_arg_s, cell)\n\u001b[0;32m-> 2517\u001b[0m     result \u001b[38;5;241m=\u001b[39m \u001b[43mfn\u001b[49m\u001b[43m(\u001b[49m\u001b[38;5;241;43m*\u001b[39;49m\u001b[43margs\u001b[49m\u001b[43m,\u001b[49m\u001b[43m \u001b[49m\u001b[38;5;241;43m*\u001b[39;49m\u001b[38;5;241;43m*\u001b[39;49m\u001b[43mkwargs\u001b[49m\u001b[43m)\u001b[49m\n\u001b[1;32m   2519\u001b[0m \u001b[38;5;66;03m# The code below prevents the output from being displayed\u001b[39;00m\n\u001b[1;32m   2520\u001b[0m \u001b[38;5;66;03m# when using magics with decorator @output_can_be_silenced\u001b[39;00m\n\u001b[1;32m   2521\u001b[0m \u001b[38;5;66;03m# when the last Python token in the expression is a ';'.\u001b[39;00m\n\u001b[1;32m   2522\u001b[0m \u001b[38;5;28;01mif\u001b[39;00m \u001b[38;5;28mgetattr\u001b[39m(fn, magic\u001b[38;5;241m.\u001b[39mMAGIC_OUTPUT_CAN_BE_SILENCED, \u001b[38;5;28;01mFalse\u001b[39;00m):\n",
      "File \u001b[0;32m/mnt/notebook-env/lib/python3.9/site-packages/sparkmagic/livyclientlib/exceptions.py:165\u001b[0m, in \u001b[0;36mwrap_unexpected_exceptions.<locals>.wrapped\u001b[0;34m(self, *args, **kwargs)\u001b[0m\n\u001b[1;32m    163\u001b[0m \u001b[38;5;28;01mdef\u001b[39;00m \u001b[38;5;21mwrapped\u001b[39m(\u001b[38;5;28mself\u001b[39m, \u001b[38;5;241m*\u001b[39margs, \u001b[38;5;241m*\u001b[39m\u001b[38;5;241m*\u001b[39mkwargs):\n\u001b[1;32m    164\u001b[0m     \u001b[38;5;28;01mtry\u001b[39;00m:\n\u001b[0;32m--> 165\u001b[0m         out \u001b[38;5;241m=\u001b[39m \u001b[43mf\u001b[49m\u001b[43m(\u001b[49m\u001b[38;5;28;43mself\u001b[39;49m\u001b[43m,\u001b[49m\u001b[43m \u001b[49m\u001b[38;5;241;43m*\u001b[39;49m\u001b[43margs\u001b[49m\u001b[43m,\u001b[49m\u001b[43m \u001b[49m\u001b[38;5;241;43m*\u001b[39;49m\u001b[38;5;241;43m*\u001b[39;49m\u001b[43mkwargs\u001b[49m\u001b[43m)\u001b[49m\n\u001b[1;32m    166\u001b[0m     \u001b[38;5;28;01mexcept\u001b[39;00m \u001b[38;5;167;01mException\u001b[39;00m \u001b[38;5;28;01mas\u001b[39;00m err:\n\u001b[1;32m    167\u001b[0m         \u001b[38;5;28;01mif\u001b[39;00m conf\u001b[38;5;241m.\u001b[39mall_errors_are_fatal():\n",
      "File \u001b[0;32m/mnt/notebook-env/lib/python3.9/site-packages/sparkmagic/livyclientlib/exceptions.py:126\u001b[0m, in \u001b[0;36mhandle_expected_exceptions.<locals>.wrapped\u001b[0;34m(self, *args, **kwargs)\u001b[0m\n\u001b[1;32m    124\u001b[0m \u001b[38;5;28;01mdef\u001b[39;00m \u001b[38;5;21mwrapped\u001b[39m(\u001b[38;5;28mself\u001b[39m, \u001b[38;5;241m*\u001b[39margs, \u001b[38;5;241m*\u001b[39m\u001b[38;5;241m*\u001b[39mkwargs):\n\u001b[1;32m    125\u001b[0m     \u001b[38;5;28;01mtry\u001b[39;00m:\n\u001b[0;32m--> 126\u001b[0m         out \u001b[38;5;241m=\u001b[39m \u001b[43mf\u001b[49m\u001b[43m(\u001b[49m\u001b[38;5;28;43mself\u001b[39;49m\u001b[43m,\u001b[49m\u001b[43m \u001b[49m\u001b[38;5;241;43m*\u001b[39;49m\u001b[43margs\u001b[49m\u001b[43m,\u001b[49m\u001b[43m \u001b[49m\u001b[38;5;241;43m*\u001b[39;49m\u001b[38;5;241;43m*\u001b[39;49m\u001b[43mkwargs\u001b[49m\u001b[43m)\u001b[49m\n\u001b[1;32m    127\u001b[0m     \u001b[38;5;28;01mexcept\u001b[39;00m exceptions_to_handle \u001b[38;5;28;01mas\u001b[39;00m err:\n\u001b[1;32m    128\u001b[0m         \u001b[38;5;28;01mif\u001b[39;00m conf\u001b[38;5;241m.\u001b[39mall_errors_are_fatal():\n",
      "File \u001b[0;32m/mnt/notebook-env/lib/python3.9/site-packages/sparkmagic/kernels/kernelmagics.py:483\u001b[0m, in \u001b[0;36mKernelMagics.spark\u001b[0;34m(self, line, cell, local_ns)\u001b[0m\n\u001b[1;32m    479\u001b[0m args \u001b[38;5;241m=\u001b[39m parse_argstring_or_throw(\u001b[38;5;28mself\u001b[39m\u001b[38;5;241m.\u001b[39mspark, line)\n\u001b[1;32m    481\u001b[0m coerce \u001b[38;5;241m=\u001b[39m get_coerce_value(args\u001b[38;5;241m.\u001b[39mcoerce)\n\u001b[0;32m--> 483\u001b[0m \u001b[38;5;28;43mself\u001b[39;49m\u001b[38;5;241;43m.\u001b[39;49m\u001b[43mexecute_spark\u001b[49m\u001b[43m(\u001b[49m\n\u001b[1;32m    484\u001b[0m \u001b[43m    \u001b[49m\u001b[43mcell\u001b[49m\u001b[43m,\u001b[49m\n\u001b[1;32m    485\u001b[0m \u001b[43m    \u001b[49m\u001b[43margs\u001b[49m\u001b[38;5;241;43m.\u001b[39;49m\u001b[43moutput\u001b[49m\u001b[43m,\u001b[49m\n\u001b[1;32m    486\u001b[0m \u001b[43m    \u001b[49m\u001b[43margs\u001b[49m\u001b[38;5;241;43m.\u001b[39;49m\u001b[43msamplemethod\u001b[49m\u001b[43m,\u001b[49m\n\u001b[1;32m    487\u001b[0m \u001b[43m    \u001b[49m\u001b[43margs\u001b[49m\u001b[38;5;241;43m.\u001b[39;49m\u001b[43mmaxrows\u001b[49m\u001b[43m,\u001b[49m\n\u001b[1;32m    488\u001b[0m \u001b[43m    \u001b[49m\u001b[43margs\u001b[49m\u001b[38;5;241;43m.\u001b[39;49m\u001b[43msamplefraction\u001b[49m\u001b[43m,\u001b[49m\n\u001b[1;32m    489\u001b[0m \u001b[43m    \u001b[49m\u001b[38;5;28;43;01mNone\u001b[39;49;00m\u001b[43m,\u001b[49m\n\u001b[1;32m    490\u001b[0m \u001b[43m    \u001b[49m\u001b[43mcoerce\u001b[49m\u001b[43m,\u001b[49m\n\u001b[1;32m    491\u001b[0m \u001b[43m\u001b[49m\u001b[43m)\u001b[49m\n",
      "File \u001b[0;32m/mnt/notebook-env/lib/python3.9/site-packages/sparkmagic/magics/sparkmagicsbase.py:129\u001b[0m, in \u001b[0;36mSparkMagicBase.execute_spark\u001b[0;34m(self, cell, output_var, samplemethod, maxrows, samplefraction, session_name, coerce, output_handler, cell_kind)\u001b[0m\n\u001b[1;32m    111\u001b[0m \u001b[38;5;28;01mdef\u001b[39;00m \u001b[38;5;21mexecute_spark\u001b[39m(\n\u001b[1;32m    112\u001b[0m     \u001b[38;5;28mself\u001b[39m,\n\u001b[1;32m    113\u001b[0m     cell,\n\u001b[0;32m   (...)\u001b[0m\n\u001b[1;32m    121\u001b[0m     cell_kind\u001b[38;5;241m=\u001b[39m\u001b[38;5;28;01mNone\u001b[39;00m\n\u001b[1;32m    122\u001b[0m ):\n\u001b[1;32m    123\u001b[0m     output_handler \u001b[38;5;241m=\u001b[39m output_handler \u001b[38;5;129;01mor\u001b[39;00m SparkOutputHandler(\n\u001b[1;32m    124\u001b[0m         html\u001b[38;5;241m=\u001b[39m\u001b[38;5;28mself\u001b[39m\u001b[38;5;241m.\u001b[39mipython_display\u001b[38;5;241m.\u001b[39mhtml,\n\u001b[1;32m    125\u001b[0m         text\u001b[38;5;241m=\u001b[39m\u001b[38;5;28mself\u001b[39m\u001b[38;5;241m.\u001b[39mipython_display\u001b[38;5;241m.\u001b[39mwrite,\n\u001b[1;32m    126\u001b[0m         default\u001b[38;5;241m=\u001b[39m\u001b[38;5;28mself\u001b[39m\u001b[38;5;241m.\u001b[39mipython_display\u001b[38;5;241m.\u001b[39mdisplay,\n\u001b[1;32m    127\u001b[0m     )\n\u001b[0;32m--> 129\u001b[0m     (success, out, mimetype) \u001b[38;5;241m=\u001b[39m \u001b[38;5;28;43mself\u001b[39;49m\u001b[38;5;241;43m.\u001b[39;49m\u001b[43mspark_controller\u001b[49m\u001b[38;5;241;43m.\u001b[39;49m\u001b[43mrun_command\u001b[49m\u001b[43m(\u001b[49m\n\u001b[1;32m    130\u001b[0m \u001b[43m        \u001b[49m\u001b[43mCommand\u001b[49m\u001b[43m(\u001b[49m\u001b[43mcell\u001b[49m\u001b[43m,\u001b[49m\u001b[43m \u001b[49m\u001b[38;5;28;43;01mNone\u001b[39;49;00m\u001b[43m,\u001b[49m\u001b[43m \u001b[49m\u001b[43mcell_kind\u001b[49m\u001b[43m)\u001b[49m\u001b[43m,\u001b[49m\u001b[43m \u001b[49m\u001b[43msession_name\u001b[49m\n\u001b[1;32m    131\u001b[0m \u001b[43m    \u001b[49m\u001b[43m)\u001b[49m\n\u001b[1;32m    132\u001b[0m     \u001b[38;5;28;01mif\u001b[39;00m \u001b[38;5;129;01mnot\u001b[39;00m success:\n\u001b[1;32m    133\u001b[0m         \u001b[38;5;28;01mif\u001b[39;00m conf\u001b[38;5;241m.\u001b[39mshutdown_session_on_spark_statement_errors():\n",
      "File \u001b[0;32m/mnt/notebook-env/lib/python3.9/site-packages/sparkmagic/livyclientlib/sparkcontroller.py:45\u001b[0m, in \u001b[0;36mSparkController.run_command\u001b[0;34m(self, command, client_name)\u001b[0m\n\u001b[1;32m     43\u001b[0m \u001b[38;5;28;01mdef\u001b[39;00m \u001b[38;5;21mrun_command\u001b[39m(\u001b[38;5;28mself\u001b[39m, command, client_name\u001b[38;5;241m=\u001b[39m\u001b[38;5;28;01mNone\u001b[39;00m):\n\u001b[1;32m     44\u001b[0m     session_to_use \u001b[38;5;241m=\u001b[39m \u001b[38;5;28mself\u001b[39m\u001b[38;5;241m.\u001b[39mget_session_by_name_or_default(client_name)\n\u001b[0;32m---> 45\u001b[0m     \u001b[38;5;28;01mreturn\u001b[39;00m \u001b[43mcommand\u001b[49m\u001b[38;5;241;43m.\u001b[39;49m\u001b[43mexecute\u001b[49m\u001b[43m(\u001b[49m\u001b[43msession_to_use\u001b[49m\u001b[43m)\u001b[49m\n",
      "File \u001b[0;32m/mnt/notebook-env/lib/python3.9/site-packages/sparkmagic/livyclientlib/command.py:80\u001b[0m, in \u001b[0;36mCommand.execute\u001b[0;34m(self, session)\u001b[0m\n\u001b[1;32m     78\u001b[0m         session\u001b[38;5;241m.\u001b[39mwait_for_idle()\n\u001b[1;32m     79\u001b[0m \u001b[38;5;28;01mexcept\u001b[39;00m:\n\u001b[0;32m---> 80\u001b[0m     \u001b[38;5;28;01mraise\u001b[39;00m SparkStatementCancellationFailedException(\n\u001b[1;32m     81\u001b[0m         COMMAND_CANCELLATION_FAILED_MSG\n\u001b[1;32m     82\u001b[0m     )\n\u001b[1;32m     83\u001b[0m \u001b[38;5;28;01melse\u001b[39;00m:\n\u001b[1;32m     84\u001b[0m     \u001b[38;5;28;01mraise\u001b[39;00m SparkStatementCancelledException(COMMAND_INTERRUPTED_MSG)\n",
      "\u001b[0;31mSparkStatementCancellationFailedException\u001b[0m: Interrupted by user but Livy failed to cancel the Spark statement. The Livy session might have become unusable."
     ]
    }
   ],
   "source": [
    "cv_gbt_model = crossval.fit(train_transformed_data)"
   ]
  },
  {
   "cell_type": "code",
   "execution_count": null,
   "metadata": {
    "tags": []
   },
   "outputs": [],
   "source": []
  },
  {
   "cell_type": "code",
   "execution_count": null,
   "metadata": {
    "tags": []
   },
   "outputs": [],
   "source": []
  },
  {
   "cell_type": "code",
   "execution_count": null,
   "metadata": {
    "tags": []
   },
   "outputs": [],
   "source": []
  },
  {
   "cell_type": "code",
   "execution_count": null,
   "metadata": {},
   "outputs": [],
   "source": []
  },
  {
   "cell_type": "code",
   "execution_count": null,
   "metadata": {
    "execution": {
     "iopub.status.busy": "2024-02-23T18:19:51.844237Z",
     "iopub.status.idle": "2024-02-23T18:19:51.844479Z",
     "shell.execute_reply": "2024-02-23T18:19:51.844363Z"
    }
   },
   "outputs": [],
   "source": [
    "# Evaluate best model"
   ]
  },
  {
   "cell_type": "code",
   "execution_count": null,
   "metadata": {
    "execution": {
     "iopub.status.busy": "2024-02-23T18:19:51.845329Z",
     "iopub.status.idle": "2024-02-23T18:19:51.845559Z",
     "shell.execute_reply": "2024-02-23T18:19:51.845447Z"
    }
   },
   "outputs": [],
   "source": [
    "predictions = best_model.transform(transformed_test_data)\n",
    "\n",
    "# Evaluate the model using a BinaryClassificationEvaluator\n",
    "evaluator = BinaryClassificationEvaluator(metricName='areaUnderROC')\n",
    "area_under_roc = evaluator.evaluate(predictions)\n",
    "\n",
    "# Print the Area Under ROC\n",
    "print(\"Area Under ROC on Test Set: {:.4f}\".format(area_under_roc))\n",
    "\n",
    "accuracy = evaluator_multiclass.evaluate(\n",
    "    predictions, {evaluator_multiclass.metricName: \"accuracy\"})\n",
    "precision = evaluator_multiclass.evaluate(\n",
    "    predictions, {evaluator_multiclass.metricName: \"weightedPrecision\"})\n",
    "recall = evaluator_multiclass.evaluate(\n",
    "    predictions, {evaluator_multiclass.metricName: \"weightedRecall\"})\n",
    "\n",
    "f1_score = evaluator_multiclass.evaluate(\n",
    "    predictions, {evaluator_multiclass.metricName: \"f1\"})\n",
    "\n",
    "print(f'F1 score for best LR model: {f1_score}')\n",
    "print(f'accuracy score for best LR model: {accuracy}')\n",
    "print(f'precision score for best LR model: {precision}')\n",
    "print(f'recall score for best LR model: {recall}')"
   ]
  },
  {
   "cell_type": "code",
   "execution_count": null,
   "metadata": {},
   "outputs": [],
   "source": []
  },
  {
   "cell_type": "code",
   "execution_count": null,
   "metadata": {
    "execution": {
     "iopub.status.busy": "2024-02-23T18:19:51.846398Z",
     "iopub.status.idle": "2024-02-23T18:19:51.846629Z",
     "shell.execute_reply": "2024-02-23T18:19:51.846516Z"
    }
   },
   "outputs": [],
   "source": [
    "#make predictions on the test set based on the best model\n",
    "test_transformed_data = train_pipeline.transform(test_data)\n",
    "test_predictions = best_model.transform(test_transformed_data)\n",
    "\n",
    "test_predictions.show()"
   ]
  },
  {
   "cell_type": "code",
   "execution_count": null,
   "metadata": {
    "execution": {
     "iopub.status.busy": "2024-02-23T18:19:51.847373Z",
     "iopub.status.idle": "2024-02-23T18:19:51.847621Z",
     "shell.execute_reply": "2024-02-23T18:19:51.847492Z"
    }
   },
   "outputs": [],
   "source": [
    "# showing users predicted to churn\n",
    "selected_columns = [\"userId\", \"prediction\", \"probability\", \"label\"]\n",
    "\n",
    "selected_predictions = test_predictions.select(*selected_columns)\n",
    "\n",
    "churn_predictions = selected_predictions.filter(\n",
    "    selected_predictions[\"prediction\"] == 1.0)\n",
    "\n",
    "churn_predictions.show()"
   ]
  },
  {
   "cell_type": "code",
   "execution_count": null,
   "metadata": {
    "execution": {
     "iopub.status.busy": "2024-02-23T18:19:51.848303Z",
     "iopub.status.idle": "2024-02-23T18:19:51.848531Z",
     "shell.execute_reply": "2024-02-23T18:19:51.848419Z"
    }
   },
   "outputs": [],
   "source": [
    "# creating a confusion matrix for the test dataset\n",
    "\n",
    "# Extract true positive, false positive, true negative, and false negative counts\n",
    "tp = test_predictions.filter((test_predictions[\"prediction\"] == 1.0) &\n",
    "                             (test_predictions[\"label\"] == 1.0)).count()\n",
    "fp = test_predictions.filter((test_predictions[\"prediction\"] == 1.0) &\n",
    "                             (test_predictions[\"label\"] == 0.0)).count()\n",
    "tn = test_predictions.filter((test_predictions[\"prediction\"] == 0.0) &\n",
    "                             (test_predictions[\"label\"] == 0.0)).count()\n",
    "fn = test_predictions.filter((test_predictions[\"prediction\"] == 0.0) &\n",
    "                             (test_predictions[\"label\"] == 1.0)).count()\n",
    "\n",
    "# Display confusion matrix\n",
    "conf_matrix = [[tn, fp], [fn, tp]]\n",
    "print(\"Confusion Matrix for best model on test dataset:\")\n",
    "print(conf_matrix)"
   ]
  },
  {
   "cell_type": "code",
   "execution_count": null,
   "metadata": {},
   "outputs": [],
   "source": []
  },
  {
   "cell_type": "code",
   "execution_count": null,
   "metadata": {},
   "outputs": [],
   "source": []
  },
  {
   "cell_type": "code",
   "execution_count": null,
   "metadata": {
    "execution": {
     "iopub.status.busy": "2024-02-23T18:19:51.849353Z",
     "iopub.status.idle": "2024-02-23T18:19:51.849615Z",
     "shell.execute_reply": "2024-02-23T18:19:51.849496Z"
    }
   },
   "outputs": [],
   "source": [
    "test_predictions.write.parquet(\n",
    "    path=\"s3://sparkifylargedataset/test_predictions\", mode=\"overwrite\")"
   ]
  },
  {
   "cell_type": "code",
   "execution_count": null,
   "metadata": {},
   "outputs": [],
   "source": []
  },
  {
   "cell_type": "code",
   "execution_count": null,
   "metadata": {},
   "outputs": [],
   "source": []
  },
  {
   "cell_type": "code",
   "execution_count": null,
   "metadata": {},
   "outputs": [],
   "source": []
  },
  {
   "cell_type": "code",
   "execution_count": null,
   "metadata": {},
   "outputs": [],
   "source": []
  },
  {
   "cell_type": "code",
   "execution_count": null,
   "metadata": {},
   "outputs": [],
   "source": []
  },
  {
   "cell_type": "code",
   "execution_count": null,
   "metadata": {},
   "outputs": [],
   "source": []
  }
 ],
 "metadata": {
  "kernelspec": {
   "display_name": "PySpark",
   "language": "python",
   "name": "pysparkkernel"
  },
  "language_info": {
   "codemirror_mode": {
    "name": "python",
    "version": 3
   },
   "file_extension": ".py",
   "mimetype": "text/x-python",
   "name": "pyspark",
   "pygments_lexer": "python3"
  }
 },
 "nbformat": 4,
 "nbformat_minor": 4
}
